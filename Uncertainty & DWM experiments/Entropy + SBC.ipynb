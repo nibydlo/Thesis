{
 "cells": [
  {
   "cell_type": "code",
   "execution_count": 1,
   "metadata": {},
   "outputs": [],
   "source": [
    "import sys\n",
    "sys.path.append('/Users/dmitry/Desktop/Thesis/Libs')"
   ]
  },
  {
   "cell_type": "code",
   "execution_count": 12,
   "metadata": {},
   "outputs": [],
   "source": [
    "import tensorflow as tf\n",
    "\n",
    "from scenarios import run_AL_SBC\n",
    "from queries import query_default, query_entropy\n",
    "from models import create_sequential_model\n",
    "from reshapes import reshape_mnist\n",
    "from scores import score_sequential\n",
    "from encoders import get_mnist_encoder, get_fmnist_encoder"
   ]
  },
  {
   "cell_type": "markdown",
   "metadata": {},
   "source": [
    "## MNIST"
   ]
  },
  {
   "cell_type": "code",
   "execution_count": 6,
   "metadata": {},
   "outputs": [],
   "source": [
    "import datasets as ds"
   ]
  },
  {
   "cell_type": "code",
   "execution_count": 7,
   "metadata": {},
   "outputs": [],
   "source": [
    "x_train_mnist, y_train_mnist, x_test_mnist, y_test_mnist = ds.get_mnist()"
   ]
  },
  {
   "cell_type": "code",
   "execution_count": null,
   "metadata": {},
   "outputs": [],
   "source": [
    "from encoders import get_mnist_encoder\n",
    "mnist_encoder = get_mnist_encoder()"
   ]
  },
  {
   "cell_type": "code",
   "execution_count": 17,
   "metadata": {},
   "outputs": [],
   "source": [
    "INIT_SIZE = 2000\n",
    "BATCH_SIZE = 1\n",
    "TRAIN_SIZE = 10000\n",
    "QUERIES_NUMBER = 130"
   ]
  },
  {
   "cell_type": "code",
   "execution_count": 18,
   "metadata": {},
   "outputs": [
    {
     "name": "stdout",
     "output_type": "stream",
     "text": [
      "run sbc\n",
      "run sbc\n",
      "run sbc\n",
      "run sbc\n",
      "run sbc\n"
     ]
    }
   ],
   "source": [
    "mnist_sbc_stat = []\n",
    "for i in range(5):\n",
    "    sbc_mnist = run_AL_SBC(query_entropy, create_sequential_model, reshape_mnist, score_sequential, \n",
    "                            x_train_mnist, \n",
    "                            y_train_mnist, \n",
    "                            x_test_mnist, \n",
    "                            y_test_mnist,\n",
    "                            INIT_SIZE, BATCH_SIZE, TRAIN_SIZE, QUERIES_NUMBER, i, mnist_encoder)\n",
    "    mnist_sbc_stat.append(sbc_mnist)"
   ]
  },
  {
   "cell_type": "code",
   "execution_count": null,
   "metadata": {},
   "outputs": [],
   "source": [
    "with open('mnist_sbc_stat.pkl', 'wb') as f:\n",
    "    pickle.dump(mnist_sbc_stat, f)"
   ]
  },
  {
   "cell_type": "code",
   "execution_count": 19,
   "metadata": {},
   "outputs": [
    {
     "ename": "FileNotFoundError",
     "evalue": "[Errno 2] No such file or directory: 'mnist_init_size_stat.pkl'",
     "output_type": "error",
     "traceback": [
      "\u001b[0;31m---------------------------------------------------------------------------\u001b[0m",
      "\u001b[0;31mFileNotFoundError\u001b[0m                         Traceback (most recent call last)",
      "\u001b[0;32m<ipython-input-19-b8fa76b1c9c6>\u001b[0m in \u001b[0;36m<module>\u001b[0;34m\u001b[0m\n\u001b[1;32m      1\u001b[0m \u001b[0;32mimport\u001b[0m \u001b[0mpickle\u001b[0m\u001b[0;34m\u001b[0m\u001b[0;34m\u001b[0m\u001b[0m\n\u001b[1;32m      2\u001b[0m \u001b[0;34m\u001b[0m\u001b[0m\n\u001b[0;32m----> 3\u001b[0;31m \u001b[0mfile\u001b[0m \u001b[0;34m=\u001b[0m \u001b[0mopen\u001b[0m\u001b[0;34m(\u001b[0m\u001b[0;34m'mnist_init_size_stat.pkl'\u001b[0m\u001b[0;34m,\u001b[0m \u001b[0;34m'rb'\u001b[0m\u001b[0;34m)\u001b[0m\u001b[0;34m\u001b[0m\u001b[0;34m\u001b[0m\u001b[0m\n\u001b[0m\u001b[1;32m      4\u001b[0m \u001b[0mmnist_entropy_stat\u001b[0m \u001b[0;34m=\u001b[0m \u001b[0mpickle\u001b[0m\u001b[0;34m.\u001b[0m\u001b[0mload\u001b[0m\u001b[0;34m(\u001b[0m\u001b[0mfile\u001b[0m\u001b[0;34m)\u001b[0m\u001b[0;34m[\u001b[0m\u001b[0;34m'entropy'\u001b[0m\u001b[0;34m]\u001b[0m\u001b[0;34m[\u001b[0m\u001b[0;36m2000\u001b[0m\u001b[0;34m]\u001b[0m\u001b[0;34m\u001b[0m\u001b[0;34m\u001b[0m\u001b[0m\n",
      "\u001b[0;31mFileNotFoundError\u001b[0m: [Errno 2] No such file or directory: 'mnist_init_size_stat.pkl'"
     ]
    }
   ],
   "source": [
    "import pickle\n",
    "\n",
    "file = open('mnist_init_size_stat.pkl', 'rb')\n",
    "mnist_entropy_stat = pickle.load(file)['entropy'][2000]"
   ]
  },
  {
   "cell_type": "code",
   "execution_count": 22,
   "metadata": {},
   "outputs": [
    {
     "data": {
      "image/png": "[encoded data removed]",
      "text/plain": [
       "<Figure size 432x288 with 1 Axes>"
      ]
     },
     "metadata": {
      "needs_background": "light"
     },
     "output_type": "display_data"
    }
   ],
   "source": [
    "# plot_conf_int(mnist_entropy_stat, \"uncertainty only\")\n",
    "import matplotlib.pyplot as plt\n",
    "from plots import plot_conf_int\n",
    "\n",
    "plot_conf_int(mnist_sbc_stat, \"SBC\")\n",
    "plt.xlabel('batch size')\n",
    "plt.ylabel('accuracy')\n",
    "plt.legend(loc='lower right')\n",
    "plt.show()"
   ]
  },
  {
   "cell_type": "markdown",
   "metadata": {},
   "source": [
    "## FMNIST"
   ]
  },
  {
   "cell_type": "code",
   "execution_count": null,
   "metadata": {},
   "outputs": [],
   "source": [
    "import datasets as ds\n",
    "x_train_fmnist, y_train_fmnist, x_test_fmnist, y_test_fmnist = ds.get_fmnist()"
   ]
  },
  {
   "cell_type": "code",
   "execution_count": null,
   "metadata": {},
   "outputs": [],
   "source": [
    "from encoders import get_fmnist_encoder\n",
    "fmnist_encoder = get_fmnist_encoder()"
   ]
  },
  {
   "cell_type": "code",
   "execution_count": null,
   "metadata": {},
   "outputs": [],
   "source": [
    "fmnist_sbc_stat = []\n",
    "for i in range(5):\n",
    "    sbc_fmnist = run_AL_SBC(query_entropy, create_sequential_model, reshape_mnist, score_sequential, \n",
    "                            x_train_fmnist, \n",
    "                            y_train_fmnist, \n",
    "                            x_test_fmnist, \n",
    "                            y_test_fmnist,\n",
    "                            INIT_SIZE, BATCH_SIZE, TRAIN_SIZE, QUERIES_NUMBER, i, fmnist_encoder)\n",
    "    fmnist_sbc_stat.append(sbc_fmnist)"
   ]
  },
  {
   "cell_type": "code",
   "execution_count": null,
   "metadata": {},
   "outputs": [],
   "source": [
    "with open('fmnist_sbc_stat.pkl', 'wb') as f:\n",
    "    pickle.dump(fmnist_sbc_stat, f)"
   ]
  },
  {
   "cell_type": "code",
   "execution_count": null,
   "metadata": {},
   "outputs": [],
   "source": [
    "file = open('fmnist_init_size_stat.pkl', 'rb')\n",
    "fmnist_entropy_stat = pickle.load(file)['entropy'][2000]"
   ]
  },
  {
   "cell_type": "code",
   "execution_count": null,
   "metadata": {},
   "outputs": [],
   "source": [
    "plot_conf_int(fmnist_entropy_stat, \"uncertainty only\")\n",
    "plot_conf_int(fmnist_sbc_stat, \"SBC\")\n",
    "plt.xlabel('batch size')\n",
    "plt.ylabel('accuracy')\n",
    "plt.legend(loc='lower right')\n",
    "plt.show()"
   ]
  },
  {
   "cell_type": "code",
   "execution_count": null,
   "metadata": {},
   "outputs": [],
   "source": []
  }
 ],
 "metadata": {
  "kernelspec": {
   "display_name": "Python 3",
   "language": "python",
   "name": "python3"
  },
  "language_info": {
   "codemirror_mode": {
    "name": "ipython",
    "version": 3
   },
   "file_extension": ".py",
   "mimetype": "text/x-python",
   "name": "python",
   "nbconvert_exporter": "python",
   "pygments_lexer": "ipython3",
   "version": "3.7.4"
  }
 },
 "nbformat": 4,
 "nbformat_minor": 2
}
