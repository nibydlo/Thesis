{
 "cells": [
  {
   "cell_type": "code",
   "execution_count": 1,
   "metadata": {},
   "outputs": [],
   "source": [
    "%load_ext autoreload\n",
    "%autoreload 2"
   ]
  },
  {
   "cell_type": "code",
   "execution_count": 2,
   "metadata": {},
   "outputs": [],
   "source": [
    "import time, datetime\n",
    "\n",
    "import matplotlib.pyplot as plt\n",
    "\n",
    "from sklearn.model_selection import train_test_split\n",
    "from sklearn.preprocessing import StandardScaler\n",
    "\n",
    "import torch\n",
    "from torch.utils.data import TensorDataset, DataLoader\n",
    "import torch.optim as optim\n",
    "from torch.utils.tensorboard import SummaryWriter\n",
    "import torch.nn.functional as F\n",
    "import torch.nn as nn\n",
    "\n",
    "from tensorflow.keras.callbacks import TensorBoard"
   ]
  },
  {
   "cell_type": "code",
   "execution_count": 3,
   "metadata": {},
   "outputs": [],
   "source": [
    "import sys\n",
    "sys.path.append('./models')\n",
    "sys.path.append('./data')\n",
    "sys.path.append('./pytorch')"
   ]
  },
  {
   "cell_type": "code",
   "execution_count": 4,
   "metadata": {},
   "outputs": [
    {
     "name": "stderr",
     "output_type": "stream",
     "text": [
      "Using TensorFlow backend.\n"
     ]
    }
   ],
   "source": [
    "from data import data\n",
    "from pytorch import torch_models\n",
    "from models import models as keras_models"
   ]
  },
  {
   "cell_type": "code",
   "execution_count": 5,
   "metadata": {},
   "outputs": [],
   "source": [
    "BATCH_SIZE = 2048\n",
    "\n",
    "x_img, x_txt, y = data.get_unpacked_data()\n",
    "\n",
    "x_img_train, x_img_test, x_txt_train, x_txt_test, y_train, y_test = train_test_split(\n",
    "    x_img, \n",
    "    x_txt, \n",
    "    y, \n",
    "    test_size=0.2, \n",
    "    random_state=42,\n",
    "    stratify=y\n",
    ")\n",
    "\n",
    "x_img_train, x_img_val, x_txt_train, x_txt_val, y_train, y_val = train_test_split(\n",
    "    x_img_train,\n",
    "    x_txt_train,\n",
    "    y_train,\n",
    "    test_size=0.2,\n",
    "    random_state=42,\n",
    "    stratify=y_train\n",
    ")\n",
    "\n",
    "img_sscaler = StandardScaler()\n",
    "img_sscaler.fit(x_img_train)\n",
    "\n",
    "x_img_train = img_sscaler.transform(x_img_train)\n",
    "x_img_val = img_sscaler.transform(x_img_val)\n",
    "x_img_test = img_sscaler.transform(x_img_test)\n",
    "\n",
    "txt_sscaler = StandardScaler()\n",
    "txt_sscaler.fit(x_txt_train)\n",
    "\n",
    "x_txt_train = txt_sscaler.transform(x_txt_train)\n",
    "x_txt_val = txt_sscaler.transform(x_txt_val)\n",
    "x_txt_test = txt_sscaler.transform(x_txt_test)\n",
    "\n",
    "x_img_train_t = torch.tensor(x_img_train).float()\n",
    "x_img_val_t = torch.tensor(x_img_val).float()\n",
    "x_img_test_t = torch.tensor(x_img_test).float()\n",
    "\n",
    "x_txt_train_t = torch.tensor(x_txt_train).float()\n",
    "x_txt_val_t = torch.tensor(x_txt_val).float()\n",
    "x_txt_test_t = torch.tensor(x_txt_test).float()\n",
    "\n",
    "y_train_t = torch.tensor(y_train).float()\n",
    "y_val_t = torch.tensor(y_val).float()\n",
    "y_test_t = torch.tensor(y_test).float()\n",
    "\n",
    "train_ds = TensorDataset(x_img_train_t, x_txt_train_t, y_train_t)\n",
    "val_ds = TensorDataset(x_img_val_t, x_txt_val_t, y_val_t)\n",
    "test_ds = TensorDataset(x_img_test_t, x_txt_test_t, y_test_t)\n",
    "\n",
    "train_loader = DataLoader(train_ds, batch_size=BATCH_SIZE)\n",
    "val_loader = DataLoader(val_ds, batch_size=BATCH_SIZE)\n",
    "test_loader = DataLoader(test_ds, batch_size=BATCH_SIZE)"
   ]
  },
  {
   "cell_type": "markdown",
   "metadata": {},
   "source": [
    "## With validation"
   ]
  },
  {
   "cell_type": "markdown",
   "metadata": {},
   "source": [
    "### torch"
   ]
  },
  {
   "cell_type": "code",
   "execution_count": 8,
   "metadata": {},
   "outputs": [
    {
     "name": "stdout",
     "output_type": "stream",
     "text": [
      "epoch: 0 train_loss: tensor(1.7578, grad_fn=<NllLossBackward>) average train loss tensor(2.4707, grad_fn=<DivBackward0>)\n",
      "val_acc: 0.5511699779249448 val_avg_loss: tensor(1.6586)\n"
     ]
    }
   ],
   "source": [
    "model = torch_models.NormModel()\n",
    "optimizer = optim.Adam(model.parameters(), lr=1e-3)\n",
    "\n",
    "start_time = time.time()\n",
    "torch_models.fit_topics_model(\n",
    "    model=model,\n",
    "    optimizer=optimizer,\n",
    "    epochs=1,\n",
    "    train_loader=train_loader,\n",
    "    val_loader=val_loader\n",
    ")\n",
    "torch_time = time.time() - start_time"
   ]
  },
  {
   "cell_type": "code",
   "execution_count": 9,
   "metadata": {},
   "outputs": [
    {
     "name": "stdout",
     "output_type": "stream",
     "text": [
      "56.95693612098694\n"
     ]
    }
   ],
   "source": [
    "print(torch_time)"
   ]
  },
  {
   "cell_type": "markdown",
   "metadata": {},
   "source": [
    "### keras"
   ]
  },
  {
   "cell_type": "code",
   "execution_count": 10,
   "metadata": {},
   "outputs": [
    {
     "name": "stdout",
     "output_type": "stream",
     "text": [
      "Train on 135897 samples, validate on 33975 samples\n",
      "135897/135897 [==============================] - 24s 175us/sample - loss: 2.4578 - accuracy: 0.3758 - val_loss: 1.6259 - val_accuracy: 0.5703\n"
     ]
    }
   ],
   "source": [
    "model_keras = keras_models.get_model_default_lr_wide()\n",
    "\n",
    "start_time_keras = time.time()\n",
    "model_keras.fit(\n",
    "    [x_img_train, x_txt_train],\n",
    "    y_train,\n",
    "    validation_data=([x_img_val, x_txt_val], y_val),\n",
    "    batch_size=BATCH_SIZE,\n",
    "    epochs=1\n",
    ")\n",
    "keras_time = time.time() - start_time_keras"
   ]
  },
  {
   "cell_type": "code",
   "execution_count": 11,
   "metadata": {},
   "outputs": [
    {
     "name": "stdout",
     "output_type": "stream",
     "text": [
      "23.96133828163147\n"
     ]
    }
   ],
   "source": [
    "print(keras_time)"
   ]
  },
  {
   "cell_type": "markdown",
   "metadata": {},
   "source": [
    "## Without validation"
   ]
  },
  {
   "cell_type": "markdown",
   "metadata": {},
   "source": [
    "### torch"
   ]
  },
  {
   "cell_type": "code",
   "execution_count": 14,
   "metadata": {},
   "outputs": [
    {
     "name": "stdout",
     "output_type": "stream",
     "text": [
      "epoch: 0 train_loss: tensor(1.7582, grad_fn=<NllLossBackward>) average train loss tensor(2.4760, grad_fn=<DivBackward0>)\n"
     ]
    }
   ],
   "source": [
    "model = torch_models.NormModel()\n",
    "optimizer = optim.Adam(model.parameters(), lr=1e-3)\n",
    "\n",
    "start_time = time.time()\n",
    "torch_models.fit_topics_model(\n",
    "    model=model,\n",
    "    optimizer=optimizer,\n",
    "    epochs=1,\n",
    "    train_loader=train_loader,\n",
    "    val_loader=None\n",
    ")\n",
    "torch_time_no_val = time.time() - start_time"
   ]
  },
  {
   "cell_type": "code",
   "execution_count": 15,
   "metadata": {},
   "outputs": [
    {
     "name": "stdout",
     "output_type": "stream",
     "text": [
      "27.76319408416748\n"
     ]
    }
   ],
   "source": [
    "print(torch_time_no_val)"
   ]
  },
  {
   "cell_type": "markdown",
   "metadata": {},
   "source": [
    "### keras"
   ]
  },
  {
   "cell_type": "code",
   "execution_count": 12,
   "metadata": {},
   "outputs": [
    {
     "name": "stdout",
     "output_type": "stream",
     "text": [
      "Train on 135897 samples\n",
      "135897/135897 [==============================] - 22s 159us/sample - loss: 2.4597 - accuracy: 0.3784\n"
     ]
    }
   ],
   "source": [
    "model_keras = keras_models.get_model_default_lr_wide()\n",
    "\n",
    "start_time = time.time()\n",
    "model_keras.fit(\n",
    "    [x_img_train, x_txt_train],\n",
    "    y_train,\n",
    "    epochs=1,\n",
    "    batch_size=2048\n",
    ")\n",
    "keras_time_no_val = time.time() - start_time"
   ]
  },
  {
   "cell_type": "code",
   "execution_count": 13,
   "metadata": {},
   "outputs": [
    {
     "name": "stdout",
     "output_type": "stream",
     "text": [
      "21.78543186187744\n"
     ]
    }
   ],
   "source": [
    "print(keras_time_no_val)"
   ]
  },
  {
   "cell_type": "code",
   "execution_count": null,
   "metadata": {},
   "outputs": [],
   "source": []
  }
 ],
 "metadata": {
  "kernelspec": {
   "display_name": "Python 3",
   "language": "python",
   "name": "python3"
  },
  "language_info": {
   "codemirror_mode": {
    "name": "ipython",
    "version": 3
   },
   "file_extension": ".py",
   "mimetype": "text/x-python",
   "name": "python",
   "nbconvert_exporter": "python",
   "pygments_lexer": "ipython3",
   "version": "3.7.6"
  }
 },
 "nbformat": 4,
 "nbformat_minor": 2
}
