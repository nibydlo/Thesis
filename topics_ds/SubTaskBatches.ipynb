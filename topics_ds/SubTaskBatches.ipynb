{
 "cells": [
  {
   "cell_type": "code",
   "execution_count": 1,
   "metadata": {},
   "outputs": [],
   "source": [
    "%load_ext autoreload\n",
    "%autoreload 2"
   ]
  },
  {
   "cell_type": "code",
   "execution_count": 2,
   "metadata": {},
   "outputs": [],
   "source": [
    "import sys\n",
    "sys.path.append('/Users/dmitry/Desktop/Thesis/topics_ds/models')\n",
    "sys.path.append('/Users/dmitry/Desktop/Thesis/topics_ds/data')\n",
    "sys.path.append('/Users/dmitry/Desktop/Thesis/topics_ds/pytorch')"
   ]
  },
  {
   "cell_type": "code",
   "execution_count": 118,
   "metadata": {},
   "outputs": [],
   "source": [
    "import numpy as np\n",
    "\n",
    "import torch\n",
    "import torch.optim as optim\n",
    "from torch.utils.tensorboard import SummaryWriter\n",
    "from torch.utils.data import TensorDataset, DataLoader\n",
    "import torch.nn.functional as F\n",
    "\n",
    "from sklearn.metrics import classification_report\n",
    "from sklearn.preprocessing import StandardScaler\n",
    "from sklearn.model_selection import train_test_split\n",
    "\n",
    "from keras.utils.np_utils import to_categorical"
   ]
  },
  {
   "cell_type": "code",
   "execution_count": 102,
   "metadata": {},
   "outputs": [],
   "source": [
    "from models import models as keras_models\n",
    "from data import data\n",
    "from pytorch import torch_models"
   ]
  },
  {
   "cell_type": "code",
   "execution_count": 5,
   "metadata": {},
   "outputs": [],
   "source": [
    "IMG_LEN = 1024\n",
    "TXT_LEN = 300\n",
    "N_CLASSES = 50"
   ]
  },
  {
   "cell_type": "markdown",
   "metadata": {},
   "source": [
    "### Loading"
   ]
  },
  {
   "cell_type": "code",
   "execution_count": 8,
   "metadata": {},
   "outputs": [],
   "source": [
    "x_img, x_txt, y = data.get_unpacked_data()"
   ]
  },
  {
   "cell_type": "markdown",
   "metadata": {},
   "source": [
    "### Splitting"
   ]
  },
  {
   "cell_type": "code",
   "execution_count": 9,
   "metadata": {},
   "outputs": [],
   "source": [
    "x_img_train, x_img_test, x_txt_train, x_txt_test, y_train, y_test = train_test_split(\n",
    "    x_img, \n",
    "    x_txt, \n",
    "    y, \n",
    "    test_size=0.2, \n",
    "    random_state=42,\n",
    "    stratify=y\n",
    ")\n",
    "\n",
    "x_img_train, x_img_val, x_txt_train, x_txt_val, y_train, y_val = train_test_split(\n",
    "    x_img_train,\n",
    "    x_txt_train,\n",
    "    y_train,\n",
    "    test_size=0.2,\n",
    "    random_state=42,\n",
    "    stratify=y_train\n",
    ")"
   ]
  },
  {
   "cell_type": "markdown",
   "metadata": {},
   "source": [
    "### Scaling"
   ]
  },
  {
   "cell_type": "code",
   "execution_count": 10,
   "metadata": {},
   "outputs": [],
   "source": [
    "img_sscaler = StandardScaler()\n",
    "img_sscaler.fit(x_img_train)\n",
    "\n",
    "x_img_train = img_sscaler.transform(x_img_train)\n",
    "x_img_val = img_sscaler.transform(x_img_val)\n",
    "x_img_test = img_sscaler.transform(x_img_test)\n",
    "\n",
    "txt_sscaler = StandardScaler()\n",
    "txt_sscaler.fit(x_txt_train)\n",
    "\n",
    "x_txt_train = txt_sscaler.transform(x_txt_train)\n",
    "x_txt_val = txt_sscaler.transform(x_txt_val)\n",
    "x_txt_test = txt_sscaler.transform(x_txt_test)"
   ]
  },
  {
   "cell_type": "markdown",
   "metadata": {},
   "source": [
    "### Converting to tensors"
   ]
  },
  {
   "cell_type": "code",
   "execution_count": 13,
   "metadata": {},
   "outputs": [],
   "source": [
    "x_img_train_t = torch.tensor(x_img_train)\n",
    "x_img_val_t = torch.tensor(x_img_val)\n",
    "x_img_test_t = torch.tensor(x_img_test)\n",
    "\n",
    "x_txt_train_t = torch.tensor(x_txt_train)\n",
    "x_txt_val_t = torch.tensor(x_txt_val)\n",
    "x_txt_test_t = torch.tensor(x_txt_test)\n",
    "\n",
    "y_train_t = torch.tensor(y_train)\n",
    "y_val_t = torch.tensor(y_val)\n",
    "y_test_t = torch.tensor(y_test)"
   ]
  },
  {
   "cell_type": "markdown",
   "metadata": {},
   "source": [
    "### Converting to datasets"
   ]
  },
  {
   "cell_type": "code",
   "execution_count": 108,
   "metadata": {},
   "outputs": [],
   "source": [
    "train_ds = TensorDataset(x_img_train_t, x_txt_train_t, y_train_t)\n",
    "val_ds = TensorDataset(x_img_val_t, x_txt_val_t, y_val_t)\n",
    "test_ds = TensorDataset(x_img_test_t, x_txt_test_t, y_test_t)"
   ]
  },
  {
   "cell_type": "markdown",
   "metadata": {},
   "source": [
    "### Creating loaders"
   ]
  },
  {
   "cell_type": "code",
   "execution_count": 109,
   "metadata": {},
   "outputs": [],
   "source": [
    "BATCH_SIZE = 1024\n",
    "\n",
    "train_loader = DataLoader(train_ds, batch_size=BATCH_SIZE)\n",
    "val_loader = DataLoader(val_ds, batch_size=BATCH_SIZE)\n",
    "test_loader = DataLoader(test_ds, batch_size=BATCH_SIZE)"
   ]
  },
  {
   "cell_type": "markdown",
   "metadata": {},
   "source": [
    "## Minibatch generating function"
   ]
  },
  {
   "cell_type": "code",
   "execution_count": 112,
   "metadata": {},
   "outputs": [],
   "source": [
    "def get_minibatch(\n",
    "    n_tasks, \n",
    "    n_classes_per_task, \n",
    "    n_samples_per_class, \n",
    "    x_img_cur, x_txt_cur, y_cur\n",
    "):    \n",
    "    n_samples_per_task = n_classes_per_task * n_samples_per_class\n",
    "    \n",
    "    x_img_mb = torch.zeros(n_tasks, n_samples_per_task, IMG_LEN)\n",
    "    x_txt_mb = torch.zeros(n_tasks, n_samples_per_task, TXT_LEN)\n",
    "    y_mb = torch.zeros(n_tasks, n_samples_per_task, N_CLASSES)\n",
    "    \n",
    "    for task in range(n_tasks):\n",
    "        classes = np.random.choice(N_CLASSES, n_classes_per_task, replace=False)\n",
    "        i = 0\n",
    "        for class_num, cur_class in enumerate(classes):\n",
    "            class_inds = np.where((y_cur==to_categorical(cur_class, N_CLASSES)).all(axis=1))[0]\n",
    "            example_inds = np.random.choice(\n",
    "                class_inds, \n",
    "                min(n_samples_per_class, len(class_inds)), \n",
    "                replace=False\n",
    "            ) \n",
    "            x_img_mb[task][i : i + len(example_inds)] = torch.tensor(x_img_cur[example_inds])\n",
    "            x_txt_mb[task][i : i + len(example_inds)] = torch.tensor(x_txt_cur[example_inds])\n",
    "            y_mb[task][i : i + len(example_inds)] = torch.tensor(y_cur[example_inds])\n",
    "            i += len(example_inds)\n",
    "            \n",
    "    return x_img_mb, x_txt_mb, y_mb "
   ]
  },
  {
   "cell_type": "markdown",
   "metadata": {},
   "source": [
    "### Creating learner"
   ]
  },
  {
   "cell_type": "code",
   "execution_count": 125,
   "metadata": {},
   "outputs": [],
   "source": [
    "norm_model = torch_models.NormModel()\n",
    "norm_optimizer = optim.Adam(norm_model.parameters(), lr=0.001)\n",
    "norm_writer = SummaryWriter()"
   ]
  },
  {
   "cell_type": "markdown",
   "metadata": {},
   "source": [
    "### Fitting"
   ]
  },
  {
   "cell_type": "code",
   "execution_count": null,
   "metadata": {},
   "outputs": [],
   "source": [
    "EPOCHS = 10\n",
    "for epoch in range(EPOCHS):\n",
    "    n_tasks = 2500\n",
    "    x_img_mb, x_txt_mb, y_mb = get_minibatch(\n",
    "        n_tasks=n_tasks, \n",
    "        n_classes_per_task=2, \n",
    "        n_samples_per_class=128, \n",
    "        x_img_cur=x_img_train, \n",
    "        x_txt_cur=x_txt_train, \n",
    "        y_cur=y_train\n",
    "    )\n",
    "    \n",
    "    for task in range(n_tasks):\n",
    "        x_img_cur = x_img_mb[task]\n",
    "        x_txt_cur = x_txt_mb[task]\n",
    "        y_cur = y_mb[task]\n",
    "        \n",
    "        norm_model.zero_grad()\n",
    "        output = norm_model(x_img_cur.float(), x_txt_cur.float())\n",
    "        loss = F.nll_loss(output, torch.argmax(y_cur, dim=1))\n",
    "        loss.backward()\n",
    "        norm_optimizer.step()\n",
    "    \n",
    "    correct = 0\n",
    "    total = 0\n",
    "    with torch.no_grad():\n",
    "        for x_img, x_txt, y in val_loader:\n",
    "            output = norm_model(x_img.float(), x_txt.float())\n",
    "            for idx, i in enumerate(output):\n",
    "                if torch.argmax(i) == torch.argmax(y, dim=1)[idx]:\n",
    "                    correct += 1\n",
    "                total += 1\n",
    "                \n",
    "    norm_writer.add_scalar('accuracy/norm/val', correct/total, epoch)"
   ]
  }
 ],
 "metadata": {
  "kernelspec": {
   "display_name": "Python 3",
   "language": "python",
   "name": "python3"
  },
  "language_info": {
   "codemirror_mode": {
    "name": "ipython",
    "version": 3
   },
   "file_extension": ".py",
   "mimetype": "text/x-python",
   "name": "python",
   "nbconvert_exporter": "python",
   "pygments_lexer": "ipython3",
   "version": "3.7.4"
  }
 },
 "nbformat": 4,
 "nbformat_minor": 2
}
