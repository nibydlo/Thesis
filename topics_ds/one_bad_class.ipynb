{
 "cells": [
  {
   "cell_type": "code",
   "execution_count": 1,
   "metadata": {},
   "outputs": [],
   "source": [
    "import pandas as pd\n",
    "import numpy as np\n",
    "from struct import unpack\n",
    "from base64 import b64decode\n",
    "import string\n",
    "import random"
   ]
  },
  {
   "cell_type": "code",
   "execution_count": 220,
   "metadata": {},
   "outputs": [],
   "source": [
    "import tensorflow as tf\n",
    "from tensorflow.keras.models import Model\n",
    "from tensorflow.keras.layers import Input, Dense, Activation, Dropout, concatenate, BatchNormalization, Multiply, Add, Lambda\n",
    "from keras.callbacks import EarlyStopping\n",
    "from keras.utils.np_utils import to_categorical"
   ]
  },
  {
   "cell_type": "code",
   "execution_count": 3,
   "metadata": {},
   "outputs": [],
   "source": [
    "from sklearn.metrics import classification_report\n",
    "from sklearn.preprocessing import MinMaxScaler, normalize, StandardScaler\n",
    "from sklearn.model_selection import train_test_split"
   ]
  },
  {
   "cell_type": "code",
   "execution_count": 4,
   "metadata": {},
   "outputs": [],
   "source": [
    "IMG_LEN = 1024\n",
    "TXT_LEN = 300\n",
    "N_CLASSES = 50"
   ]
  },
  {
   "cell_type": "markdown",
   "metadata": {},
   "source": [
    "### Data preparation"
   ]
  },
  {
   "cell_type": "code",
   "execution_count": 5,
   "metadata": {},
   "outputs": [],
   "source": [
    "filename = \"/Users/dmitry/Downloads/topics_dataset.json\"\n",
    "df = pd.read_json(filename, lines=True)"
   ]
  },
  {
   "cell_type": "code",
   "execution_count": 6,
   "metadata": {},
   "outputs": [],
   "source": [
    "from functools import partial\n",
    "\n",
    "def unpck(l, x):\n",
    "    return unpack('%df' % l, b64decode(x.encode('utf-8')))\n",
    "\n",
    "unpck_img = partial(unpck, IMG_LEN)\n",
    "unpck_txt = partial(unpck, TXT_LEN)"
   ]
  },
  {
   "cell_type": "code",
   "execution_count": 101,
   "metadata": {},
   "outputs": [],
   "source": [
    "x_img = np.stack(df['x1'].map(unpck_img), axis=0)\n",
    "x_txt = np.stack(df['x2'].map(unpck_txt), axis=0)\n",
    "y = to_categorical(np.array(df['y1']), N_CLASSES)"
   ]
  },
  {
   "cell_type": "code",
   "execution_count": 104,
   "metadata": {},
   "outputs": [],
   "source": [
    "x_img_train, x_img_test, x_txt_train, x_txt_test, y_train, y_test = train_test_split(\n",
    "    x_img, \n",
    "    x_txt, \n",
    "    y, \n",
    "    test_size=0.2, \n",
    "    random_state=42\n",
    ")"
   ]
  },
  {
   "cell_type": "code",
   "execution_count": 105,
   "metadata": {},
   "outputs": [],
   "source": [
    "x_img_train, x_img_val, x_txt_train, x_txt_val, y_train, y_val = train_test_split(\n",
    "    x_img_train,\n",
    "    x_txt_train,\n",
    "    y_train,\n",
    "    test_size=0.2,\n",
    "    random_state=42\n",
    ")"
   ]
  },
  {
   "cell_type": "code",
   "execution_count": 106,
   "metadata": {},
   "outputs": [],
   "source": [
    "img_sscaler = StandardScaler()\n",
    "img_sscaler.fit(x_img_train)\n",
    "\n",
    "x_img_train = img_sscaler.transform(x_img_train)\n",
    "x_img_val = img_sscaler.transform(x_img_val)\n",
    "x_img_test = img_sscaler.transform(x_img_test)\n",
    "\n",
    "txt_sscaler = StandardScaler()\n",
    "txt_sscaler.fit(x_txt_train)\n",
    "\n",
    "x_txt_train = txt_sscaler.transform(x_txt_train)\n",
    "x_txt_val = txt_sscaler.transform(x_txt_val)\n",
    "x_txt_test = txt_sscaler.transform(x_txt_test)"
   ]
  },
  {
   "cell_type": "markdown",
   "metadata": {},
   "source": [
    "### Extracting 47th class"
   ]
  },
  {
   "cell_type": "code",
   "execution_count": 109,
   "metadata": {},
   "outputs": [],
   "source": [
    "y_train_47 = y_train[:, 47]\n",
    "y_val_47 = y_val[:, 47]\n",
    "y_test_47 = y_test[:, 47]"
   ]
  },
  {
   "cell_type": "code",
   "execution_count": null,
   "metadata": {},
   "outputs": [],
   "source": [
    "def show_stat(y):\n",
    "    stat = {}\n",
    "    for i in range(y.shape[0]):\n",
    "        p = np.argmax(y[i])\n",
    "        if p in test_stat:\n",
    "            test_stat[p] += 1\n",
    "        else:\n",
    "            test_stat[p] = 1\n",
    "        \n",
    "    for key, value in sorted(test_stat.items()):\n",
    "        print(\"{} : {}\".format(key, value))"
   ]
  },
  {
   "cell_type": "code",
   "execution_count": 110,
   "metadata": {},
   "outputs": [
    {
     "name": "stdout",
     "output_type": "stream",
     "text": [
      "Examples:\n",
      "    Total: 135897\n",
      "    Positive: 340 (0.25% of total)\n",
      "\n"
     ]
    }
   ],
   "source": [
    "neg_train, pos_train = np.bincount(y_train_47.astype(np.int))\n",
    "total_train = neg_train + pos_train\n",
    "print('Examples:\\n    Total: {}\\n    Positive: {} ({:.2f}% of total)\\n'.format(\n",
    "    total_train, pos_train, 100 * pos_train / total_train))"
   ]
  },
  {
   "cell_type": "code",
   "execution_count": 111,
   "metadata": {},
   "outputs": [
    {
     "name": "stdout",
     "output_type": "stream",
     "text": [
      "Examples:\n",
      "    Total: 33975\n",
      "    Positive: 65 (0.19% of total)\n",
      "\n"
     ]
    }
   ],
   "source": [
    "neg_val, pos_val = np.bincount(y_val_47.astype(np.int))\n",
    "total_val = neg_val + pos_val\n",
    "print('Examples:\\n    Total: {}\\n    Positive: {} ({:.2f}% of total)\\n'.format(\n",
    "    total_val, pos_val, 100 * pos_val / total_val))"
   ]
  },
  {
   "cell_type": "code",
   "execution_count": 112,
   "metadata": {},
   "outputs": [
    {
     "name": "stdout",
     "output_type": "stream",
     "text": [
      "Examples:\n",
      "    Total: 42468\n",
      "    Positive: 98 (0.23% of total)\n",
      "\n"
     ]
    }
   ],
   "source": [
    "neg_test, pos_test = np.bincount(y_test_47.astype(np.int))\n",
    "total_test = neg_test + pos_test\n",
    "print('Examples:\\n    Total: {}\\n    Positive: {} ({:.2f}% of total)\\n'.format(\n",
    "    total_test, pos_test, 100 * pos_test / total_test))"
   ]
  },
  {
   "cell_type": "code",
   "execution_count": 117,
   "metadata": {},
   "outputs": [
    {
     "data": {
      "text/plain": [
       "array([3, 5])"
      ]
     },
     "execution_count": 117,
     "metadata": {},
     "output_type": "execute_result"
    }
   ],
   "source": [
    "np.array([3, 4, 5])[np.array([1, 0, 1]).astype(bool)]"
   ]
  },
  {
   "cell_type": "code",
   "execution_count": 118,
   "metadata": {},
   "outputs": [],
   "source": [
    "# select 47th rows\n",
    "x_img_train_47 = x_img_train[y_train_47.astype(bool)]\n",
    "x_txt_train_47 = x_txt_train[y_train_47.astype(bool)]\n",
    "\n",
    "x_img_train_others = x_img_train[(y_train_47 - 1).astype(bool)]\n",
    "x_txt_train_others = x_txt_train[(y_train_47 - 1).astype(bool)]"
   ]
  },
  {
   "cell_type": "code",
   "execution_count": 123,
   "metadata": {},
   "outputs": [],
   "source": [
    "deviations_47 = np.std(x_img_train_47, axis=0) "
   ]
  },
  {
   "cell_type": "code",
   "execution_count": 124,
   "metadata": {},
   "outputs": [],
   "source": [
    "deviations_others = np.std(x_img_train_others, axis=0)"
   ]
  },
  {
   "cell_type": "code",
   "execution_count": 125,
   "metadata": {},
   "outputs": [
    {
     "data": {
      "text/plain": [
       "array([0.96118451, 0.91084354, 0.98085979, ..., 0.98485636, 1.00395001,\n",
       "       0.93173016])"
      ]
     },
     "execution_count": 125,
     "metadata": {},
     "output_type": "execute_result"
    }
   ],
   "source": [
    "deviations_47"
   ]
  },
  {
   "cell_type": "code",
   "execution_count": 126,
   "metadata": {},
   "outputs": [
    {
     "data": {
      "text/plain": [
       "array([1.00009247, 1.0002125 , 1.00003889, ..., 1.00003222, 0.99998996,\n",
       "       1.00016476])"
      ]
     },
     "execution_count": 126,
     "metadata": {},
     "output_type": "execute_result"
    }
   ],
   "source": [
    "deviations_others"
   ]
  },
  {
   "cell_type": "code",
   "execution_count": 129,
   "metadata": {},
   "outputs": [],
   "source": [
    "deviations_difs = np.abs(deviations_47 - deviations_others)"
   ]
  },
  {
   "cell_type": "code",
   "execution_count": 131,
   "metadata": {},
   "outputs": [
    {
     "data": {
      "text/plain": [
       "111"
      ]
     },
     "execution_count": 131,
     "metadata": {},
     "output_type": "execute_result"
    }
   ],
   "source": [
    "np.argmax(deviations_difs)"
   ]
  },
  {
   "cell_type": "code",
   "execution_count": 133,
   "metadata": {},
   "outputs": [
    {
     "data": {
      "text/plain": [
       "0.38178755483435567"
      ]
     },
     "execution_count": 133,
     "metadata": {},
     "output_type": "execute_result"
    }
   ],
   "source": [
    "deviations_difs[111]"
   ]
  },
  {
   "cell_type": "code",
   "execution_count": 138,
   "metadata": {},
   "outputs": [],
   "source": [
    "top_50 = np.argpartition(deviations_difs, -50, axis=0)[-50:]"
   ]
  },
  {
   "cell_type": "code",
   "execution_count": 139,
   "metadata": {},
   "outputs": [],
   "source": [
    "x_img_train_top_50 = x_img_train[:, top_50]\n",
    "x_img_val_top_50 = x_img_val[:, top_50]\n",
    "x_img_test_top_50 = x_img_test[:, top_50]"
   ]
  },
  {
   "cell_type": "code",
   "execution_count": 140,
   "metadata": {},
   "outputs": [
    {
     "data": {
      "text/plain": [
       "(135897, 50)"
      ]
     },
     "execution_count": 140,
     "metadata": {},
     "output_type": "execute_result"
    }
   ],
   "source": [
    "x_img_train_top_50.shape"
   ]
  },
  {
   "cell_type": "code",
   "execution_count": 145,
   "metadata": {},
   "outputs": [],
   "source": [
    "def get_model_img():\n",
    "    inp_img = Input(shape=(1024,))\n",
    "    x = Dense(64, activation='relu')(inp_img)\n",
    "    x = Dropout(0.5)(x)\n",
    "    x = Dense(64)(x)\n",
    "    x = Dropout(0.5)(x)\n",
    "    out = Dense(1, activation='sigmoid')(x)\n",
    "\n",
    "    model = Model(inputs = inp_img, outputs=out)\n",
    "    model.compile(optimizer='adam', loss='binary_crossentropy', metrics=METRICS)\n",
    "    return model"
   ]
  },
  {
   "cell_type": "code",
   "execution_count": 156,
   "metadata": {},
   "outputs": [
    {
     "name": "stdout",
     "output_type": "stream",
     "text": [
      "Train on 135897 samples, validate on 33975 samples\n",
      "Epoch 1/60\n",
      "135897/135897 [==============================] - 11s 79us/sample - loss: 0.0187 - tp: 25.0000 - fp: 7794.0000 - tn: 127763.0000 - fn: 315.0000 - accuracy: 0.9403 - precision: 0.0032 - recall: 0.0735 - auc: 0.5308 - val_loss: 0.0085 - val_tp: 0.0000e+00 - val_fp: 0.0000e+00 - val_tn: 33910.0000 - val_fn: 65.0000 - val_accuracy: 0.9981 - val_precision: 0.0000e+00 - val_recall: 0.0000e+00 - val_auc: 0.6148\n",
      "Epoch 2/60\n",
      "135897/135897 [==============================] - 3s 23us/sample - loss: 0.0122 - tp: 7.0000 - fp: 1428.0000 - tn: 134129.0000 - fn: 333.0000 - accuracy: 0.9870 - precision: 0.0049 - recall: 0.0206 - auc: 0.6073 - val_loss: 0.0082 - val_tp: 0.0000e+00 - val_fp: 0.0000e+00 - val_tn: 33910.0000 - val_fn: 65.0000 - val_accuracy: 0.9981 - val_precision: 0.0000e+00 - val_recall: 0.0000e+00 - val_auc: 0.6357\n",
      "Epoch 3/60\n",
      "135897/135897 [==============================] - 3s 23us/sample - loss: 0.0111 - tp: 5.0000 - fp: 729.0000 - tn: 134828.0000 - fn: 335.0000 - accuracy: 0.9922 - precision: 0.0068 - recall: 0.0147 - auc: 0.6556 - val_loss: 0.0083 - val_tp: 0.0000e+00 - val_fp: 0.0000e+00 - val_tn: 33910.0000 - val_fn: 65.0000 - val_accuracy: 0.9981 - val_precision: 0.0000e+00 - val_recall: 0.0000e+00 - val_auc: 0.6472\n",
      "Epoch 4/60\n",
      "135897/135897 [==============================] - 3s 22us/sample - loss: 0.0104 - tp: 6.0000 - fp: 438.0000 - tn: 135119.0000 - fn: 334.0000 - accuracy: 0.9943 - precision: 0.0135 - recall: 0.0176 - auc: 0.6838 - val_loss: 0.0081 - val_tp: 0.0000e+00 - val_fp: 0.0000e+00 - val_tn: 33910.0000 - val_fn: 65.0000 - val_accuracy: 0.9981 - val_precision: 0.0000e+00 - val_recall: 0.0000e+00 - val_auc: 0.6509\n",
      "Epoch 5/60\n",
      "135897/135897 [==============================] - 3s 22us/sample - loss: 0.0098 - tp: 6.0000 - fp: 374.0000 - tn: 135183.0000 - fn: 334.0000 - accuracy: 0.9948 - precision: 0.0158 - recall: 0.0176 - auc: 0.7165 - val_loss: 0.0083 - val_tp: 0.0000e+00 - val_fp: 0.0000e+00 - val_tn: 33910.0000 - val_fn: 65.0000 - val_accuracy: 0.9981 - val_precision: 0.0000e+00 - val_recall: 0.0000e+00 - val_auc: 0.6384\n",
      "Epoch 6/60\n",
      "135897/135897 [==============================] - 3s 22us/sample - loss: 0.0094 - tp: 11.0000 - fp: 292.0000 - tn: 135265.0000 - fn: 329.0000 - accuracy: 0.9954 - precision: 0.0363 - recall: 0.0324 - auc: 0.7430 - val_loss: 0.0083 - val_tp: 0.0000e+00 - val_fp: 0.0000e+00 - val_tn: 33910.0000 - val_fn: 65.0000 - val_accuracy: 0.9981 - val_precision: 0.0000e+00 - val_recall: 0.0000e+00 - val_auc: 0.6370\n",
      "Epoch 7/60\n",
      "135897/135897 [==============================] - 3s 24us/sample - loss: 0.0089 - tp: 6.0000 - fp: 187.0000 - tn: 135370.0000 - fn: 334.0000 - accuracy: 0.9962 - precision: 0.0311 - recall: 0.0176 - auc: 0.7671 - val_loss: 0.0085 - val_tp: 0.0000e+00 - val_fp: 0.0000e+00 - val_tn: 33910.0000 - val_fn: 65.0000 - val_accuracy: 0.9981 - val_precision: 0.0000e+00 - val_recall: 0.0000e+00 - val_auc: 0.6219\n",
      "Epoch 8/60\n",
      "135897/135897 [==============================] - 3s 22us/sample - loss: 0.0089 - tp: 3.0000 - fp: 199.0000 - tn: 135358.0000 - fn: 337.0000 - accuracy: 0.9961 - precision: 0.0149 - recall: 0.0088 - auc: 0.7733 - val_loss: 0.0085 - val_tp: 0.0000e+00 - val_fp: 0.0000e+00 - val_tn: 33910.0000 - val_fn: 65.0000 - val_accuracy: 0.9981 - val_precision: 0.0000e+00 - val_recall: 0.0000e+00 - val_auc: 0.6277\n",
      "Epoch 9/60\n",
      "135897/135897 [==============================] - 3s 22us/sample - loss: 0.0085 - tp: 2.0000 - fp: 151.0000 - tn: 135406.0000 - fn: 338.0000 - accuracy: 0.9964 - precision: 0.0131 - recall: 0.0059 - auc: 0.7936 - val_loss: 0.0085 - val_tp: 0.0000e+00 - val_fp: 0.0000e+00 - val_tn: 33910.0000 - val_fn: 65.0000 - val_accuracy: 0.9981 - val_precision: 0.0000e+00 - val_recall: 0.0000e+00 - val_auc: 0.6253\n",
      "Epoch 10/60\n",
      "135897/135897 [==============================] - 3s 22us/sample - loss: 0.0081 - tp: 8.0000 - fp: 126.0000 - tn: 135431.0000 - fn: 332.0000 - accuracy: 0.9966 - precision: 0.0597 - recall: 0.0235 - auc: 0.8156 - val_loss: 0.0086 - val_tp: 0.0000e+00 - val_fp: 0.0000e+00 - val_tn: 33910.0000 - val_fn: 65.0000 - val_accuracy: 0.9981 - val_precision: 0.0000e+00 - val_recall: 0.0000e+00 - val_auc: 0.6308\n",
      "Epoch 11/60\n",
      "135897/135897 [==============================] - 3s 23us/sample - loss: 0.0079 - tp: 12.0000 - fp: 122.0000 - tn: 135435.0000 - fn: 328.0000 - accuracy: 0.9967 - precision: 0.0896 - recall: 0.0353 - auc: 0.8251 - val_loss: 0.0088 - val_tp: 0.0000e+00 - val_fp: 0.0000e+00 - val_tn: 33910.0000 - val_fn: 65.0000 - val_accuracy: 0.9981 - val_precision: 0.0000e+00 - val_recall: 0.0000e+00 - val_auc: 0.6372\n",
      "Epoch 12/60\n",
      "135897/135897 [==============================] - 3s 23us/sample - loss: 0.0075 - tp: 8.0000 - fp: 128.0000 - tn: 135429.0000 - fn: 332.0000 - accuracy: 0.9966 - precision: 0.0588 - recall: 0.0235 - auc: 0.8540 - val_loss: 0.0089 - val_tp: 0.0000e+00 - val_fp: 0.0000e+00 - val_tn: 33910.0000 - val_fn: 65.0000 - val_accuracy: 0.9981 - val_precision: 0.0000e+00 - val_recall: 0.0000e+00 - val_auc: 0.6123\n",
      "Epoch 13/60\n",
      "135897/135897 [==============================] - 3s 25us/sample - loss: 0.0072 - tp: 17.0000 - fp: 182.0000 - tn: 135375.0000 - fn: 323.0000 - accuracy: 0.9963 - precision: 0.0854 - recall: 0.0500 - auc: 0.8625 - val_loss: 0.0091 - val_tp: 0.0000e+00 - val_fp: 1.0000 - val_tn: 33909.0000 - val_fn: 65.0000 - val_accuracy: 0.9981 - val_precision: 0.0000e+00 - val_recall: 0.0000e+00 - val_auc: 0.6181\n",
      "Epoch 14/60\n",
      "135897/135897 [==============================] - 3s 23us/sample - loss: 0.0070 - tp: 28.0000 - fp: 223.0000 - tn: 135334.0000 - fn: 312.0000 - accuracy: 0.9961 - precision: 0.1116 - recall: 0.0824 - auc: 0.8751 - val_loss: 0.0092 - val_tp: 0.0000e+00 - val_fp: 0.0000e+00 - val_tn: 33910.0000 - val_fn: 65.0000 - val_accuracy: 0.9981 - val_precision: 0.0000e+00 - val_recall: 0.0000e+00 - val_auc: 0.6246\n",
      "Epoch 15/60\n",
      "135897/135897 [==============================] - 3s 24us/sample - loss: 0.0067 - tp: 31.0000 - fp: 274.0000 - tn: 135283.0000 - fn: 309.0000 - accuracy: 0.9957 - precision: 0.1016 - recall: 0.0912 - auc: 0.8902 - val_loss: 0.0094 - val_tp: 0.0000e+00 - val_fp: 3.0000 - val_tn: 33907.0000 - val_fn: 65.0000 - val_accuracy: 0.9980 - val_precision: 0.0000e+00 - val_recall: 0.0000e+00 - val_auc: 0.6144\n",
      "Epoch 16/60\n",
      "135897/135897 [==============================] - 3s 24us/sample - loss: 0.0065 - tp: 47.0000 - fp: 308.0000 - tn: 135249.0000 - fn: 293.0000 - accuracy: 0.9956 - precision: 0.1324 - recall: 0.1382 - auc: 0.9007 - val_loss: 0.0100 - val_tp: 0.0000e+00 - val_fp: 2.0000 - val_tn: 33908.0000 - val_fn: 65.0000 - val_accuracy: 0.9980 - val_precision: 0.0000e+00 - val_recall: 0.0000e+00 - val_auc: 0.6008\n",
      "Epoch 17/60\n",
      "135897/135897 [==============================] - 3s 24us/sample - loss: 0.0065 - tp: 43.0000 - fp: 384.0000 - tn: 135173.0000 - fn: 297.0000 - accuracy: 0.9950 - precision: 0.1007 - recall: 0.1265 - auc: 0.8984 - val_loss: 0.0096 - val_tp: 0.0000e+00 - val_fp: 2.0000 - val_tn: 33908.0000 - val_fn: 65.0000 - val_accuracy: 0.9980 - val_precision: 0.0000e+00 - val_recall: 0.0000e+00 - val_auc: 0.6296\n",
      "Epoch 18/60\n",
      "135897/135897 [==============================] - 3s 23us/sample - loss: 0.0058 - tp: 58.0000 - fp: 383.0000 - tn: 135174.0000 - fn: 282.0000 - accuracy: 0.9951 - precision: 0.1315 - recall: 0.1706 - auc: 0.9274 - val_loss: 0.0102 - val_tp: 0.0000e+00 - val_fp: 5.0000 - val_tn: 33905.0000 - val_fn: 65.0000 - val_accuracy: 0.9979 - val_precision: 0.0000e+00 - val_recall: 0.0000e+00 - val_auc: 0.6065\n",
      "Epoch 19/60\n",
      "135897/135897 [==============================] - 3s 22us/sample - loss: 0.0055 - tp: 93.0000 - fp: 546.0000 - tn: 135011.0000 - fn: 247.0000 - accuracy: 0.9942 - precision: 0.1455 - recall: 0.2735 - auc: 0.9291 - val_loss: 0.0110 - val_tp: 0.0000e+00 - val_fp: 4.0000 - val_tn: 33906.0000 - val_fn: 65.0000 - val_accuracy: 0.9980 - val_precision: 0.0000e+00 - val_recall: 0.0000e+00 - val_auc: 0.5640\n",
      "Epoch 20/60\n",
      "135897/135897 [==============================] - 4s 29us/sample - loss: 0.0055 - tp: 89.0000 - fp: 623.0000 - tn: 134934.0000 - fn: 251.0000 - accuracy: 0.9936 - precision: 0.1250 - recall: 0.2618 - auc: 0.9303 - val_loss: 0.0111 - val_tp: 1.0000 - val_fp: 12.0000 - val_tn: 33898.0000 - val_fn: 64.0000 - val_accuracy: 0.9978 - val_precision: 0.0769 - val_recall: 0.0154 - val_auc: 0.5753\n"
     ]
    },
    {
     "name": "stdout",
     "output_type": "stream",
     "text": [
      "Epoch 21/60\n",
      "135897/135897 [==============================] - 3s 24us/sample - loss: 0.0054 - tp: 92.0000 - fp: 690.0000 - tn: 134867.0000 - fn: 248.0000 - accuracy: 0.9931 - precision: 0.1176 - recall: 0.2706 - auc: 0.9339 - val_loss: 0.0114 - val_tp: 1.0000 - val_fp: 4.0000 - val_tn: 33906.0000 - val_fn: 64.0000 - val_accuracy: 0.9980 - val_precision: 0.2000 - val_recall: 0.0154 - val_auc: 0.5489\n",
      "Epoch 22/60\n",
      "135897/135897 [==============================] - 3s 22us/sample - loss: 0.0049 - tp: 112.0000 - fp: 678.0000 - tn: 134879.0000 - fn: 228.0000 - accuracy: 0.9933 - precision: 0.1418 - recall: 0.3294 - auc: 0.9476 - val_loss: 0.0119 - val_tp: 1.0000 - val_fp: 4.0000 - val_tn: 33906.0000 - val_fn: 64.0000 - val_accuracy: 0.9980 - val_precision: 0.2000 - val_recall: 0.0154 - val_auc: 0.5614\n",
      "Epoch 23/60\n",
      "135897/135897 [==============================] - 3s 21us/sample - loss: 0.0047 - tp: 133.0000 - fp: 687.0000 - tn: 134870.0000 - fn: 207.0000 - accuracy: 0.9934 - precision: 0.1622 - recall: 0.3912 - auc: 0.9490 - val_loss: 0.0124 - val_tp: 1.0000 - val_fp: 8.0000 - val_tn: 33902.0000 - val_fn: 64.0000 - val_accuracy: 0.9979 - val_precision: 0.1111 - val_recall: 0.0154 - val_auc: 0.5479\n",
      "Epoch 24/60\n",
      "135897/135897 [==============================] - 3s 21us/sample - loss: 0.0049 - tp: 135.0000 - fp: 707.0000 - tn: 134850.0000 - fn: 205.0000 - accuracy: 0.9933 - precision: 0.1603 - recall: 0.3971 - auc: 0.9437 - val_loss: 0.0122 - val_tp: 1.0000 - val_fp: 13.0000 - val_tn: 33897.0000 - val_fn: 64.0000 - val_accuracy: 0.9977 - val_precision: 0.0714 - val_recall: 0.0154 - val_auc: 0.5811\n",
      "Epoch 25/60\n",
      "135897/135897 [==============================] - 3s 21us/sample - loss: 0.0045 - tp: 143.0000 - fp: 668.0000 - tn: 134889.0000 - fn: 197.0000 - accuracy: 0.9936 - precision: 0.1763 - recall: 0.4206 - auc: 0.9564 - val_loss: 0.0134 - val_tp: 1.0000 - val_fp: 10.0000 - val_tn: 33900.0000 - val_fn: 64.0000 - val_accuracy: 0.9978 - val_precision: 0.0909 - val_recall: 0.0154 - val_auc: 0.5507\n",
      "Epoch 26/60\n",
      "135897/135897 [==============================] - 3s 22us/sample - loss: 0.0044 - tp: 165.0000 - fp: 691.0000 - tn: 134866.0000 - fn: 175.0000 - accuracy: 0.9936 - precision: 0.1928 - recall: 0.4853 - auc: 0.9498 - val_loss: 0.0133 - val_tp: 1.0000 - val_fp: 13.0000 - val_tn: 33897.0000 - val_fn: 64.0000 - val_accuracy: 0.9977 - val_precision: 0.0714 - val_recall: 0.0154 - val_auc: 0.5295\n",
      "Epoch 27/60\n",
      "135897/135897 [==============================] - 3s 21us/sample - loss: 0.0040 - tp: 163.0000 - fp: 766.0000 - tn: 134791.0000 - fn: 177.0000 - accuracy: 0.9931 - precision: 0.1755 - recall: 0.4794 - auc: 0.9672 - val_loss: 0.0146 - val_tp: 1.0000 - val_fp: 17.0000 - val_tn: 33893.0000 - val_fn: 64.0000 - val_accuracy: 0.9976 - val_precision: 0.0556 - val_recall: 0.0154 - val_auc: 0.5594\n",
      "Epoch 28/60\n",
      "135897/135897 [==============================] - 3s 21us/sample - loss: 0.0043 - tp: 177.0000 - fp: 746.0000 - tn: 134811.0000 - fn: 163.0000 - accuracy: 0.9933 - precision: 0.1918 - recall: 0.5206 - auc: 0.9517 - val_loss: 0.0142 - val_tp: 1.0000 - val_fp: 20.0000 - val_tn: 33890.0000 - val_fn: 64.0000 - val_accuracy: 0.9975 - val_precision: 0.0476 - val_recall: 0.0154 - val_auc: 0.5314\n",
      "Epoch 29/60\n",
      "135897/135897 [==============================] - 3s 22us/sample - loss: 0.0041 - tp: 185.0000 - fp: 817.0000 - tn: 134740.0000 - fn: 155.0000 - accuracy: 0.9928 - precision: 0.1846 - recall: 0.5441 - auc: 0.9633 - val_loss: 0.0144 - val_tp: 1.0000 - val_fp: 22.0000 - val_tn: 33888.0000 - val_fn: 64.0000 - val_accuracy: 0.9975 - val_precision: 0.0435 - val_recall: 0.0154 - val_auc: 0.5491\n",
      "Epoch 30/60\n",
      "135897/135897 [==============================] - 3s 21us/sample - loss: 0.0041 - tp: 172.0000 - fp: 817.0000 - tn: 134740.0000 - fn: 168.0000 - accuracy: 0.9928 - precision: 0.1739 - recall: 0.5059 - auc: 0.9568 - val_loss: 0.0151 - val_tp: 1.0000 - val_fp: 16.0000 - val_tn: 33894.0000 - val_fn: 64.0000 - val_accuracy: 0.9976 - val_precision: 0.0588 - val_recall: 0.0154 - val_auc: 0.5252\n",
      "Epoch 31/60\n",
      "135897/135897 [==============================] - 3s 22us/sample - loss: 0.0036 - tp: 193.0000 - fp: 729.0000 - tn: 134828.0000 - fn: 147.0000 - accuracy: 0.9936 - precision: 0.2093 - recall: 0.5676 - auc: 0.9675 - val_loss: 0.0157 - val_tp: 1.0000 - val_fp: 16.0000 - val_tn: 33894.0000 - val_fn: 64.0000 - val_accuracy: 0.9976 - val_precision: 0.0588 - val_recall: 0.0154 - val_auc: 0.5363\n",
      "Epoch 32/60\n",
      "135897/135897 [==============================] - 3s 23us/sample - loss: 0.0036 - tp: 206.0000 - fp: 726.0000 - tn: 134831.0000 - fn: 134.0000 - accuracy: 0.9937 - precision: 0.2210 - recall: 0.6059 - auc: 0.9673 - val_loss: 0.0163 - val_tp: 1.0000 - val_fp: 14.0000 - val_tn: 33896.0000 - val_fn: 64.0000 - val_accuracy: 0.9977 - val_precision: 0.0667 - val_recall: 0.0154 - val_auc: 0.5428\n",
      "Epoch 33/60\n",
      "135897/135897 [==============================] - 3s 22us/sample - loss: 0.0033 - tp: 207.0000 - fp: 644.0000 - tn: 134913.0000 - fn: 133.0000 - accuracy: 0.9943 - precision: 0.2432 - recall: 0.6088 - auc: 0.9713 - val_loss: 0.0165 - val_tp: 1.0000 - val_fp: 20.0000 - val_tn: 33890.0000 - val_fn: 64.0000 - val_accuracy: 0.9975 - val_precision: 0.0476 - val_recall: 0.0154 - val_auc: 0.5084\n",
      "Epoch 34/60\n",
      "135897/135897 [==============================] - 3s 22us/sample - loss: 0.0032 - tp: 229.0000 - fp: 771.0000 - tn: 134786.0000 - fn: 111.0000 - accuracy: 0.9935 - precision: 0.2290 - recall: 0.6735 - auc: 0.9789 - val_loss: 0.0175 - val_tp: 1.0000 - val_fp: 26.0000 - val_tn: 33884.0000 - val_fn: 64.0000 - val_accuracy: 0.9974 - val_precision: 0.0370 - val_recall: 0.0154 - val_auc: 0.5351\n",
      "Epoch 35/60\n",
      "135897/135897 [==============================] - 3s 22us/sample - loss: 0.0034 - tp: 223.0000 - fp: 825.0000 - tn: 134732.0000 - fn: 117.0000 - accuracy: 0.9931 - precision: 0.2128 - recall: 0.6559 - auc: 0.9685 - val_loss: 0.0186 - val_tp: 1.0000 - val_fp: 15.0000 - val_tn: 33895.0000 - val_fn: 64.0000 - val_accuracy: 0.9977 - val_precision: 0.0625 - val_recall: 0.0154 - val_auc: 0.4990\n",
      "Epoch 36/60\n",
      "135897/135897 [==============================] - 3s 23us/sample - loss: 0.0030 - tp: 228.0000 - fp: 653.0000 - tn: 134904.0000 - fn: 112.0000 - accuracy: 0.9944 - precision: 0.2588 - recall: 0.6706 - auc: 0.9740 - val_loss: 0.0183 - val_tp: 2.0000 - val_fp: 24.0000 - val_tn: 33886.0000 - val_fn: 63.0000 - val_accuracy: 0.9974 - val_precision: 0.0769 - val_recall: 0.0308 - val_auc: 0.4887\n",
      "Epoch 37/60\n",
      "135897/135897 [==============================] - 3s 22us/sample - loss: 0.0030 - tp: 234.0000 - fp: 677.0000 - tn: 134880.0000 - fn: 106.0000 - accuracy: 0.9942 - precision: 0.2569 - recall: 0.6882 - auc: 0.9770 - val_loss: 0.0191 - val_tp: 2.0000 - val_fp: 15.0000 - val_tn: 33895.0000 - val_fn: 63.0000 - val_accuracy: 0.9977 - val_precision: 0.1176 - val_recall: 0.0308 - val_auc: 0.5115\n",
      "Epoch 38/60\n",
      "135897/135897 [==============================] - 3s 21us/sample - loss: 0.0027 - tp: 241.0000 - fp: 689.0000 - tn: 134868.0000 - fn: 99.0000 - accuracy: 0.9942 - precision: 0.2591 - recall: 0.7088 - auc: 0.9801 - val_loss: 0.0209 - val_tp: 2.0000 - val_fp: 10.0000 - val_tn: 33900.0000 - val_fn: 63.0000 - val_accuracy: 0.9979 - val_precision: 0.1667 - val_recall: 0.0308 - val_auc: 0.5041\n",
      "Epoch 39/60\n",
      "135897/135897 [==============================] - 3s 21us/sample - loss: 0.0030 - tp: 236.0000 - fp: 714.0000 - tn: 134843.0000 - fn: 104.0000 - accuracy: 0.9940 - precision: 0.2484 - recall: 0.6941 - auc: 0.9726 - val_loss: 0.0198 - val_tp: 2.0000 - val_fp: 18.0000 - val_tn: 33892.0000 - val_fn: 63.0000 - val_accuracy: 0.9976 - val_precision: 0.1000 - val_recall: 0.0308 - val_auc: 0.5548\n",
      "Epoch 40/60\n",
      "135897/135897 [==============================] - 3s 22us/sample - loss: 0.0027 - tp: 256.0000 - fp: 693.0000 - tn: 134864.0000 - fn: 84.0000 - accuracy: 0.9943 - precision: 0.2698 - recall: 0.7529 - auc: 0.9801 - val_loss: 0.0208 - val_tp: 1.0000 - val_fp: 13.0000 - val_tn: 33897.0000 - val_fn: 64.0000 - val_accuracy: 0.9977 - val_precision: 0.0714 - val_recall: 0.0154 - val_auc: 0.5072\n",
      "Epoch 41/60\n"
     ]
    },
    {
     "name": "stdout",
     "output_type": "stream",
     "text": [
      "135897/135897 [==============================] - 3s 21us/sample - loss: 0.0027 - tp: 249.0000 - fp: 691.0000 - tn: 134866.0000 - fn: 91.0000 - accuracy: 0.9942 - precision: 0.2649 - recall: 0.7324 - auc: 0.9790 - val_loss: 0.0211 - val_tp: 1.0000 - val_fp: 14.0000 - val_tn: 33896.0000 - val_fn: 64.0000 - val_accuracy: 0.9977 - val_precision: 0.0667 - val_recall: 0.0154 - val_auc: 0.5057\n",
      "Epoch 42/60\n",
      "135897/135897 [==============================] - 3s 22us/sample - loss: 0.0026 - tp: 255.0000 - fp: 712.0000 - tn: 134845.0000 - fn: 85.0000 - accuracy: 0.9941 - precision: 0.2637 - recall: 0.7500 - auc: 0.9792 - val_loss: 0.0217 - val_tp: 1.0000 - val_fp: 14.0000 - val_tn: 33896.0000 - val_fn: 64.0000 - val_accuracy: 0.9977 - val_precision: 0.0667 - val_recall: 0.0154 - val_auc: 0.4733\n",
      "Epoch 43/60\n",
      "135897/135897 [==============================] - 3s 21us/sample - loss: 0.0024 - tp: 261.0000 - fp: 562.0000 - tn: 134995.0000 - fn: 79.0000 - accuracy: 0.9953 - precision: 0.3171 - recall: 0.7676 - auc: 0.9807 - val_loss: 0.0225 - val_tp: 1.0000 - val_fp: 20.0000 - val_tn: 33890.0000 - val_fn: 64.0000 - val_accuracy: 0.9975 - val_precision: 0.0476 - val_recall: 0.0154 - val_auc: 0.5198\n",
      "Epoch 44/60\n",
      "135897/135897 [==============================] - 3s 21us/sample - loss: 0.0024 - tp: 262.0000 - fp: 633.0000 - tn: 134924.0000 - fn: 78.0000 - accuracy: 0.9948 - precision: 0.2927 - recall: 0.7706 - auc: 0.9817 - val_loss: 0.0222 - val_tp: 2.0000 - val_fp: 16.0000 - val_tn: 33894.0000 - val_fn: 63.0000 - val_accuracy: 0.9977 - val_precision: 0.1111 - val_recall: 0.0308 - val_auc: 0.5349\n",
      "Epoch 45/60\n",
      "135897/135897 [==============================] - 3s 21us/sample - loss: 0.0025 - tp: 255.0000 - fp: 687.0000 - tn: 134870.0000 - fn: 85.0000 - accuracy: 0.9943 - precision: 0.2707 - recall: 0.7500 - auc: 0.9771 - val_loss: 0.0223 - val_tp: 1.0000 - val_fp: 12.0000 - val_tn: 33898.0000 - val_fn: 64.0000 - val_accuracy: 0.9978 - val_precision: 0.0769 - val_recall: 0.0154 - val_auc: 0.4899\n",
      "Epoch 46/60\n",
      "135897/135897 [==============================] - 3s 21us/sample - loss: 0.0024 - tp: 267.0000 - fp: 636.0000 - tn: 134921.0000 - fn: 73.0000 - accuracy: 0.9948 - precision: 0.2957 - recall: 0.7853 - auc: 0.9818 - val_loss: 0.0231 - val_tp: 1.0000 - val_fp: 33.0000 - val_tn: 33877.0000 - val_fn: 64.0000 - val_accuracy: 0.9971 - val_precision: 0.0294 - val_recall: 0.0154 - val_auc: 0.4920\n",
      "Epoch 47/60\n",
      "135897/135897 [==============================] - 3s 22us/sample - loss: 0.0022 - tp: 270.0000 - fp: 628.0000 - tn: 134929.0000 - fn: 70.0000 - accuracy: 0.9949 - precision: 0.3007 - recall: 0.7941 - auc: 0.9847 - val_loss: 0.0240 - val_tp: 1.0000 - val_fp: 19.0000 - val_tn: 33891.0000 - val_fn: 64.0000 - val_accuracy: 0.9976 - val_precision: 0.0500 - val_recall: 0.0154 - val_auc: 0.4829\n",
      "Epoch 48/60\n",
      "135897/135897 [==============================] - 3s 22us/sample - loss: 0.0027 - tp: 267.0000 - fp: 736.0000 - tn: 134821.0000 - fn: 73.0000 - accuracy: 0.9940 - precision: 0.2662 - recall: 0.7853 - auc: 0.9761 - val_loss: 0.0227 - val_tp: 1.0000 - val_fp: 8.0000 - val_tn: 33902.0000 - val_fn: 64.0000 - val_accuracy: 0.9979 - val_precision: 0.1111 - val_recall: 0.0154 - val_auc: 0.4886\n",
      "Epoch 49/60\n",
      "135897/135897 [==============================] - 3s 22us/sample - loss: 0.0023 - tp: 268.0000 - fp: 536.0000 - tn: 135021.0000 - fn: 72.0000 - accuracy: 0.9955 - precision: 0.3333 - recall: 0.7882 - auc: 0.9816 - val_loss: 0.0233 - val_tp: 1.0000 - val_fp: 14.0000 - val_tn: 33896.0000 - val_fn: 64.0000 - val_accuracy: 0.9977 - val_precision: 0.0667 - val_recall: 0.0154 - val_auc: 0.5098\n",
      "Epoch 50/60\n",
      "135897/135897 [==============================] - 3s 21us/sample - loss: 0.0023 - tp: 271.0000 - fp: 601.0000 - tn: 134956.0000 - fn: 69.0000 - accuracy: 0.9951 - precision: 0.3108 - recall: 0.7971 - auc: 0.9787 - val_loss: 0.0242 - val_tp: 1.0000 - val_fp: 17.0000 - val_tn: 33893.0000 - val_fn: 64.0000 - val_accuracy: 0.9976 - val_precision: 0.0556 - val_recall: 0.0154 - val_auc: 0.5143\n",
      "Epoch 51/60\n",
      "135897/135897 [==============================] - 3s 21us/sample - loss: 0.0022 - tp: 281.0000 - fp: 633.0000 - tn: 134924.0000 - fn: 59.0000 - accuracy: 0.9949 - precision: 0.3074 - recall: 0.8265 - auc: 0.9835 - val_loss: 0.0251 - val_tp: 1.0000 - val_fp: 12.0000 - val_tn: 33898.0000 - val_fn: 64.0000 - val_accuracy: 0.9978 - val_precision: 0.0769 - val_recall: 0.0154 - val_auc: 0.5174\n",
      "Epoch 52/60\n",
      "135897/135897 [==============================] - 3s 23us/sample - loss: 0.0020 - tp: 271.0000 - fp: 597.0000 - tn: 134960.0000 - fn: 69.0000 - accuracy: 0.9951 - precision: 0.3122 - recall: 0.7971 - auc: 0.9908 - val_loss: 0.0262 - val_tp: 1.0000 - val_fp: 10.0000 - val_tn: 33900.0000 - val_fn: 64.0000 - val_accuracy: 0.9978 - val_precision: 0.0909 - val_recall: 0.0154 - val_auc: 0.5145\n",
      "Epoch 53/60\n",
      "135897/135897 [==============================] - 3s 22us/sample - loss: 0.0021 - tp: 286.0000 - fp: 537.0000 - tn: 135020.0000 - fn: 54.0000 - accuracy: 0.9957 - precision: 0.3475 - recall: 0.8412 - auc: 0.9831 - val_loss: 0.0249 - val_tp: 1.0000 - val_fp: 16.0000 - val_tn: 33894.0000 - val_fn: 64.0000 - val_accuracy: 0.9976 - val_precision: 0.0588 - val_recall: 0.0154 - val_auc: 0.5270\n",
      "Epoch 54/60\n",
      "135897/135897 [==============================] - 3s 23us/sample - loss: 0.0022 - tp: 277.0000 - fp: 595.0000 - tn: 134962.0000 - fn: 63.0000 - accuracy: 0.9952 - precision: 0.3177 - recall: 0.8147 - auc: 0.9850 - val_loss: 0.0251 - val_tp: 1.0000 - val_fp: 15.0000 - val_tn: 33895.0000 - val_fn: 64.0000 - val_accuracy: 0.9977 - val_precision: 0.0625 - val_recall: 0.0154 - val_auc: 0.5189\n",
      "Epoch 55/60\n",
      "135897/135897 [==============================] - 3s 22us/sample - loss: 0.0024 - tp: 263.0000 - fp: 663.0000 - tn: 134894.0000 - fn: 77.0000 - accuracy: 0.9946 - precision: 0.2840 - recall: 0.7735 - auc: 0.9814 - val_loss: 0.0241 - val_tp: 1.0000 - val_fp: 16.0000 - val_tn: 33894.0000 - val_fn: 64.0000 - val_accuracy: 0.9976 - val_precision: 0.0588 - val_recall: 0.0154 - val_auc: 0.5273\n",
      "Epoch 56/60\n",
      "135897/135897 [==============================] - 3s 22us/sample - loss: 0.0022 - tp: 277.0000 - fp: 606.0000 - tn: 134951.0000 - fn: 63.0000 - accuracy: 0.9951 - precision: 0.3137 - recall: 0.8147 - auc: 0.9838 - val_loss: 0.0247 - val_tp: 1.0000 - val_fp: 14.0000 - val_tn: 33896.0000 - val_fn: 64.0000 - val_accuracy: 0.9977 - val_precision: 0.0667 - val_recall: 0.0154 - val_auc: 0.5195\n",
      "Epoch 57/60\n",
      "135897/135897 [==============================] - 4s 26us/sample - loss: 0.0020 - tp: 283.0000 - fp: 547.0000 - tn: 135010.0000 - fn: 57.0000 - accuracy: 0.9956 - precision: 0.3410 - recall: 0.8324 - auc: 0.9851 - val_loss: 0.0259 - val_tp: 1.0000 - val_fp: 22.0000 - val_tn: 33888.0000 - val_fn: 64.0000 - val_accuracy: 0.9975 - val_precision: 0.0435 - val_recall: 0.0154 - val_auc: 0.4774\n",
      "Epoch 58/60\n",
      "135897/135897 [==============================] - 3s 20us/sample - loss: 0.0018 - tp: 291.0000 - fp: 554.0000 - tn: 135003.0000 - fn: 49.0000 - accuracy: 0.9956 - precision: 0.3444 - recall: 0.8559 - auc: 0.9861 - val_loss: 0.0277 - val_tp: 1.0000 - val_fp: 15.0000 - val_tn: 33895.0000 - val_fn: 64.0000 - val_accuracy: 0.9977 - val_precision: 0.0625 - val_recall: 0.0154 - val_auc: 0.4814\n",
      "Epoch 59/60\n",
      "135897/135897 [==============================] - 3s 23us/sample - loss: 0.0020 - tp: 281.0000 - fp: 571.0000 - tn: 134986.0000 - fn: 59.0000 - accuracy: 0.9954 - precision: 0.3298 - recall: 0.8265 - auc: 0.9839 - val_loss: 0.0277 - val_tp: 1.0000 - val_fp: 12.0000 - val_tn: 33898.0000 - val_fn: 64.0000 - val_accuracy: 0.9978 - val_precision: 0.0769 - val_recall: 0.0154 - val_auc: 0.4841\n",
      "Epoch 60/60\n",
      "135897/135897 [==============================] - 3s 20us/sample - loss: 0.0019 - tp: 287.0000 - fp: 553.0000 - tn: 135004.0000 - fn: 53.0000 - accuracy: 0.9955 - precision: 0.3417 - recall: 0.8441 - auc: 0.9902 - val_loss: 0.0285 - val_tp: 1.0000 - val_fp: 18.0000 - val_tn: 33892.0000 - val_fn: 64.0000 - val_accuracy: 0.9976 - val_precision: 0.0526 - val_recall: 0.0154 - val_auc: 0.5325\n"
     ]
    },
    {
     "data": {
      "text/plain": [
       "<tensorflow.python.keras.callbacks.History at 0x187954210>"
      ]
     },
     "execution_count": 156,
     "metadata": {},
     "output_type": "execute_result"
    }
   ],
   "source": [
    "model_img = get_model_img()\n",
    "model_img.fit(\n",
    "    x_img_train, \n",
    "    y_train_47, \n",
    "    validation_data=(x_img_val, y_val_47), \n",
    "    class_weight={0: 0.05, 1: 0.95}, \n",
    "    epochs=60,\n",
    "    batch_size=2048\n",
    ")"
   ]
  },
  {
   "cell_type": "code",
   "execution_count": 149,
   "metadata": {},
   "outputs": [],
   "source": [
    "def get_model_txt():\n",
    "    inp_txt = Input(shape=(300,))\n",
    "    x = Dense(64, activation='relu')(inp_txt)\n",
    "    x = Dropout(0.5)(x)\n",
    "    x = Dense(64)(x)\n",
    "    x = Dropout(0.5)(x)\n",
    "    out = Dense(1, activation='sigmoid')(x)\n",
    "\n",
    "    model = Model(inputs = inp_txt, outputs=out)\n",
    "    model.compile(optimizer='adam', loss='binary_crossentropy', metrics=METRICS)\n",
    "    return model"
   ]
  },
  {
   "cell_type": "code",
   "execution_count": 154,
   "metadata": {},
   "outputs": [
    {
     "name": "stdout",
     "output_type": "stream",
     "text": [
      "Train on 135897 samples, validate on 33975 samples\n",
      "Epoch 1/60\n",
      "135897/135897 [==============================] - 5s 36us/sample - loss: 0.0177 - tp: 15.0000 - fp: 6862.0000 - tn: 128695.0000 - fn: 325.0000 - accuracy: 0.9471 - precision: 0.0022 - recall: 0.0441 - auc: 0.5249 - val_loss: 0.0082 - val_tp: 0.0000e+00 - val_fp: 0.0000e+00 - val_tn: 33910.0000 - val_fn: 65.0000 - val_accuracy: 0.9981 - val_precision: 0.0000e+00 - val_recall: 0.0000e+00 - val_auc: 0.6297\n",
      "Epoch 2/60\n",
      "135897/135897 [==============================] - 2s 15us/sample - loss: 0.0119 - tp: 3.0000 - fp: 1047.0000 - tn: 134510.0000 - fn: 337.0000 - accuracy: 0.9898 - precision: 0.0029 - recall: 0.0088 - auc: 0.6113 - val_loss: 0.0079 - val_tp: 0.0000e+00 - val_fp: 0.0000e+00 - val_tn: 33910.0000 - val_fn: 65.0000 - val_accuracy: 0.9981 - val_precision: 0.0000e+00 - val_recall: 0.0000e+00 - val_auc: 0.6663\n",
      "Epoch 3/60\n",
      "135897/135897 [==============================] - 2s 15us/sample - loss: 0.0107 - tp: 3.0000 - fp: 533.0000 - tn: 135024.0000 - fn: 337.0000 - accuracy: 0.9936 - precision: 0.0056 - recall: 0.0088 - auc: 0.6558 - val_loss: 0.0078 - val_tp: 0.0000e+00 - val_fp: 0.0000e+00 - val_tn: 33910.0000 - val_fn: 65.0000 - val_accuracy: 0.9981 - val_precision: 0.0000e+00 - val_recall: 0.0000e+00 - val_auc: 0.6630\n",
      "Epoch 4/60\n",
      "135897/135897 [==============================] - 2s 14us/sample - loss: 0.0100 - tp: 2.0000 - fp: 317.0000 - tn: 135240.0000 - fn: 338.0000 - accuracy: 0.9952 - precision: 0.0063 - recall: 0.0059 - auc: 0.6975 - val_loss: 0.0078 - val_tp: 0.0000e+00 - val_fp: 0.0000e+00 - val_tn: 33910.0000 - val_fn: 65.0000 - val_accuracy: 0.9981 - val_precision: 0.0000e+00 - val_recall: 0.0000e+00 - val_auc: 0.6827\n",
      "Epoch 5/60\n",
      "135897/135897 [==============================] - 2s 12us/sample - loss: 0.0095 - tp: 1.0000 - fp: 206.0000 - tn: 135351.0000 - fn: 339.0000 - accuracy: 0.9960 - precision: 0.0048 - recall: 0.0029 - auc: 0.7281 - val_loss: 0.0076 - val_tp: 0.0000e+00 - val_fp: 0.0000e+00 - val_tn: 33910.0000 - val_fn: 65.0000 - val_accuracy: 0.9981 - val_precision: 0.0000e+00 - val_recall: 0.0000e+00 - val_auc: 0.6860\n",
      "Epoch 6/60\n",
      "135897/135897 [==============================] - 2s 13us/sample - loss: 0.0092 - tp: 0.0000e+00 - fp: 176.0000 - tn: 135381.0000 - fn: 340.0000 - accuracy: 0.9962 - precision: 0.0000e+00 - recall: 0.0000e+00 - auc: 0.7436 - val_loss: 0.0076 - val_tp: 0.0000e+00 - val_fp: 0.0000e+00 - val_tn: 33910.0000 - val_fn: 65.0000 - val_accuracy: 0.9981 - val_precision: 0.0000e+00 - val_recall: 0.0000e+00 - val_auc: 0.6957\n",
      "Epoch 7/60\n",
      "135897/135897 [==============================] - 2s 12us/sample - loss: 0.0086 - tp: 4.0000 - fp: 97.0000 - tn: 135460.0000 - fn: 336.0000 - accuracy: 0.9968 - precision: 0.0396 - recall: 0.0118 - auc: 0.7780 - val_loss: 0.0076 - val_tp: 0.0000e+00 - val_fp: 0.0000e+00 - val_tn: 33910.0000 - val_fn: 65.0000 - val_accuracy: 0.9981 - val_precision: 0.0000e+00 - val_recall: 0.0000e+00 - val_auc: 0.7018\n",
      "Epoch 8/60\n",
      "135897/135897 [==============================] - 2s 13us/sample - loss: 0.0083 - tp: 4.0000 - fp: 110.0000 - tn: 135447.0000 - fn: 336.0000 - accuracy: 0.9967 - precision: 0.0351 - recall: 0.0118 - auc: 0.8047 - val_loss: 0.0076 - val_tp: 0.0000e+00 - val_fp: 0.0000e+00 - val_tn: 33910.0000 - val_fn: 65.0000 - val_accuracy: 0.9981 - val_precision: 0.0000e+00 - val_recall: 0.0000e+00 - val_auc: 0.7155\n",
      "Epoch 9/60\n",
      "135897/135897 [==============================] - 2s 13us/sample - loss: 0.0084 - tp: 7.0000 - fp: 122.0000 - tn: 135435.0000 - fn: 333.0000 - accuracy: 0.9967 - precision: 0.0543 - recall: 0.0206 - auc: 0.7987 - val_loss: 0.0078 - val_tp: 0.0000e+00 - val_fp: 0.0000e+00 - val_tn: 33910.0000 - val_fn: 65.0000 - val_accuracy: 0.9981 - val_precision: 0.0000e+00 - val_recall: 0.0000e+00 - val_auc: 0.6958\n",
      "Epoch 10/60\n",
      "135897/135897 [==============================] - 2s 13us/sample - loss: 0.0081 - tp: 5.0000 - fp: 101.0000 - tn: 135456.0000 - fn: 335.0000 - accuracy: 0.9968 - precision: 0.0472 - recall: 0.0147 - auc: 0.8133 - val_loss: 0.0076 - val_tp: 0.0000e+00 - val_fp: 0.0000e+00 - val_tn: 33910.0000 - val_fn: 65.0000 - val_accuracy: 0.9981 - val_precision: 0.0000e+00 - val_recall: 0.0000e+00 - val_auc: 0.7061\n",
      "Epoch 11/60\n",
      "135897/135897 [==============================] - 2s 16us/sample - loss: 0.0078 - tp: 8.0000 - fp: 94.0000 - tn: 135463.0000 - fn: 332.0000 - accuracy: 0.9969 - precision: 0.0784 - recall: 0.0235 - auc: 0.8393 - val_loss: 0.0077 - val_tp: 0.0000e+00 - val_fp: 0.0000e+00 - val_tn: 33910.0000 - val_fn: 65.0000 - val_accuracy: 0.9981 - val_precision: 0.0000e+00 - val_recall: 0.0000e+00 - val_auc: 0.7150\n",
      "Epoch 12/60\n",
      "135897/135897 [==============================] - 2s 12us/sample - loss: 0.0076 - tp: 10.0000 - fp: 94.0000 - tn: 135463.0000 - fn: 330.0000 - accuracy: 0.9969 - precision: 0.0962 - recall: 0.0294 - auc: 0.8416 - val_loss: 0.0078 - val_tp: 0.0000e+00 - val_fp: 0.0000e+00 - val_tn: 33910.0000 - val_fn: 65.0000 - val_accuracy: 0.9981 - val_precision: 0.0000e+00 - val_recall: 0.0000e+00 - val_auc: 0.7163\n",
      "Epoch 13/60\n",
      "135897/135897 [==============================] - 2s 14us/sample - loss: 0.0072 - tp: 20.0000 - fp: 154.0000 - tn: 135403.0000 - fn: 320.0000 - accuracy: 0.9965 - precision: 0.1149 - recall: 0.0588 - auc: 0.8622 - val_loss: 0.0079 - val_tp: 0.0000e+00 - val_fp: 0.0000e+00 - val_tn: 33910.0000 - val_fn: 65.0000 - val_accuracy: 0.9981 - val_precision: 0.0000e+00 - val_recall: 0.0000e+00 - val_auc: 0.7147\n",
      "Epoch 14/60\n",
      "135897/135897 [==============================] - 2s 14us/sample - loss: 0.0069 - tp: 16.0000 - fp: 164.0000 - tn: 135393.0000 - fn: 324.0000 - accuracy: 0.9964 - precision: 0.0889 - recall: 0.0471 - auc: 0.8797 - val_loss: 0.0080 - val_tp: 0.0000e+00 - val_fp: 0.0000e+00 - val_tn: 33910.0000 - val_fn: 65.0000 - val_accuracy: 0.9981 - val_precision: 0.0000e+00 - val_recall: 0.0000e+00 - val_auc: 0.7191\n",
      "Epoch 15/60\n",
      "135897/135897 [==============================] - 2s 11us/sample - loss: 0.0068 - tp: 23.0000 - fp: 184.0000 - tn: 135373.0000 - fn: 317.0000 - accuracy: 0.9963 - precision: 0.1111 - recall: 0.0676 - auc: 0.8842 - val_loss: 0.0082 - val_tp: 0.0000e+00 - val_fp: 0.0000e+00 - val_tn: 33910.0000 - val_fn: 65.0000 - val_accuracy: 0.9981 - val_precision: 0.0000e+00 - val_recall: 0.0000e+00 - val_auc: 0.7030\n",
      "Epoch 16/60\n",
      "135897/135897 [==============================] - 2s 12us/sample - loss: 0.0067 - tp: 27.0000 - fp: 230.0000 - tn: 135327.0000 - fn: 313.0000 - accuracy: 0.9960 - precision: 0.1051 - recall: 0.0794 - auc: 0.8881 - val_loss: 0.0083 - val_tp: 0.0000e+00 - val_fp: 0.0000e+00 - val_tn: 33910.0000 - val_fn: 65.0000 - val_accuracy: 0.9981 - val_precision: 0.0000e+00 - val_recall: 0.0000e+00 - val_auc: 0.6986\n",
      "Epoch 17/60\n",
      "135897/135897 [==============================] - 2s 11us/sample - loss: 0.0065 - tp: 38.0000 - fp: 329.0000 - tn: 135228.0000 - fn: 302.0000 - accuracy: 0.9954 - precision: 0.1035 - recall: 0.1118 - auc: 0.8961 - val_loss: 0.0085 - val_tp: 0.0000e+00 - val_fp: 2.0000 - val_tn: 33908.0000 - val_fn: 65.0000 - val_accuracy: 0.9980 - val_precision: 0.0000e+00 - val_recall: 0.0000e+00 - val_auc: 0.6909\n",
      "Epoch 18/60\n",
      "135897/135897 [==============================] - 2s 13us/sample - loss: 0.0062 - tp: 43.0000 - fp: 297.0000 - tn: 135260.0000 - fn: 297.0000 - accuracy: 0.9956 - precision: 0.1265 - recall: 0.1265 - auc: 0.9095 - val_loss: 0.0087 - val_tp: 0.0000e+00 - val_fp: 3.0000 - val_tn: 33907.0000 - val_fn: 65.0000 - val_accuracy: 0.9980 - val_precision: 0.0000e+00 - val_recall: 0.0000e+00 - val_auc: 0.6767\n",
      "Epoch 19/60\n",
      "135897/135897 [==============================] - 2s 14us/sample - loss: 0.0059 - tp: 62.0000 - fp: 328.0000 - tn: 135229.0000 - fn: 278.0000 - accuracy: 0.9955 - precision: 0.1590 - recall: 0.1824 - auc: 0.9237 - val_loss: 0.0091 - val_tp: 0.0000e+00 - val_fp: 5.0000 - val_tn: 33905.0000 - val_fn: 65.0000 - val_accuracy: 0.9979 - val_precision: 0.0000e+00 - val_recall: 0.0000e+00 - val_auc: 0.6717\n",
      "Epoch 20/60\n",
      "135897/135897 [==============================] - 2s 13us/sample - loss: 0.0057 - tp: 65.0000 - fp: 339.0000 - tn: 135218.0000 - fn: 275.0000 - accuracy: 0.9955 - precision: 0.1609 - recall: 0.1912 - auc: 0.9234 - val_loss: 0.0094 - val_tp: 0.0000e+00 - val_fp: 7.0000 - val_tn: 33903.0000 - val_fn: 65.0000 - val_accuracy: 0.9979 - val_precision: 0.0000e+00 - val_recall: 0.0000e+00 - val_auc: 0.6868\n"
     ]
    },
    {
     "name": "stdout",
     "output_type": "stream",
     "text": [
      "Epoch 21/60\n",
      "135897/135897 [==============================] - 2s 13us/sample - loss: 0.0055 - tp: 86.0000 - fp: 418.0000 - tn: 135139.0000 - fn: 254.0000 - accuracy: 0.9951 - precision: 0.1706 - recall: 0.2529 - auc: 0.9330 - val_loss: 0.0097 - val_tp: 0.0000e+00 - val_fp: 5.0000 - val_tn: 33905.0000 - val_fn: 65.0000 - val_accuracy: 0.9979 - val_precision: 0.0000e+00 - val_recall: 0.0000e+00 - val_auc: 0.6527\n",
      "Epoch 22/60\n",
      "135897/135897 [==============================] - 2s 11us/sample - loss: 0.0054 - tp: 88.0000 - fp: 405.0000 - tn: 135152.0000 - fn: 252.0000 - accuracy: 0.9952 - precision: 0.1785 - recall: 0.2588 - auc: 0.9375 - val_loss: 0.0102 - val_tp: 1.0000 - val_fp: 5.0000 - val_tn: 33905.0000 - val_fn: 64.0000 - val_accuracy: 0.9980 - val_precision: 0.1667 - val_recall: 0.0154 - val_auc: 0.6412\n",
      "Epoch 23/60\n",
      "135897/135897 [==============================] - 1s 11us/sample - loss: 0.0054 - tp: 89.0000 - fp: 466.0000 - tn: 135091.0000 - fn: 251.0000 - accuracy: 0.9947 - precision: 0.1604 - recall: 0.2618 - auc: 0.9349 - val_loss: 0.0101 - val_tp: 1.0000 - val_fp: 11.0000 - val_tn: 33899.0000 - val_fn: 64.0000 - val_accuracy: 0.9978 - val_precision: 0.0833 - val_recall: 0.0154 - val_auc: 0.6720\n",
      "Epoch 24/60\n",
      "135897/135897 [==============================] - 1s 11us/sample - loss: 0.0052 - tp: 105.0000 - fp: 517.0000 - tn: 135040.0000 - fn: 235.0000 - accuracy: 0.9945 - precision: 0.1688 - recall: 0.3088 - auc: 0.9427 - val_loss: 0.0103 - val_tp: 1.0000 - val_fp: 28.0000 - val_tn: 33882.0000 - val_fn: 64.0000 - val_accuracy: 0.9973 - val_precision: 0.0345 - val_recall: 0.0154 - val_auc: 0.6480\n",
      "Epoch 25/60\n",
      "135897/135897 [==============================] - 1s 11us/sample - loss: 0.0049 - tp: 119.0000 - fp: 559.0000 - tn: 134998.0000 - fn: 221.0000 - accuracy: 0.9943 - precision: 0.1755 - recall: 0.3500 - auc: 0.9441 - val_loss: 0.0112 - val_tp: 1.0000 - val_fp: 9.0000 - val_tn: 33901.0000 - val_fn: 64.0000 - val_accuracy: 0.9979 - val_precision: 0.1000 - val_recall: 0.0154 - val_auc: 0.6256\n",
      "Epoch 26/60\n",
      "135897/135897 [==============================] - 1s 11us/sample - loss: 0.0048 - tp: 137.0000 - fp: 533.0000 - tn: 135024.0000 - fn: 203.0000 - accuracy: 0.9946 - precision: 0.2045 - recall: 0.4029 - auc: 0.9492 - val_loss: 0.0110 - val_tp: 1.0000 - val_fp: 18.0000 - val_tn: 33892.0000 - val_fn: 64.0000 - val_accuracy: 0.9976 - val_precision: 0.0526 - val_recall: 0.0154 - val_auc: 0.6433\n",
      "Epoch 27/60\n",
      "135897/135897 [==============================] - 1s 11us/sample - loss: 0.0048 - tp: 133.0000 - fp: 592.0000 - tn: 134965.0000 - fn: 207.0000 - accuracy: 0.9941 - precision: 0.1834 - recall: 0.3912 - auc: 0.9500 - val_loss: 0.0121 - val_tp: 1.0000 - val_fp: 13.0000 - val_tn: 33897.0000 - val_fn: 64.0000 - val_accuracy: 0.9977 - val_precision: 0.0714 - val_recall: 0.0154 - val_auc: 0.6122\n",
      "Epoch 28/60\n",
      "135897/135897 [==============================] - 2s 12us/sample - loss: 0.0043 - tp: 143.0000 - fp: 556.0000 - tn: 135001.0000 - fn: 197.0000 - accuracy: 0.9945 - precision: 0.2046 - recall: 0.4206 - auc: 0.9604 - val_loss: 0.0124 - val_tp: 1.0000 - val_fp: 19.0000 - val_tn: 33891.0000 - val_fn: 64.0000 - val_accuracy: 0.9976 - val_precision: 0.0500 - val_recall: 0.0154 - val_auc: 0.6072\n",
      "Epoch 29/60\n",
      "135897/135897 [==============================] - 2s 12us/sample - loss: 0.0043 - tp: 157.0000 - fp: 532.0000 - tn: 135025.0000 - fn: 183.0000 - accuracy: 0.9947 - precision: 0.2279 - recall: 0.4618 - auc: 0.9533 - val_loss: 0.0125 - val_tp: 1.0000 - val_fp: 18.0000 - val_tn: 33892.0000 - val_fn: 64.0000 - val_accuracy: 0.9976 - val_precision: 0.0526 - val_recall: 0.0154 - val_auc: 0.6190\n",
      "Epoch 30/60\n",
      "135897/135897 [==============================] - 1s 11us/sample - loss: 0.0044 - tp: 166.0000 - fp: 579.0000 - tn: 134978.0000 - fn: 174.0000 - accuracy: 0.9945 - precision: 0.2228 - recall: 0.4882 - auc: 0.9487 - val_loss: 0.0129 - val_tp: 1.0000 - val_fp: 19.0000 - val_tn: 33891.0000 - val_fn: 64.0000 - val_accuracy: 0.9976 - val_precision: 0.0500 - val_recall: 0.0154 - val_auc: 0.6062\n",
      "Epoch 31/60\n",
      "135897/135897 [==============================] - 2s 11us/sample - loss: 0.0043 - tp: 169.0000 - fp: 545.0000 - tn: 135012.0000 - fn: 171.0000 - accuracy: 0.9947 - precision: 0.2367 - recall: 0.4971 - auc: 0.9513 - val_loss: 0.0132 - val_tp: 1.0000 - val_fp: 25.0000 - val_tn: 33885.0000 - val_fn: 64.0000 - val_accuracy: 0.9974 - val_precision: 0.0385 - val_recall: 0.0154 - val_auc: 0.5972\n",
      "Epoch 32/60\n",
      "135897/135897 [==============================] - 2s 11us/sample - loss: 0.0041 - tp: 177.0000 - fp: 592.0000 - tn: 134965.0000 - fn: 163.0000 - accuracy: 0.9944 - precision: 0.2302 - recall: 0.5206 - auc: 0.9607 - val_loss: 0.0133 - val_tp: 2.0000 - val_fp: 27.0000 - val_tn: 33883.0000 - val_fn: 63.0000 - val_accuracy: 0.9974 - val_precision: 0.0690 - val_recall: 0.0308 - val_auc: 0.6054\n",
      "Epoch 33/60\n",
      "135897/135897 [==============================] - 1s 11us/sample - loss: 0.0039 - tp: 187.0000 - fp: 570.0000 - tn: 134987.0000 - fn: 153.0000 - accuracy: 0.9947 - precision: 0.2470 - recall: 0.5500 - auc: 0.9606 - val_loss: 0.0142 - val_tp: 1.0000 - val_fp: 18.0000 - val_tn: 33892.0000 - val_fn: 64.0000 - val_accuracy: 0.9976 - val_precision: 0.0526 - val_recall: 0.0154 - val_auc: 0.5748\n",
      "Epoch 34/60\n",
      "135897/135897 [==============================] - 1s 11us/sample - loss: 0.0039 - tp: 187.0000 - fp: 601.0000 - tn: 134956.0000 - fn: 153.0000 - accuracy: 0.9945 - precision: 0.2373 - recall: 0.5500 - auc: 0.9640 - val_loss: 0.0145 - val_tp: 1.0000 - val_fp: 27.0000 - val_tn: 33883.0000 - val_fn: 64.0000 - val_accuracy: 0.9973 - val_precision: 0.0357 - val_recall: 0.0154 - val_auc: 0.5859\n",
      "Epoch 35/60\n",
      "135897/135897 [==============================] - 2s 11us/sample - loss: 0.0040 - tp: 188.0000 - fp: 680.0000 - tn: 134877.0000 - fn: 152.0000 - accuracy: 0.9939 - precision: 0.2166 - recall: 0.5529 - auc: 0.9607 - val_loss: 0.0148 - val_tp: 1.0000 - val_fp: 23.0000 - val_tn: 33887.0000 - val_fn: 64.0000 - val_accuracy: 0.9974 - val_precision: 0.0417 - val_recall: 0.0154 - val_auc: 0.5744\n",
      "Epoch 36/60\n",
      "135897/135897 [==============================] - 2s 11us/sample - loss: 0.0038 - tp: 200.0000 - fp: 641.0000 - tn: 134916.0000 - fn: 140.0000 - accuracy: 0.9943 - precision: 0.2378 - recall: 0.5882 - auc: 0.9659 - val_loss: 0.0158 - val_tp: 1.0000 - val_fp: 30.0000 - val_tn: 33880.0000 - val_fn: 64.0000 - val_accuracy: 0.9972 - val_precision: 0.0323 - val_recall: 0.0154 - val_auc: 0.5869\n",
      "Epoch 37/60\n",
      "135897/135897 [==============================] - 2s 11us/sample - loss: 0.0036 - tp: 203.0000 - fp: 554.0000 - tn: 135003.0000 - fn: 137.0000 - accuracy: 0.9949 - precision: 0.2682 - recall: 0.5971 - auc: 0.9680 - val_loss: 0.0159 - val_tp: 1.0000 - val_fp: 35.0000 - val_tn: 33875.0000 - val_fn: 64.0000 - val_accuracy: 0.9971 - val_precision: 0.0278 - val_recall: 0.0154 - val_auc: 0.5753\n",
      "Epoch 38/60\n",
      "135897/135897 [==============================] - 2s 12us/sample - loss: 0.0038 - tp: 198.0000 - fp: 670.0000 - tn: 134887.0000 - fn: 142.0000 - accuracy: 0.9940 - precision: 0.2281 - recall: 0.5824 - auc: 0.9613 - val_loss: 0.0159 - val_tp: 1.0000 - val_fp: 35.0000 - val_tn: 33875.0000 - val_fn: 64.0000 - val_accuracy: 0.9971 - val_precision: 0.0278 - val_recall: 0.0154 - val_auc: 0.5893\n",
      "Epoch 39/60\n",
      "135897/135897 [==============================] - 2s 12us/sample - loss: 0.0038 - tp: 217.0000 - fp: 786.0000 - tn: 134771.0000 - fn: 123.0000 - accuracy: 0.9933 - precision: 0.2164 - recall: 0.6382 - auc: 0.9659 - val_loss: 0.0160 - val_tp: 1.0000 - val_fp: 32.0000 - val_tn: 33878.0000 - val_fn: 64.0000 - val_accuracy: 0.9972 - val_precision: 0.0303 - val_recall: 0.0154 - val_auc: 0.5676\n",
      "Epoch 40/60\n",
      "135897/135897 [==============================] - 2s 11us/sample - loss: 0.0034 - tp: 219.0000 - fp: 586.0000 - tn: 134971.0000 - fn: 121.0000 - accuracy: 0.9948 - precision: 0.2720 - recall: 0.6441 - auc: 0.9723 - val_loss: 0.0171 - val_tp: 3.0000 - val_fp: 28.0000 - val_tn: 33882.0000 - val_fn: 62.0000 - val_accuracy: 0.9974 - val_precision: 0.0968 - val_recall: 0.0462 - val_auc: 0.5868\n",
      "Epoch 41/60\n"
     ]
    },
    {
     "name": "stdout",
     "output_type": "stream",
     "text": [
      "135897/135897 [==============================] - 1s 11us/sample - loss: 0.0033 - tp: 211.0000 - fp: 634.0000 - tn: 134923.0000 - fn: 129.0000 - accuracy: 0.9944 - precision: 0.2497 - recall: 0.6206 - auc: 0.9737 - val_loss: 0.0177 - val_tp: 1.0000 - val_fp: 20.0000 - val_tn: 33890.0000 - val_fn: 64.0000 - val_accuracy: 0.9975 - val_precision: 0.0476 - val_recall: 0.0154 - val_auc: 0.5524\n",
      "Epoch 42/60\n",
      "135897/135897 [==============================] - 1s 10us/sample - loss: 0.0032 - tp: 241.0000 - fp: 607.0000 - tn: 134950.0000 - fn: 99.0000 - accuracy: 0.9948 - precision: 0.2842 - recall: 0.7088 - auc: 0.9745 - val_loss: 0.0187 - val_tp: 1.0000 - val_fp: 19.0000 - val_tn: 33891.0000 - val_fn: 64.0000 - val_accuracy: 0.9976 - val_precision: 0.0500 - val_recall: 0.0154 - val_auc: 0.5536\n",
      "Epoch 43/60\n",
      "135897/135897 [==============================] - 1s 10us/sample - loss: 0.0033 - tp: 236.0000 - fp: 602.0000 - tn: 134955.0000 - fn: 104.0000 - accuracy: 0.9948 - precision: 0.2816 - recall: 0.6941 - auc: 0.9682 - val_loss: 0.0187 - val_tp: 2.0000 - val_fp: 24.0000 - val_tn: 33886.0000 - val_fn: 63.0000 - val_accuracy: 0.9974 - val_precision: 0.0769 - val_recall: 0.0308 - val_auc: 0.5480\n",
      "Epoch 44/60\n",
      "135897/135897 [==============================] - 1s 11us/sample - loss: 0.0033 - tp: 233.0000 - fp: 521.0000 - tn: 135036.0000 - fn: 107.0000 - accuracy: 0.9954 - precision: 0.3090 - recall: 0.6853 - auc: 0.9673 - val_loss: 0.0193 - val_tp: 2.0000 - val_fp: 26.0000 - val_tn: 33884.0000 - val_fn: 63.0000 - val_accuracy: 0.9974 - val_precision: 0.0714 - val_recall: 0.0308 - val_auc: 0.5399\n",
      "Epoch 45/60\n",
      "135897/135897 [==============================] - 1s 11us/sample - loss: 0.0032 - tp: 238.0000 - fp: 577.0000 - tn: 134980.0000 - fn: 102.0000 - accuracy: 0.9950 - precision: 0.2920 - recall: 0.7000 - auc: 0.9727 - val_loss: 0.0196 - val_tp: 1.0000 - val_fp: 26.0000 - val_tn: 33884.0000 - val_fn: 64.0000 - val_accuracy: 0.9974 - val_precision: 0.0370 - val_recall: 0.0154 - val_auc: 0.5487\n",
      "Epoch 46/60\n",
      "135897/135897 [==============================] - 2s 12us/sample - loss: 0.0032 - tp: 238.0000 - fp: 612.0000 - tn: 134945.0000 - fn: 102.0000 - accuracy: 0.9947 - precision: 0.2800 - recall: 0.7000 - auc: 0.9676 - val_loss: 0.0201 - val_tp: 1.0000 - val_fp: 19.0000 - val_tn: 33891.0000 - val_fn: 64.0000 - val_accuracy: 0.9976 - val_precision: 0.0500 - val_recall: 0.0154 - val_auc: 0.5231\n",
      "Epoch 47/60\n",
      "135897/135897 [==============================] - 1s 11us/sample - loss: 0.0031 - tp: 242.0000 - fp: 593.0000 - tn: 134964.0000 - fn: 98.0000 - accuracy: 0.9949 - precision: 0.2898 - recall: 0.7118 - auc: 0.9703 - val_loss: 0.0202 - val_tp: 1.0000 - val_fp: 24.0000 - val_tn: 33886.0000 - val_fn: 64.0000 - val_accuracy: 0.9974 - val_precision: 0.0400 - val_recall: 0.0154 - val_auc: 0.5326\n",
      "Epoch 48/60\n",
      "135897/135897 [==============================] - 2s 11us/sample - loss: 0.0033 - tp: 236.0000 - fp: 595.0000 - tn: 134962.0000 - fn: 104.0000 - accuracy: 0.9949 - precision: 0.2840 - recall: 0.6941 - auc: 0.9695 - val_loss: 0.0212 - val_tp: 1.0000 - val_fp: 21.0000 - val_tn: 33889.0000 - val_fn: 64.0000 - val_accuracy: 0.9975 - val_precision: 0.0455 - val_recall: 0.0154 - val_auc: 0.5356\n",
      "Epoch 49/60\n",
      "135897/135897 [==============================] - 2s 11us/sample - loss: 0.0033 - tp: 240.0000 - fp: 575.0000 - tn: 134982.0000 - fn: 100.0000 - accuracy: 0.9950 - precision: 0.2945 - recall: 0.7059 - auc: 0.9614 - val_loss: 0.0205 - val_tp: 1.0000 - val_fp: 23.0000 - val_tn: 33887.0000 - val_fn: 64.0000 - val_accuracy: 0.9974 - val_precision: 0.0417 - val_recall: 0.0154 - val_auc: 0.5269\n",
      "Epoch 50/60\n",
      "135897/135897 [==============================] - 1s 11us/sample - loss: 0.0029 - tp: 247.0000 - fp: 582.0000 - tn: 134975.0000 - fn: 93.0000 - accuracy: 0.9950 - precision: 0.2979 - recall: 0.7265 - auc: 0.9764 - val_loss: 0.0209 - val_tp: 1.0000 - val_fp: 25.0000 - val_tn: 33885.0000 - val_fn: 64.0000 - val_accuracy: 0.9974 - val_precision: 0.0385 - val_recall: 0.0154 - val_auc: 0.5341\n",
      "Epoch 51/60\n",
      "135897/135897 [==============================] - 1s 11us/sample - loss: 0.0029 - tp: 248.0000 - fp: 566.0000 - tn: 134991.0000 - fn: 92.0000 - accuracy: 0.9952 - precision: 0.3047 - recall: 0.7294 - auc: 0.9769 - val_loss: 0.0220 - val_tp: 1.0000 - val_fp: 21.0000 - val_tn: 33889.0000 - val_fn: 64.0000 - val_accuracy: 0.9975 - val_precision: 0.0455 - val_recall: 0.0154 - val_auc: 0.5285\n",
      "Epoch 52/60\n",
      "135897/135897 [==============================] - 1s 11us/sample - loss: 0.0031 - tp: 239.0000 - fp: 605.0000 - tn: 134952.0000 - fn: 101.0000 - accuracy: 0.9948 - precision: 0.2832 - recall: 0.7029 - auc: 0.9758 - val_loss: 0.0215 - val_tp: 2.0000 - val_fp: 36.0000 - val_tn: 33874.0000 - val_fn: 63.0000 - val_accuracy: 0.9971 - val_precision: 0.0526 - val_recall: 0.0308 - val_auc: 0.5430\n",
      "Epoch 53/60\n",
      "135897/135897 [==============================] - 2s 11us/sample - loss: 0.0029 - tp: 241.0000 - fp: 535.0000 - tn: 135022.0000 - fn: 99.0000 - accuracy: 0.9953 - precision: 0.3106 - recall: 0.7088 - auc: 0.9808 - val_loss: 0.0223 - val_tp: 1.0000 - val_fp: 25.0000 - val_tn: 33885.0000 - val_fn: 64.0000 - val_accuracy: 0.9974 - val_precision: 0.0385 - val_recall: 0.0154 - val_auc: 0.5420\n",
      "Epoch 54/60\n",
      "135897/135897 [==============================] - 2s 11us/sample - loss: 0.0030 - tp: 249.0000 - fp: 553.0000 - tn: 135004.0000 - fn: 91.0000 - accuracy: 0.9953 - precision: 0.3105 - recall: 0.7324 - auc: 0.9766 - val_loss: 0.0231 - val_tp: 1.0000 - val_fp: 28.0000 - val_tn: 33882.0000 - val_fn: 64.0000 - val_accuracy: 0.9973 - val_precision: 0.0345 - val_recall: 0.0154 - val_auc: 0.5284\n",
      "Epoch 55/60\n",
      "135897/135897 [==============================] - 1s 11us/sample - loss: 0.0030 - tp: 249.0000 - fp: 593.0000 - tn: 134964.0000 - fn: 91.0000 - accuracy: 0.9950 - precision: 0.2957 - recall: 0.7324 - auc: 0.9772 - val_loss: 0.0230 - val_tp: 1.0000 - val_fp: 29.0000 - val_tn: 33881.0000 - val_fn: 64.0000 - val_accuracy: 0.9973 - val_precision: 0.0333 - val_recall: 0.0154 - val_auc: 0.5258\n",
      "Epoch 56/60\n",
      "135897/135897 [==============================] - 1s 11us/sample - loss: 0.0030 - tp: 249.0000 - fp: 649.0000 - tn: 134908.0000 - fn: 91.0000 - accuracy: 0.9946 - precision: 0.2773 - recall: 0.7324 - auc: 0.9702 - val_loss: 0.0231 - val_tp: 1.0000 - val_fp: 45.0000 - val_tn: 33865.0000 - val_fn: 64.0000 - val_accuracy: 0.9968 - val_precision: 0.0217 - val_recall: 0.0154 - val_auc: 0.5201\n",
      "Epoch 57/60\n",
      "135897/135897 [==============================] - 2s 11us/sample - loss: 0.0030 - tp: 248.0000 - fp: 579.0000 - tn: 134978.0000 - fn: 92.0000 - accuracy: 0.9951 - precision: 0.2999 - recall: 0.7294 - auc: 0.9768 - val_loss: 0.0231 - val_tp: 1.0000 - val_fp: 27.0000 - val_tn: 33883.0000 - val_fn: 64.0000 - val_accuracy: 0.9973 - val_precision: 0.0357 - val_recall: 0.0154 - val_auc: 0.5165\n",
      "Epoch 58/60\n",
      "135897/135897 [==============================] - 2s 12us/sample - loss: 0.0030 - tp: 253.0000 - fp: 602.0000 - tn: 134955.0000 - fn: 87.0000 - accuracy: 0.9949 - precision: 0.2959 - recall: 0.7441 - auc: 0.9749 - val_loss: 0.0234 - val_tp: 1.0000 - val_fp: 22.0000 - val_tn: 33888.0000 - val_fn: 64.0000 - val_accuracy: 0.9975 - val_precision: 0.0435 - val_recall: 0.0154 - val_auc: 0.5216\n",
      "Epoch 59/60\n",
      "135897/135897 [==============================] - 2s 12us/sample - loss: 0.0029 - tp: 256.0000 - fp: 553.0000 - tn: 135004.0000 - fn: 84.0000 - accuracy: 0.9953 - precision: 0.3164 - recall: 0.7529 - auc: 0.9723 - val_loss: 0.0238 - val_tp: 1.0000 - val_fp: 56.0000 - val_tn: 33854.0000 - val_fn: 64.0000 - val_accuracy: 0.9965 - val_precision: 0.0175 - val_recall: 0.0154 - val_auc: 0.5348\n",
      "Epoch 60/60\n",
      "135897/135897 [==============================] - 1s 11us/sample - loss: 0.0031 - tp: 253.0000 - fp: 609.0000 - tn: 134948.0000 - fn: 87.0000 - accuracy: 0.9949 - precision: 0.2935 - recall: 0.7441 - auc: 0.9690 - val_loss: 0.0243 - val_tp: 1.0000 - val_fp: 13.0000 - val_tn: 33897.0000 - val_fn: 64.0000 - val_accuracy: 0.9977 - val_precision: 0.0714 - val_recall: 0.0154 - val_auc: 0.5233\n"
     ]
    },
    {
     "data": {
      "text/plain": [
       "<tensorflow.python.keras.callbacks.History at 0x17e71a250>"
      ]
     },
     "execution_count": 154,
     "metadata": {},
     "output_type": "execute_result"
    }
   ],
   "source": [
    "model_txt = get_model_txt()\n",
    "model_txt.fit(\n",
    "    x_txt_train, \n",
    "    y_train_47, \n",
    "    validation_data=(x_txt_val, y_val_47), \n",
    "    class_weight={0: 0.05, 1: 0.95}, \n",
    "    epochs=60,\n",
    "    batch_size=2048\n",
    ")"
   ]
  },
  {
   "cell_type": "code",
   "execution_count": 143,
   "metadata": {},
   "outputs": [],
   "source": [
    "def get_model_img_top_50():\n",
    "    inp_img = Input(shape=(50,))\n",
    "    x = Dense(64, activation='relu')(inp_img)\n",
    "    x = Dropout(0.5)(x)\n",
    "    x = Dense(64)(x)\n",
    "    x = Dropout(0.5)(x)\n",
    "    out = Dense(1, activation='sigmoid')(x)\n",
    "\n",
    "    model = Model(inputs = inp_img, outputs=out)\n",
    "    model.compile(optimizer='adam', loss='binary_crossentropy', metrics=METRICS)\n",
    "    return model"
   ]
  },
  {
   "cell_type": "code",
   "execution_count": 152,
   "metadata": {},
   "outputs": [
    {
     "name": "stdout",
     "output_type": "stream",
     "text": [
      "Train on 135897 samples, validate on 33975 samples\n",
      "Epoch 1/20\n",
      "135897/135897 [==============================] - 4s 27us/sample - loss: 0.0162 - tp: 9.0000 - fp: 5211.0000 - tn: 130346.0000 - fn: 331.0000 - accuracy: 0.9592 - precision: 0.0017 - recall: 0.0265 - auc: 0.4956 - val_loss: 0.0086 - val_tp: 0.0000e+00 - val_fp: 0.0000e+00 - val_tn: 33910.0000 - val_fn: 65.0000 - val_accuracy: 0.9981 - val_precision: 0.0000e+00 - val_recall: 0.0000e+00 - val_auc: 0.5373\n",
      "Epoch 2/20\n",
      "135897/135897 [==============================] - 1s 7us/sample - loss: 0.0121 - tp: 0.0000e+00 - fp: 474.0000 - tn: 135083.0000 - fn: 340.0000 - accuracy: 0.9940 - precision: 0.0000e+00 - recall: 0.0000e+00 - auc: 0.5442 - val_loss: 0.0084 - val_tp: 0.0000e+00 - val_fp: 0.0000e+00 - val_tn: 33910.0000 - val_fn: 65.0000 - val_accuracy: 0.9981 - val_precision: 0.0000e+00 - val_recall: 0.0000e+00 - val_auc: 0.5504\n",
      "Epoch 3/20\n",
      "135897/135897 [==============================] - 1s 7us/sample - loss: 0.0116 - tp: 1.0000 - fp: 265.0000 - tn: 135292.0000 - fn: 339.0000 - accuracy: 0.9956 - precision: 0.0038 - recall: 0.0029 - auc: 0.5628 - val_loss: 0.0083 - val_tp: 0.0000e+00 - val_fp: 0.0000e+00 - val_tn: 33910.0000 - val_fn: 65.0000 - val_accuracy: 0.9981 - val_precision: 0.0000e+00 - val_recall: 0.0000e+00 - val_auc: 0.5544\n",
      "Epoch 4/20\n",
      "135897/135897 [==============================] - 1s 7us/sample - loss: 0.0113 - tp: 0.0000e+00 - fp: 160.0000 - tn: 135397.0000 - fn: 340.0000 - accuracy: 0.9963 - precision: 0.0000e+00 - recall: 0.0000e+00 - auc: 0.5637 - val_loss: 0.0083 - val_tp: 0.0000e+00 - val_fp: 0.0000e+00 - val_tn: 33910.0000 - val_fn: 65.0000 - val_accuracy: 0.9981 - val_precision: 0.0000e+00 - val_recall: 0.0000e+00 - val_auc: 0.5609\n",
      "Epoch 5/20\n",
      "135897/135897 [==============================] - 1s 7us/sample - loss: 0.0110 - tp: 0.0000e+00 - fp: 64.0000 - tn: 135493.0000 - fn: 340.0000 - accuracy: 0.9970 - precision: 0.0000e+00 - recall: 0.0000e+00 - auc: 0.5736 - val_loss: 0.0082 - val_tp: 0.0000e+00 - val_fp: 0.0000e+00 - val_tn: 33910.0000 - val_fn: 65.0000 - val_accuracy: 0.9981 - val_precision: 0.0000e+00 - val_recall: 0.0000e+00 - val_auc: 0.5612\n",
      "Epoch 6/20\n",
      "135897/135897 [==============================] - 1s 7us/sample - loss: 0.0106 - tp: 1.0000 - fp: 47.0000 - tn: 135510.0000 - fn: 339.0000 - accuracy: 0.9972 - precision: 0.0208 - recall: 0.0029 - auc: 0.5931 - val_loss: 0.0082 - val_tp: 0.0000e+00 - val_fp: 0.0000e+00 - val_tn: 33910.0000 - val_fn: 65.0000 - val_accuracy: 0.9981 - val_precision: 0.0000e+00 - val_recall: 0.0000e+00 - val_auc: 0.5734\n",
      "Epoch 7/20\n",
      "135897/135897 [==============================] - 1s 8us/sample - loss: 0.0107 - tp: 0.0000e+00 - fp: 28.0000 - tn: 135529.0000 - fn: 340.0000 - accuracy: 0.9973 - precision: 0.0000e+00 - recall: 0.0000e+00 - auc: 0.5708 - val_loss: 0.0081 - val_tp: 0.0000e+00 - val_fp: 0.0000e+00 - val_tn: 33910.0000 - val_fn: 65.0000 - val_accuracy: 0.9981 - val_precision: 0.0000e+00 - val_recall: 0.0000e+00 - val_auc: 0.5797\n",
      "Epoch 8/20\n",
      "135897/135897 [==============================] - 1s 8us/sample - loss: 0.0102 - tp: 1.0000 - fp: 16.0000 - tn: 135541.0000 - fn: 339.0000 - accuracy: 0.9974 - precision: 0.0588 - recall: 0.0029 - auc: 0.6239 - val_loss: 0.0081 - val_tp: 0.0000e+00 - val_fp: 0.0000e+00 - val_tn: 33910.0000 - val_fn: 65.0000 - val_accuracy: 0.9981 - val_precision: 0.0000e+00 - val_recall: 0.0000e+00 - val_auc: 0.5857\n",
      "Epoch 9/20\n",
      "135897/135897 [==============================] - 1s 7us/sample - loss: 0.0102 - tp: 0.0000e+00 - fp: 18.0000 - tn: 135539.0000 - fn: 340.0000 - accuracy: 0.9974 - precision: 0.0000e+00 - recall: 0.0000e+00 - auc: 0.6151 - val_loss: 0.0081 - val_tp: 0.0000e+00 - val_fp: 0.0000e+00 - val_tn: 33910.0000 - val_fn: 65.0000 - val_accuracy: 0.9981 - val_precision: 0.0000e+00 - val_recall: 0.0000e+00 - val_auc: 0.5888\n",
      "Epoch 10/20\n",
      "135897/135897 [==============================] - 1s 7us/sample - loss: 0.0101 - tp: 0.0000e+00 - fp: 8.0000 - tn: 135549.0000 - fn: 340.0000 - accuracy: 0.9974 - precision: 0.0000e+00 - recall: 0.0000e+00 - auc: 0.6161 - val_loss: 0.0081 - val_tp: 0.0000e+00 - val_fp: 0.0000e+00 - val_tn: 33910.0000 - val_fn: 65.0000 - val_accuracy: 0.9981 - val_precision: 0.0000e+00 - val_recall: 0.0000e+00 - val_auc: 0.5860\n",
      "Epoch 11/20\n",
      "135897/135897 [==============================] - 1s 8us/sample - loss: 0.0100 - tp: 0.0000e+00 - fp: 5.0000 - tn: 135552.0000 - fn: 340.0000 - accuracy: 0.9975 - precision: 0.0000e+00 - recall: 0.0000e+00 - auc: 0.6397 - val_loss: 0.0081 - val_tp: 0.0000e+00 - val_fp: 0.0000e+00 - val_tn: 33910.0000 - val_fn: 65.0000 - val_accuracy: 0.9981 - val_precision: 0.0000e+00 - val_recall: 0.0000e+00 - val_auc: 0.5823\n",
      "Epoch 12/20\n",
      "135897/135897 [==============================] - 1s 8us/sample - loss: 0.0101 - tp: 0.0000e+00 - fp: 5.0000 - tn: 135552.0000 - fn: 340.0000 - accuracy: 0.9975 - precision: 0.0000e+00 - recall: 0.0000e+00 - auc: 0.6157 - val_loss: 0.0082 - val_tp: 0.0000e+00 - val_fp: 0.0000e+00 - val_tn: 33910.0000 - val_fn: 65.0000 - val_accuracy: 0.9981 - val_precision: 0.0000e+00 - val_recall: 0.0000e+00 - val_auc: 0.5759\n",
      "Epoch 13/20\n",
      "135897/135897 [==============================] - 1s 8us/sample - loss: 0.0098 - tp: 0.0000e+00 - fp: 2.0000 - tn: 135555.0000 - fn: 340.0000 - accuracy: 0.9975 - precision: 0.0000e+00 - recall: 0.0000e+00 - auc: 0.6390 - val_loss: 0.0081 - val_tp: 0.0000e+00 - val_fp: 0.0000e+00 - val_tn: 33910.0000 - val_fn: 65.0000 - val_accuracy: 0.9981 - val_precision: 0.0000e+00 - val_recall: 0.0000e+00 - val_auc: 0.5805\n",
      "Epoch 14/20\n",
      "135897/135897 [==============================] - 1s 8us/sample - loss: 0.0097 - tp: 0.0000e+00 - fp: 0.0000e+00 - tn: 135557.0000 - fn: 340.0000 - accuracy: 0.9975 - precision: 0.0000e+00 - recall: 0.0000e+00 - auc: 0.6529 - val_loss: 0.0082 - val_tp: 0.0000e+00 - val_fp: 0.0000e+00 - val_tn: 33910.0000 - val_fn: 65.0000 - val_accuracy: 0.9981 - val_precision: 0.0000e+00 - val_recall: 0.0000e+00 - val_auc: 0.5821\n",
      "Epoch 15/20\n",
      "135897/135897 [==============================] - 1s 8us/sample - loss: 0.0095 - tp: 0.0000e+00 - fp: 0.0000e+00 - tn: 135557.0000 - fn: 340.0000 - accuracy: 0.9975 - precision: 0.0000e+00 - recall: 0.0000e+00 - auc: 0.6712 - val_loss: 0.0081 - val_tp: 0.0000e+00 - val_fp: 0.0000e+00 - val_tn: 33910.0000 - val_fn: 65.0000 - val_accuracy: 0.9981 - val_precision: 0.0000e+00 - val_recall: 0.0000e+00 - val_auc: 0.5825\n",
      "Epoch 16/20\n",
      "135897/135897 [==============================] - 1s 9us/sample - loss: 0.0095 - tp: 0.0000e+00 - fp: 1.0000 - tn: 135556.0000 - fn: 340.0000 - accuracy: 0.9975 - precision: 0.0000e+00 - recall: 0.0000e+00 - auc: 0.6624 - val_loss: 0.0081 - val_tp: 0.0000e+00 - val_fp: 0.0000e+00 - val_tn: 33910.0000 - val_fn: 65.0000 - val_accuracy: 0.9981 - val_precision: 0.0000e+00 - val_recall: 0.0000e+00 - val_auc: 0.5838\n",
      "Epoch 17/20\n",
      "135897/135897 [==============================] - 1s 8us/sample - loss: 0.0095 - tp: 0.0000e+00 - fp: 1.0000 - tn: 135556.0000 - fn: 340.0000 - accuracy: 0.9975 - precision: 0.0000e+00 - recall: 0.0000e+00 - auc: 0.6591 - val_loss: 0.0081 - val_tp: 0.0000e+00 - val_fp: 0.0000e+00 - val_tn: 33910.0000 - val_fn: 65.0000 - val_accuracy: 0.9981 - val_precision: 0.0000e+00 - val_recall: 0.0000e+00 - val_auc: 0.5871\n",
      "Epoch 18/20\n",
      "135897/135897 [==============================] - 1s 6us/sample - loss: 0.0095 - tp: 0.0000e+00 - fp: 0.0000e+00 - tn: 135557.0000 - fn: 340.0000 - accuracy: 0.9975 - precision: 0.0000e+00 - recall: 0.0000e+00 - auc: 0.6740 - val_loss: 0.0081 - val_tp: 0.0000e+00 - val_fp: 0.0000e+00 - val_tn: 33910.0000 - val_fn: 65.0000 - val_accuracy: 0.9981 - val_precision: 0.0000e+00 - val_recall: 0.0000e+00 - val_auc: 0.5828\n",
      "Epoch 19/20\n",
      "135897/135897 [==============================] - 1s 6us/sample - loss: 0.0093 - tp: 0.0000e+00 - fp: 0.0000e+00 - tn: 135557.0000 - fn: 340.0000 - accuracy: 0.9975 - precision: 0.0000e+00 - recall: 0.0000e+00 - auc: 0.6955 - val_loss: 0.0081 - val_tp: 0.0000e+00 - val_fp: 0.0000e+00 - val_tn: 33910.0000 - val_fn: 65.0000 - val_accuracy: 0.9981 - val_precision: 0.0000e+00 - val_recall: 0.0000e+00 - val_auc: 0.5879\n",
      "Epoch 20/20\n"
     ]
    },
    {
     "name": "stdout",
     "output_type": "stream",
     "text": [
      "135897/135897 [==============================] - 1s 6us/sample - loss: 0.0095 - tp: 0.0000e+00 - fp: 1.0000 - tn: 135556.0000 - fn: 340.0000 - accuracy: 0.9975 - precision: 0.0000e+00 - recall: 0.0000e+00 - auc: 0.6701 - val_loss: 0.0081 - val_tp: 0.0000e+00 - val_fp: 0.0000e+00 - val_tn: 33910.0000 - val_fn: 65.0000 - val_accuracy: 0.9981 - val_precision: 0.0000e+00 - val_recall: 0.0000e+00 - val_auc: 0.5876\n"
     ]
    },
    {
     "data": {
      "text/plain": [
       "<tensorflow.python.keras.callbacks.History at 0x17e482390>"
      ]
     },
     "execution_count": 152,
     "metadata": {},
     "output_type": "execute_result"
    }
   ],
   "source": [
    "model_img_top_50 = get_model_img_top_50()\n",
    "model_img_top_50.fit(\n",
    "    x_img_train_top_50, \n",
    "    y_train_47, \n",
    "    validation_data=(x_img_val_top_50, y_val_47), \n",
    "    class_weight={0: 0.05, 1: 0.95}, \n",
    "    epochs=20,\n",
    "    batch_size=2048\n",
    ")"
   ]
  },
  {
   "cell_type": "code",
   "execution_count": 31,
   "metadata": {},
   "outputs": [],
   "source": [
    "METRICS = [\n",
    "      tf.keras.metrics.TruePositives(name='tp'),\n",
    "      tf.keras.metrics.FalsePositives(name='fp'),\n",
    "      tf.keras.metrics.TrueNegatives(name='tn'),\n",
    "      tf.keras.metrics.FalseNegatives(name='fn'), \n",
    "      tf.keras.metrics.BinaryAccuracy(name='accuracy'),\n",
    "      tf.keras.metrics.Precision(name='precision'),\n",
    "      tf.keras.metrics.Recall(name='recall'),\n",
    "      tf.keras.metrics.AUC(name='auc'),\n",
    "]"
   ]
  },
  {
   "cell_type": "code",
   "execution_count": 45,
   "metadata": {},
   "outputs": [],
   "source": [
    "METRICS_NAMES = [\n",
    "    'tp',\n",
    "    'fp',\n",
    "    'tn',\n",
    "    'fn',\n",
    "    'accuracy',\n",
    "    'precision',\n",
    "    'recall',\n",
    "    'auc'\n",
    "]"
   ]
  },
  {
   "cell_type": "code",
   "execution_count": 51,
   "metadata": {},
   "outputs": [],
   "source": [
    "def get_model_class_47():\n",
    "    inp_img = Input(shape=(1024,))\n",
    "    x_img = Dense(512, activation='relu')(inp_img)\n",
    "    x_img = Dropout(0.5)(x_img)\n",
    "    \n",
    "    inp_txt = Input(shape=(300,))\n",
    "    x_txt = Dense(256, activation='relu')(inp_txt)\n",
    "    x_txt = Dropout(0.5)(x_txt)\n",
    "    \n",
    "    x = concatenate([x_img, x_txt])\n",
    "    x = Dense(64)(x)\n",
    "    x = Dropout(0.5)(x)\n",
    "    out = Dense(1, activation='sigmoid')(x)\n",
    "\n",
    "    model = Model(inputs=[inp_img, inp_txt], outputs=out)\n",
    "    model.compile(optimizer='adam', loss='binary_crossentropy', metrics=METRICS)\n",
    "    return model"
   ]
  },
  {
   "cell_type": "code",
   "execution_count": 223,
   "metadata": {},
   "outputs": [
    {
     "name": "stdout",
     "output_type": "stream",
     "text": [
      "Train on 135897 samples, validate on 33975 samples\n",
      "Epoch 1/30\n",
      "135897/135897 [==============================] - 19s 143us/sample - loss: 0.0823 - tp: 6.0000 - fp: 1880.0000 - tn: 133677.0000 - fn: 334.0000 - accuracy: 0.9837 - precision: 0.0032 - recall: 0.0176 - auc: 0.5044 - val_loss: 0.0425 - val_tp: 0.0000e+00 - val_fp: 0.0000e+00 - val_tn: 33910.0000 - val_fn: 65.0000 - val_accuracy: 0.9981 - val_precision: 0.0000e+00 - val_recall: 0.0000e+00 - val_auc: 0.5000\n",
      "Epoch 2/30\n",
      "135897/135897 [==============================] - 8s 57us/sample - loss: 0.0407 - tp: 0.0000e+00 - fp: 4.0000 - tn: 135553.0000 - fn: 340.0000 - accuracy: 0.9975 - precision: 0.0000e+00 - recall: 0.0000e+00 - auc: 0.5004 - val_loss: 0.0245 - val_tp: 0.0000e+00 - val_fp: 0.0000e+00 - val_tn: 33910.0000 - val_fn: 65.0000 - val_accuracy: 0.9981 - val_precision: 0.0000e+00 - val_recall: 0.0000e+00 - val_auc: 0.5263\n",
      "Epoch 3/30\n",
      "135897/135897 [==============================] - 8s 55us/sample - loss: 0.0249 - tp: 0.0000e+00 - fp: 45.0000 - tn: 135512.0000 - fn: 340.0000 - accuracy: 0.9972 - precision: 0.0000e+00 - recall: 0.0000e+00 - auc: 0.5746 - val_loss: 0.0187 - val_tp: 0.0000e+00 - val_fp: 0.0000e+00 - val_tn: 33910.0000 - val_fn: 65.0000 - val_accuracy: 0.9981 - val_precision: 0.0000e+00 - val_recall: 0.0000e+00 - val_auc: 0.5394\n",
      "Epoch 4/30\n",
      "135897/135897 [==============================] - 10s 77us/sample - loss: 0.0201 - tp: 2.0000 - fp: 31.0000 - tn: 135526.0000 - fn: 338.0000 - accuracy: 0.9973 - precision: 0.0606 - recall: 0.0059 - auc: 0.6566 - val_loss: 0.0171 - val_tp: 0.0000e+00 - val_fp: 0.0000e+00 - val_tn: 33910.0000 - val_fn: 65.0000 - val_accuracy: 0.9981 - val_precision: 0.0000e+00 - val_recall: 0.0000e+00 - val_auc: 0.5229\n",
      "Epoch 5/30\n",
      "135897/135897 [==============================] - 9s 67us/sample - loss: 0.0182 - tp: 4.0000 - fp: 18.0000 - tn: 135539.0000 - fn: 336.0000 - accuracy: 0.9974 - precision: 0.1818 - recall: 0.0118 - auc: 0.6713 - val_loss: 0.0164 - val_tp: 0.0000e+00 - val_fp: 0.0000e+00 - val_tn: 33910.0000 - val_fn: 65.0000 - val_accuracy: 0.9981 - val_precision: 0.0000e+00 - val_recall: 0.0000e+00 - val_auc: 0.5395\n",
      "Epoch 6/30\n",
      "135897/135897 [==============================] - 8s 61us/sample - loss: 0.0165 - tp: 1.0000 - fp: 17.0000 - tn: 135540.0000 - fn: 339.0000 - accuracy: 0.9974 - precision: 0.0556 - recall: 0.0029 - auc: 0.7246 - val_loss: 0.0164 - val_tp: 0.0000e+00 - val_fp: 0.0000e+00 - val_tn: 33910.0000 - val_fn: 65.0000 - val_accuracy: 0.9981 - val_precision: 0.0000e+00 - val_recall: 0.0000e+00 - val_auc: 0.5396\n",
      "Epoch 7/30\n",
      "135897/135897 [==============================] - 9s 65us/sample - loss: 0.0163 - tp: 2.0000 - fp: 19.0000 - tn: 135538.0000 - fn: 338.0000 - accuracy: 0.9974 - precision: 0.0952 - recall: 0.0059 - auc: 0.7318 - val_loss: 0.0158 - val_tp: 0.0000e+00 - val_fp: 0.0000e+00 - val_tn: 33910.0000 - val_fn: 65.0000 - val_accuracy: 0.9981 - val_precision: 0.0000e+00 - val_recall: 0.0000e+00 - val_auc: 0.5432\n",
      "Epoch 8/30\n",
      "135897/135897 [==============================] - 10s 73us/sample - loss: 0.0147 - tp: 5.0000 - fp: 14.0000 - tn: 135543.0000 - fn: 335.0000 - accuracy: 0.9974 - precision: 0.2632 - recall: 0.0147 - auc: 0.7843 - val_loss: 0.0156 - val_tp: 0.0000e+00 - val_fp: 0.0000e+00 - val_tn: 33910.0000 - val_fn: 65.0000 - val_accuracy: 0.9981 - val_precision: 0.0000e+00 - val_recall: 0.0000e+00 - val_auc: 0.5593\n",
      "Epoch 9/30\n",
      "135897/135897 [==============================] - 9s 69us/sample - loss: 0.0140 - tp: 5.0000 - fp: 13.0000 - tn: 135544.0000 - fn: 335.0000 - accuracy: 0.9974 - precision: 0.2778 - recall: 0.0147 - auc: 0.8109 - val_loss: 0.0161 - val_tp: 0.0000e+00 - val_fp: 0.0000e+00 - val_tn: 33910.0000 - val_fn: 65.0000 - val_accuracy: 0.9981 - val_precision: 0.0000e+00 - val_recall: 0.0000e+00 - val_auc: 0.5369\n",
      "Epoch 10/30\n",
      "135897/135897 [==============================] - 10s 75us/sample - loss: 0.0132 - tp: 7.0000 - fp: 12.0000 - tn: 135545.0000 - fn: 333.0000 - accuracy: 0.9975 - precision: 0.3684 - recall: 0.0206 - auc: 0.8286 - val_loss: 0.0162 - val_tp: 0.0000e+00 - val_fp: 0.0000e+00 - val_tn: 33910.0000 - val_fn: 65.0000 - val_accuracy: 0.9981 - val_precision: 0.0000e+00 - val_recall: 0.0000e+00 - val_auc: 0.5447\n",
      "Epoch 11/30\n",
      "135897/135897 [==============================] - 10s 77us/sample - loss: 0.0123 - tp: 17.0000 - fp: 15.0000 - tn: 135542.0000 - fn: 323.0000 - accuracy: 0.9975 - precision: 0.5312 - recall: 0.0500 - auc: 0.8523 - val_loss: 0.0159 - val_tp: 0.0000e+00 - val_fp: 0.0000e+00 - val_tn: 33910.0000 - val_fn: 65.0000 - val_accuracy: 0.9981 - val_precision: 0.0000e+00 - val_recall: 0.0000e+00 - val_auc: 0.5495\n",
      "Epoch 12/30\n",
      "135897/135897 [==============================] - 12s 88us/sample - loss: 0.0117 - tp: 27.0000 - fp: 20.0000 - tn: 135537.0000 - fn: 313.0000 - accuracy: 0.9975 - precision: 0.5745 - recall: 0.0794 - auc: 0.8649 - val_loss: 0.0170 - val_tp: 0.0000e+00 - val_fp: 0.0000e+00 - val_tn: 33910.0000 - val_fn: 65.0000 - val_accuracy: 0.9981 - val_precision: 0.0000e+00 - val_recall: 0.0000e+00 - val_auc: 0.5398\n",
      "Epoch 13/30\n",
      "135897/135897 [==============================] - 10s 74us/sample - loss: 0.0116 - tp: 27.0000 - fp: 19.0000 - tn: 135538.0000 - fn: 313.0000 - accuracy: 0.9976 - precision: 0.5870 - recall: 0.0794 - auc: 0.8727 - val_loss: 0.0165 - val_tp: 0.0000e+00 - val_fp: 0.0000e+00 - val_tn: 33910.0000 - val_fn: 65.0000 - val_accuracy: 0.9981 - val_precision: 0.0000e+00 - val_recall: 0.0000e+00 - val_auc: 0.5593\n",
      "Epoch 14/30\n",
      "135897/135897 [==============================] - 9s 69us/sample - loss: 0.0103 - tp: 38.0000 - fp: 8.0000 - tn: 135549.0000 - fn: 302.0000 - accuracy: 0.9977 - precision: 0.8261 - recall: 0.1118 - auc: 0.8974 - val_loss: 0.0169 - val_tp: 0.0000e+00 - val_fp: 0.0000e+00 - val_tn: 33910.0000 - val_fn: 65.0000 - val_accuracy: 0.9981 - val_precision: 0.0000e+00 - val_recall: 0.0000e+00 - val_auc: 0.5441\n",
      "Epoch 15/30\n",
      "135897/135897 [==============================] - 10s 70us/sample - loss: 0.0096 - tp: 62.0000 - fp: 17.0000 - tn: 135540.0000 - fn: 278.0000 - accuracy: 0.9978 - precision: 0.7848 - recall: 0.1824 - auc: 0.9129 - val_loss: 0.0178 - val_tp: 0.0000e+00 - val_fp: 0.0000e+00 - val_tn: 33910.0000 - val_fn: 65.0000 - val_accuracy: 0.9981 - val_precision: 0.0000e+00 - val_recall: 0.0000e+00 - val_auc: 0.5389\n",
      "Epoch 16/30\n",
      "135897/135897 [==============================] - 11s 79us/sample - loss: 0.0094 - tp: 60.0000 - fp: 21.0000 - tn: 135536.0000 - fn: 280.0000 - accuracy: 0.9978 - precision: 0.7407 - recall: 0.1765 - auc: 0.9218 - val_loss: 0.0179 - val_tp: 1.0000 - val_fp: 0.0000e+00 - val_tn: 33910.0000 - val_fn: 64.0000 - val_accuracy: 0.9981 - val_precision: 1.0000 - val_recall: 0.0154 - val_auc: 0.5465\n",
      "Epoch 17/30\n",
      "135897/135897 [==============================] - 11s 82us/sample - loss: 0.0082 - tp: 82.0000 - fp: 18.0000 - tn: 135539.0000 - fn: 258.0000 - accuracy: 0.9980 - precision: 0.8200 - recall: 0.2412 - auc: 0.9381 - val_loss: 0.0182 - val_tp: 1.0000 - val_fp: 1.0000 - val_tn: 33909.0000 - val_fn: 64.0000 - val_accuracy: 0.9981 - val_precision: 0.5000 - val_recall: 0.0154 - val_auc: 0.5390\n",
      "Epoch 18/30\n",
      "135897/135897 [==============================] - 11s 79us/sample - loss: 0.0077 - tp: 113.0000 - fp: 26.0000 - tn: 135531.0000 - fn: 227.0000 - accuracy: 0.9981 - precision: 0.8129 - recall: 0.3324 - auc: 0.9447 - val_loss: 0.0195 - val_tp: 1.0000 - val_fp: 0.0000e+00 - val_tn: 33910.0000 - val_fn: 64.0000 - val_accuracy: 0.9981 - val_precision: 1.0000 - val_recall: 0.0154 - val_auc: 0.5337\n",
      "Epoch 19/30\n",
      "135897/135897 [==============================] - 9s 66us/sample - loss: 0.0077 - tp: 105.0000 - fp: 28.0000 - tn: 135529.0000 - fn: 235.0000 - accuracy: 0.9981 - precision: 0.7895 - recall: 0.3088 - auc: 0.9396 - val_loss: 0.0199 - val_tp: 1.0000 - val_fp: 0.0000e+00 - val_tn: 33910.0000 - val_fn: 64.0000 - val_accuracy: 0.9981 - val_precision: 1.0000 - val_recall: 0.0154 - val_auc: 0.5346\n",
      "Epoch 20/30\n",
      "135897/135897 [==============================] - 10s 72us/sample - loss: 0.0068 - tp: 126.0000 - fp: 22.0000 - tn: 135535.0000 - fn: 214.0000 - accuracy: 0.9983 - precision: 0.8514 - recall: 0.3706 - auc: 0.9575 - val_loss: 0.0202 - val_tp: 1.0000 - val_fp: 0.0000e+00 - val_tn: 33910.0000 - val_fn: 64.0000 - val_accuracy: 0.9981 - val_precision: 1.0000 - val_recall: 0.0154 - val_auc: 0.5332\n"
     ]
    },
    {
     "name": "stdout",
     "output_type": "stream",
     "text": [
      "Epoch 21/30\n",
      "135897/135897 [==============================] - 9s 68us/sample - loss: 0.0059 - tp: 149.0000 - fp: 23.0000 - tn: 135534.0000 - fn: 191.0000 - accuracy: 0.9984 - precision: 0.8663 - recall: 0.4382 - auc: 0.9568 - val_loss: 0.0205 - val_tp: 1.0000 - val_fp: 1.0000 - val_tn: 33909.0000 - val_fn: 64.0000 - val_accuracy: 0.9981 - val_precision: 0.5000 - val_recall: 0.0154 - val_auc: 0.5416\n",
      "Epoch 22/30\n",
      "135897/135897 [==============================] - 9s 67us/sample - loss: 0.0061 - tp: 143.0000 - fp: 36.0000 - tn: 135521.0000 - fn: 197.0000 - accuracy: 0.9983 - precision: 0.7989 - recall: 0.4206 - auc: 0.9537 - val_loss: 0.0216 - val_tp: 1.0000 - val_fp: 1.0000 - val_tn: 33909.0000 - val_fn: 64.0000 - val_accuracy: 0.9981 - val_precision: 0.5000 - val_recall: 0.0154 - val_auc: 0.5267\n",
      "Epoch 23/30\n",
      "135897/135897 [==============================] - 9s 66us/sample - loss: 0.0054 - tp: 170.0000 - fp: 23.0000 - tn: 135534.0000 - fn: 170.0000 - accuracy: 0.9986 - precision: 0.8808 - recall: 0.5000 - auc: 0.9663 - val_loss: 0.0221 - val_tp: 1.0000 - val_fp: 3.0000 - val_tn: 33907.0000 - val_fn: 64.0000 - val_accuracy: 0.9980 - val_precision: 0.2500 - val_recall: 0.0154 - val_auc: 0.5345\n",
      "Epoch 24/30\n",
      "135897/135897 [==============================] - 9s 65us/sample - loss: 0.0049 - tp: 188.0000 - fp: 29.0000 - tn: 135528.0000 - fn: 152.0000 - accuracy: 0.9987 - precision: 0.8664 - recall: 0.5529 - auc: 0.9713 - val_loss: 0.0229 - val_tp: 1.0000 - val_fp: 2.0000 - val_tn: 33908.0000 - val_fn: 64.0000 - val_accuracy: 0.9981 - val_precision: 0.3333 - val_recall: 0.0154 - val_auc: 0.5350\n",
      "Epoch 25/30\n",
      "135897/135897 [==============================] - 10s 71us/sample - loss: 0.0049 - tp: 191.0000 - fp: 29.0000 - tn: 135528.0000 - fn: 149.0000 - accuracy: 0.9987 - precision: 0.8682 - recall: 0.5618 - auc: 0.9685 - val_loss: 0.0236 - val_tp: 1.0000 - val_fp: 1.0000 - val_tn: 33909.0000 - val_fn: 64.0000 - val_accuracy: 0.9981 - val_precision: 0.5000 - val_recall: 0.0154 - val_auc: 0.5359\n",
      "Epoch 26/30\n",
      "135897/135897 [==============================] - 9s 64us/sample - loss: 0.0043 - tp: 210.0000 - fp: 24.0000 - tn: 135533.0000 - fn: 130.0000 - accuracy: 0.9989 - precision: 0.8974 - recall: 0.6176 - auc: 0.9691 - val_loss: 0.0254 - val_tp: 1.0000 - val_fp: 3.0000 - val_tn: 33907.0000 - val_fn: 64.0000 - val_accuracy: 0.9980 - val_precision: 0.2500 - val_recall: 0.0154 - val_auc: 0.5286\n",
      "Epoch 27/30\n",
      "135897/135897 [==============================] - 10s 71us/sample - loss: 0.0045 - tp: 210.0000 - fp: 41.0000 - tn: 135516.0000 - fn: 130.0000 - accuracy: 0.9987 - precision: 0.8367 - recall: 0.6176 - auc: 0.9718 - val_loss: 0.0249 - val_tp: 1.0000 - val_fp: 2.0000 - val_tn: 33908.0000 - val_fn: 64.0000 - val_accuracy: 0.9981 - val_precision: 0.3333 - val_recall: 0.0154 - val_auc: 0.5281\n",
      "Epoch 28/30\n",
      "135897/135897 [==============================] - 9s 67us/sample - loss: 0.0045 - tp: 218.0000 - fp: 37.0000 - tn: 135520.0000 - fn: 122.0000 - accuracy: 0.9988 - precision: 0.8549 - recall: 0.6412 - auc: 0.9675 - val_loss: 0.0262 - val_tp: 1.0000 - val_fp: 2.0000 - val_tn: 33908.0000 - val_fn: 64.0000 - val_accuracy: 0.9981 - val_precision: 0.3333 - val_recall: 0.0154 - val_auc: 0.5211\n",
      "Epoch 29/30\n",
      "135897/135897 [==============================] - 10s 71us/sample - loss: 0.0042 - tp: 207.0000 - fp: 30.0000 - tn: 135527.0000 - fn: 133.0000 - accuracy: 0.9988 - precision: 0.8734 - recall: 0.6088 - auc: 0.9752 - val_loss: 0.0264 - val_tp: 1.0000 - val_fp: 3.0000 - val_tn: 33907.0000 - val_fn: 64.0000 - val_accuracy: 0.9980 - val_precision: 0.2500 - val_recall: 0.0154 - val_auc: 0.5289\n",
      "Epoch 30/30\n",
      "135897/135897 [==============================] - 9s 67us/sample - loss: 0.0037 - tp: 229.0000 - fp: 30.0000 - tn: 135527.0000 - fn: 111.0000 - accuracy: 0.9990 - precision: 0.8842 - recall: 0.6735 - auc: 0.9782 - val_loss: 0.0262 - val_tp: 1.0000 - val_fp: 1.0000 - val_tn: 33909.0000 - val_fn: 64.0000 - val_accuracy: 0.9981 - val_precision: 0.5000 - val_recall: 0.0154 - val_auc: 0.5285\n"
     ]
    },
    {
     "data": {
      "text/plain": [
       "<tensorflow.python.keras.callbacks.History at 0x21919e4d0>"
      ]
     },
     "execution_count": 223,
     "metadata": {},
     "output_type": "execute_result"
    }
   ],
   "source": [
    "model_47 = get_model_class_47()\n",
    "model_47.fit(\n",
    "    [x_img_train, x_txt_train], \n",
    "    y_train_47, \n",
    "    epochs=30, \n",
    "    validation_data=([x_img_val, x_txt_val], y_val_47), \n",
    "    batch_size=4096\n",
    ")"
   ]
  },
  {
   "cell_type": "code",
   "execution_count": 35,
   "metadata": {},
   "outputs": [
    {
     "name": "stdout",
     "output_type": "stream",
     "text": [
      "              precision    recall  f1-score   support\n",
      "\n",
      "         0.0       1.00      1.00      1.00     42468\n",
      "         1.0       0.00      0.00      0.00         0\n",
      "\n",
      "    accuracy                           1.00     42468\n",
      "   macro avg       0.50      0.50      0.50     42468\n",
      "weighted avg       1.00      1.00      1.00     42468\n",
      "\n"
     ]
    }
   ],
   "source": [
    "y_pred_47 = model_47.predict([x_img_test, x_txt_test])\n",
    "print(classification_report(np.argmax(y_pred_47, axis=1), y_test_class_47))"
   ]
  },
  {
   "cell_type": "code",
   "execution_count": 36,
   "metadata": {},
   "outputs": [
    {
     "data": {
      "text/plain": [
       "array([0.9885339], dtype=float32)"
      ]
     },
     "execution_count": 36,
     "metadata": {},
     "output_type": "execute_result"
    }
   ],
   "source": [
    "max(y_pred_47)"
   ]
  },
  {
   "cell_type": "code",
   "execution_count": 37,
   "metadata": {},
   "outputs": [
    {
     "data": {
      "text/plain": [
       "array([1.8265843e-04, 2.2479892e-04, 2.3168325e-04, ..., 9.7869611e-01,\n",
       "       9.8012865e-01, 9.8853391e-01], dtype=float32)"
      ]
     },
     "execution_count": 37,
     "metadata": {},
     "output_type": "execute_result"
    }
   ],
   "source": [
    "np.unique(y_pred_47)"
   ]
  },
  {
   "cell_type": "code",
   "execution_count": 38,
   "metadata": {},
   "outputs": [],
   "source": [
    "labels_47 = (y_pred_47 < 0.5).astype(np.int)"
   ]
  },
  {
   "cell_type": "code",
   "execution_count": 39,
   "metadata": {},
   "outputs": [
    {
     "data": {
      "text/plain": [
       "array([0, 1])"
      ]
     },
     "execution_count": 39,
     "metadata": {},
     "output_type": "execute_result"
    }
   ],
   "source": [
    "np.unique(labels_47)"
   ]
  },
  {
   "cell_type": "code",
   "execution_count": 40,
   "metadata": {},
   "outputs": [
    {
     "name": "stdout",
     "output_type": "stream",
     "text": [
      "              precision    recall  f1-score   support\n",
      "\n",
      "         0.0       1.00      1.00      1.00     42468\n",
      "         1.0       0.00      0.00      0.00         0\n",
      "\n",
      "    accuracy                           1.00     42468\n",
      "   macro avg       0.50      0.50      0.50     42468\n",
      "weighted avg       1.00      1.00      1.00     42468\n",
      "\n"
     ]
    }
   ],
   "source": [
    "print(classification_report(np.argmax(labels_47, axis=1), y_test_class_47))"
   ]
  },
  {
   "cell_type": "code",
   "execution_count": 42,
   "metadata": {},
   "outputs": [
    {
     "data": {
      "text/plain": [
       "array([3381])"
      ]
     },
     "execution_count": 42,
     "metadata": {},
     "output_type": "execute_result"
    }
   ],
   "source": [
    "sum((labels_47 == 0).astype(np.int))"
   ]
  },
  {
   "cell_type": "code",
   "execution_count": 63,
   "metadata": {},
   "outputs": [],
   "source": [
    "ev = model_47.evaluate([x_img_test, x_txt_test], y_test_class_47, verbose=0)\n"
   ]
  },
  {
   "cell_type": "code",
   "execution_count": 54,
   "metadata": {},
   "outputs": [
    {
     "name": "stdout",
     "output_type": "stream",
     "text": [
      "['tp', 'fp', 'tn', 'fn', 'accuracy', 'precision', 'recall', 'auc']\n"
     ]
    }
   ],
   "source": [
    "print(METRICS_NAMES)"
   ]
  },
  {
   "cell_type": "code",
   "execution_count": 64,
   "metadata": {},
   "outputs": [
    {
     "name": "stdout",
     "output_type": "stream",
     "text": [
      "[0.027148785302560777, 1.0, 64.0, 42305.0, 98.0, 0.99618536, 0.015384615, 0.01010101, 0.5595725]\n"
     ]
    }
   ],
   "source": [
    "print(ev)"
   ]
  },
  {
   "cell_type": "code",
   "execution_count": 58,
   "metadata": {},
   "outputs": [
    {
     "name": "stdout",
     "output_type": "stream",
     "text": [
      "Examples:\n",
      "    Total: 169872\n",
      "    Positive: 404 (0.24% of total)\n",
      "\n"
     ]
    }
   ],
   "source": [
    "neg, pos = np.bincount(y_train_class_47.astype(np.int))\n",
    "total = neg + pos\n",
    "print('Examples:\\n    Total: {}\\n    Positive: {} ({:.2f}% of total)\\n'.format(\n",
    "    total, pos, 100 * pos / total))"
   ]
  },
  {
   "cell_type": "code",
   "execution_count": 76,
   "metadata": {},
   "outputs": [],
   "source": [
    "pos = np.bincount(y_train_class_47.astype(np.int))[1]\n",
    "neg = len(y_train) - pos\n",
    "init_bias = np.log([pos / neg])"
   ]
  },
  {
   "cell_type": "code",
   "execution_count": 80,
   "metadata": {},
   "outputs": [
    {
     "data": {
      "text/plain": [
       "array([-6.03900452])"
      ]
     },
     "execution_count": 80,
     "metadata": {},
     "output_type": "execute_result"
    }
   ],
   "source": [
    "init_bias"
   ]
  },
  {
   "cell_type": "code",
   "execution_count": 157,
   "metadata": {},
   "outputs": [],
   "source": [
    "def get_model_class_47_1():\n",
    "    output_bias = tf.keras.initializers.Constant(init_bias)\n",
    "    \n",
    "    inp_img = Input(shape=(1024,))\n",
    "    x_img = Dense(512, activation='relu')(inp_img)\n",
    "    x_img = Dropout(0.5)(x_img)\n",
    "    \n",
    "    inp_txt = Input(shape=(300,))\n",
    "    x_txt = Dense(256, activation='relu')(inp_txt)\n",
    "    x_txt = Dropout(0.5)(x_txt)\n",
    "    \n",
    "    x = concatenate([x_img, x_txt])\n",
    "    x = Dense(64)(x)\n",
    "    x = Dropout(0.5)(x)\n",
    "    out = Dense(1, activation='sigmoid',  bias_initializer=output_bias)(x)\n",
    "\n",
    "    model = Model(inputs=[inp_img, inp_txt], outputs=out)\n",
    "    model.compile(optimizer=tf.keras.optimizers.Adam(lr=1e-3), loss='binary_crossentropy', metrics=METRICS)\n",
    "    return model"
   ]
  },
  {
   "cell_type": "code",
   "execution_count": 160,
   "metadata": {},
   "outputs": [
    {
     "name": "stdout",
     "output_type": "stream",
     "text": [
      "Train on 135897 samples, validate on 33975 samples\n",
      "Epoch 1/30\n",
      "135897/135897 [==============================] - 22s 163us/sample - loss: 0.0542 - tp: 1.0000 - fp: 271.0000 - tn: 135286.0000 - fn: 339.0000 - accuracy: 0.9955 - precision: 0.0037 - recall: 0.0029 - auc: 0.4989 - val_loss: 0.0280 - val_tp: 0.0000e+00 - val_fp: 0.0000e+00 - val_tn: 33910.0000 - val_fn: 65.0000 - val_accuracy: 0.9981 - val_precision: 0.0000e+00 - val_recall: 0.0000e+00 - val_auc: 0.5053\n",
      "Epoch 2/30\n",
      "135897/135897 [==============================] - 9s 65us/sample - loss: 0.0252 - tp: 0.0000e+00 - fp: 64.0000 - tn: 135493.0000 - fn: 340.0000 - accuracy: 0.9970 - precision: 0.0000e+00 - recall: 0.0000e+00 - auc: 0.5524 - val_loss: 0.0159 - val_tp: 0.0000e+00 - val_fp: 0.0000e+00 - val_tn: 33910.0000 - val_fn: 65.0000 - val_accuracy: 0.9981 - val_precision: 0.0000e+00 - val_recall: 0.0000e+00 - val_auc: 0.5275\n",
      "Epoch 3/30\n",
      "135897/135897 [==============================] - 7s 51us/sample - loss: 0.0197 - tp: 4.0000 - fp: 32.0000 - tn: 135525.0000 - fn: 336.0000 - accuracy: 0.9973 - precision: 0.1111 - recall: 0.0118 - auc: 0.6121 - val_loss: 0.0158 - val_tp: 0.0000e+00 - val_fp: 0.0000e+00 - val_tn: 33910.0000 - val_fn: 65.0000 - val_accuracy: 0.9981 - val_precision: 0.0000e+00 - val_recall: 0.0000e+00 - val_auc: 0.5273\n",
      "Epoch 4/30\n",
      "135897/135897 [==============================] - 8s 56us/sample - loss: 0.0179 - tp: 3.0000 - fp: 24.0000 - tn: 135533.0000 - fn: 337.0000 - accuracy: 0.9973 - precision: 0.1111 - recall: 0.0088 - auc: 0.6601 - val_loss: 0.0150 - val_tp: 0.0000e+00 - val_fp: 0.0000e+00 - val_tn: 33910.0000 - val_fn: 65.0000 - val_accuracy: 0.9981 - val_precision: 0.0000e+00 - val_recall: 0.0000e+00 - val_auc: 0.5332\n",
      "Epoch 5/30\n",
      "135897/135897 [==============================] - 9s 66us/sample - loss: 0.0181 - tp: 4.0000 - fp: 37.0000 - tn: 135520.0000 - fn: 336.0000 - accuracy: 0.9973 - precision: 0.0976 - recall: 0.0118 - auc: 0.6608 - val_loss: 0.0158 - val_tp: 0.0000e+00 - val_fp: 0.0000e+00 - val_tn: 33910.0000 - val_fn: 65.0000 - val_accuracy: 0.9981 - val_precision: 0.0000e+00 - val_recall: 0.0000e+00 - val_auc: 0.5400\n",
      "Epoch 6/30\n",
      "135897/135897 [==============================] - 9s 69us/sample - loss: 0.0169 - tp: 6.0000 - fp: 38.0000 - tn: 135519.0000 - fn: 334.0000 - accuracy: 0.9973 - precision: 0.1364 - recall: 0.0176 - auc: 0.7104 - val_loss: 0.0157 - val_tp: 0.0000e+00 - val_fp: 0.0000e+00 - val_tn: 33910.0000 - val_fn: 65.0000 - val_accuracy: 0.9981 - val_precision: 0.0000e+00 - val_recall: 0.0000e+00 - val_auc: 0.5486\n",
      "Epoch 7/30\n",
      "135897/135897 [==============================] - 10s 71us/sample - loss: 0.0154 - tp: 11.0000 - fp: 40.0000 - tn: 135517.0000 - fn: 329.0000 - accuracy: 0.9973 - precision: 0.2157 - recall: 0.0324 - auc: 0.7591 - val_loss: 0.0164 - val_tp: 0.0000e+00 - val_fp: 0.0000e+00 - val_tn: 33910.0000 - val_fn: 65.0000 - val_accuracy: 0.9981 - val_precision: 0.0000e+00 - val_recall: 0.0000e+00 - val_auc: 0.5278\n",
      "Epoch 8/30\n",
      "135897/135897 [==============================] - 9s 63us/sample - loss: 0.0141 - tp: 14.0000 - fp: 40.0000 - tn: 135517.0000 - fn: 326.0000 - accuracy: 0.9973 - precision: 0.2593 - recall: 0.0412 - auc: 0.7934 - val_loss: 0.0154 - val_tp: 1.0000 - val_fp: 0.0000e+00 - val_tn: 33910.0000 - val_fn: 64.0000 - val_accuracy: 0.9981 - val_precision: 1.0000 - val_recall: 0.0154 - val_auc: 0.5769\n",
      "Epoch 9/30\n",
      "135897/135897 [==============================] - 9s 67us/sample - loss: 0.0138 - tp: 26.0000 - fp: 37.0000 - tn: 135520.0000 - fn: 314.0000 - accuracy: 0.9974 - precision: 0.4127 - recall: 0.0765 - auc: 0.8013 - val_loss: 0.0172 - val_tp: 0.0000e+00 - val_fp: 0.0000e+00 - val_tn: 33910.0000 - val_fn: 65.0000 - val_accuracy: 0.9981 - val_precision: 0.0000e+00 - val_recall: 0.0000e+00 - val_auc: 0.5432\n",
      "Epoch 10/30\n",
      "135897/135897 [==============================] - 9s 64us/sample - loss: 0.0123 - tp: 45.0000 - fp: 26.0000 - tn: 135531.0000 - fn: 295.0000 - accuracy: 0.9976 - precision: 0.6338 - recall: 0.1324 - auc: 0.8394 - val_loss: 0.0176 - val_tp: 1.0000 - val_fp: 1.0000 - val_tn: 33909.0000 - val_fn: 64.0000 - val_accuracy: 0.9981 - val_precision: 0.5000 - val_recall: 0.0154 - val_auc: 0.5582\n",
      "Epoch 11/30\n",
      "135897/135897 [==============================] - 9s 65us/sample - loss: 0.0115 - tp: 48.0000 - fp: 48.0000 - tn: 135509.0000 - fn: 292.0000 - accuracy: 0.9975 - precision: 0.5000 - recall: 0.1412 - auc: 0.8602 - val_loss: 0.0181 - val_tp: 1.0000 - val_fp: 1.0000 - val_tn: 33909.0000 - val_fn: 64.0000 - val_accuracy: 0.9981 - val_precision: 0.5000 - val_recall: 0.0154 - val_auc: 0.5505\n",
      "Epoch 12/30\n",
      "135897/135897 [==============================] - 9s 68us/sample - loss: 0.0103 - tp: 60.0000 - fp: 40.0000 - tn: 135517.0000 - fn: 280.0000 - accuracy: 0.9976 - precision: 0.6000 - recall: 0.1765 - auc: 0.8949 - val_loss: 0.0186 - val_tp: 1.0000 - val_fp: 0.0000e+00 - val_tn: 33910.0000 - val_fn: 64.0000 - val_accuracy: 0.9981 - val_precision: 1.0000 - val_recall: 0.0154 - val_auc: 0.5501\n",
      "Epoch 13/30\n",
      "135897/135897 [==============================] - 10s 71us/sample - loss: 0.0093 - tp: 89.0000 - fp: 47.0000 - tn: 135510.0000 - fn: 251.0000 - accuracy: 0.9978 - precision: 0.6544 - recall: 0.2618 - auc: 0.8922 - val_loss: 0.0185 - val_tp: 1.0000 - val_fp: 1.0000 - val_tn: 33909.0000 - val_fn: 64.0000 - val_accuracy: 0.9981 - val_precision: 0.5000 - val_recall: 0.0154 - val_auc: 0.5501\n",
      "Epoch 14/30\n",
      "135897/135897 [==============================] - 10s 77us/sample - loss: 0.0091 - tp: 91.0000 - fp: 49.0000 - tn: 135508.0000 - fn: 249.0000 - accuracy: 0.9978 - precision: 0.6500 - recall: 0.2676 - auc: 0.9071 - val_loss: 0.0204 - val_tp: 0.0000e+00 - val_fp: 0.0000e+00 - val_tn: 33910.0000 - val_fn: 65.0000 - val_accuracy: 0.9981 - val_precision: 0.0000e+00 - val_recall: 0.0000e+00 - val_auc: 0.5209\n",
      "Epoch 15/30\n",
      "135897/135897 [==============================] - 8s 61us/sample - loss: 0.0080 - tp: 120.0000 - fp: 50.0000 - tn: 135507.0000 - fn: 220.0000 - accuracy: 0.9980 - precision: 0.7059 - recall: 0.3529 - auc: 0.9352 - val_loss: 0.0213 - val_tp: 1.0000 - val_fp: 1.0000 - val_tn: 33909.0000 - val_fn: 64.0000 - val_accuracy: 0.9981 - val_precision: 0.5000 - val_recall: 0.0154 - val_auc: 0.5288\n",
      "Epoch 16/30\n",
      "135897/135897 [==============================] - 10s 71us/sample - loss: 0.0076 - tp: 130.0000 - fp: 50.0000 - tn: 135507.0000 - fn: 210.0000 - accuracy: 0.9981 - precision: 0.7222 - recall: 0.3824 - auc: 0.9325 - val_loss: 0.0229 - val_tp: 1.0000 - val_fp: 0.0000e+00 - val_tn: 33910.0000 - val_fn: 64.0000 - val_accuracy: 0.9981 - val_precision: 1.0000 - val_recall: 0.0154 - val_auc: 0.5213\n",
      "Epoch 17/30\n",
      "135897/135897 [==============================] - 12s 90us/sample - loss: 0.0068 - tp: 147.0000 - fp: 40.0000 - tn: 135517.0000 - fn: 193.0000 - accuracy: 0.9983 - precision: 0.7861 - recall: 0.4324 - auc: 0.9432 - val_loss: 0.0234 - val_tp: 1.0000 - val_fp: 1.0000 - val_tn: 33909.0000 - val_fn: 64.0000 - val_accuracy: 0.9981 - val_precision: 0.5000 - val_recall: 0.0154 - val_auc: 0.5295\n",
      "Epoch 18/30\n",
      "135897/135897 [==============================] - 10s 75us/sample - loss: 0.0066 - tp: 162.0000 - fp: 47.0000 - tn: 135510.0000 - fn: 178.0000 - accuracy: 0.9983 - precision: 0.7751 - recall: 0.4765 - auc: 0.9466 - val_loss: 0.0237 - val_tp: 1.0000 - val_fp: 2.0000 - val_tn: 33908.0000 - val_fn: 64.0000 - val_accuracy: 0.9981 - val_precision: 0.3333 - val_recall: 0.0154 - val_auc: 0.5293\n",
      "Epoch 19/30\n",
      "135897/135897 [==============================] - 10s 73us/sample - loss: 0.0062 - tp: 157.0000 - fp: 45.0000 - tn: 135512.0000 - fn: 183.0000 - accuracy: 0.9983 - precision: 0.7772 - recall: 0.4618 - auc: 0.9543 - val_loss: 0.0233 - val_tp: 1.0000 - val_fp: 2.0000 - val_tn: 33908.0000 - val_fn: 64.0000 - val_accuracy: 0.9981 - val_precision: 0.3333 - val_recall: 0.0154 - val_auc: 0.5360\n",
      "Epoch 20/30\n",
      "135897/135897 [==============================] - 10s 73us/sample - loss: 0.0058 - tp: 187.0000 - fp: 40.0000 - tn: 135517.0000 - fn: 153.0000 - accuracy: 0.9986 - precision: 0.8238 - recall: 0.5500 - auc: 0.9548 - val_loss: 0.0253 - val_tp: 1.0000 - val_fp: 2.0000 - val_tn: 33908.0000 - val_fn: 64.0000 - val_accuracy: 0.9981 - val_precision: 0.3333 - val_recall: 0.0154 - val_auc: 0.5294\n"
     ]
    },
    {
     "name": "stdout",
     "output_type": "stream",
     "text": [
      "Epoch 21/30\n",
      "135897/135897 [==============================] - 10s 72us/sample - loss: 0.0055 - tp: 185.0000 - fp: 44.0000 - tn: 135513.0000 - fn: 155.0000 - accuracy: 0.9985 - precision: 0.8079 - recall: 0.5441 - auc: 0.9555 - val_loss: 0.0247 - val_tp: 1.0000 - val_fp: 2.0000 - val_tn: 33908.0000 - val_fn: 64.0000 - val_accuracy: 0.9981 - val_precision: 0.3333 - val_recall: 0.0154 - val_auc: 0.5359\n",
      "Epoch 22/30\n",
      "135897/135897 [==============================] - 9s 69us/sample - loss: 0.0047 - tp: 207.0000 - fp: 46.0000 - tn: 135511.0000 - fn: 133.0000 - accuracy: 0.9987 - precision: 0.8182 - recall: 0.6088 - auc: 0.9733 - val_loss: 0.0266 - val_tp: 1.0000 - val_fp: 1.0000 - val_tn: 33909.0000 - val_fn: 64.0000 - val_accuracy: 0.9981 - val_precision: 0.5000 - val_recall: 0.0154 - val_auc: 0.5369\n",
      "Epoch 23/30\n",
      "135897/135897 [==============================] - 10s 73us/sample - loss: 0.0049 - tp: 197.0000 - fp: 43.0000 - tn: 135514.0000 - fn: 143.0000 - accuracy: 0.9986 - precision: 0.8208 - recall: 0.5794 - auc: 0.9630 - val_loss: 0.0264 - val_tp: 1.0000 - val_fp: 2.0000 - val_tn: 33908.0000 - val_fn: 64.0000 - val_accuracy: 0.9981 - val_precision: 0.3333 - val_recall: 0.0154 - val_auc: 0.5368\n",
      "Epoch 24/30\n",
      "135897/135897 [==============================] - 10s 77us/sample - loss: 0.0045 - tp: 211.0000 - fp: 50.0000 - tn: 135507.0000 - fn: 129.0000 - accuracy: 0.9987 - precision: 0.8084 - recall: 0.6206 - auc: 0.9734 - val_loss: 0.0260 - val_tp: 1.0000 - val_fp: 2.0000 - val_tn: 33908.0000 - val_fn: 64.0000 - val_accuracy: 0.9981 - val_precision: 0.3333 - val_recall: 0.0154 - val_auc: 0.5368\n",
      "Epoch 25/30\n",
      "135897/135897 [==============================] - 9s 68us/sample - loss: 0.0043 - tp: 225.0000 - fp: 46.0000 - tn: 135511.0000 - fn: 115.0000 - accuracy: 0.9988 - precision: 0.8303 - recall: 0.6618 - auc: 0.9679 - val_loss: 0.0270 - val_tp: 1.0000 - val_fp: 2.0000 - val_tn: 33908.0000 - val_fn: 64.0000 - val_accuracy: 0.9981 - val_precision: 0.3333 - val_recall: 0.0154 - val_auc: 0.5366\n",
      "Epoch 26/30\n",
      "135897/135897 [==============================] - 10s 74us/sample - loss: 0.0041 - tp: 233.0000 - fp: 39.0000 - tn: 135518.0000 - fn: 107.0000 - accuracy: 0.9989 - precision: 0.8566 - recall: 0.6853 - auc: 0.9695 - val_loss: 0.0274 - val_tp: 1.0000 - val_fp: 1.0000 - val_tn: 33909.0000 - val_fn: 64.0000 - val_accuracy: 0.9981 - val_precision: 0.5000 - val_recall: 0.0154 - val_auc: 0.5370\n",
      "Epoch 27/30\n",
      "135897/135897 [==============================] - 9s 69us/sample - loss: 0.0041 - tp: 210.0000 - fp: 38.0000 - tn: 135519.0000 - fn: 130.0000 - accuracy: 0.9988 - precision: 0.8468 - recall: 0.6176 - auc: 0.9770 - val_loss: 0.0281 - val_tp: 1.0000 - val_fp: 3.0000 - val_tn: 33907.0000 - val_fn: 64.0000 - val_accuracy: 0.9980 - val_precision: 0.2500 - val_recall: 0.0154 - val_auc: 0.5350\n",
      "Epoch 28/30\n",
      "135897/135897 [==============================] - 9s 68us/sample - loss: 0.0036 - tp: 239.0000 - fp: 41.0000 - tn: 135516.0000 - fn: 101.0000 - accuracy: 0.9990 - precision: 0.8536 - recall: 0.7029 - auc: 0.9742 - val_loss: 0.0297 - val_tp: 1.0000 - val_fp: 2.0000 - val_tn: 33908.0000 - val_fn: 64.0000 - val_accuracy: 0.9981 - val_precision: 0.3333 - val_recall: 0.0154 - val_auc: 0.5371\n",
      "Epoch 29/30\n",
      "135897/135897 [==============================] - 10s 74us/sample - loss: 0.0033 - tp: 248.0000 - fp: 38.0000 - tn: 135519.0000 - fn: 92.0000 - accuracy: 0.9990 - precision: 0.8671 - recall: 0.7294 - auc: 0.9729 - val_loss: 0.0316 - val_tp: 1.0000 - val_fp: 2.0000 - val_tn: 33908.0000 - val_fn: 64.0000 - val_accuracy: 0.9981 - val_precision: 0.3333 - val_recall: 0.0154 - val_auc: 0.5224\n",
      "Epoch 30/30\n",
      "135897/135897 [==============================] - 9s 68us/sample - loss: 0.0028 - tp: 254.0000 - fp: 23.0000 - tn: 135534.0000 - fn: 86.0000 - accuracy: 0.9992 - precision: 0.9170 - recall: 0.7471 - auc: 0.9818 - val_loss: 0.0310 - val_tp: 1.0000 - val_fp: 4.0000 - val_tn: 33906.0000 - val_fn: 64.0000 - val_accuracy: 0.9980 - val_precision: 0.2000 - val_recall: 0.0154 - val_auc: 0.5144\n"
     ]
    }
   ],
   "source": [
    "model_47_1 = get_model_class_47_1()\n",
    "history_1 = model_47_1.fit(\n",
    "    [x_img_train, x_txt_train], \n",
    "    y_train_47, \n",
    "    epochs=30, \n",
    "    validation_data=([x_img_val, x_txt_val], y_val_47), \n",
    "    batch_size=4096\n",
    ")"
   ]
  },
  {
   "cell_type": "code",
   "execution_count": 161,
   "metadata": {},
   "outputs": [
    {
     "name": "stdout",
     "output_type": "stream",
     "text": [
      "Train on 135897 samples, validate on 33975 samples\n",
      "Epoch 1/30\n",
      "135897/135897 [==============================] - 8s 59us/sample - loss: 0.0027 - tp: 265.0000 - fp: 34.0000 - tn: 135523.0000 - fn: 75.0000 - accuracy: 0.9992 - precision: 0.8863 - recall: 0.7794 - auc: 0.9804 - val_loss: 0.0319 - val_tp: 1.0000 - val_fp: 2.0000 - val_tn: 33908.0000 - val_fn: 64.0000 - val_accuracy: 0.9981 - val_precision: 0.3333 - val_recall: 0.0154 - val_auc: 0.5296\n",
      "Epoch 2/30\n",
      "135897/135897 [==============================] - 7s 55us/sample - loss: 0.0027 - tp: 270.0000 - fp: 34.0000 - tn: 135523.0000 - fn: 70.0000 - accuracy: 0.9992 - precision: 0.8882 - recall: 0.7941 - auc: 0.9790 - val_loss: 0.0323 - val_tp: 1.0000 - val_fp: 2.0000 - val_tn: 33908.0000 - val_fn: 64.0000 - val_accuracy: 0.9981 - val_precision: 0.3333 - val_recall: 0.0154 - val_auc: 0.5146\n",
      "Epoch 3/30\n",
      "135897/135897 [==============================] - 10s 71us/sample - loss: 0.0025 - tp: 271.0000 - fp: 28.0000 - tn: 135529.0000 - fn: 69.0000 - accuracy: 0.9993 - precision: 0.9064 - recall: 0.7971 - auc: 0.9849 - val_loss: 0.0342 - val_tp: 1.0000 - val_fp: 2.0000 - val_tn: 33908.0000 - val_fn: 64.0000 - val_accuracy: 0.9981 - val_precision: 0.3333 - val_recall: 0.0154 - val_auc: 0.5221\n",
      "Epoch 4/30\n",
      "135897/135897 [==============================] - 10s 70us/sample - loss: 0.0023 - tp: 268.0000 - fp: 25.0000 - tn: 135532.0000 - fn: 72.0000 - accuracy: 0.9993 - precision: 0.9147 - recall: 0.7882 - auc: 0.9894 - val_loss: 0.0345 - val_tp: 1.0000 - val_fp: 2.0000 - val_tn: 33908.0000 - val_fn: 64.0000 - val_accuracy: 0.9981 - val_precision: 0.3333 - val_recall: 0.0154 - val_auc: 0.5300\n",
      "Epoch 5/30\n",
      "135897/135897 [==============================] - 9s 63us/sample - loss: 0.0032 - tp: 260.0000 - fp: 27.0000 - tn: 135530.0000 - fn: 80.0000 - accuracy: 0.9992 - precision: 0.9059 - recall: 0.7647 - auc: 0.9716 - val_loss: 0.0336 - val_tp: 1.0000 - val_fp: 3.0000 - val_tn: 33907.0000 - val_fn: 64.0000 - val_accuracy: 0.9980 - val_precision: 0.2500 - val_recall: 0.0154 - val_auc: 0.5220\n",
      "Epoch 6/30\n",
      "135897/135897 [==============================] - 10s 76us/sample - loss: 0.0033 - tp: 263.0000 - fp: 34.0000 - tn: 135523.0000 - fn: 77.0000 - accuracy: 0.9992 - precision: 0.8855 - recall: 0.7735 - auc: 0.9730 - val_loss: 0.0334 - val_tp: 1.0000 - val_fp: 3.0000 - val_tn: 33907.0000 - val_fn: 64.0000 - val_accuracy: 0.9980 - val_precision: 0.2500 - val_recall: 0.0154 - val_auc: 0.5068\n",
      "Epoch 7/30\n",
      "135897/135897 [==============================] - 11s 82us/sample - loss: 0.0025 - tp: 273.0000 - fp: 26.0000 - tn: 135531.0000 - fn: 67.0000 - accuracy: 0.9993 - precision: 0.9130 - recall: 0.8029 - auc: 0.9835 - val_loss: 0.0336 - val_tp: 1.0000 - val_fp: 2.0000 - val_tn: 33908.0000 - val_fn: 64.0000 - val_accuracy: 0.9981 - val_precision: 0.3333 - val_recall: 0.0154 - val_auc: 0.5145\n",
      "Epoch 8/30\n",
      "135897/135897 [==============================] - 11s 79us/sample - loss: 0.0022 - tp: 271.0000 - fp: 28.0000 - tn: 135529.0000 - fn: 69.0000 - accuracy: 0.9993 - precision: 0.9064 - recall: 0.7971 - auc: 0.9864 - val_loss: 0.0344 - val_tp: 1.0000 - val_fp: 2.0000 - val_tn: 33908.0000 - val_fn: 64.0000 - val_accuracy: 0.9981 - val_precision: 0.3333 - val_recall: 0.0154 - val_auc: 0.5144\n",
      "Epoch 9/30\n",
      "135897/135897 [==============================] - 9s 68us/sample - loss: 0.0023 - tp: 273.0000 - fp: 32.0000 - tn: 135525.0000 - fn: 67.0000 - accuracy: 0.9993 - precision: 0.8951 - recall: 0.8029 - auc: 0.9894 - val_loss: 0.0357 - val_tp: 1.0000 - val_fp: 2.0000 - val_tn: 33908.0000 - val_fn: 64.0000 - val_accuracy: 0.9981 - val_precision: 0.3333 - val_recall: 0.0154 - val_auc: 0.5302\n",
      "Epoch 10/30\n",
      "135897/135897 [==============================] - 10s 71us/sample - loss: 0.0021 - tp: 277.0000 - fp: 19.0000 - tn: 135538.0000 - fn: 63.0000 - accuracy: 0.9994 - precision: 0.9358 - recall: 0.8147 - auc: 0.9895 - val_loss: 0.0357 - val_tp: 1.0000 - val_fp: 4.0000 - val_tn: 33906.0000 - val_fn: 64.0000 - val_accuracy: 0.9980 - val_precision: 0.2000 - val_recall: 0.0154 - val_auc: 0.5146\n",
      "Epoch 11/30\n",
      "135897/135897 [==============================] - 9s 67us/sample - loss: 0.0023 - tp: 275.0000 - fp: 23.0000 - tn: 135534.0000 - fn: 65.0000 - accuracy: 0.9994 - precision: 0.9228 - recall: 0.8088 - auc: 0.9879 - val_loss: 0.0334 - val_tp: 1.0000 - val_fp: 3.0000 - val_tn: 33907.0000 - val_fn: 64.0000 - val_accuracy: 0.9980 - val_precision: 0.2500 - val_recall: 0.0154 - val_auc: 0.5295\n",
      "Epoch 12/30\n",
      "135897/135897 [==============================] - 10s 70us/sample - loss: 0.0024 - tp: 282.0000 - fp: 31.0000 - tn: 135526.0000 - fn: 58.0000 - accuracy: 0.9993 - precision: 0.9010 - recall: 0.8294 - auc: 0.9820 - val_loss: 0.0357 - val_tp: 1.0000 - val_fp: 2.0000 - val_tn: 33908.0000 - val_fn: 64.0000 - val_accuracy: 0.9981 - val_precision: 0.3333 - val_recall: 0.0154 - val_auc: 0.5222\n",
      "Epoch 13/30\n",
      "135897/135897 [==============================] - 10s 72us/sample - loss: 0.0020 - tp: 279.0000 - fp: 17.0000 - tn: 135540.0000 - fn: 61.0000 - accuracy: 0.9994 - precision: 0.9426 - recall: 0.8206 - auc: 0.9924 - val_loss: 0.0359 - val_tp: 1.0000 - val_fp: 2.0000 - val_tn: 33908.0000 - val_fn: 64.0000 - val_accuracy: 0.9981 - val_precision: 0.3333 - val_recall: 0.0154 - val_auc: 0.5301\n",
      "Epoch 14/30\n",
      "135897/135897 [==============================] - 10s 75us/sample - loss: 0.0023 - tp: 282.0000 - fp: 25.0000 - tn: 135532.0000 - fn: 58.0000 - accuracy: 0.9994 - precision: 0.9186 - recall: 0.8294 - auc: 0.9864 - val_loss: 0.0356 - val_tp: 1.0000 - val_fp: 2.0000 - val_tn: 33908.0000 - val_fn: 64.0000 - val_accuracy: 0.9981 - val_precision: 0.3333 - val_recall: 0.0154 - val_auc: 0.5068\n",
      "Epoch 15/30\n",
      "135897/135897 [==============================] - 11s 80us/sample - loss: 0.0019 - tp: 285.0000 - fp: 24.0000 - tn: 135533.0000 - fn: 55.0000 - accuracy: 0.9994 - precision: 0.9223 - recall: 0.8382 - auc: 0.9895 - val_loss: 0.0375 - val_tp: 1.0000 - val_fp: 2.0000 - val_tn: 33908.0000 - val_fn: 64.0000 - val_accuracy: 0.9981 - val_precision: 0.3333 - val_recall: 0.0154 - val_auc: 0.5072\n",
      "Epoch 16/30\n",
      "135897/135897 [==============================] - 12s 88us/sample - loss: 0.0019 - tp: 286.0000 - fp: 21.0000 - tn: 135536.0000 - fn: 54.0000 - accuracy: 0.9994 - precision: 0.9316 - recall: 0.8412 - auc: 0.9880 - val_loss: 0.0371 - val_tp: 1.0000 - val_fp: 2.0000 - val_tn: 33908.0000 - val_fn: 64.0000 - val_accuracy: 0.9981 - val_precision: 0.3333 - val_recall: 0.0154 - val_auc: 0.5148\n",
      "Epoch 17/30\n",
      "135897/135897 [==============================] - 10s 73us/sample - loss: 0.0025 - tp: 277.0000 - fp: 31.0000 - tn: 135526.0000 - fn: 63.0000 - accuracy: 0.9993 - precision: 0.8994 - recall: 0.8147 - auc: 0.9894 - val_loss: 0.0381 - val_tp: 1.0000 - val_fp: 1.0000 - val_tn: 33909.0000 - val_fn: 64.0000 - val_accuracy: 0.9981 - val_precision: 0.5000 - val_recall: 0.0154 - val_auc: 0.5149\n",
      "Epoch 18/30\n",
      "135897/135897 [==============================] - 10s 73us/sample - loss: 0.0026 - tp: 281.0000 - fp: 29.0000 - tn: 135528.0000 - fn: 59.0000 - accuracy: 0.9994 - precision: 0.9065 - recall: 0.8265 - auc: 0.9821 - val_loss: 0.0384 - val_tp: 1.0000 - val_fp: 1.0000 - val_tn: 33909.0000 - val_fn: 64.0000 - val_accuracy: 0.9981 - val_precision: 0.5000 - val_recall: 0.0154 - val_auc: 0.5072\n",
      "Epoch 19/30\n",
      "135897/135897 [==============================] - 10s 71us/sample - loss: 0.0016 - tp: 293.0000 - fp: 22.0000 - tn: 135535.0000 - fn: 47.0000 - accuracy: 0.9995 - precision: 0.9302 - recall: 0.8618 - auc: 0.9939 - val_loss: 0.0369 - val_tp: 1.0000 - val_fp: 2.0000 - val_tn: 33908.0000 - val_fn: 64.0000 - val_accuracy: 0.9981 - val_precision: 0.3333 - val_recall: 0.0154 - val_auc: 0.5146\n",
      "Epoch 20/30\n",
      "135897/135897 [==============================] - 9s 68us/sample - loss: 0.0015 - tp: 295.0000 - fp: 15.0000 - tn: 135542.0000 - fn: 45.0000 - accuracy: 0.9996 - precision: 0.9516 - recall: 0.8676 - auc: 0.9969 - val_loss: 0.0381 - val_tp: 1.0000 - val_fp: 2.0000 - val_tn: 33908.0000 - val_fn: 64.0000 - val_accuracy: 0.9981 - val_precision: 0.3333 - val_recall: 0.0154 - val_auc: 0.5223\n",
      "Epoch 21/30\n"
     ]
    },
    {
     "name": "stdout",
     "output_type": "stream",
     "text": [
      "135897/135897 [==============================] - 10s 71us/sample - loss: 0.0016 - tp: 294.0000 - fp: 21.0000 - tn: 135536.0000 - fn: 46.0000 - accuracy: 0.9995 - precision: 0.9333 - recall: 0.8647 - auc: 0.9881 - val_loss: 0.0387 - val_tp: 1.0000 - val_fp: 3.0000 - val_tn: 33907.0000 - val_fn: 64.0000 - val_accuracy: 0.9980 - val_precision: 0.2500 - val_recall: 0.0154 - val_auc: 0.5223\n",
      "Epoch 22/30\n",
      "135897/135897 [==============================] - 9s 70us/sample - loss: 0.0017 - tp: 295.0000 - fp: 17.0000 - tn: 135540.0000 - fn: 45.0000 - accuracy: 0.9995 - precision: 0.9455 - recall: 0.8676 - auc: 0.9910 - val_loss: 0.0379 - val_tp: 1.0000 - val_fp: 4.0000 - val_tn: 33906.0000 - val_fn: 64.0000 - val_accuracy: 0.9980 - val_precision: 0.2000 - val_recall: 0.0154 - val_auc: 0.5222\n",
      "Epoch 23/30\n",
      "135897/135897 [==============================] - 9s 67us/sample - loss: 0.0015 - tp: 297.0000 - fp: 16.0000 - tn: 135541.0000 - fn: 43.0000 - accuracy: 0.9996 - precision: 0.9489 - recall: 0.8735 - auc: 0.9925 - val_loss: 0.0390 - val_tp: 1.0000 - val_fp: 3.0000 - val_tn: 33907.0000 - val_fn: 64.0000 - val_accuracy: 0.9980 - val_precision: 0.2500 - val_recall: 0.0154 - val_auc: 0.5225\n",
      "Epoch 24/30\n",
      "135897/135897 [==============================] - 10s 70us/sample - loss: 0.0018 - tp: 299.0000 - fp: 17.0000 - tn: 135540.0000 - fn: 41.0000 - accuracy: 0.9996 - precision: 0.9462 - recall: 0.8794 - auc: 0.9896 - val_loss: 0.0391 - val_tp: 1.0000 - val_fp: 4.0000 - val_tn: 33906.0000 - val_fn: 64.0000 - val_accuracy: 0.9980 - val_precision: 0.2000 - val_recall: 0.0154 - val_auc: 0.5223\n",
      "Epoch 25/30\n",
      "135897/135897 [==============================] - 9s 68us/sample - loss: 0.0017 - tp: 297.0000 - fp: 25.0000 - tn: 135532.0000 - fn: 43.0000 - accuracy: 0.9995 - precision: 0.9224 - recall: 0.8735 - auc: 0.9954 - val_loss: 0.0401 - val_tp: 1.0000 - val_fp: 3.0000 - val_tn: 33907.0000 - val_fn: 64.0000 - val_accuracy: 0.9980 - val_precision: 0.2500 - val_recall: 0.0154 - val_auc: 0.5148\n",
      "Epoch 26/30\n",
      "135897/135897 [==============================] - 10s 70us/sample - loss: 0.0015 - tp: 297.0000 - fp: 21.0000 - tn: 135536.0000 - fn: 43.0000 - accuracy: 0.9995 - precision: 0.9340 - recall: 0.8735 - auc: 0.9940 - val_loss: 0.0399 - val_tp: 1.0000 - val_fp: 4.0000 - val_tn: 33906.0000 - val_fn: 64.0000 - val_accuracy: 0.9980 - val_precision: 0.2000 - val_recall: 0.0154 - val_auc: 0.5227\n",
      "Epoch 27/30\n",
      "135897/135897 [==============================] - 9s 68us/sample - loss: 0.0016 - tp: 300.0000 - fp: 17.0000 - tn: 135540.0000 - fn: 40.0000 - accuracy: 0.9996 - precision: 0.9464 - recall: 0.8824 - auc: 0.9896 - val_loss: 0.0394 - val_tp: 1.0000 - val_fp: 3.0000 - val_tn: 33907.0000 - val_fn: 64.0000 - val_accuracy: 0.9980 - val_precision: 0.2500 - val_recall: 0.0154 - val_auc: 0.5225\n",
      "Epoch 28/30\n",
      "135897/135897 [==============================] - 9s 66us/sample - loss: 0.0016 - tp: 302.0000 - fp: 12.0000 - tn: 135545.0000 - fn: 38.0000 - accuracy: 0.9996 - precision: 0.9618 - recall: 0.8882 - auc: 0.9881 - val_loss: 0.0400 - val_tp: 1.0000 - val_fp: 4.0000 - val_tn: 33906.0000 - val_fn: 64.0000 - val_accuracy: 0.9980 - val_precision: 0.2000 - val_recall: 0.0154 - val_auc: 0.5222\n",
      "Epoch 29/30\n",
      "135897/135897 [==============================] - 10s 71us/sample - loss: 0.0021 - tp: 286.0000 - fp: 26.0000 - tn: 135531.0000 - fn: 54.0000 - accuracy: 0.9994 - precision: 0.9167 - recall: 0.8412 - auc: 0.9924 - val_loss: 0.0401 - val_tp: 1.0000 - val_fp: 3.0000 - val_tn: 33907.0000 - val_fn: 64.0000 - val_accuracy: 0.9980 - val_precision: 0.2500 - val_recall: 0.0154 - val_auc: 0.5150\n",
      "Epoch 30/30\n",
      "135897/135897 [==============================] - 9s 67us/sample - loss: 0.0023 - tp: 277.0000 - fp: 29.0000 - tn: 135528.0000 - fn: 63.0000 - accuracy: 0.9993 - precision: 0.9052 - recall: 0.8147 - auc: 0.9835 - val_loss: 0.0409 - val_tp: 1.0000 - val_fp: 4.0000 - val_tn: 33906.0000 - val_fn: 64.0000 - val_accuracy: 0.9980 - val_precision: 0.2000 - val_recall: 0.0154 - val_auc: 0.5222\n"
     ]
    }
   ],
   "source": [
    "history_1 = model_47_1.fit(\n",
    "    [x_img_train, x_txt_train], \n",
    "    y_train_47, \n",
    "    epochs=30, \n",
    "    validation_data=([x_img_val, x_txt_val], y_val_47), \n",
    "    batch_size=4096\n",
    ")"
   ]
  },
  {
   "cell_type": "code",
   "execution_count": 163,
   "metadata": {},
   "outputs": [
    {
     "name": "stdout",
     "output_type": "stream",
     "text": [
      "Train on 135897 samples, validate on 33975 samples\n",
      "Epoch 1/30\n",
      "135897/135897 [==============================] - 12s 87us/sample - loss: 0.0342 - tp: 2.0000 - fp: 123.0000 - tn: 135434.0000 - fn: 338.0000 - accuracy: 0.9966 - precision: 0.0160 - recall: 0.0059 - auc: 0.5264 - val_loss: 0.0158 - val_tp: 0.0000e+00 - val_fp: 0.0000e+00 - val_tn: 33910.0000 - val_fn: 65.0000 - val_accuracy: 0.9981 - val_precision: 0.0000e+00 - val_recall: 0.0000e+00 - val_auc: 0.5194\n",
      "Epoch 2/30\n",
      "135897/135897 [==============================] - 8s 58us/sample - loss: 0.0214 - tp: 1.0000 - fp: 31.0000 - tn: 135526.0000 - fn: 339.0000 - accuracy: 0.9973 - precision: 0.0312 - recall: 0.0029 - auc: 0.5802 - val_loss: 0.0146 - val_tp: 0.0000e+00 - val_fp: 0.0000e+00 - val_tn: 33910.0000 - val_fn: 65.0000 - val_accuracy: 0.9981 - val_precision: 0.0000e+00 - val_recall: 0.0000e+00 - val_auc: 0.5362\n",
      "Epoch 3/30\n",
      "135897/135897 [==============================] - 8s 61us/sample - loss: 0.0194 - tp: 0.0000e+00 - fp: 31.0000 - tn: 135526.0000 - fn: 340.0000 - accuracy: 0.9973 - precision: 0.0000e+00 - recall: 0.0000e+00 - auc: 0.6244 - val_loss: 0.0153 - val_tp: 0.0000e+00 - val_fp: 0.0000e+00 - val_tn: 33910.0000 - val_fn: 65.0000 - val_accuracy: 0.9981 - val_precision: 0.0000e+00 - val_recall: 0.0000e+00 - val_auc: 0.5419\n",
      "Epoch 4/30\n",
      "135897/135897 [==============================] - 9s 67us/sample - loss: 0.0171 - tp: 6.0000 - fp: 27.0000 - tn: 135530.0000 - fn: 334.0000 - accuracy: 0.9973 - precision: 0.1818 - recall: 0.0176 - auc: 0.6764 - val_loss: 0.0151 - val_tp: 0.0000e+00 - val_fp: 0.0000e+00 - val_tn: 33910.0000 - val_fn: 65.0000 - val_accuracy: 0.9981 - val_precision: 0.0000e+00 - val_recall: 0.0000e+00 - val_auc: 0.5323\n",
      "Epoch 5/30\n",
      "135897/135897 [==============================] - 12s 87us/sample - loss: 0.0161 - tp: 10.0000 - fp: 14.0000 - tn: 135543.0000 - fn: 330.0000 - accuracy: 0.9975 - precision: 0.4167 - recall: 0.0294 - auc: 0.7261 - val_loss: 0.0147 - val_tp: 0.0000e+00 - val_fp: 0.0000e+00 - val_tn: 33910.0000 - val_fn: 65.0000 - val_accuracy: 0.9981 - val_precision: 0.0000e+00 - val_recall: 0.0000e+00 - val_auc: 0.5582\n",
      "Epoch 6/30\n",
      "135897/135897 [==============================] - 14s 103us/sample - loss: 0.0148 - tp: 6.0000 - fp: 35.0000 - tn: 135522.0000 - fn: 334.0000 - accuracy: 0.9973 - precision: 0.1463 - recall: 0.0176 - auc: 0.7576 - val_loss: 0.0147 - val_tp: 0.0000e+00 - val_fp: 0.0000e+00 - val_tn: 33910.0000 - val_fn: 65.0000 - val_accuracy: 0.9981 - val_precision: 0.0000e+00 - val_recall: 0.0000e+00 - val_auc: 0.5562\n",
      "Epoch 7/30\n",
      "135897/135897 [==============================] - 12s 87us/sample - loss: 0.0139 - tp: 16.0000 - fp: 27.0000 - tn: 135530.0000 - fn: 324.0000 - accuracy: 0.9974 - precision: 0.3721 - recall: 0.0471 - auc: 0.7967 - val_loss: 0.0159 - val_tp: 0.0000e+00 - val_fp: 0.0000e+00 - val_tn: 33910.0000 - val_fn: 65.0000 - val_accuracy: 0.9981 - val_precision: 0.0000e+00 - val_recall: 0.0000e+00 - val_auc: 0.5309\n",
      "Epoch 8/30\n",
      "135897/135897 [==============================] - 11s 84us/sample - loss: 0.0120 - tp: 25.0000 - fp: 24.0000 - tn: 135533.0000 - fn: 315.0000 - accuracy: 0.9975 - precision: 0.5102 - recall: 0.0735 - auc: 0.8541 - val_loss: 0.0155 - val_tp: 1.0000 - val_fp: 0.0000e+00 - val_tn: 33910.0000 - val_fn: 64.0000 - val_accuracy: 0.9981 - val_precision: 1.0000 - val_recall: 0.0154 - val_auc: 0.5500\n",
      "Epoch 9/30\n",
      "135897/135897 [==============================] - 13s 93us/sample - loss: 0.0110 - tp: 44.0000 - fp: 27.0000 - tn: 135530.0000 - fn: 296.0000 - accuracy: 0.9976 - precision: 0.6197 - recall: 0.1294 - auc: 0.8792 - val_loss: 0.0168 - val_tp: 0.0000e+00 - val_fp: 0.0000e+00 - val_tn: 33910.0000 - val_fn: 65.0000 - val_accuracy: 0.9981 - val_precision: 0.0000e+00 - val_recall: 0.0000e+00 - val_auc: 0.5556\n",
      "Epoch 10/30\n",
      "135897/135897 [==============================] - 12s 87us/sample - loss: 0.0102 - tp: 67.0000 - fp: 32.0000 - tn: 135525.0000 - fn: 273.0000 - accuracy: 0.9978 - precision: 0.6768 - recall: 0.1971 - auc: 0.8817 - val_loss: 0.0168 - val_tp: 1.0000 - val_fp: 0.0000e+00 - val_tn: 33910.0000 - val_fn: 64.0000 - val_accuracy: 0.9981 - val_precision: 1.0000 - val_recall: 0.0154 - val_auc: 0.5609\n",
      "Epoch 11/30\n",
      "135897/135897 [==============================] - 12s 86us/sample - loss: 0.0092 - tp: 79.0000 - fp: 47.0000 - tn: 135510.0000 - fn: 261.0000 - accuracy: 0.9977 - precision: 0.6270 - recall: 0.2324 - auc: 0.9180 - val_loss: 0.0184 - val_tp: 1.0000 - val_fp: 0.0000e+00 - val_tn: 33910.0000 - val_fn: 64.0000 - val_accuracy: 0.9981 - val_precision: 1.0000 - val_recall: 0.0154 - val_auc: 0.5352\n",
      "Epoch 12/30\n",
      "135897/135897 [==============================] - 12s 87us/sample - loss: 0.0087 - tp: 82.0000 - fp: 48.0000 - tn: 135509.0000 - fn: 258.0000 - accuracy: 0.9977 - precision: 0.6308 - recall: 0.2412 - auc: 0.9166 - val_loss: 0.0186 - val_tp: 1.0000 - val_fp: 1.0000 - val_tn: 33909.0000 - val_fn: 64.0000 - val_accuracy: 0.9981 - val_precision: 0.5000 - val_recall: 0.0154 - val_auc: 0.5186\n",
      "Epoch 13/30\n",
      "135897/135897 [==============================] - 11s 85us/sample - loss: 0.0072 - tp: 117.0000 - fp: 32.0000 - tn: 135525.0000 - fn: 223.0000 - accuracy: 0.9981 - precision: 0.7852 - recall: 0.3441 - auc: 0.9464 - val_loss: 0.0198 - val_tp: 1.0000 - val_fp: 2.0000 - val_tn: 33908.0000 - val_fn: 64.0000 - val_accuracy: 0.9981 - val_precision: 0.3333 - val_recall: 0.0154 - val_auc: 0.5415\n",
      "Epoch 14/30\n",
      "135897/135897 [==============================] - 12s 87us/sample - loss: 0.0070 - tp: 135.0000 - fp: 59.0000 - tn: 135498.0000 - fn: 205.0000 - accuracy: 0.9981 - precision: 0.6959 - recall: 0.3971 - auc: 0.9425 - val_loss: 0.0208 - val_tp: 1.0000 - val_fp: 1.0000 - val_tn: 33909.0000 - val_fn: 64.0000 - val_accuracy: 0.9981 - val_precision: 0.5000 - val_recall: 0.0154 - val_auc: 0.5260\n",
      "Epoch 15/30\n",
      "135897/135897 [==============================] - 15s 107us/sample - loss: 0.0068 - tp: 140.0000 - fp: 38.0000 - tn: 135519.0000 - fn: 200.0000 - accuracy: 0.9982 - precision: 0.7865 - recall: 0.4118 - auc: 0.9418 - val_loss: 0.0208 - val_tp: 1.0000 - val_fp: 1.0000 - val_tn: 33909.0000 - val_fn: 64.0000 - val_accuracy: 0.9981 - val_precision: 0.5000 - val_recall: 0.0154 - val_auc: 0.5262\n",
      "Epoch 16/30\n",
      "135897/135897 [==============================] - 12s 87us/sample - loss: 0.0059 - tp: 162.0000 - fp: 53.0000 - tn: 135504.0000 - fn: 178.0000 - accuracy: 0.9983 - precision: 0.7535 - recall: 0.4765 - auc: 0.9647 - val_loss: 0.0225 - val_tp: 0.0000e+00 - val_fp: 0.0000e+00 - val_tn: 33910.0000 - val_fn: 65.0000 - val_accuracy: 0.9981 - val_precision: 0.0000e+00 - val_recall: 0.0000e+00 - val_auc: 0.5055\n",
      "Epoch 17/30\n",
      "135897/135897 [==============================] - 11s 84us/sample - loss: 0.0057 - tp: 178.0000 - fp: 45.0000 - tn: 135512.0000 - fn: 162.0000 - accuracy: 0.9985 - precision: 0.7982 - recall: 0.5235 - auc: 0.9594 - val_loss: 0.0226 - val_tp: 1.0000 - val_fp: 3.0000 - val_tn: 33907.0000 - val_fn: 64.0000 - val_accuracy: 0.9980 - val_precision: 0.2500 - val_recall: 0.0154 - val_auc: 0.5279\n",
      "Epoch 18/30\n",
      "135897/135897 [==============================] - 12s 92us/sample - loss: 0.0048 - tp: 194.0000 - fp: 36.0000 - tn: 135521.0000 - fn: 146.0000 - accuracy: 0.9987 - precision: 0.8435 - recall: 0.5706 - auc: 0.9598 - val_loss: 0.0237 - val_tp: 1.0000 - val_fp: 2.0000 - val_tn: 33908.0000 - val_fn: 64.0000 - val_accuracy: 0.9981 - val_precision: 0.3333 - val_recall: 0.0154 - val_auc: 0.5215\n",
      "Epoch 19/30\n",
      "135897/135897 [==============================] - 13s 97us/sample - loss: 0.0053 - tp: 194.0000 - fp: 44.0000 - tn: 135513.0000 - fn: 146.0000 - accuracy: 0.9986 - precision: 0.8151 - recall: 0.5706 - auc: 0.9494 - val_loss: 0.0223 - val_tp: 1.0000 - val_fp: 2.0000 - val_tn: 33908.0000 - val_fn: 64.0000 - val_accuracy: 0.9981 - val_precision: 0.3333 - val_recall: 0.0154 - val_auc: 0.5349\n",
      "Epoch 20/30\n",
      "135897/135897 [==============================] - 12s 87us/sample - loss: 0.0044 - tp: 215.0000 - fp: 33.0000 - tn: 135524.0000 - fn: 125.0000 - accuracy: 0.9988 - precision: 0.8669 - recall: 0.6324 - auc: 0.9777 - val_loss: 0.0242 - val_tp: 1.0000 - val_fp: 1.0000 - val_tn: 33909.0000 - val_fn: 64.0000 - val_accuracy: 0.9981 - val_precision: 0.5000 - val_recall: 0.0154 - val_auc: 0.5185\n"
     ]
    },
    {
     "name": "stdout",
     "output_type": "stream",
     "text": [
      "Epoch 21/30\n",
      "135897/135897 [==============================] - 11s 82us/sample - loss: 0.0043 - tp: 217.0000 - fp: 39.0000 - tn: 135518.0000 - fn: 123.0000 - accuracy: 0.9988 - precision: 0.8477 - recall: 0.6382 - auc: 0.9707 - val_loss: 0.0253 - val_tp: 1.0000 - val_fp: 3.0000 - val_tn: 33907.0000 - val_fn: 64.0000 - val_accuracy: 0.9980 - val_precision: 0.2500 - val_recall: 0.0154 - val_auc: 0.5196\n",
      "Epoch 22/30\n",
      "135897/135897 [==============================] - 11s 82us/sample - loss: 0.0035 - tp: 243.0000 - fp: 28.0000 - tn: 135529.0000 - fn: 97.0000 - accuracy: 0.9991 - precision: 0.8967 - recall: 0.7147 - auc: 0.9813 - val_loss: 0.0263 - val_tp: 1.0000 - val_fp: 3.0000 - val_tn: 33907.0000 - val_fn: 64.0000 - val_accuracy: 0.9980 - val_precision: 0.2500 - val_recall: 0.0154 - val_auc: 0.5214\n",
      "Epoch 23/30\n",
      "135897/135897 [==============================] - 11s 81us/sample - loss: 0.0032 - tp: 252.0000 - fp: 26.0000 - tn: 135531.0000 - fn: 88.0000 - accuracy: 0.9992 - precision: 0.9065 - recall: 0.7412 - auc: 0.9802 - val_loss: 0.0256 - val_tp: 1.0000 - val_fp: 3.0000 - val_tn: 33907.0000 - val_fn: 64.0000 - val_accuracy: 0.9980 - val_precision: 0.2500 - val_recall: 0.0154 - val_auc: 0.5277\n",
      "Epoch 24/30\n",
      "135897/135897 [==============================] - 11s 82us/sample - loss: 0.0034 - tp: 237.0000 - fp: 41.0000 - tn: 135516.0000 - fn: 103.0000 - accuracy: 0.9989 - precision: 0.8525 - recall: 0.6971 - auc: 0.9815 - val_loss: 0.0275 - val_tp: 1.0000 - val_fp: 3.0000 - val_tn: 33907.0000 - val_fn: 64.0000 - val_accuracy: 0.9980 - val_precision: 0.2500 - val_recall: 0.0154 - val_auc: 0.5358\n",
      "Epoch 25/30\n",
      "135897/135897 [==============================] - 12s 87us/sample - loss: 0.0040 - tp: 235.0000 - fp: 37.0000 - tn: 135520.0000 - fn: 105.0000 - accuracy: 0.9990 - precision: 0.8640 - recall: 0.6912 - auc: 0.9683 - val_loss: 0.0282 - val_tp: 1.0000 - val_fp: 0.0000e+00 - val_tn: 33910.0000 - val_fn: 64.0000 - val_accuracy: 0.9981 - val_precision: 1.0000 - val_recall: 0.0154 - val_auc: 0.5143\n",
      "Epoch 26/30\n",
      "135897/135897 [==============================] - 11s 84us/sample - loss: 0.0033 - tp: 240.0000 - fp: 33.0000 - tn: 135524.0000 - fn: 100.0000 - accuracy: 0.9990 - precision: 0.8791 - recall: 0.7059 - auc: 0.9786 - val_loss: 0.0278 - val_tp: 1.0000 - val_fp: 1.0000 - val_tn: 33909.0000 - val_fn: 64.0000 - val_accuracy: 0.9981 - val_precision: 0.5000 - val_recall: 0.0154 - val_auc: 0.5204\n",
      "Epoch 27/30\n",
      "135897/135897 [==============================] - 10s 77us/sample - loss: 0.0026 - tp: 262.0000 - fp: 27.0000 - tn: 135530.0000 - fn: 78.0000 - accuracy: 0.9992 - precision: 0.9066 - recall: 0.7706 - auc: 0.9818 - val_loss: 0.0305 - val_tp: 1.0000 - val_fp: 4.0000 - val_tn: 33906.0000 - val_fn: 64.0000 - val_accuracy: 0.9980 - val_precision: 0.2000 - val_recall: 0.0154 - val_auc: 0.5138\n",
      "Epoch 28/30\n",
      "135897/135897 [==============================] - 11s 80us/sample - loss: 0.0033 - tp: 244.0000 - fp: 33.0000 - tn: 135524.0000 - fn: 96.0000 - accuracy: 0.9991 - precision: 0.8809 - recall: 0.7176 - auc: 0.9817 - val_loss: 0.0292 - val_tp: 1.0000 - val_fp: 5.0000 - val_tn: 33905.0000 - val_fn: 64.0000 - val_accuracy: 0.9980 - val_precision: 0.1667 - val_recall: 0.0154 - val_auc: 0.5198\n",
      "Epoch 29/30\n",
      "135897/135897 [==============================] - 11s 79us/sample - loss: 0.0033 - tp: 253.0000 - fp: 37.0000 - tn: 135520.0000 - fn: 87.0000 - accuracy: 0.9991 - precision: 0.8724 - recall: 0.7441 - auc: 0.9787 - val_loss: 0.0301 - val_tp: 1.0000 - val_fp: 2.0000 - val_tn: 33908.0000 - val_fn: 64.0000 - val_accuracy: 0.9981 - val_precision: 0.3333 - val_recall: 0.0154 - val_auc: 0.5281\n",
      "Epoch 30/30\n",
      "135897/135897 [==============================] - 11s 78us/sample - loss: 0.0028 - tp: 259.0000 - fp: 26.0000 - tn: 135531.0000 - fn: 81.0000 - accuracy: 0.9992 - precision: 0.9088 - recall: 0.7618 - auc: 0.9818 - val_loss: 0.0291 - val_tp: 1.0000 - val_fp: 1.0000 - val_tn: 33909.0000 - val_fn: 64.0000 - val_accuracy: 0.9981 - val_precision: 0.5000 - val_recall: 0.0154 - val_auc: 0.5139\n"
     ]
    }
   ],
   "source": [
    "model_47_1_1 = get_model_class_47_1()\n",
    "history_1_1 = model_47_1_1.fit(\n",
    "    [x_img_train, x_txt_train], \n",
    "    y_train_47, \n",
    "    epochs=30, \n",
    "    validation_data=([x_img_val, x_txt_val], y_val_47), \n",
    "    batch_size=2048\n",
    ")"
   ]
  },
  {
   "cell_type": "code",
   "execution_count": 88,
   "metadata": {},
   "outputs": [],
   "source": [
    "from __future__ import absolute_import\n",
    "from __future__ import division\n",
    "from __future__ import print_function\n",
    "\n",
    "import numpy as np\n",
    "import warnings\n",
    "\n",
    "from tensorflow.keras.layers import Layer, InputSpec\n",
    "from tensorflow.keras import backend as K\n",
    "from tensorflow.python.keras.utils import conv_utils\n",
    "from tensorflow.python.keras.utils.generic_utils import to_list\n",
    "from  tensorflow.keras import regularizers \n",
    "from tensorflow.keras import constraints\n",
    "from tensorflow.keras import activations\n",
    "from tensorflow.keras import initializers\n",
    "\n",
    "class Highway(Layer):\n",
    "    \"\"\"Densely connected highway network.\n",
    "    Highway layers are a natural extension of LSTMs to feedforward networks.\n",
    "    # Arguments\n",
    "        init: name of initialization function for the weights of the layer\n",
    "            (see [initializations](../initializations.md)),\n",
    "            or alternatively, Theano function to use for weights\n",
    "            initialization. This parameter is only relevant\n",
    "            if you don't pass a `weights` argument.\n",
    "        activation: name of activation function to use\n",
    "            (see [activations](../activations.md)),\n",
    "            or alternatively, elementwise Theano function.\n",
    "            If you don't specify anything, no activation is applied\n",
    "            (ie. \"linear\" activation: a(x) = x).\n",
    "        weights: list of Numpy arrays to set as initial weights.\n",
    "            The list should have 2 elements, of shape `(input_dim, output_dim)`\n",
    "            and (output_dim,) for weights and biases respectively.\n",
    "        W_regularizer: instance of [WeightRegularizer](../regularizers.md)\n",
    "            (eg. L1 or L2 regularization), applied to the main weights matrix.\n",
    "        b_regularizer: instance of [WeightRegularizer](../regularizers.md),\n",
    "            applied to the bias.\n",
    "        activity_regularizer: instance of [ActivityRegularizer](../regularizers.md),\n",
    "            applied to the network output.\n",
    "        W_constraint: instance of the [constraints](../constraints.md) module\n",
    "            (eg. maxnorm, nonneg), applied to the main weights matrix.\n",
    "        b_constraint: instance of the [constraints](../constraints.md) module,\n",
    "            applied to the bias.\n",
    "        bias: whether to include a bias\n",
    "            (i.e. make the layer affine rather than linear).\n",
    "        input_dim: dimensionality of the input (integer). This argument\n",
    "            (or alternatively, the keyword argument `input_shape`)\n",
    "            is required when using this layer as the first layer in a model.\n",
    "    # Input shape\n",
    "        2D tensor with shape: `(nb_samples, input_dim)`.\n",
    "    # Output shape\n",
    "        2D tensor with shape: `(nb_samples, input_dim)`.\n",
    "    # References\n",
    "        - [Highway Networks](http://arxiv.org/abs/1505.00387v2)\n",
    "    \"\"\"\n",
    "\n",
    "    def __init__(self,\n",
    "                 init='glorot_uniform',\n",
    "                 activation=None,\n",
    "                 weights=None,\n",
    "                 W_regularizer=None,\n",
    "                 b_regularizer=None,\n",
    "                 activity_regularizer=None,\n",
    "                 W_constraint=None,\n",
    "                 b_constraint=None,\n",
    "                 bias=True,\n",
    "                 input_dim=None,\n",
    "                 **kwargs):\n",
    "        \n",
    "        if 'transform_bias' in kwargs:\n",
    "            kwargs.pop('transform_bias')\n",
    "            warnings.warn('`transform_bias` argument is deprecated and '\n",
    "                          'has been removed.')\n",
    "        self.init = initializers.get(init)\n",
    "        self.activation = activations.get(activation)\n",
    "\n",
    "        self.W_regularizer = regularizers.get(W_regularizer)\n",
    "        self.b_regularizer = regularizers.get(b_regularizer)\n",
    "        self.activity_regularizer = regularizers.get(activity_regularizer)\n",
    "\n",
    "        self.W_constraint = constraints.get(W_constraint)\n",
    "        self.b_constraint = constraints.get(b_constraint)\n",
    "\n",
    "        self.bias = bias\n",
    "        self.initial_weights = weights\n",
    "        self.input_spec = InputSpec(ndim=2)\n",
    "\n",
    "        self.input_dim = input_dim\n",
    "        if self.input_dim:\n",
    "            kwargs['input_shape'] = (self.input_dim,)\n",
    "        super(Highway, self).__init__(**kwargs)\n",
    "\n",
    "    def build(self, input_shape):\n",
    "        input_dim = input_shape[1]\n",
    "        self.input_spec = InputSpec(dtype=K.floatx(),\n",
    "                                    shape=(None, input_dim))\n",
    "\n",
    "        self.W = self.add_weight(shape=(input_dim, input_dim),\n",
    "                                 initializer=self.init,\n",
    "                                 name='W',\n",
    "                                 regularizer=self.W_regularizer,\n",
    "                                 constraint=self.W_constraint)\n",
    "        self.W_carry = self.add_weight(shape=(input_dim, input_dim),\n",
    "                                       initializer=self.init,\n",
    "                                       name='W_carry')\n",
    "        if self.bias:\n",
    "            self.b = self.add_weight(shape=(input_dim,),\n",
    "                                     initializer='zero',\n",
    "                                     name='b',\n",
    "                                     regularizer=self.b_regularizer,\n",
    "                                     constraint=self.b_constraint)\n",
    "            self.b_carry = self.add_weight(shape=(input_dim,),\n",
    "                                           initializer='one',\n",
    "                                           name='b_carry')\n",
    "        else:\n",
    "            self.b_carry = None\n",
    "\n",
    "        if self.initial_weights is not None:\n",
    "            self.set_weights(self.initial_weights)\n",
    "            del self.initial_weights\n",
    "        self.built = True\n",
    "\n",
    "    def call(self, x):\n",
    "        y = K.dot(x, self.W_carry)\n",
    "        if self.bias:\n",
    "            y += self.b_carry\n",
    "        transform_weight = activations.sigmoid(y)\n",
    "        y = K.dot(x, self.W)\n",
    "        if self.bias:\n",
    "            y += self.b\n",
    "        act = self.activation(y)\n",
    "        act *= transform_weight\n",
    "        output = act + (1 - transform_weight) * x\n",
    "        return output\n",
    "\n",
    "    def get_config(self):\n",
    "        config = {'init': initializers.serialize(self.init),\n",
    "                  'activation': activations.serialize(self.activation),\n",
    "                  'W_regularizer': regularizers.serialize(self.W_regularizer),\n",
    "                  'b_regularizer': regularizers.serialize(self.b_regularizer),\n",
    "                  'activity_regularizer':\n",
    "                      regularizers.serialize(self.activity_regularizer),\n",
    "                  'W_constraint': constraints.serialize(self.W_constraint),\n",
    "                  'b_constraint': constraints.serialize(self.b_constraint),\n",
    "                  'bias': self.bias,\n",
    "                  'input_dim': self.input_dim}\n",
    "        base_config = super(Highway, self).get_config()\n",
    "        return dict(list(base_config.items()) + list(config.items()))"
   ]
  },
  {
   "cell_type": "code",
   "execution_count": 89,
   "metadata": {},
   "outputs": [],
   "source": [
    "def get_model_47_highway():\n",
    "    output_bias = tf.keras.initializers.Constant(init_bias)\n",
    "    \n",
    "    inp_img = Input(shape=(1024,))\n",
    "    x_img = Dense(512, activation='relu')(inp_img)\n",
    "    x_img = Dropout(0.5)(x_img)\n",
    "    \n",
    "    inp_txt = Input(shape=(300,))\n",
    "    x_txt = Dense(256, activation='relu')(inp_txt)\n",
    "    x_txt = Dropout(0.5)(x_txt)\n",
    "    \n",
    "    x = concatenate([x_img, x_txt])\n",
    "    x = Highway()(x)\n",
    "    x = Dropout(0.5)(x)\n",
    "    x = Highway()(x)\n",
    "    x = Dropout(0.5)(x)\n",
    "    out = Dense(1, activation='sigmoid',  bias_initializer=output_bias)(x)\n",
    "\n",
    "    model = Model(inputs=[inp_img, inp_txt], outputs=out)\n",
    "    model.compile(optimizer='adam', loss='binary_crossentropy', metrics=METRICS)\n",
    "    return model"
   ]
  },
  {
   "cell_type": "code",
   "execution_count": 224,
   "metadata": {},
   "outputs": [
    {
     "name": "stdout",
     "output_type": "stream",
     "text": [
      "Train on 135897 samples, validate on 33975 samples\n",
      "Epoch 1/30\n",
      "135897/135897 [==============================] - 49s 363us/sample - loss: 0.0259 - tp: 0.0000e+00 - fp: 60.0000 - tn: 135497.0000 - fn: 340.0000 - accuracy: 0.9971 - precision: 0.0000e+00 - recall: 0.0000e+00 - auc: 0.5194 - val_loss: 0.0165 - val_tp: 0.0000e+00 - val_fp: 0.0000e+00 - val_tn: 33910.0000 - val_fn: 65.0000 - val_accuracy: 0.9981 - val_precision: 0.0000e+00 - val_recall: 0.0000e+00 - val_auc: 0.5069\n",
      "Epoch 2/30\n",
      "135897/135897 [==============================] - 42s 307us/sample - loss: 0.0210 - tp: 0.0000e+00 - fp: 12.0000 - tn: 135545.0000 - fn: 340.0000 - accuracy: 0.9974 - precision: 0.0000e+00 - recall: 0.0000e+00 - auc: 0.5529 - val_loss: 0.0145 - val_tp: 0.0000e+00 - val_fp: 0.0000e+00 - val_tn: 33910.0000 - val_fn: 65.0000 - val_accuracy: 0.9981 - val_precision: 0.0000e+00 - val_recall: 0.0000e+00 - val_auc: 0.5332\n",
      "Epoch 3/30\n",
      "135897/135897 [==============================] - 43s 319us/sample - loss: 0.0184 - tp: 0.0000e+00 - fp: 9.0000 - tn: 135548.0000 - fn: 340.0000 - accuracy: 0.9974 - precision: 0.0000e+00 - recall: 0.0000e+00 - auc: 0.6158 - val_loss: 0.0142 - val_tp: 0.0000e+00 - val_fp: 0.0000e+00 - val_tn: 33910.0000 - val_fn: 65.0000 - val_accuracy: 0.9981 - val_precision: 0.0000e+00 - val_recall: 0.0000e+00 - val_auc: 0.5271\n",
      "Epoch 4/30\n",
      "135897/135897 [==============================] - 42s 310us/sample - loss: 0.0171 - tp: 1.0000 - fp: 1.0000 - tn: 135556.0000 - fn: 339.0000 - accuracy: 0.9975 - precision: 0.5000 - recall: 0.0029 - auc: 0.6662 - val_loss: 0.0143 - val_tp: 0.0000e+00 - val_fp: 0.0000e+00 - val_tn: 33910.0000 - val_fn: 65.0000 - val_accuracy: 0.9981 - val_precision: 0.0000e+00 - val_recall: 0.0000e+00 - val_auc: 0.5412\n",
      "Epoch 5/30\n",
      "135897/135897 [==============================] - 49s 361us/sample - loss: 0.0158 - tp: 3.0000 - fp: 8.0000 - tn: 135549.0000 - fn: 337.0000 - accuracy: 0.9975 - precision: 0.2727 - recall: 0.0088 - auc: 0.7205 - val_loss: 0.0145 - val_tp: 0.0000e+00 - val_fp: 0.0000e+00 - val_tn: 33910.0000 - val_fn: 65.0000 - val_accuracy: 0.9981 - val_precision: 0.0000e+00 - val_recall: 0.0000e+00 - val_auc: 0.5465\n",
      "Epoch 6/30\n",
      "135897/135897 [==============================] - 46s 336us/sample - loss: 0.0139 - tp: 6.0000 - fp: 12.0000 - tn: 135545.0000 - fn: 334.0000 - accuracy: 0.9975 - precision: 0.3333 - recall: 0.0176 - auc: 0.7685 - val_loss: 0.0141 - val_tp: 0.0000e+00 - val_fp: 0.0000e+00 - val_tn: 33910.0000 - val_fn: 65.0000 - val_accuracy: 0.9981 - val_precision: 0.0000e+00 - val_recall: 0.0000e+00 - val_auc: 0.5793\n",
      "Epoch 7/30\n",
      "135897/135897 [==============================] - 45s 330us/sample - loss: 0.0133 - tp: 13.0000 - fp: 21.0000 - tn: 135536.0000 - fn: 327.0000 - accuracy: 0.9974 - precision: 0.3824 - recall: 0.0382 - auc: 0.8106 - val_loss: 0.0156 - val_tp: 1.0000 - val_fp: 0.0000e+00 - val_tn: 33910.0000 - val_fn: 64.0000 - val_accuracy: 0.9981 - val_precision: 1.0000 - val_recall: 0.0154 - val_auc: 0.5488\n",
      "Epoch 8/30\n",
      "135897/135897 [==============================] - 43s 319us/sample - loss: 0.0118 - tp: 36.0000 - fp: 25.0000 - tn: 135532.0000 - fn: 304.0000 - accuracy: 0.9976 - precision: 0.5902 - recall: 0.1059 - auc: 0.8469 - val_loss: 0.0150 - val_tp: 1.0000 - val_fp: 1.0000 - val_tn: 33909.0000 - val_fn: 64.0000 - val_accuracy: 0.9981 - val_precision: 0.5000 - val_recall: 0.0154 - val_auc: 0.5554\n",
      "Epoch 9/30\n",
      "135897/135897 [==============================] - 41s 300us/sample - loss: 0.0104 - tp: 67.0000 - fp: 36.0000 - tn: 135521.0000 - fn: 273.0000 - accuracy: 0.9977 - precision: 0.6505 - recall: 0.1971 - auc: 0.8664 - val_loss: 0.0163 - val_tp: 1.0000 - val_fp: 1.0000 - val_tn: 33909.0000 - val_fn: 64.0000 - val_accuracy: 0.9981 - val_precision: 0.5000 - val_recall: 0.0154 - val_auc: 0.5433\n",
      "Epoch 10/30\n",
      "135897/135897 [==============================] - 47s 343us/sample - loss: 0.0106 - tp: 66.0000 - fp: 39.0000 - tn: 135518.0000 - fn: 274.0000 - accuracy: 0.9977 - precision: 0.6286 - recall: 0.1941 - auc: 0.8814 - val_loss: 0.0159 - val_tp: 1.0000 - val_fp: 1.0000 - val_tn: 33909.0000 - val_fn: 64.0000 - val_accuracy: 0.9981 - val_precision: 0.5000 - val_recall: 0.0154 - val_auc: 0.5329\n",
      "Epoch 11/30\n",
      "135897/135897 [==============================] - 41s 302us/sample - loss: 0.0095 - tp: 90.0000 - fp: 52.0000 - tn: 135505.0000 - fn: 250.0000 - accuracy: 0.9978 - precision: 0.6338 - recall: 0.2647 - auc: 0.8899 - val_loss: 0.0173 - val_tp: 1.0000 - val_fp: 1.0000 - val_tn: 33909.0000 - val_fn: 64.0000 - val_accuracy: 0.9981 - val_precision: 0.5000 - val_recall: 0.0154 - val_auc: 0.5200\n",
      "Epoch 12/30\n",
      "135897/135897 [==============================] - 38s 281us/sample - loss: 0.0091 - tp: 105.0000 - fp: 49.0000 - tn: 135508.0000 - fn: 235.0000 - accuracy: 0.9979 - precision: 0.6818 - recall: 0.3088 - auc: 0.8905 - val_loss: 0.0172 - val_tp: 1.0000 - val_fp: 1.0000 - val_tn: 33909.0000 - val_fn: 64.0000 - val_accuracy: 0.9981 - val_precision: 0.5000 - val_recall: 0.0154 - val_auc: 0.5131\n",
      "Epoch 13/30\n",
      "135897/135897 [==============================] - 43s 316us/sample - loss: 0.0074 - tp: 146.0000 - fp: 42.0000 - tn: 135515.0000 - fn: 194.0000 - accuracy: 0.9983 - precision: 0.7766 - recall: 0.4294 - auc: 0.9144 - val_loss: 0.0176 - val_tp: 1.0000 - val_fp: 1.0000 - val_tn: 33909.0000 - val_fn: 64.0000 - val_accuracy: 0.9981 - val_precision: 0.5000 - val_recall: 0.0154 - val_auc: 0.5279\n",
      "Epoch 14/30\n",
      "135897/135897 [==============================] - 42s 310us/sample - loss: 0.0076 - tp: 134.0000 - fp: 57.0000 - tn: 135500.0000 - fn: 206.0000 - accuracy: 0.9981 - precision: 0.7016 - recall: 0.3941 - auc: 0.9260 - val_loss: 0.0191 - val_tp: 1.0000 - val_fp: 1.0000 - val_tn: 33909.0000 - val_fn: 64.0000 - val_accuracy: 0.9981 - val_precision: 0.5000 - val_recall: 0.0154 - val_auc: 0.5288\n",
      "Epoch 15/30\n",
      "135897/135897 [==============================] - 52s 379us/sample - loss: 0.0072 - tp: 157.0000 - fp: 49.0000 - tn: 135508.0000 - fn: 183.0000 - accuracy: 0.9983 - precision: 0.7621 - recall: 0.4618 - auc: 0.9253 - val_loss: 0.0178 - val_tp: 1.0000 - val_fp: 1.0000 - val_tn: 33909.0000 - val_fn: 64.0000 - val_accuracy: 0.9981 - val_precision: 0.5000 - val_recall: 0.0154 - val_auc: 0.5282\n",
      "Epoch 16/30\n",
      "135897/135897 [==============================] - 44s 324us/sample - loss: 0.0070 - tp: 165.0000 - fp: 40.0000 - tn: 135517.0000 - fn: 175.0000 - accuracy: 0.9984 - precision: 0.8049 - recall: 0.4853 - auc: 0.9230 - val_loss: 0.0205 - val_tp: 1.0000 - val_fp: 1.0000 - val_tn: 33909.0000 - val_fn: 64.0000 - val_accuracy: 0.9981 - val_precision: 0.5000 - val_recall: 0.0154 - val_auc: 0.5063\n",
      "Epoch 17/30\n",
      "135897/135897 [==============================] - 41s 304us/sample - loss: 0.0062 - tp: 182.0000 - fp: 44.0000 - tn: 135513.0000 - fn: 158.0000 - accuracy: 0.9985 - precision: 0.8053 - recall: 0.5353 - auc: 0.9341 - val_loss: 0.0236 - val_tp: 1.0000 - val_fp: 1.0000 - val_tn: 33909.0000 - val_fn: 64.0000 - val_accuracy: 0.9981 - val_precision: 0.5000 - val_recall: 0.0154 - val_auc: 0.5072\n",
      "Epoch 18/30\n",
      "135897/135897 [==============================] - 42s 310us/sample - loss: 0.0057 - tp: 205.0000 - fp: 43.0000 - tn: 135514.0000 - fn: 135.0000 - accuracy: 0.9987 - precision: 0.8266 - recall: 0.6029 - auc: 0.9389 - val_loss: 0.0210 - val_tp: 1.0000 - val_fp: 1.0000 - val_tn: 33909.0000 - val_fn: 64.0000 - val_accuracy: 0.9981 - val_precision: 0.5000 - val_recall: 0.0154 - val_auc: 0.5073\n",
      "Epoch 19/30\n",
      "135897/135897 [==============================] - 40s 293us/sample - loss: 0.0048 - tp: 219.0000 - fp: 37.0000 - tn: 135520.0000 - fn: 121.0000 - accuracy: 0.9988 - precision: 0.8555 - recall: 0.6441 - auc: 0.9528 - val_loss: 0.0230 - val_tp: 1.0000 - val_fp: 1.0000 - val_tn: 33909.0000 - val_fn: 64.0000 - val_accuracy: 0.9981 - val_precision: 0.5000 - val_recall: 0.0154 - val_auc: 0.5148\n",
      "Epoch 20/30\n",
      "135897/135897 [==============================] - 39s 288us/sample - loss: 0.0048 - tp: 220.0000 - fp: 43.0000 - tn: 135514.0000 - fn: 120.0000 - accuracy: 0.9988 - precision: 0.8365 - recall: 0.6471 - auc: 0.9530 - val_loss: 0.0218 - val_tp: 1.0000 - val_fp: 1.0000 - val_tn: 33909.0000 - val_fn: 64.0000 - val_accuracy: 0.9981 - val_precision: 0.5000 - val_recall: 0.0154 - val_auc: 0.5137\n"
     ]
    },
    {
     "name": "stdout",
     "output_type": "stream",
     "text": [
      "Epoch 21/30\n",
      "135897/135897 [==============================] - 39s 286us/sample - loss: 0.0056 - tp: 202.0000 - fp: 55.0000 - tn: 135502.0000 - fn: 138.0000 - accuracy: 0.9986 - precision: 0.7860 - recall: 0.5941 - auc: 0.9465 - val_loss: 0.0227 - val_tp: 1.0000 - val_fp: 3.0000 - val_tn: 33907.0000 - val_fn: 64.0000 - val_accuracy: 0.9980 - val_precision: 0.2500 - val_recall: 0.0154 - val_auc: 0.5147\n",
      "Epoch 22/30\n",
      "135897/135897 [==============================] - 40s 292us/sample - loss: 0.0055 - tp: 216.0000 - fp: 44.0000 - tn: 135513.0000 - fn: 124.0000 - accuracy: 0.9988 - precision: 0.8308 - recall: 0.6353 - auc: 0.9481 - val_loss: 0.0238 - val_tp: 1.0000 - val_fp: 2.0000 - val_tn: 33908.0000 - val_fn: 64.0000 - val_accuracy: 0.9981 - val_precision: 0.3333 - val_recall: 0.0154 - val_auc: 0.5227\n",
      "Epoch 23/30\n",
      "135897/135897 [==============================] - 39s 286us/sample - loss: 0.0057 - tp: 204.0000 - fp: 42.0000 - tn: 135515.0000 - fn: 136.0000 - accuracy: 0.9987 - precision: 0.8293 - recall: 0.6000 - auc: 0.9541 - val_loss: 0.0222 - val_tp: 1.0000 - val_fp: 2.0000 - val_tn: 33908.0000 - val_fn: 64.0000 - val_accuracy: 0.9981 - val_precision: 0.3333 - val_recall: 0.0154 - val_auc: 0.5148\n",
      "Epoch 24/30\n",
      "135897/135897 [==============================] - 39s 284us/sample - loss: 0.0045 - tp: 237.0000 - fp: 35.0000 - tn: 135522.0000 - fn: 103.0000 - accuracy: 0.9990 - precision: 0.8713 - recall: 0.6971 - auc: 0.9516 - val_loss: 0.0246 - val_tp: 1.0000 - val_fp: 2.0000 - val_tn: 33908.0000 - val_fn: 64.0000 - val_accuracy: 0.9981 - val_precision: 0.3333 - val_recall: 0.0154 - val_auc: 0.5074\n",
      "Epoch 25/30\n",
      "135897/135897 [==============================] - 44s 322us/sample - loss: 0.0041 - tp: 240.0000 - fp: 38.0000 - tn: 135519.0000 - fn: 100.0000 - accuracy: 0.9990 - precision: 0.8633 - recall: 0.7059 - auc: 0.9652 - val_loss: 0.0231 - val_tp: 1.0000 - val_fp: 2.0000 - val_tn: 33908.0000 - val_fn: 64.0000 - val_accuracy: 0.9981 - val_precision: 0.3333 - val_recall: 0.0154 - val_auc: 0.5149\n",
      "Epoch 26/30\n",
      "135897/135897 [==============================] - 42s 311us/sample - loss: 0.0042 - tp: 238.0000 - fp: 41.0000 - tn: 135516.0000 - fn: 102.0000 - accuracy: 0.9989 - precision: 0.8530 - recall: 0.7000 - auc: 0.9563 - val_loss: 0.0260 - val_tp: 1.0000 - val_fp: 3.0000 - val_tn: 33907.0000 - val_fn: 64.0000 - val_accuracy: 0.9980 - val_precision: 0.2500 - val_recall: 0.0154 - val_auc: 0.5069\n",
      "Epoch 27/30\n",
      "135897/135897 [==============================] - 39s 289us/sample - loss: 0.0049 - tp: 229.0000 - fp: 52.0000 - tn: 135505.0000 - fn: 111.0000 - accuracy: 0.9988 - precision: 0.8149 - recall: 0.6735 - auc: 0.9472 - val_loss: 0.0280 - val_tp: 1.0000 - val_fp: 2.0000 - val_tn: 33908.0000 - val_fn: 64.0000 - val_accuracy: 0.9981 - val_precision: 0.3333 - val_recall: 0.0154 - val_auc: 0.5075\n",
      "Epoch 28/30\n",
      "135897/135897 [==============================] - 39s 290us/sample - loss: 0.0053 - tp: 222.0000 - fp: 45.0000 - tn: 135512.0000 - fn: 118.0000 - accuracy: 0.9988 - precision: 0.8315 - recall: 0.6529 - auc: 0.9411 - val_loss: 0.0269 - val_tp: 1.0000 - val_fp: 1.0000 - val_tn: 33909.0000 - val_fn: 64.0000 - val_accuracy: 0.9981 - val_precision: 0.5000 - val_recall: 0.0154 - val_auc: 0.5073\n",
      "Epoch 29/30\n",
      "135897/135897 [==============================] - 40s 297us/sample - loss: 0.0039 - tp: 259.0000 - fp: 42.0000 - tn: 135515.0000 - fn: 81.0000 - accuracy: 0.9991 - precision: 0.8605 - recall: 0.7618 - auc: 0.9610 - val_loss: 0.0261 - val_tp: 1.0000 - val_fp: 2.0000 - val_tn: 33908.0000 - val_fn: 64.0000 - val_accuracy: 0.9981 - val_precision: 0.3333 - val_recall: 0.0154 - val_auc: 0.5074\n",
      "Epoch 30/30\n",
      "135897/135897 [==============================] - 40s 294us/sample - loss: 0.0040 - tp: 236.0000 - fp: 45.0000 - tn: 135512.0000 - fn: 104.0000 - accuracy: 0.9989 - precision: 0.8399 - recall: 0.6941 - auc: 0.9682 - val_loss: 0.0250 - val_tp: 1.0000 - val_fp: 1.0000 - val_tn: 33909.0000 - val_fn: 64.0000 - val_accuracy: 0.9981 - val_precision: 0.5000 - val_recall: 0.0154 - val_auc: 0.5074\n"
     ]
    }
   ],
   "source": [
    "model_47_highway = get_model_47_highway()\n",
    "history_highway = model_47_highway.fit(\n",
    "    [x_img_train, x_txt_train], \n",
    "    y_train_47, \n",
    "    epochs=30, \n",
    "    validation_data=([x_img_val, x_txt_val], y_val_47), \n",
    "    batch_size=2048\n",
    ")"
   ]
  },
  {
   "cell_type": "markdown",
   "metadata": {},
   "source": [
    "### Trying upsample"
   ]
  },
  {
   "cell_type": "code",
   "execution_count": 164,
   "metadata": {},
   "outputs": [],
   "source": [
    "x_img_train_47 = x_img_train[y_train_47.astype(bool)]\n",
    "x_txt_train_47 = x_txt_train[y_train_47.astype(bool)]\n",
    "\n",
    "x_img_train_others = x_img_train[(y_train_47 - 1).astype(bool)]\n",
    "x_txt_train_others = x_txt_train[(y_train_47 - 1).astype(bool)]"
   ]
  },
  {
   "cell_type": "code",
   "execution_count": 166,
   "metadata": {},
   "outputs": [],
   "source": [
    "n_47_samples = 5000"
   ]
  },
  {
   "cell_type": "code",
   "execution_count": 184,
   "metadata": {},
   "outputs": [],
   "source": [
    "rep_coef = n_47_samples // x_img_train_47.shape[0]\n",
    "x_img_train_47_up = np.repeat(x_img_train_47, rep_coef, axis=0)\n",
    "x_txt_train_47_up = np.repeat(x_txt_train_47, rep_coef, axis=0)\n",
    "y_train_47_up = np.ones(x_img_train_47_up.shape[0])"
   ]
  },
  {
   "cell_type": "code",
   "execution_count": 186,
   "metadata": {},
   "outputs": [
    {
     "name": "stdout",
     "output_type": "stream",
     "text": [
      "(340, 1024)\n",
      "(4760, 1024)\n",
      "(4760, 300)\n",
      "(4760,)\n"
     ]
    }
   ],
   "source": [
    "print(x_img_train_47.shape)\n",
    "print(x_img_train_47_up.shape)\n",
    "print(x_txt_train_47_up.shape)\n",
    "print(y_train_47_up.shape)"
   ]
  },
  {
   "cell_type": "code",
   "execution_count": 189,
   "metadata": {},
   "outputs": [
    {
     "data": {
      "text/plain": [
       "(135557, 1024)"
      ]
     },
     "execution_count": 189,
     "metadata": {},
     "output_type": "execute_result"
    }
   ],
   "source": [
    "x_img_train_others.shape"
   ]
  },
  {
   "cell_type": "code",
   "execution_count": 190,
   "metadata": {},
   "outputs": [],
   "source": [
    "x_img_train_up = np.concatenate((x_img_train_others, x_img_train_47_up))\n",
    "x_txt_train_up = np.concatenate((x_txt_train_others, x_txt_train_47_up))\n",
    "y_train_up = np.concatenate((np.zeros(x_img_train_others.shape[0]), y_train_47_up))"
   ]
  },
  {
   "cell_type": "code",
   "execution_count": 191,
   "metadata": {},
   "outputs": [],
   "source": [
    "perm = np.random.permutation(len(y_train_up))\n",
    "x_img_train_up = x_img_train_up[perm]\n",
    "x_txt_train_up = x_txt_train_up[perm]\n",
    "y_train_up = y_train_up[perm]"
   ]
  },
  {
   "cell_type": "code",
   "execution_count": 192,
   "metadata": {},
   "outputs": [
    {
     "name": "stdout",
     "output_type": "stream",
     "text": [
      "Train on 140317 samples, validate on 33975 samples\n",
      "Epoch 1/20\n",
      "140317/140317 [==============================] - 13s 91us/sample - loss: 0.1507 - tp: 744.0000 - fp: 1456.0000 - tn: 134101.0000 - fn: 4016.0000 - accuracy: 0.9610 - precision: 0.3382 - recall: 0.1563 - auc: 0.7788 - val_loss: 0.0178 - val_tp: 1.0000 - val_fp: 15.0000 - val_tn: 33895.0000 - val_fn: 64.0000 - val_accuracy: 0.9977 - val_precision: 0.0625 - val_recall: 0.0154 - val_auc: 0.5969\n",
      "Epoch 2/20\n",
      "140317/140317 [==============================] - 8s 60us/sample - loss: 0.0639 - tp: 2564.0000 - fp: 822.0000 - tn: 134735.0000 - fn: 2196.0000 - accuracy: 0.9785 - precision: 0.7572 - recall: 0.5387 - auc: 0.9592 - val_loss: 0.0197 - val_tp: 1.0000 - val_fp: 22.0000 - val_tn: 33888.0000 - val_fn: 64.0000 - val_accuracy: 0.9975 - val_precision: 0.0435 - val_recall: 0.0154 - val_auc: 0.5608\n",
      "Epoch 3/20\n",
      "140317/140317 [==============================] - 9s 62us/sample - loss: 0.0298 - tp: 3775.0000 - fp: 495.0000 - tn: 135062.0000 - fn: 985.0000 - accuracy: 0.9895 - precision: 0.8841 - recall: 0.7931 - auc: 0.9896 - val_loss: 0.0235 - val_tp: 1.0000 - val_fp: 15.0000 - val_tn: 33895.0000 - val_fn: 64.0000 - val_accuracy: 0.9977 - val_precision: 0.0625 - val_recall: 0.0154 - val_auc: 0.5546\n",
      "Epoch 4/20\n",
      "140317/140317 [==============================] - 9s 64us/sample - loss: 0.0197 - tp: 4156.0000 - fp: 356.0000 - tn: 135201.0000 - fn: 604.0000 - accuracy: 0.9932 - precision: 0.9211 - recall: 0.8731 - auc: 0.9941 - val_loss: 0.0255 - val_tp: 1.0000 - val_fp: 6.0000 - val_tn: 33904.0000 - val_fn: 64.0000 - val_accuracy: 0.9979 - val_precision: 0.1429 - val_recall: 0.0154 - val_auc: 0.5319\n",
      "Epoch 5/20\n",
      "140317/140317 [==============================] - 8s 59us/sample - loss: 0.0132 - tp: 4352.0000 - fp: 256.0000 - tn: 135301.0000 - fn: 408.0000 - accuracy: 0.9953 - precision: 0.9444 - recall: 0.9143 - auc: 0.9975 - val_loss: 0.0295 - val_tp: 2.0000 - val_fp: 18.0000 - val_tn: 33892.0000 - val_fn: 63.0000 - val_accuracy: 0.9976 - val_precision: 0.1000 - val_recall: 0.0308 - val_auc: 0.5516\n",
      "Epoch 6/20\n",
      "140317/140317 [==============================] - 9s 62us/sample - loss: 0.0105 - tp: 4449.0000 - fp: 208.0000 - tn: 135349.0000 - fn: 311.0000 - accuracy: 0.9963 - precision: 0.9553 - recall: 0.9347 - auc: 0.9983 - val_loss: 0.0321 - val_tp: 1.0000 - val_fp: 12.0000 - val_tn: 33898.0000 - val_fn: 64.0000 - val_accuracy: 0.9978 - val_precision: 0.0769 - val_recall: 0.0154 - val_auc: 0.5261\n",
      "Epoch 7/20\n",
      "140317/140317 [==============================] - 9s 63us/sample - loss: 0.0085 - tp: 4515.0000 - fp: 182.0000 - tn: 135375.0000 - fn: 245.0000 - accuracy: 0.9970 - precision: 0.9613 - recall: 0.9485 - auc: 0.9992 - val_loss: 0.0360 - val_tp: 1.0000 - val_fp: 10.0000 - val_tn: 33900.0000 - val_fn: 64.0000 - val_accuracy: 0.9978 - val_precision: 0.0909 - val_recall: 0.0154 - val_auc: 0.5274\n",
      "Epoch 8/20\n",
      "140317/140317 [==============================] - 9s 64us/sample - loss: 0.0082 - tp: 4514.0000 - fp: 151.0000 - tn: 135406.0000 - fn: 246.0000 - accuracy: 0.9972 - precision: 0.9676 - recall: 0.9483 - auc: 0.9983 - val_loss: 0.0395 - val_tp: 1.0000 - val_fp: 10.0000 - val_tn: 33900.0000 - val_fn: 64.0000 - val_accuracy: 0.9978 - val_precision: 0.0909 - val_recall: 0.0154 - val_auc: 0.5200\n",
      "Epoch 9/20\n",
      "140317/140317 [==============================] - 11s 81us/sample - loss: 0.0072 - tp: 4583.0000 - fp: 137.0000 - tn: 135420.0000 - fn: 177.0000 - accuracy: 0.9978 - precision: 0.9710 - recall: 0.9628 - auc: 0.9986 - val_loss: 0.0393 - val_tp: 1.0000 - val_fp: 11.0000 - val_tn: 33899.0000 - val_fn: 64.0000 - val_accuracy: 0.9978 - val_precision: 0.0833 - val_recall: 0.0154 - val_auc: 0.5205\n",
      "Epoch 10/20\n",
      "140317/140317 [==============================] - 13s 90us/sample - loss: 0.0071 - tp: 4570.0000 - fp: 140.0000 - tn: 135417.0000 - fn: 190.0000 - accuracy: 0.9976 - precision: 0.9703 - recall: 0.9601 - auc: 0.9985 - val_loss: 0.0411 - val_tp: 1.0000 - val_fp: 7.0000 - val_tn: 33903.0000 - val_fn: 64.0000 - val_accuracy: 0.9979 - val_precision: 0.1250 - val_recall: 0.0154 - val_auc: 0.5285\n",
      "Epoch 11/20\n",
      "140317/140317 [==============================] - 13s 92us/sample - loss: 0.0050 - tp: 4628.0000 - fp: 99.0000 - tn: 135458.0000 - fn: 132.0000 - accuracy: 0.9984 - precision: 0.9791 - recall: 0.9723 - auc: 0.9989 - val_loss: 0.0422 - val_tp: 1.0000 - val_fp: 9.0000 - val_tn: 33901.0000 - val_fn: 64.0000 - val_accuracy: 0.9979 - val_precision: 0.1000 - val_recall: 0.0154 - val_auc: 0.5135\n",
      "Epoch 12/20\n",
      "140317/140317 [==============================] - 13s 94us/sample - loss: 0.0054 - tp: 4627.0000 - fp: 110.0000 - tn: 135447.0000 - fn: 133.0000 - accuracy: 0.9983 - precision: 0.9768 - recall: 0.9721 - auc: 0.9988 - val_loss: 0.0460 - val_tp: 1.0000 - val_fp: 7.0000 - val_tn: 33903.0000 - val_fn: 64.0000 - val_accuracy: 0.9979 - val_precision: 0.1250 - val_recall: 0.0154 - val_auc: 0.5065\n",
      "Epoch 13/20\n",
      "140317/140317 [==============================] - 11s 76us/sample - loss: 0.0045 - tp: 4641.0000 - fp: 89.0000 - tn: 135468.0000 - fn: 119.0000 - accuracy: 0.9985 - precision: 0.9812 - recall: 0.9750 - auc: 0.9996 - val_loss: 0.0482 - val_tp: 1.0000 - val_fp: 6.0000 - val_tn: 33904.0000 - val_fn: 64.0000 - val_accuracy: 0.9979 - val_precision: 0.1429 - val_recall: 0.0154 - val_auc: 0.5146\n",
      "Epoch 14/20\n",
      "140317/140317 [==============================] - 10s 75us/sample - loss: 0.0037 - tp: 4669.0000 - fp: 75.0000 - tn: 135482.0000 - fn: 91.0000 - accuracy: 0.9988 - precision: 0.9842 - recall: 0.9809 - auc: 0.9993 - val_loss: 0.0490 - val_tp: 1.0000 - val_fp: 3.0000 - val_tn: 33907.0000 - val_fn: 64.0000 - val_accuracy: 0.9980 - val_precision: 0.2500 - val_recall: 0.0154 - val_auc: 0.5071\n",
      "Epoch 15/20\n",
      "140317/140317 [==============================] - 10s 71us/sample - loss: 0.0041 - tp: 4658.0000 - fp: 76.0000 - tn: 135481.0000 - fn: 102.0000 - accuracy: 0.9987 - precision: 0.9839 - recall: 0.9786 - auc: 0.9994 - val_loss: 0.0474 - val_tp: 1.0000 - val_fp: 8.0000 - val_tn: 33902.0000 - val_fn: 64.0000 - val_accuracy: 0.9979 - val_precision: 0.1111 - val_recall: 0.0154 - val_auc: 0.5144\n",
      "Epoch 16/20\n",
      "140317/140317 [==============================] - 10s 72us/sample - loss: 0.0041 - tp: 4663.0000 - fp: 82.0000 - tn: 135475.0000 - fn: 97.0000 - accuracy: 0.9987 - precision: 0.9827 - recall: 0.9796 - auc: 0.9996 - val_loss: 0.0497 - val_tp: 2.0000 - val_fp: 8.0000 - val_tn: 33902.0000 - val_fn: 63.0000 - val_accuracy: 0.9979 - val_precision: 0.2000 - val_recall: 0.0308 - val_auc: 0.5290\n",
      "Epoch 17/20\n",
      "140317/140317 [==============================] - 12s 85us/sample - loss: 0.0034 - tp: 4687.0000 - fp: 64.0000 - tn: 135493.0000 - fn: 73.0000 - accuracy: 0.9990 - precision: 0.9865 - recall: 0.9847 - auc: 0.9996 - val_loss: 0.0497 - val_tp: 1.0000 - val_fp: 9.0000 - val_tn: 33901.0000 - val_fn: 64.0000 - val_accuracy: 0.9979 - val_precision: 0.1000 - val_recall: 0.0154 - val_auc: 0.5292\n",
      "Epoch 18/20\n",
      "140317/140317 [==============================] - 13s 89us/sample - loss: 0.0038 - tp: 4665.0000 - fp: 75.0000 - tn: 135482.0000 - fn: 95.0000 - accuracy: 0.9988 - precision: 0.9842 - recall: 0.9800 - auc: 0.9993 - val_loss: 0.0511 - val_tp: 1.0000 - val_fp: 6.0000 - val_tn: 33904.0000 - val_fn: 64.0000 - val_accuracy: 0.9979 - val_precision: 0.1429 - val_recall: 0.0154 - val_auc: 0.5145\n",
      "Epoch 19/20\n",
      "140317/140317 [==============================] - 13s 91us/sample - loss: 0.0032 - tp: 4665.0000 - fp: 59.0000 - tn: 135498.0000 - fn: 95.0000 - accuracy: 0.9989 - precision: 0.9875 - recall: 0.9800 - auc: 0.9994 - val_loss: 0.0515 - val_tp: 1.0000 - val_fp: 12.0000 - val_tn: 33898.0000 - val_fn: 64.0000 - val_accuracy: 0.9978 - val_precision: 0.0769 - val_recall: 0.0154 - val_auc: 0.5124\n",
      "Epoch 20/20\n",
      "140317/140317 [==============================] - 12s 84us/sample - loss: 0.0040 - tp: 4679.0000 - fp: 71.0000 - tn: 135486.0000 - fn: 81.0000 - accuracy: 0.9989 - precision: 0.9851 - recall: 0.9830 - auc: 0.9993 - val_loss: 0.0535 - val_tp: 1.0000 - val_fp: 7.0000 - val_tn: 33903.0000 - val_fn: 64.0000 - val_accuracy: 0.9979 - val_precision: 0.1250 - val_recall: 0.0154 - val_auc: 0.5222\n"
     ]
    },
    {
     "data": {
      "text/plain": [
       "<tensorflow.python.keras.callbacks.History at 0x1d91fd650>"
      ]
     },
     "execution_count": 192,
     "metadata": {},
     "output_type": "execute_result"
    }
   ],
   "source": [
    "model_up = get_model_class_47_1()\n",
    "model_up.fit(\n",
    "    [x_img_train_up, x_txt_train_up],\n",
    "    y_train_up,\n",
    "    batch_size=2048,\n",
    "    validation_data=([x_img_val, x_txt_val], y_val_47),\n",
    "    epochs=20\n",
    ")"
   ]
  },
  {
   "cell_type": "code",
   "execution_count": 193,
   "metadata": {},
   "outputs": [
    {
     "name": "stdout",
     "output_type": "stream",
     "text": [
      "Train on 140317 samples, validate on 33975 samples\n",
      "Epoch 1/20\n",
      "140317/140317 [==============================] - 12s 82us/sample - loss: 0.0035 - tp: 4680.0000 - fp: 66.0000 - tn: 135491.0000 - fn: 80.0000 - accuracy: 0.9990 - precision: 0.9861 - recall: 0.9832 - auc: 0.9996 - val_loss: 0.0540 - val_tp: 1.0000 - val_fp: 6.0000 - val_tn: 33904.0000 - val_fn: 64.0000 - val_accuracy: 0.9979 - val_precision: 0.1429 - val_recall: 0.0154 - val_auc: 0.5069\n",
      "Epoch 2/20\n",
      "140317/140317 [==============================] - 10s 73us/sample - loss: 0.0033 - tp: 4682.0000 - fp: 64.0000 - tn: 135493.0000 - fn: 78.0000 - accuracy: 0.9990 - precision: 0.9865 - recall: 0.9836 - auc: 0.9990 - val_loss: 0.0564 - val_tp: 1.0000 - val_fp: 5.0000 - val_tn: 33905.0000 - val_fn: 64.0000 - val_accuracy: 0.9980 - val_precision: 0.1667 - val_recall: 0.0154 - val_auc: 0.5072\n",
      "Epoch 3/20\n",
      "140317/140317 [==============================] - 11s 79us/sample - loss: 0.0033 - tp: 4693.0000 - fp: 54.0000 - tn: 135503.0000 - fn: 67.0000 - accuracy: 0.9991 - precision: 0.9886 - recall: 0.9859 - auc: 0.9991 - val_loss: 0.0538 - val_tp: 1.0000 - val_fp: 5.0000 - val_tn: 33905.0000 - val_fn: 64.0000 - val_accuracy: 0.9980 - val_precision: 0.1667 - val_recall: 0.0154 - val_auc: 0.5070\n",
      "Epoch 4/20\n",
      "140317/140317 [==============================] - 9s 68us/sample - loss: 0.0033 - tp: 4694.0000 - fp: 66.0000 - tn: 135491.0000 - fn: 66.0000 - accuracy: 0.9991 - precision: 0.9861 - recall: 0.9861 - auc: 0.9994 - val_loss: 0.0566 - val_tp: 1.0000 - val_fp: 4.0000 - val_tn: 33906.0000 - val_fn: 64.0000 - val_accuracy: 0.9980 - val_precision: 0.2000 - val_recall: 0.0154 - val_auc: 0.5226\n",
      "Epoch 5/20\n",
      "140317/140317 [==============================] - 10s 71us/sample - loss: 0.0031 - tp: 4695.0000 - fp: 53.0000 - tn: 135504.0000 - fn: 65.0000 - accuracy: 0.9992 - precision: 0.9888 - recall: 0.9863 - auc: 0.9997 - val_loss: 0.0529 - val_tp: 1.0000 - val_fp: 8.0000 - val_tn: 33902.0000 - val_fn: 64.0000 - val_accuracy: 0.9979 - val_precision: 0.1111 - val_recall: 0.0154 - val_auc: 0.5146\n",
      "Epoch 6/20\n",
      "140317/140317 [==============================] - 10s 69us/sample - loss: 0.0034 - tp: 4693.0000 - fp: 56.0000 - tn: 135501.0000 - fn: 67.0000 - accuracy: 0.9991 - precision: 0.9882 - recall: 0.9859 - auc: 0.9996 - val_loss: 0.0562 - val_tp: 1.0000 - val_fp: 4.0000 - val_tn: 33906.0000 - val_fn: 64.0000 - val_accuracy: 0.9980 - val_precision: 0.2000 - val_recall: 0.0154 - val_auc: 0.5071\n",
      "Epoch 7/20\n",
      "140317/140317 [==============================] - 11s 79us/sample - loss: 0.0030 - tp: 4699.0000 - fp: 47.0000 - tn: 135510.0000 - fn: 61.0000 - accuracy: 0.9992 - precision: 0.9901 - recall: 0.9872 - auc: 0.9994 - val_loss: 0.0522 - val_tp: 1.0000 - val_fp: 7.0000 - val_tn: 33903.0000 - val_fn: 64.0000 - val_accuracy: 0.9979 - val_precision: 0.1250 - val_recall: 0.0154 - val_auc: 0.5146\n",
      "Epoch 8/20\n",
      "140317/140317 [==============================] - 10s 69us/sample - loss: 0.0026 - tp: 4702.0000 - fp: 45.0000 - tn: 135512.0000 - fn: 58.0000 - accuracy: 0.9993 - precision: 0.9905 - recall: 0.9878 - auc: 0.9997 - val_loss: 0.0546 - val_tp: 1.0000 - val_fp: 8.0000 - val_tn: 33902.0000 - val_fn: 64.0000 - val_accuracy: 0.9979 - val_precision: 0.1111 - val_recall: 0.0154 - val_auc: 0.5147\n",
      "Epoch 9/20\n",
      "140317/140317 [==============================] - 10s 71us/sample - loss: 0.0021 - tp: 4709.0000 - fp: 35.0000 - tn: 135522.0000 - fn: 51.0000 - accuracy: 0.9994 - precision: 0.9926 - recall: 0.9893 - auc: 0.9994 - val_loss: 0.0545 - val_tp: 1.0000 - val_fp: 7.0000 - val_tn: 33903.0000 - val_fn: 64.0000 - val_accuracy: 0.9979 - val_precision: 0.1250 - val_recall: 0.0154 - val_auc: 0.5071\n",
      "Epoch 10/20\n",
      "140317/140317 [==============================] - 11s 80us/sample - loss: 0.0025 - tp: 4723.0000 - fp: 42.0000 - tn: 135515.0000 - fn: 37.0000 - accuracy: 0.9994 - precision: 0.9912 - recall: 0.9922 - auc: 0.9995 - val_loss: 0.0558 - val_tp: 1.0000 - val_fp: 6.0000 - val_tn: 33904.0000 - val_fn: 64.0000 - val_accuracy: 0.9979 - val_precision: 0.1429 - val_recall: 0.0154 - val_auc: 0.5148\n",
      "Epoch 11/20\n",
      "140317/140317 [==============================] - 9s 67us/sample - loss: 0.0021 - tp: 4722.0000 - fp: 38.0000 - tn: 135519.0000 - fn: 38.0000 - accuracy: 0.9995 - precision: 0.9920 - recall: 0.9920 - auc: 0.9992 - val_loss: 0.0541 - val_tp: 1.0000 - val_fp: 5.0000 - val_tn: 33905.0000 - val_fn: 64.0000 - val_accuracy: 0.9980 - val_precision: 0.1667 - val_recall: 0.0154 - val_auc: 0.5224\n",
      "Epoch 12/20\n",
      "140317/140317 [==============================] - 9s 68us/sample - loss: 0.0027 - tp: 4707.0000 - fp: 41.0000 - tn: 135516.0000 - fn: 53.0000 - accuracy: 0.9993 - precision: 0.9914 - recall: 0.9889 - auc: 0.9997 - val_loss: 0.0548 - val_tp: 1.0000 - val_fp: 9.0000 - val_tn: 33901.0000 - val_fn: 64.0000 - val_accuracy: 0.9979 - val_precision: 0.1000 - val_recall: 0.0154 - val_auc: 0.5299\n",
      "Epoch 13/20\n",
      "140317/140317 [==============================] - 12s 82us/sample - loss: 0.0024 - tp: 4712.0000 - fp: 41.0000 - tn: 135516.0000 - fn: 48.0000 - accuracy: 0.9994 - precision: 0.9914 - recall: 0.9899 - auc: 0.9999 - val_loss: 0.0556 - val_tp: 1.0000 - val_fp: 5.0000 - val_tn: 33905.0000 - val_fn: 64.0000 - val_accuracy: 0.9980 - val_precision: 0.1667 - val_recall: 0.0154 - val_auc: 0.5375\n",
      "Epoch 14/20\n",
      "140317/140317 [==============================] - 11s 78us/sample - loss: 0.0026 - tp: 4693.0000 - fp: 44.0000 - tn: 135513.0000 - fn: 67.0000 - accuracy: 0.9992 - precision: 0.9907 - recall: 0.9859 - auc: 0.9992 - val_loss: 0.0516 - val_tp: 1.0000 - val_fp: 7.0000 - val_tn: 33903.0000 - val_fn: 64.0000 - val_accuracy: 0.9979 - val_precision: 0.1250 - val_recall: 0.0154 - val_auc: 0.5219\n",
      "Epoch 15/20\n",
      "140317/140317 [==============================] - 10s 72us/sample - loss: 0.0024 - tp: 4722.0000 - fp: 39.0000 - tn: 135518.0000 - fn: 38.0000 - accuracy: 0.9995 - precision: 0.9918 - recall: 0.9920 - auc: 0.9996 - val_loss: 0.0528 - val_tp: 1.0000 - val_fp: 6.0000 - val_tn: 33904.0000 - val_fn: 64.0000 - val_accuracy: 0.9979 - val_precision: 0.1429 - val_recall: 0.0154 - val_auc: 0.5148\n",
      "Epoch 16/20\n",
      "140317/140317 [==============================] - 10s 75us/sample - loss: 0.0019 - tp: 4722.0000 - fp: 32.0000 - tn: 135525.0000 - fn: 38.0000 - accuracy: 0.9995 - precision: 0.9933 - recall: 0.9920 - auc: 0.9999 - val_loss: 0.0551 - val_tp: 1.0000 - val_fp: 8.0000 - val_tn: 33902.0000 - val_fn: 64.0000 - val_accuracy: 0.9979 - val_precision: 0.1111 - val_recall: 0.0154 - val_auc: 0.5143\n",
      "Epoch 17/20\n",
      "140317/140317 [==============================] - 13s 92us/sample - loss: 0.0023 - tp: 4720.0000 - fp: 38.0000 - tn: 135519.0000 - fn: 40.0000 - accuracy: 0.9994 - precision: 0.9920 - recall: 0.9916 - auc: 0.9993 - val_loss: 0.0549 - val_tp: 1.0000 - val_fp: 5.0000 - val_tn: 33905.0000 - val_fn: 64.0000 - val_accuracy: 0.9980 - val_precision: 0.1667 - val_recall: 0.0154 - val_auc: 0.5073\n",
      "Epoch 18/20\n",
      "140317/140317 [==============================] - 14s 103us/sample - loss: 0.0021 - tp: 4723.0000 - fp: 35.0000 - tn: 135522.0000 - fn: 37.0000 - accuracy: 0.9995 - precision: 0.9926 - recall: 0.9922 - auc: 0.9994 - val_loss: 0.0537 - val_tp: 1.0000 - val_fp: 4.0000 - val_tn: 33906.0000 - val_fn: 64.0000 - val_accuracy: 0.9980 - val_precision: 0.2000 - val_recall: 0.0154 - val_auc: 0.5148\n",
      "Epoch 19/20\n",
      "140317/140317 [==============================] - 11s 75us/sample - loss: 0.0015 - tp: 4725.0000 - fp: 30.0000 - tn: 135527.0000 - fn: 35.0000 - accuracy: 0.9995 - precision: 0.9937 - recall: 0.9926 - auc: 0.9998 - val_loss: 0.0573 - val_tp: 1.0000 - val_fp: 5.0000 - val_tn: 33905.0000 - val_fn: 64.0000 - val_accuracy: 0.9980 - val_precision: 0.1667 - val_recall: 0.0154 - val_auc: 0.5071\n",
      "Epoch 20/20\n",
      "140317/140317 [==============================] - 10s 71us/sample - loss: 0.0017 - tp: 4734.0000 - fp: 28.0000 - tn: 135529.0000 - fn: 26.0000 - accuracy: 0.9996 - precision: 0.9941 - recall: 0.9945 - auc: 0.9997 - val_loss: 0.0572 - val_tp: 1.0000 - val_fp: 3.0000 - val_tn: 33907.0000 - val_fn: 64.0000 - val_accuracy: 0.9980 - val_precision: 0.2500 - val_recall: 0.0154 - val_auc: 0.5073\n"
     ]
    },
    {
     "data": {
      "text/plain": [
       "<tensorflow.python.keras.callbacks.History at 0x18868fb50>"
      ]
     },
     "execution_count": 193,
     "metadata": {},
     "output_type": "execute_result"
    }
   ],
   "source": [
    "model_up.fit(\n",
    "    [x_img_train_up, x_txt_train_up],\n",
    "    y_train_up,\n",
    "    batch_size=2048,\n",
    "    validation_data=([x_img_val, x_txt_val], y_val_47),\n",
    "    epochs=20\n",
    ")"
   ]
  },
  {
   "cell_type": "code",
   "execution_count": null,
   "metadata": {},
   "outputs": [],
   "source": [
    "ev = model_up.evaluate([x_img_test, x_txt_test], y_test_47)"
   ]
  },
  {
   "cell_type": "code",
   "execution_count": 196,
   "metadata": {},
   "outputs": [
    {
     "name": "stdout",
     "output_type": "stream",
     "text": [
      "[0.064368234744062, 0.0, 3.0, 42367.0, 98.0, 0.9976217, 0.0, 0.0, 0.50470144]\n"
     ]
    }
   ],
   "source": [
    "print(ev)"
   ]
  },
  {
   "cell_type": "code",
   "execution_count": 197,
   "metadata": {},
   "outputs": [
    {
     "name": "stdout",
     "output_type": "stream",
     "text": [
      "Train on 145417 samples, validate on 33975 samples\n",
      "Epoch 1/30\n",
      "145417/145417 [==============================] - 31s 215us/sample - loss: 0.2638 - tp: 2144.0000 - fp: 3483.0000 - tn: 132074.0000 - fn: 7716.0000 - accuracy: 0.9230 - precision: 0.3810 - recall: 0.2174 - auc: 0.7718 - val_loss: 0.0245 - val_tp: 2.0000 - val_fp: 44.0000 - val_tn: 33866.0000 - val_fn: 63.0000 - val_accuracy: 0.9969 - val_precision: 0.0435 - val_recall: 0.0308 - val_auc: 0.7066\n",
      "Epoch 2/30\n",
      "145417/145417 [==============================] - 13s 87us/sample - loss: 0.1061 - tp: 5771.0000 - fp: 1774.0000 - tn: 133783.0000 - fn: 4089.0000 - accuracy: 0.9597 - precision: 0.7649 - recall: 0.5853 - auc: 0.9620 - val_loss: 0.0207 - val_tp: 1.0000 - val_fp: 23.0000 - val_tn: 33887.0000 - val_fn: 64.0000 - val_accuracy: 0.9974 - val_precision: 0.0417 - val_recall: 0.0154 - val_auc: 0.5517\n",
      "Epoch 3/30\n",
      "145417/145417 [==============================] - 9s 59us/sample - loss: 0.0463 - tp: 8210.0000 - fp: 879.0000 - tn: 134678.0000 - fn: 1650.0000 - accuracy: 0.9826 - precision: 0.9033 - recall: 0.8327 - auc: 0.9927 - val_loss: 0.0212 - val_tp: 1.0000 - val_fp: 20.0000 - val_tn: 33890.0000 - val_fn: 64.0000 - val_accuracy: 0.9975 - val_precision: 0.0476 - val_recall: 0.0154 - val_auc: 0.5476\n",
      "Epoch 4/30\n",
      "145417/145417 [==============================] - 11s 74us/sample - loss: 0.0245 - tp: 9038.0000 - fp: 480.0000 - tn: 135077.0000 - fn: 822.0000 - accuracy: 0.9910 - precision: 0.9496 - recall: 0.9166 - auc: 0.9981 - val_loss: 0.0252 - val_tp: 1.0000 - val_fp: 22.0000 - val_tn: 33888.0000 - val_fn: 64.0000 - val_accuracy: 0.9975 - val_precision: 0.0435 - val_recall: 0.0154 - val_auc: 0.5223\n",
      "Epoch 5/30\n",
      "145417/145417 [==============================] - 9s 60us/sample - loss: 0.0158 - tp: 9356.0000 - fp: 323.0000 - tn: 135234.0000 - fn: 504.0000 - accuracy: 0.9943 - precision: 0.9666 - recall: 0.9489 - auc: 0.9992 - val_loss: 0.0263 - val_tp: 1.0000 - val_fp: 8.0000 - val_tn: 33902.0000 - val_fn: 64.0000 - val_accuracy: 0.9979 - val_precision: 0.1111 - val_recall: 0.0154 - val_auc: 0.5215\n",
      "Epoch 6/30\n",
      "145417/145417 [==============================] - 9s 62us/sample - loss: 0.0104 - tp: 9558.0000 - fp: 226.0000 - tn: 135331.0000 - fn: 302.0000 - accuracy: 0.9964 - precision: 0.9769 - recall: 0.9694 - auc: 0.9996 - val_loss: 0.0293 - val_tp: 1.0000 - val_fp: 9.0000 - val_tn: 33901.0000 - val_fn: 64.0000 - val_accuracy: 0.9979 - val_precision: 0.1000 - val_recall: 0.0154 - val_auc: 0.5242\n",
      "Epoch 7/30\n",
      "145417/145417 [==============================] - 9s 65us/sample - loss: 0.0077 - tp: 9659.0000 - fp: 171.0000 - tn: 135386.0000 - fn: 201.0000 - accuracy: 0.9974 - precision: 0.9826 - recall: 0.9796 - auc: 0.9998 - val_loss: 0.0306 - val_tp: 1.0000 - val_fp: 8.0000 - val_tn: 33902.0000 - val_fn: 64.0000 - val_accuracy: 0.9979 - val_precision: 0.1111 - val_recall: 0.0154 - val_auc: 0.5272\n",
      "Epoch 8/30\n",
      "145417/145417 [==============================] - 9s 63us/sample - loss: 0.0070 - tp: 9661.0000 - fp: 139.0000 - tn: 135418.0000 - fn: 199.0000 - accuracy: 0.9977 - precision: 0.9858 - recall: 0.9798 - auc: 0.9998 - val_loss: 0.0325 - val_tp: 1.0000 - val_fp: 7.0000 - val_tn: 33903.0000 - val_fn: 64.0000 - val_accuracy: 0.9979 - val_precision: 0.1250 - val_recall: 0.0154 - val_auc: 0.5193\n",
      "Epoch 9/30\n",
      "145417/145417 [==============================] - 11s 74us/sample - loss: 0.0056 - tp: 9732.0000 - fp: 114.0000 - tn: 135443.0000 - fn: 128.0000 - accuracy: 0.9983 - precision: 0.9884 - recall: 0.9870 - auc: 0.9997 - val_loss: 0.0345 - val_tp: 1.0000 - val_fp: 7.0000 - val_tn: 33903.0000 - val_fn: 64.0000 - val_accuracy: 0.9979 - val_precision: 0.1250 - val_recall: 0.0154 - val_auc: 0.5125\n",
      "Epoch 10/30\n",
      "145417/145417 [==============================] - 10s 67us/sample - loss: 0.0047 - tp: 9756.0000 - fp: 102.0000 - tn: 135455.0000 - fn: 104.0000 - accuracy: 0.9986 - precision: 0.9897 - recall: 0.9895 - auc: 0.9997 - val_loss: 0.0363 - val_tp: 1.0000 - val_fp: 7.0000 - val_tn: 33903.0000 - val_fn: 64.0000 - val_accuracy: 0.9979 - val_precision: 0.1250 - val_recall: 0.0154 - val_auc: 0.5129\n",
      "Epoch 11/30\n",
      "145417/145417 [==============================] - 9s 65us/sample - loss: 0.0042 - tp: 9749.0000 - fp: 78.0000 - tn: 135479.0000 - fn: 111.0000 - accuracy: 0.9987 - precision: 0.9921 - recall: 0.9887 - auc: 0.9997 - val_loss: 0.0376 - val_tp: 1.0000 - val_fp: 10.0000 - val_tn: 33900.0000 - val_fn: 64.0000 - val_accuracy: 0.9978 - val_precision: 0.0909 - val_recall: 0.0154 - val_auc: 0.5286\n",
      "Epoch 12/30\n",
      "145417/145417 [==============================] - 9s 64us/sample - loss: 0.0040 - tp: 9771.0000 - fp: 80.0000 - tn: 135477.0000 - fn: 89.0000 - accuracy: 0.9988 - precision: 0.9919 - recall: 0.9910 - auc: 0.9999 - val_loss: 0.0390 - val_tp: 1.0000 - val_fp: 8.0000 - val_tn: 33902.0000 - val_fn: 64.0000 - val_accuracy: 0.9979 - val_precision: 0.1111 - val_recall: 0.0154 - val_auc: 0.5058\n",
      "Epoch 13/30\n",
      "145417/145417 [==============================] - 10s 67us/sample - loss: 0.0041 - tp: 9772.0000 - fp: 85.0000 - tn: 135472.0000 - fn: 88.0000 - accuracy: 0.9988 - precision: 0.9914 - recall: 0.9911 - auc: 0.9997 - val_loss: 0.0409 - val_tp: 1.0000 - val_fp: 6.0000 - val_tn: 33904.0000 - val_fn: 64.0000 - val_accuracy: 0.9979 - val_precision: 0.1429 - val_recall: 0.0154 - val_auc: 0.5292\n",
      "Epoch 14/30\n",
      "145417/145417 [==============================] - 9s 63us/sample - loss: 0.0032 - tp: 9794.0000 - fp: 69.0000 - tn: 135488.0000 - fn: 66.0000 - accuracy: 0.9991 - precision: 0.9930 - recall: 0.9933 - auc: 0.9999 - val_loss: 0.0428 - val_tp: 1.0000 - val_fp: 5.0000 - val_tn: 33905.0000 - val_fn: 64.0000 - val_accuracy: 0.9980 - val_precision: 0.1667 - val_recall: 0.0154 - val_auc: 0.5220\n",
      "Epoch 15/30\n",
      "145417/145417 [==============================] - 10s 66us/sample - loss: 0.0036 - tp: 9791.0000 - fp: 73.0000 - tn: 135484.0000 - fn: 69.0000 - accuracy: 0.9990 - precision: 0.9926 - recall: 0.9930 - auc: 0.9999 - val_loss: 0.0448 - val_tp: 1.0000 - val_fp: 10.0000 - val_tn: 33900.0000 - val_fn: 64.0000 - val_accuracy: 0.9978 - val_precision: 0.0909 - val_recall: 0.0154 - val_auc: 0.5134\n",
      "Epoch 16/30\n",
      "145417/145417 [==============================] - 10s 66us/sample - loss: 0.0032 - tp: 9790.0000 - fp: 62.0000 - tn: 135495.0000 - fn: 70.0000 - accuracy: 0.9991 - precision: 0.9937 - recall: 0.9929 - auc: 0.9998 - val_loss: 0.0452 - val_tp: 1.0000 - val_fp: 8.0000 - val_tn: 33902.0000 - val_fn: 64.0000 - val_accuracy: 0.9979 - val_precision: 0.1111 - val_recall: 0.0154 - val_auc: 0.5216\n",
      "Epoch 17/30\n",
      "145417/145417 [==============================] - 10s 66us/sample - loss: 0.0037 - tp: 9782.0000 - fp: 73.0000 - tn: 135484.0000 - fn: 78.0000 - accuracy: 0.9990 - precision: 0.9926 - recall: 0.9921 - auc: 0.9998 - val_loss: 0.0454 - val_tp: 1.0000 - val_fp: 7.0000 - val_tn: 33903.0000 - val_fn: 64.0000 - val_accuracy: 0.9979 - val_precision: 0.1250 - val_recall: 0.0154 - val_auc: 0.5142\n",
      "Epoch 18/30\n",
      "145417/145417 [==============================] - 10s 67us/sample - loss: 0.0042 - tp: 9776.0000 - fp: 78.0000 - tn: 135479.0000 - fn: 84.0000 - accuracy: 0.9989 - precision: 0.9921 - recall: 0.9915 - auc: 0.9997 - val_loss: 0.0454 - val_tp: 2.0000 - val_fp: 7.0000 - val_tn: 33903.0000 - val_fn: 63.0000 - val_accuracy: 0.9979 - val_precision: 0.2222 - val_recall: 0.0308 - val_auc: 0.5293\n",
      "Epoch 19/30\n",
      "145417/145417 [==============================] - 10s 66us/sample - loss: 0.0038 - tp: 9778.0000 - fp: 76.0000 - tn: 135481.0000 - fn: 82.0000 - accuracy: 0.9989 - precision: 0.9923 - recall: 0.9917 - auc: 0.9997 - val_loss: 0.0491 - val_tp: 1.0000 - val_fp: 7.0000 - val_tn: 33903.0000 - val_fn: 64.0000 - val_accuracy: 0.9979 - val_precision: 0.1250 - val_recall: 0.0154 - val_auc: 0.5136\n",
      "Epoch 20/30\n",
      "145417/145417 [==============================] - 10s 65us/sample - loss: 0.0033 - tp: 9788.0000 - fp: 74.0000 - tn: 135483.0000 - fn: 72.0000 - accuracy: 0.9990 - precision: 0.9925 - recall: 0.9927 - auc: 0.9998 - val_loss: 0.0511 - val_tp: 1.0000 - val_fp: 6.0000 - val_tn: 33904.0000 - val_fn: 64.0000 - val_accuracy: 0.9979 - val_precision: 0.1429 - val_recall: 0.0154 - val_auc: 0.5143\n",
      "Epoch 21/30\n"
     ]
    },
    {
     "name": "stdout",
     "output_type": "stream",
     "text": [
      "145417/145417 [==============================] - 10s 66us/sample - loss: 0.0037 - tp: 9784.0000 - fp: 75.0000 - tn: 135482.0000 - fn: 76.0000 - accuracy: 0.9990 - precision: 0.9924 - recall: 0.9923 - auc: 0.9997 - val_loss: 0.0508 - val_tp: 1.0000 - val_fp: 6.0000 - val_tn: 33904.0000 - val_fn: 64.0000 - val_accuracy: 0.9979 - val_precision: 0.1429 - val_recall: 0.0154 - val_auc: 0.5147\n",
      "Epoch 22/30\n",
      "145417/145417 [==============================] - 10s 66us/sample - loss: 0.0036 - tp: 9793.0000 - fp: 67.0000 - tn: 135490.0000 - fn: 67.0000 - accuracy: 0.9991 - precision: 0.9932 - recall: 0.9932 - auc: 0.9998 - val_loss: 0.0517 - val_tp: 1.0000 - val_fp: 8.0000 - val_tn: 33902.0000 - val_fn: 64.0000 - val_accuracy: 0.9979 - val_precision: 0.1111 - val_recall: 0.0154 - val_auc: 0.5069\n",
      "Epoch 23/30\n",
      "145417/145417 [==============================] - 9s 65us/sample - loss: 0.0042 - tp: 9769.0000 - fp: 89.0000 - tn: 135468.0000 - fn: 91.0000 - accuracy: 0.9988 - precision: 0.9910 - recall: 0.9908 - auc: 0.9997 - val_loss: 0.0512 - val_tp: 1.0000 - val_fp: 10.0000 - val_tn: 33900.0000 - val_fn: 64.0000 - val_accuracy: 0.9978 - val_precision: 0.0909 - val_recall: 0.0154 - val_auc: 0.5142\n",
      "Epoch 24/30\n",
      "145417/145417 [==============================] - 10s 66us/sample - loss: 0.0037 - tp: 9772.0000 - fp: 84.0000 - tn: 135473.0000 - fn: 88.0000 - accuracy: 0.9988 - precision: 0.9915 - recall: 0.9911 - auc: 0.9997 - val_loss: 0.0530 - val_tp: 1.0000 - val_fp: 8.0000 - val_tn: 33902.0000 - val_fn: 64.0000 - val_accuracy: 0.9979 - val_precision: 0.1111 - val_recall: 0.0154 - val_auc: 0.5146\n",
      "Epoch 25/30\n",
      "145417/145417 [==============================] - 9s 64us/sample - loss: 0.0032 - tp: 9792.0000 - fp: 73.0000 - tn: 135484.0000 - fn: 68.0000 - accuracy: 0.9990 - precision: 0.9926 - recall: 0.9931 - auc: 0.9997 - val_loss: 0.0564 - val_tp: 1.0000 - val_fp: 6.0000 - val_tn: 33904.0000 - val_fn: 64.0000 - val_accuracy: 0.9979 - val_precision: 0.1429 - val_recall: 0.0154 - val_auc: 0.5148\n",
      "Epoch 26/30\n",
      "145417/145417 [==============================] - 11s 74us/sample - loss: 0.0030 - tp: 9791.0000 - fp: 67.0000 - tn: 135490.0000 - fn: 69.0000 - accuracy: 0.9991 - precision: 0.9932 - recall: 0.9930 - auc: 0.9998 - val_loss: 0.0563 - val_tp: 1.0000 - val_fp: 6.0000 - val_tn: 33904.0000 - val_fn: 64.0000 - val_accuracy: 0.9979 - val_precision: 0.1429 - val_recall: 0.0154 - val_auc: 0.5300\n",
      "Epoch 27/30\n",
      "145417/145417 [==============================] - 10s 67us/sample - loss: 0.0030 - tp: 9811.0000 - fp: 64.0000 - tn: 135493.0000 - fn: 49.0000 - accuracy: 0.9992 - precision: 0.9935 - recall: 0.9950 - auc: 0.9998 - val_loss: 0.0583 - val_tp: 1.0000 - val_fp: 7.0000 - val_tn: 33903.0000 - val_fn: 64.0000 - val_accuracy: 0.9979 - val_precision: 0.1250 - val_recall: 0.0154 - val_auc: 0.5221\n",
      "Epoch 28/30\n",
      "145417/145417 [==============================] - 12s 80us/sample - loss: 0.0033 - tp: 9790.0000 - fp: 73.0000 - tn: 135484.0000 - fn: 70.0000 - accuracy: 0.9990 - precision: 0.9926 - recall: 0.9929 - auc: 0.9997 - val_loss: 0.0572 - val_tp: 1.0000 - val_fp: 7.0000 - val_tn: 33903.0000 - val_fn: 64.0000 - val_accuracy: 0.9979 - val_precision: 0.1250 - val_recall: 0.0154 - val_auc: 0.5302\n",
      "Epoch 29/30\n",
      "145417/145417 [==============================] - 10s 67us/sample - loss: 0.0025 - tp: 9806.0000 - fp: 43.0000 - tn: 135514.0000 - fn: 54.0000 - accuracy: 0.9993 - precision: 0.9956 - recall: 0.9945 - auc: 0.9998 - val_loss: 0.0609 - val_tp: 1.0000 - val_fp: 6.0000 - val_tn: 33904.0000 - val_fn: 64.0000 - val_accuracy: 0.9979 - val_precision: 0.1429 - val_recall: 0.0154 - val_auc: 0.5148\n",
      "Epoch 30/30\n",
      "145417/145417 [==============================] - 9s 63us/sample - loss: 0.0028 - tp: 9805.0000 - fp: 49.0000 - tn: 135508.0000 - fn: 55.0000 - accuracy: 0.9993 - precision: 0.9950 - recall: 0.9944 - auc: 0.9998 - val_loss: 0.0583 - val_tp: 1.0000 - val_fp: 7.0000 - val_tn: 33903.0000 - val_fn: 64.0000 - val_accuracy: 0.9979 - val_precision: 0.1250 - val_recall: 0.0154 - val_auc: 0.5301\n"
     ]
    },
    {
     "data": {
      "text/plain": [
       "<tensorflow.python.keras.callbacks.History at 0x1df18f250>"
      ]
     },
     "execution_count": 197,
     "metadata": {},
     "output_type": "execute_result"
    }
   ],
   "source": [
    "n_47_samples = 10000\n",
    "\n",
    "rep_coef = n_47_samples // x_img_train_47.shape[0]\n",
    "x_img_train_47_up = np.repeat(x_img_train_47, rep_coef, axis=0)\n",
    "x_txt_train_47_up = np.repeat(x_txt_train_47, rep_coef, axis=0)\n",
    "y_train_47_up = np.ones(x_img_train_47_up.shape[0])\n",
    "\n",
    "x_img_train_up = np.concatenate((x_img_train_others, x_img_train_47_up))\n",
    "x_txt_train_up = np.concatenate((x_txt_train_others, x_txt_train_47_up))\n",
    "y_train_up = np.concatenate((np.zeros(x_img_train_others.shape[0]), y_train_47_up))\n",
    "\n",
    "perm = np.random.permutation(len(y_train_up))\n",
    "x_img_train_up = x_img_train_up[perm]\n",
    "x_txt_train_up = x_txt_train_up[perm]\n",
    "y_train_up = y_train_up[perm]\n",
    "\n",
    "model_up_10000 = get_model_class_47_1()\n",
    "model_up_10000.fit(\n",
    "    [x_img_train_up, x_txt_train_up],\n",
    "    y_train_up,\n",
    "    batch_size=4096,\n",
    "    validation_data=([x_img_val, x_txt_val], y_val_47),\n",
    "    epochs=30\n",
    ")"
   ]
  },
  {
   "cell_type": "markdown",
   "metadata": {},
   "source": [
    "### More models"
   ]
  },
  {
   "cell_type": "code",
   "execution_count": 200,
   "metadata": {},
   "outputs": [],
   "source": [
    "def get_model_47_2():\n",
    "    output_bias = tf.keras.initializers.Constant(init_bias)\n",
    "    \n",
    "    inp_img = Input(shape=(1024,))\n",
    "    x_img = Dense(512, activation='relu')(inp_img)\n",
    "    x_img = Dropout(0.5)(x_img)\n",
    "    x_img = Dense(512, activation='relu')(x_img)\n",
    "    x_img = Dropout(0.5)(x_img)\n",
    "    \n",
    "    inp_txt = Input(shape=(300,))\n",
    "    x_txt = Dense(256, activation='relu')(inp_txt)\n",
    "    x_txt = Dropout(0.5)(x_txt)\n",
    "    x_txt = Dense(256, activation='relu')(inp_txt)\n",
    "    x_txt = Dropout(0.5)(x_txt)\n",
    "    \n",
    "    x = concatenate([x_img, x_txt])\n",
    "    x = Dense(128)(x)\n",
    "    x = Dropout(0.5)(x)\n",
    "    x = Dense(128)(x)\n",
    "    x = Dropout(0.5)(x)\n",
    "    out = Dense(1, activation='sigmoid',  bias_initializer=output_bias)(x)\n",
    "\n",
    "    model = Model(inputs=[inp_img, inp_txt], outputs=out)\n",
    "    model.compile(optimizer=tf.keras.optimizers.Adam(lr=1e-3), loss='binary_crossentropy', metrics=METRICS)\n",
    "    return model"
   ]
  },
  {
   "cell_type": "code",
   "execution_count": 203,
   "metadata": {},
   "outputs": [
    {
     "name": "stdout",
     "output_type": "stream",
     "text": [
      "Train on 145417 samples, validate on 33975 samples\n",
      "Epoch 1/30\n",
      "145417/145417 [==============================] - 21s 141us/sample - loss: 0.3137 - tp: 1012.0000 - fp: 3195.0000 - tn: 132362.0000 - fn: 8848.0000 - accuracy: 0.9172 - precision: 0.2406 - recall: 0.1026 - auc: 0.6672 - val_loss: 0.0191 - val_tp: 0.0000e+00 - val_fp: 1.0000 - val_tn: 33909.0000 - val_fn: 65.0000 - val_accuracy: 0.9981 - val_precision: 0.0000e+00 - val_recall: 0.0000e+00 - val_auc: 0.7074\n",
      "Epoch 2/30\n",
      "145417/145417 [==============================] - 17s 119us/sample - loss: 0.1538 - tp: 4175.0000 - fp: 2136.0000 - tn: 133421.0000 - fn: 5685.0000 - accuracy: 0.9462 - precision: 0.6615 - recall: 0.4234 - auc: 0.9162 - val_loss: 0.0154 - val_tp: 1.0000 - val_fp: 1.0000 - val_tn: 33909.0000 - val_fn: 64.0000 - val_accuracy: 0.9981 - val_precision: 0.5000 - val_recall: 0.0154 - val_auc: 0.6057\n",
      "Epoch 3/30\n",
      "145417/145417 [==============================] - 15s 103us/sample - loss: 0.0608 - tp: 7718.0000 - fp: 1159.0000 - tn: 134398.0000 - fn: 2142.0000 - accuracy: 0.9773 - precision: 0.8694 - recall: 0.7828 - auc: 0.9874 - val_loss: 0.0198 - val_tp: 1.0000 - val_fp: 1.0000 - val_tn: 33909.0000 - val_fn: 64.0000 - val_accuracy: 0.9981 - val_precision: 0.5000 - val_recall: 0.0154 - val_auc: 0.5319\n",
      "Epoch 4/30\n",
      "145417/145417 [==============================] - 15s 105us/sample - loss: 0.0305 - tp: 8853.0000 - fp: 611.0000 - tn: 134946.0000 - fn: 1007.0000 - accuracy: 0.9889 - precision: 0.9354 - recall: 0.8979 - auc: 0.9963 - val_loss: 0.0241 - val_tp: 1.0000 - val_fp: 1.0000 - val_tn: 33909.0000 - val_fn: 64.0000 - val_accuracy: 0.9981 - val_precision: 0.5000 - val_recall: 0.0154 - val_auc: 0.5136\n",
      "Epoch 5/30\n",
      "145417/145417 [==============================] - 17s 115us/sample - loss: 0.0189 - tp: 9257.0000 - fp: 393.0000 - tn: 135164.0000 - fn: 603.0000 - accuracy: 0.9932 - precision: 0.9593 - recall: 0.9388 - auc: 0.9984 - val_loss: 0.0283 - val_tp: 1.0000 - val_fp: 2.0000 - val_tn: 33908.0000 - val_fn: 64.0000 - val_accuracy: 0.9981 - val_precision: 0.3333 - val_recall: 0.0154 - val_auc: 0.5070\n",
      "Epoch 6/30\n",
      "145417/145417 [==============================] - 17s 120us/sample - loss: 0.0144 - tp: 9462.0000 - fp: 300.0000 - tn: 135257.0000 - fn: 398.0000 - accuracy: 0.9952 - precision: 0.9693 - recall: 0.9596 - auc: 0.9987 - val_loss: 0.0297 - val_tp: 1.0000 - val_fp: 2.0000 - val_tn: 33908.0000 - val_fn: 64.0000 - val_accuracy: 0.9981 - val_precision: 0.3333 - val_recall: 0.0154 - val_auc: 0.5070\n",
      "Epoch 7/30\n",
      "145417/145417 [==============================] - 16s 110us/sample - loss: 0.0118 - tp: 9509.0000 - fp: 241.0000 - tn: 135316.0000 - fn: 351.0000 - accuracy: 0.9959 - precision: 0.9753 - recall: 0.9644 - auc: 0.9987 - val_loss: 0.0323 - val_tp: 1.0000 - val_fp: 3.0000 - val_tn: 33907.0000 - val_fn: 64.0000 - val_accuracy: 0.9980 - val_precision: 0.2500 - val_recall: 0.0154 - val_auc: 0.5071\n",
      "Epoch 8/30\n",
      "145417/145417 [==============================] - 13s 93us/sample - loss: 0.0095 - tp: 9596.0000 - fp: 207.0000 - tn: 135350.0000 - fn: 264.0000 - accuracy: 0.9968 - precision: 0.9789 - recall: 0.9732 - auc: 0.9991 - val_loss: 0.0344 - val_tp: 1.0000 - val_fp: 2.0000 - val_tn: 33908.0000 - val_fn: 64.0000 - val_accuracy: 0.9981 - val_precision: 0.3333 - val_recall: 0.0154 - val_auc: 0.5075\n",
      "Epoch 9/30\n",
      "145417/145417 [==============================] - 15s 101us/sample - loss: 0.0094 - tp: 9592.0000 - fp: 172.0000 - tn: 135385.0000 - fn: 268.0000 - accuracy: 0.9970 - precision: 0.9824 - recall: 0.9728 - auc: 0.9993 - val_loss: 0.0335 - val_tp: 1.0000 - val_fp: 2.0000 - val_tn: 33908.0000 - val_fn: 64.0000 - val_accuracy: 0.9981 - val_precision: 0.3333 - val_recall: 0.0154 - val_auc: 0.5071\n",
      "Epoch 10/30\n",
      "145417/145417 [==============================] - 13s 90us/sample - loss: 0.0084 - tp: 9633.0000 - fp: 163.0000 - tn: 135394.0000 - fn: 227.0000 - accuracy: 0.9973 - precision: 0.9834 - recall: 0.9770 - auc: 0.9993 - val_loss: 0.0344 - val_tp: 1.0000 - val_fp: 1.0000 - val_tn: 33909.0000 - val_fn: 64.0000 - val_accuracy: 0.9981 - val_precision: 0.5000 - val_recall: 0.0154 - val_auc: 0.5074\n",
      "Epoch 11/30\n",
      "145417/145417 [==============================] - 16s 109us/sample - loss: 0.0066 - tp: 9695.0000 - fp: 146.0000 - tn: 135411.0000 - fn: 165.0000 - accuracy: 0.9979 - precision: 0.9852 - recall: 0.9833 - auc: 0.9995 - val_loss: 0.0361 - val_tp: 1.0000 - val_fp: 3.0000 - val_tn: 33907.0000 - val_fn: 64.0000 - val_accuracy: 0.9980 - val_precision: 0.2500 - val_recall: 0.0154 - val_auc: 0.5075\n",
      "Epoch 12/30\n",
      "145417/145417 [==============================] - 15s 100us/sample - loss: 0.0059 - tp: 9714.0000 - fp: 119.0000 - tn: 135438.0000 - fn: 146.0000 - accuracy: 0.9982 - precision: 0.9879 - recall: 0.9852 - auc: 0.9995 - val_loss: 0.0375 - val_tp: 1.0000 - val_fp: 2.0000 - val_tn: 33908.0000 - val_fn: 64.0000 - val_accuracy: 0.9981 - val_precision: 0.3333 - val_recall: 0.0154 - val_auc: 0.5074\n",
      "Epoch 13/30\n",
      "145417/145417 [==============================] - 16s 108us/sample - loss: 0.0050 - tp: 9738.0000 - fp: 93.0000 - tn: 135464.0000 - fn: 122.0000 - accuracy: 0.9985 - precision: 0.9905 - recall: 0.9876 - auc: 0.9997 - val_loss: 0.0383 - val_tp: 1.0000 - val_fp: 3.0000 - val_tn: 33907.0000 - val_fn: 64.0000 - val_accuracy: 0.9980 - val_precision: 0.2500 - val_recall: 0.0154 - val_auc: 0.5075\n",
      "Epoch 14/30\n",
      "145417/145417 [==============================] - 15s 103us/sample - loss: 0.0054 - tp: 9723.0000 - fp: 101.0000 - tn: 135456.0000 - fn: 137.0000 - accuracy: 0.9984 - precision: 0.9897 - recall: 0.9861 - auc: 0.9997 - val_loss: 0.0380 - val_tp: 1.0000 - val_fp: 3.0000 - val_tn: 33907.0000 - val_fn: 64.0000 - val_accuracy: 0.9980 - val_precision: 0.2500 - val_recall: 0.0154 - val_auc: 0.5075\n",
      "Epoch 15/30\n",
      "145417/145417 [==============================] - 15s 104us/sample - loss: 0.0056 - tp: 9747.0000 - fp: 92.0000 - tn: 135465.0000 - fn: 113.0000 - accuracy: 0.9986 - precision: 0.9906 - recall: 0.9885 - auc: 0.9997 - val_loss: 0.0391 - val_tp: 1.0000 - val_fp: 2.0000 - val_tn: 33908.0000 - val_fn: 64.0000 - val_accuracy: 0.9981 - val_precision: 0.3333 - val_recall: 0.0154 - val_auc: 0.5075\n",
      "Epoch 16/30\n",
      "145417/145417 [==============================] - 15s 100us/sample - loss: 0.0042 - tp: 9757.0000 - fp: 91.0000 - tn: 135466.0000 - fn: 103.0000 - accuracy: 0.9987 - precision: 0.9908 - recall: 0.9896 - auc: 0.9998 - val_loss: 0.0391 - val_tp: 1.0000 - val_fp: 1.0000 - val_tn: 33909.0000 - val_fn: 64.0000 - val_accuracy: 0.9981 - val_precision: 0.5000 - val_recall: 0.0154 - val_auc: 0.5074\n",
      "Epoch 17/30\n",
      "145417/145417 [==============================] - 15s 106us/sample - loss: 0.0040 - tp: 9757.0000 - fp: 74.0000 - tn: 135483.0000 - fn: 103.0000 - accuracy: 0.9988 - precision: 0.9925 - recall: 0.9896 - auc: 0.9995 - val_loss: 0.0396 - val_tp: 1.0000 - val_fp: 2.0000 - val_tn: 33908.0000 - val_fn: 64.0000 - val_accuracy: 0.9981 - val_precision: 0.3333 - val_recall: 0.0154 - val_auc: 0.5075\n",
      "Epoch 18/30\n",
      "145417/145417 [==============================] - 15s 102us/sample - loss: 0.0038 - tp: 9781.0000 - fp: 82.0000 - tn: 135475.0000 - fn: 79.0000 - accuracy: 0.9989 - precision: 0.9917 - recall: 0.9920 - auc: 0.9998 - val_loss: 0.0413 - val_tp: 1.0000 - val_fp: 3.0000 - val_tn: 33907.0000 - val_fn: 64.0000 - val_accuracy: 0.9980 - val_precision: 0.2500 - val_recall: 0.0154 - val_auc: 0.5074\n",
      "Epoch 19/30\n",
      "145417/145417 [==============================] - 19s 133us/sample - loss: 0.0037 - tp: 9775.0000 - fp: 74.0000 - tn: 135483.0000 - fn: 85.0000 - accuracy: 0.9989 - precision: 0.9925 - recall: 0.9914 - auc: 0.9996 - val_loss: 0.0431 - val_tp: 1.0000 - val_fp: 1.0000 - val_tn: 33909.0000 - val_fn: 64.0000 - val_accuracy: 0.9981 - val_precision: 0.5000 - val_recall: 0.0154 - val_auc: 0.5076\n",
      "Epoch 20/30\n",
      "145417/145417 [==============================] - 16s 110us/sample - loss: 0.0038 - tp: 9781.0000 - fp: 75.0000 - tn: 135482.0000 - fn: 79.0000 - accuracy: 0.9989 - precision: 0.9924 - recall: 0.9920 - auc: 0.9996 - val_loss: 0.0424 - val_tp: 1.0000 - val_fp: 3.0000 - val_tn: 33907.0000 - val_fn: 64.0000 - val_accuracy: 0.9980 - val_precision: 0.2500 - val_recall: 0.0154 - val_auc: 0.5075\n",
      "Epoch 21/30\n"
     ]
    },
    {
     "name": "stdout",
     "output_type": "stream",
     "text": [
      "145417/145417 [==============================] - 17s 119us/sample - loss: 0.0035 - tp: 9782.0000 - fp: 69.0000 - tn: 135488.0000 - fn: 78.0000 - accuracy: 0.9990 - precision: 0.9930 - recall: 0.9921 - auc: 0.9997 - val_loss: 0.0420 - val_tp: 1.0000 - val_fp: 3.0000 - val_tn: 33907.0000 - val_fn: 64.0000 - val_accuracy: 0.9980 - val_precision: 0.2500 - val_recall: 0.0154 - val_auc: 0.5075\n",
      "Epoch 22/30\n",
      "145417/145417 [==============================] - 15s 102us/sample - loss: 0.0032 - tp: 9781.0000 - fp: 57.0000 - tn: 135500.0000 - fn: 79.0000 - accuracy: 0.9991 - precision: 0.9942 - recall: 0.9920 - auc: 0.9998 - val_loss: 0.0418 - val_tp: 1.0000 - val_fp: 4.0000 - val_tn: 33906.0000 - val_fn: 64.0000 - val_accuracy: 0.9980 - val_precision: 0.2000 - val_recall: 0.0154 - val_auc: 0.5075\n",
      "Epoch 23/30\n",
      "145417/145417 [==============================] - 15s 105us/sample - loss: 0.0032 - tp: 9792.0000 - fp: 63.0000 - tn: 135494.0000 - fn: 68.0000 - accuracy: 0.9991 - precision: 0.9936 - recall: 0.9931 - auc: 0.9997 - val_loss: 0.0447 - val_tp: 1.0000 - val_fp: 3.0000 - val_tn: 33907.0000 - val_fn: 64.0000 - val_accuracy: 0.9980 - val_precision: 0.2500 - val_recall: 0.0154 - val_auc: 0.5076\n",
      "Epoch 24/30\n",
      "145417/145417 [==============================] - 17s 114us/sample - loss: 0.0030 - tp: 9785.0000 - fp: 58.0000 - tn: 135499.0000 - fn: 75.0000 - accuracy: 0.9991 - precision: 0.9941 - recall: 0.9924 - auc: 0.9999 - val_loss: 0.0438 - val_tp: 1.0000 - val_fp: 3.0000 - val_tn: 33907.0000 - val_fn: 64.0000 - val_accuracy: 0.9980 - val_precision: 0.2500 - val_recall: 0.0154 - val_auc: 0.5075\n",
      "Epoch 25/30\n",
      "145417/145417 [==============================] - 14s 98us/sample - loss: 0.0029 - tp: 9795.0000 - fp: 60.0000 - tn: 135497.0000 - fn: 65.0000 - accuracy: 0.9991 - precision: 0.9939 - recall: 0.9934 - auc: 0.9997 - val_loss: 0.0450 - val_tp: 1.0000 - val_fp: 3.0000 - val_tn: 33907.0000 - val_fn: 64.0000 - val_accuracy: 0.9980 - val_precision: 0.2500 - val_recall: 0.0154 - val_auc: 0.5075\n",
      "Epoch 26/30\n",
      "145417/145417 [==============================] - 15s 102us/sample - loss: 0.0033 - tp: 9789.0000 - fp: 57.0000 - tn: 135500.0000 - fn: 71.0000 - accuracy: 0.9991 - precision: 0.9942 - recall: 0.9928 - auc: 0.9996 - val_loss: 0.0445 - val_tp: 1.0000 - val_fp: 5.0000 - val_tn: 33905.0000 - val_fn: 64.0000 - val_accuracy: 0.9980 - val_precision: 0.1667 - val_recall: 0.0154 - val_auc: 0.5075\n",
      "Epoch 27/30\n",
      "145417/145417 [==============================] - 18s 123us/sample - loss: 0.0028 - tp: 9805.0000 - fp: 49.0000 - tn: 135508.0000 - fn: 55.0000 - accuracy: 0.9993 - precision: 0.9950 - recall: 0.9944 - auc: 0.9997 - val_loss: 0.0442 - val_tp: 1.0000 - val_fp: 4.0000 - val_tn: 33906.0000 - val_fn: 64.0000 - val_accuracy: 0.9980 - val_precision: 0.2000 - val_recall: 0.0154 - val_auc: 0.5075\n",
      "Epoch 28/30\n",
      "145417/145417 [==============================] - 15s 105us/sample - loss: 0.0027 - tp: 9814.0000 - fp: 46.0000 - tn: 135511.0000 - fn: 46.0000 - accuracy: 0.9994 - precision: 0.9953 - recall: 0.9953 - auc: 0.9998 - val_loss: 0.0451 - val_tp: 1.0000 - val_fp: 3.0000 - val_tn: 33907.0000 - val_fn: 64.0000 - val_accuracy: 0.9980 - val_precision: 0.2500 - val_recall: 0.0154 - val_auc: 0.5076\n",
      "Epoch 29/30\n",
      "145417/145417 [==============================] - 18s 122us/sample - loss: 0.0026 - tp: 9807.0000 - fp: 39.0000 - tn: 135518.0000 - fn: 53.0000 - accuracy: 0.9994 - precision: 0.9960 - recall: 0.9946 - auc: 0.9999 - val_loss: 0.0437 - val_tp: 1.0000 - val_fp: 3.0000 - val_tn: 33907.0000 - val_fn: 64.0000 - val_accuracy: 0.9980 - val_precision: 0.2500 - val_recall: 0.0154 - val_auc: 0.5076\n",
      "Epoch 30/30\n",
      "145417/145417 [==============================] - 16s 109us/sample - loss: 0.0024 - tp: 9812.0000 - fp: 39.0000 - tn: 135518.0000 - fn: 48.0000 - accuracy: 0.9994 - precision: 0.9960 - recall: 0.9951 - auc: 0.9999 - val_loss: 0.0443 - val_tp: 1.0000 - val_fp: 3.0000 - val_tn: 33907.0000 - val_fn: 64.0000 - val_accuracy: 0.9980 - val_precision: 0.2500 - val_recall: 0.0154 - val_auc: 0.5075\n"
     ]
    }
   ],
   "source": [
    "model_2_up_10000 = get_model_47_2()\n",
    "history_2_10000 = model_2_up_10000.fit(\n",
    "    [x_img_train_up, x_txt_train_up],\n",
    "    y_train_up,\n",
    "    batch_size=4096,\n",
    "    validation_data=([x_img_val, x_txt_val], y_val_47),\n",
    "    epochs=30\n",
    ")"
   ]
  },
  {
   "cell_type": "code",
   "execution_count": 212,
   "metadata": {},
   "outputs": [],
   "source": [
    "import matplotlib.pyplot as plt\n",
    "\n",
    "colors = plt.rcParams['axes.prop_cycle'].by_key()['color']\n",
    "\n",
    "def plot_loss(history):\n",
    "  # Use a log scale to show the wide range of values.\n",
    "    plt.plot(history.epoch, history.history['loss'], color=colors[0], label='Train loss')\n",
    "    plt.plot(history.epoch, history.history['val_loss'], color=colors[1], label='Val loss')\n",
    "    plt.plot(history.epoch, history.history['precision'], color=colors[2], label='Train precision')\n",
    "    plt.plot(history.epoch, history.history['val_precision'], color=colors[3], label='Val precision')\n",
    "    plt.plot(history.epoch, history.history['recall'], color=colors[4], label='Train recall')\n",
    "    plt.plot(history.epoch, history.history['val_recall'], color=colors[5], label='Val recall')\n",
    "\n",
    "    plt.xlabel('Epoch')\n",
    "    plt.ylabel('Loss')\n",
    "  \n",
    "    plt.legend()"
   ]
  },
  {
   "cell_type": "code",
   "execution_count": 213,
   "metadata": {},
   "outputs": [
    {
     "data": {
      "image/png": "[encoded data removed]",
      "text/plain": [
       "<Figure size 432x288 with 1 Axes>"
      ]
     },
     "metadata": {
      "needs_background": "light"
     },
     "output_type": "display_data"
    }
   ],
   "source": [
    "plot_loss(history_2_10000)"
   ]
  },
  {
   "cell_type": "code",
   "execution_count": 214,
   "metadata": {},
   "outputs": [],
   "source": [
    "def get_model_47_3():\n",
    "    output_bias = tf.keras.initializers.Constant(init_bias)\n",
    "    \n",
    "    inp_img = Input(shape=(1024,))\n",
    "    x_img = Dense(512, activation='relu')(inp_img)\n",
    "    x_img = Dropout(0.5)(x_img)\n",
    "    x_img = Dense(512, activation='relu')(x_img)\n",
    "    x_img = Dropout(0.5)(x_img)\n",
    "    \n",
    "    inp_txt = Input(shape=(300,))\n",
    "    x_txt = Dense(256, activation='relu')(inp_txt)\n",
    "    x_txt = Dropout(0.5)(x_txt)\n",
    "    x_txt = Dense(256, activation='relu')(inp_txt)\n",
    "    x_txt = Dropout(0.5)(x_txt)\n",
    "    \n",
    "    x = concatenate([x_img, x_txt])\n",
    "    x = Dense(128)(x)\n",
    "    x = Dropout(0.5)(x)\n",
    "    x = concatenate([x, x_img, x_txt])\n",
    "    x = Dense(128)(x)\n",
    "    x = Dropout(0.5)(x)\n",
    "    out = Dense(1, activation='sigmoid',  bias_initializer=output_bias)(x)\n",
    "\n",
    "    model = Model(inputs=[inp_img, inp_txt], outputs=out)\n",
    "    model.compile(optimizer=tf.keras.optimizers.Adam(lr=1e-3), loss='binary_crossentropy', metrics=METRICS)\n",
    "    return model"
   ]
  },
  {
   "cell_type": "code",
   "execution_count": 216,
   "metadata": {},
   "outputs": [
    {
     "name": "stdout",
     "output_type": "stream",
     "text": [
      "Train on 145417 samples, validate on 33975 samples\n",
      "Epoch 1/30\n",
      "145417/145417 [==============================] - 18s 124us/sample - loss: 0.5335 - tp: 937.0000 - fp: 5772.0000 - tn: 129785.0000 - fn: 8923.0000 - accuracy: 0.8989 - precision: 0.1397 - recall: 0.0950 - auc: 0.6093 - val_loss: 0.0287 - val_tp: 0.0000e+00 - val_fp: 1.0000 - val_tn: 33909.0000 - val_fn: 65.0000 - val_accuracy: 0.9981 - val_precision: 0.0000e+00 - val_recall: 0.0000e+00 - val_auc: 0.7141\n",
      "Epoch 2/30\n",
      "145417/145417 [==============================] - 14s 95us/sample - loss: 0.2014 - tp: 1996.0000 - fp: 1963.0000 - tn: 133594.0000 - fn: 7864.0000 - accuracy: 0.9324 - precision: 0.5042 - recall: 0.2024 - auc: 0.8402 - val_loss: 0.0234 - val_tp: 1.0000 - val_fp: 3.0000 - val_tn: 33907.0000 - val_fn: 64.0000 - val_accuracy: 0.9980 - val_precision: 0.2500 - val_recall: 0.0154 - val_auc: 0.7076\n",
      "Epoch 3/30\n",
      "145417/145417 [==============================] - 16s 109us/sample - loss: 0.1224 - tp: 4803.0000 - fp: 1674.0000 - tn: 133883.0000 - fn: 5057.0000 - accuracy: 0.9537 - precision: 0.7415 - recall: 0.4871 - auc: 0.9494 - val_loss: 0.0172 - val_tp: 1.0000 - val_fp: 7.0000 - val_tn: 33903.0000 - val_fn: 64.0000 - val_accuracy: 0.9979 - val_precision: 0.1250 - val_recall: 0.0154 - val_auc: 0.6437\n",
      "Epoch 4/30\n",
      "145417/145417 [==============================] - 15s 105us/sample - loss: 0.0608 - tp: 7498.0000 - fp: 988.0000 - tn: 134569.0000 - fn: 2362.0000 - accuracy: 0.9770 - precision: 0.8836 - recall: 0.7604 - auc: 0.9885 - val_loss: 0.0176 - val_tp: 1.0000 - val_fp: 7.0000 - val_tn: 33903.0000 - val_fn: 64.0000 - val_accuracy: 0.9979 - val_precision: 0.1250 - val_recall: 0.0154 - val_auc: 0.5922\n",
      "Epoch 5/30\n",
      "145417/145417 [==============================] - 15s 106us/sample - loss: 0.0330 - tp: 8694.0000 - fp: 630.0000 - tn: 134927.0000 - fn: 1166.0000 - accuracy: 0.9876 - precision: 0.9324 - recall: 0.8817 - auc: 0.9967 - val_loss: 0.0199 - val_tp: 1.0000 - val_fp: 5.0000 - val_tn: 33905.0000 - val_fn: 64.0000 - val_accuracy: 0.9980 - val_precision: 0.1667 - val_recall: 0.0154 - val_auc: 0.5520\n",
      "Epoch 6/30\n",
      "145417/145417 [==============================] - 17s 114us/sample - loss: 0.0202 - tp: 9193.0000 - fp: 400.0000 - tn: 135157.0000 - fn: 667.0000 - accuracy: 0.9927 - precision: 0.9583 - recall: 0.9324 - auc: 0.9986 - val_loss: 0.0234 - val_tp: 1.0000 - val_fp: 4.0000 - val_tn: 33906.0000 - val_fn: 64.0000 - val_accuracy: 0.9980 - val_precision: 0.2000 - val_recall: 0.0154 - val_auc: 0.5264\n",
      "Epoch 7/30\n",
      "145417/145417 [==============================] - 18s 124us/sample - loss: 0.0137 - tp: 9449.0000 - fp: 284.0000 - tn: 135273.0000 - fn: 411.0000 - accuracy: 0.9952 - precision: 0.9708 - recall: 0.9583 - auc: 0.9993 - val_loss: 0.0261 - val_tp: 1.0000 - val_fp: 4.0000 - val_tn: 33906.0000 - val_fn: 64.0000 - val_accuracy: 0.9980 - val_precision: 0.2000 - val_recall: 0.0154 - val_auc: 0.5278\n",
      "Epoch 8/30\n",
      "145417/145417 [==============================] - 17s 118us/sample - loss: 0.0115 - tp: 9515.0000 - fp: 219.0000 - tn: 135338.0000 - fn: 345.0000 - accuracy: 0.9961 - precision: 0.9775 - recall: 0.9650 - auc: 0.9994 - val_loss: 0.0275 - val_tp: 1.0000 - val_fp: 3.0000 - val_tn: 33907.0000 - val_fn: 64.0000 - val_accuracy: 0.9980 - val_precision: 0.2500 - val_recall: 0.0154 - val_auc: 0.5208\n",
      "Epoch 9/30\n",
      "145417/145417 [==============================] - 18s 123us/sample - loss: 0.0106 - tp: 9545.0000 - fp: 229.0000 - tn: 135328.0000 - fn: 315.0000 - accuracy: 0.9963 - precision: 0.9766 - recall: 0.9681 - auc: 0.9993 - val_loss: 0.0291 - val_tp: 1.0000 - val_fp: 2.0000 - val_tn: 33908.0000 - val_fn: 64.0000 - val_accuracy: 0.9981 - val_precision: 0.3333 - val_recall: 0.0154 - val_auc: 0.5130\n",
      "Epoch 10/30\n",
      "145417/145417 [==============================] - 16s 112us/sample - loss: 0.0088 - tp: 9610.0000 - fp: 197.0000 - tn: 135360.0000 - fn: 250.0000 - accuracy: 0.9969 - precision: 0.9799 - recall: 0.9746 - auc: 0.9994 - val_loss: 0.0314 - val_tp: 1.0000 - val_fp: 3.0000 - val_tn: 33907.0000 - val_fn: 64.0000 - val_accuracy: 0.9980 - val_precision: 0.2500 - val_recall: 0.0154 - val_auc: 0.5068\n",
      "Epoch 11/30\n",
      "145417/145417 [==============================] - 17s 115us/sample - loss: 0.0068 - tp: 9655.0000 - fp: 136.0000 - tn: 135421.0000 - fn: 205.0000 - accuracy: 0.9977 - precision: 0.9861 - recall: 0.9792 - auc: 0.9996 - val_loss: 0.0313 - val_tp: 1.0000 - val_fp: 5.0000 - val_tn: 33905.0000 - val_fn: 64.0000 - val_accuracy: 0.9980 - val_precision: 0.1667 - val_recall: 0.0154 - val_auc: 0.5214\n",
      "Epoch 12/30\n",
      "145417/145417 [==============================] - 18s 126us/sample - loss: 0.0060 - tp: 9691.0000 - fp: 123.0000 - tn: 135434.0000 - fn: 169.0000 - accuracy: 0.9980 - precision: 0.9875 - recall: 0.9829 - auc: 0.9998 - val_loss: 0.0329 - val_tp: 1.0000 - val_fp: 4.0000 - val_tn: 33906.0000 - val_fn: 64.0000 - val_accuracy: 0.9980 - val_precision: 0.2000 - val_recall: 0.0154 - val_auc: 0.5067\n",
      "Epoch 13/30\n",
      "145417/145417 [==============================] - 17s 120us/sample - loss: 0.0054 - tp: 9730.0000 - fp: 99.0000 - tn: 135458.0000 - fn: 130.0000 - accuracy: 0.9984 - precision: 0.9899 - recall: 0.9868 - auc: 0.9998 - val_loss: 0.0354 - val_tp: 1.0000 - val_fp: 4.0000 - val_tn: 33906.0000 - val_fn: 64.0000 - val_accuracy: 0.9980 - val_precision: 0.2000 - val_recall: 0.0154 - val_auc: 0.5071\n",
      "Epoch 14/30\n",
      "145417/145417 [==============================] - 17s 120us/sample - loss: 0.0051 - tp: 9736.0000 - fp: 89.0000 - tn: 135468.0000 - fn: 124.0000 - accuracy: 0.9985 - precision: 0.9909 - recall: 0.9874 - auc: 0.9997 - val_loss: 0.0359 - val_tp: 1.0000 - val_fp: 2.0000 - val_tn: 33908.0000 - val_fn: 64.0000 - val_accuracy: 0.9981 - val_precision: 0.3333 - val_recall: 0.0154 - val_auc: 0.5071\n",
      "Epoch 15/30\n",
      "145417/145417 [==============================] - 23s 159us/sample - loss: 0.0048 - tp: 9735.0000 - fp: 95.0000 - tn: 135462.0000 - fn: 125.0000 - accuracy: 0.9985 - precision: 0.9903 - recall: 0.9873 - auc: 0.9997 - val_loss: 0.0366 - val_tp: 1.0000 - val_fp: 3.0000 - val_tn: 33907.0000 - val_fn: 64.0000 - val_accuracy: 0.9980 - val_precision: 0.2500 - val_recall: 0.0154 - val_auc: 0.5072\n",
      "Epoch 16/30\n",
      "145417/145417 [==============================] - 20s 134us/sample - loss: 0.0055 - tp: 9729.0000 - fp: 103.0000 - tn: 135454.0000 - fn: 131.0000 - accuracy: 0.9984 - precision: 0.9895 - recall: 0.9867 - auc: 0.9996 - val_loss: 0.0364 - val_tp: 1.0000 - val_fp: 4.0000 - val_tn: 33906.0000 - val_fn: 64.0000 - val_accuracy: 0.9980 - val_precision: 0.2000 - val_recall: 0.0154 - val_auc: 0.5149\n",
      "Epoch 17/30\n",
      "145417/145417 [==============================] - 16s 113us/sample - loss: 0.0046 - tp: 9733.0000 - fp: 97.0000 - tn: 135460.0000 - fn: 127.0000 - accuracy: 0.9985 - precision: 0.9901 - recall: 0.9871 - auc: 0.9996 - val_loss: 0.0370 - val_tp: 1.0000 - val_fp: 4.0000 - val_tn: 33906.0000 - val_fn: 64.0000 - val_accuracy: 0.9980 - val_precision: 0.2000 - val_recall: 0.0154 - val_auc: 0.5146\n",
      "Epoch 18/30\n",
      "145417/145417 [==============================] - 22s 149us/sample - loss: 0.0045 - tp: 9758.0000 - fp: 85.0000 - tn: 135472.0000 - fn: 102.0000 - accuracy: 0.9987 - precision: 0.9914 - recall: 0.9897 - auc: 0.9996 - val_loss: 0.0372 - val_tp: 1.0000 - val_fp: 2.0000 - val_tn: 33908.0000 - val_fn: 64.0000 - val_accuracy: 0.9981 - val_precision: 0.3333 - val_recall: 0.0154 - val_auc: 0.5148\n",
      "Epoch 19/30\n",
      "145417/145417 [==============================] - 20s 138us/sample - loss: 0.0042 - tp: 9765.0000 - fp: 89.0000 - tn: 135468.0000 - fn: 95.0000 - accuracy: 0.9987 - precision: 0.9910 - recall: 0.9904 - auc: 0.9998 - val_loss: 0.0395 - val_tp: 1.0000 - val_fp: 5.0000 - val_tn: 33905.0000 - val_fn: 64.0000 - val_accuracy: 0.9980 - val_precision: 0.1667 - val_recall: 0.0154 - val_auc: 0.5073\n",
      "Epoch 20/30\n",
      "145417/145417 [==============================] - 20s 140us/sample - loss: 0.0044 - tp: 9754.0000 - fp: 83.0000 - tn: 135474.0000 - fn: 106.0000 - accuracy: 0.9987 - precision: 0.9916 - recall: 0.9892 - auc: 0.9996 - val_loss: 0.0390 - val_tp: 1.0000 - val_fp: 2.0000 - val_tn: 33908.0000 - val_fn: 64.0000 - val_accuracy: 0.9981 - val_precision: 0.3333 - val_recall: 0.0154 - val_auc: 0.5072\n",
      "Epoch 21/30\n"
     ]
    },
    {
     "name": "stdout",
     "output_type": "stream",
     "text": [
      "145417/145417 [==============================] - 20s 136us/sample - loss: 0.0035 - tp: 9767.0000 - fp: 76.0000 - tn: 135481.0000 - fn: 93.0000 - accuracy: 0.9988 - precision: 0.9923 - recall: 0.9906 - auc: 0.9997 - val_loss: 0.0395 - val_tp: 1.0000 - val_fp: 2.0000 - val_tn: 33908.0000 - val_fn: 64.0000 - val_accuracy: 0.9981 - val_precision: 0.3333 - val_recall: 0.0154 - val_auc: 0.5149\n",
      "Epoch 22/30\n",
      "145417/145417 [==============================] - 16s 107us/sample - loss: 0.0033 - tp: 9788.0000 - fp: 63.0000 - tn: 135494.0000 - fn: 72.0000 - accuracy: 0.9991 - precision: 0.9936 - recall: 0.9927 - auc: 0.9999 - val_loss: 0.0407 - val_tp: 1.0000 - val_fp: 3.0000 - val_tn: 33907.0000 - val_fn: 64.0000 - val_accuracy: 0.9980 - val_precision: 0.2500 - val_recall: 0.0154 - val_auc: 0.5074\n",
      "Epoch 23/30\n",
      "145417/145417 [==============================] - 15s 106us/sample - loss: 0.0032 - tp: 9782.0000 - fp: 64.0000 - tn: 135493.0000 - fn: 78.0000 - accuracy: 0.9990 - precision: 0.9935 - recall: 0.9921 - auc: 0.9997 - val_loss: 0.0402 - val_tp: 1.0000 - val_fp: 2.0000 - val_tn: 33908.0000 - val_fn: 64.0000 - val_accuracy: 0.9981 - val_precision: 0.3333 - val_recall: 0.0154 - val_auc: 0.5074\n",
      "Epoch 24/30\n",
      "145417/145417 [==============================] - 16s 112us/sample - loss: 0.0029 - tp: 9800.0000 - fp: 56.0000 - tn: 135501.0000 - fn: 60.0000 - accuracy: 0.9992 - precision: 0.9943 - recall: 0.9939 - auc: 0.9999 - val_loss: 0.0421 - val_tp: 1.0000 - val_fp: 4.0000 - val_tn: 33906.0000 - val_fn: 64.0000 - val_accuracy: 0.9980 - val_precision: 0.2000 - val_recall: 0.0154 - val_auc: 0.5074\n",
      "Epoch 25/30\n",
      "145417/145417 [==============================] - 17s 115us/sample - loss: 0.0032 - tp: 9789.0000 - fp: 54.0000 - tn: 135503.0000 - fn: 71.0000 - accuracy: 0.9991 - precision: 0.9945 - recall: 0.9928 - auc: 0.9998 - val_loss: 0.0414 - val_tp: 1.0000 - val_fp: 3.0000 - val_tn: 33907.0000 - val_fn: 64.0000 - val_accuracy: 0.9980 - val_precision: 0.2500 - val_recall: 0.0154 - val_auc: 0.5150\n",
      "Epoch 26/30\n",
      "145417/145417 [==============================] - 15s 101us/sample - loss: 0.0029 - tp: 9793.0000 - fp: 57.0000 - tn: 135500.0000 - fn: 67.0000 - accuracy: 0.9991 - precision: 0.9942 - recall: 0.9932 - auc: 0.9998 - val_loss: 0.0422 - val_tp: 1.0000 - val_fp: 4.0000 - val_tn: 33906.0000 - val_fn: 64.0000 - val_accuracy: 0.9980 - val_precision: 0.2000 - val_recall: 0.0154 - val_auc: 0.5073\n",
      "Epoch 27/30\n",
      "145417/145417 [==============================] - 17s 114us/sample - loss: 0.0028 - tp: 9789.0000 - fp: 63.0000 - tn: 135494.0000 - fn: 71.0000 - accuracy: 0.9991 - precision: 0.9936 - recall: 0.9928 - auc: 0.9997 - val_loss: 0.0433 - val_tp: 1.0000 - val_fp: 4.0000 - val_tn: 33906.0000 - val_fn: 64.0000 - val_accuracy: 0.9980 - val_precision: 0.2000 - val_recall: 0.0154 - val_auc: 0.5075\n",
      "Epoch 28/30\n",
      "145417/145417 [==============================] - 16s 109us/sample - loss: 0.0029 - tp: 9794.0000 - fp: 63.0000 - tn: 135494.0000 - fn: 66.0000 - accuracy: 0.9991 - precision: 0.9936 - recall: 0.9933 - auc: 0.9999 - val_loss: 0.0426 - val_tp: 1.0000 - val_fp: 2.0000 - val_tn: 33908.0000 - val_fn: 64.0000 - val_accuracy: 0.9981 - val_precision: 0.3333 - val_recall: 0.0154 - val_auc: 0.5152\n",
      "Epoch 29/30\n",
      "145417/145417 [==============================] - 16s 109us/sample - loss: 0.0043 - tp: 9773.0000 - fp: 74.0000 - tn: 135483.0000 - fn: 87.0000 - accuracy: 0.9989 - precision: 0.9925 - recall: 0.9912 - auc: 0.9996 - val_loss: 0.0424 - val_tp: 1.0000 - val_fp: 2.0000 - val_tn: 33908.0000 - val_fn: 64.0000 - val_accuracy: 0.9981 - val_precision: 0.3333 - val_recall: 0.0154 - val_auc: 0.5151\n",
      "Epoch 30/30\n",
      "145417/145417 [==============================] - 15s 107us/sample - loss: 0.0031 - tp: 9796.0000 - fp: 68.0000 - tn: 135489.0000 - fn: 64.0000 - accuracy: 0.9991 - precision: 0.9931 - recall: 0.9935 - auc: 0.9998 - val_loss: 0.0436 - val_tp: 1.0000 - val_fp: 3.0000 - val_tn: 33907.0000 - val_fn: 64.0000 - val_accuracy: 0.9980 - val_precision: 0.2500 - val_recall: 0.0154 - val_auc: 0.5075\n"
     ]
    }
   ],
   "source": [
    "model_3_up_10000 = get_model_47_3()\n",
    "history_3_10000 = model_3_up_10000.fit(\n",
    "    [x_img_train_up, x_txt_train_up],\n",
    "    y_train_up,\n",
    "    batch_size=4096,\n",
    "    validation_data=([x_img_val, x_txt_val], y_val_47),\n",
    "    epochs=30\n",
    ")"
   ]
  },
  {
   "cell_type": "code",
   "execution_count": 217,
   "metadata": {},
   "outputs": [
    {
     "data": {
      "image/png": "[encoded data removed]",
      "text/plain": [
       "<Figure size 432x288 with 1 Axes>"
      ]
     },
     "metadata": {
      "needs_background": "light"
     },
     "output_type": "display_data"
    }
   ],
   "source": [
    "plot_loss(history_3_10000)"
   ]
  },
  {
   "cell_type": "code",
   "execution_count": 218,
   "metadata": {},
   "outputs": [],
   "source": [
    "def get_model_47_4():\n",
    "    output_bias = tf.keras.initializers.Constant(init_bias)\n",
    "    \n",
    "    inp_img = Input(shape=(1024,))\n",
    "    x_img = Dense(512, activation='relu')(inp_img)\n",
    "    x_img = Dropout(0.5)(x_img)\n",
    "    \n",
    "    relu = Dense(512, activation='relu')(x_img)\n",
    "    sigmoid = Dense(512, activation='sigmoid')(x_img)\n",
    "    mult_1 = Multiply()([x_img, sigmoid])\n",
    "    minus = Lambda(lambda x: 1.0 - x)(sigmoid)\n",
    "    mult_2 = Multiply()([minus, relu])\n",
    "    x_img = Add()([mult_2, mult_1])\n",
    "    x_img = Dropout(0.5)(x_img)\n",
    "                                    \n",
    "    \n",
    "    inp_txt = Input(shape=(300,))\n",
    "    x_txt = Dense(256, activation='relu')(inp_txt)\n",
    "    x_txt = Dropout(0.5)(x_txt)\n",
    "    \n",
    "    relu = Dense(256, activation='relu')(x_txt)\n",
    "    sigmoid = Dense(256, activation='sigmoid')(x_txt)\n",
    "    mult_1 = Multiply()([x_txt, sigmoid])\n",
    "    minus = Lambda(lambda x: 1.0 - x)(sigmoid)\n",
    "    mult_2 = Multiply()([minus, relu])\n",
    "    x_txt = Add()([mult_2, mult_1])\n",
    "    x_txt = Dropout(0.5)(x_txt)\n",
    "    \n",
    "    x = concatenate([x_img, x_txt])\n",
    "    \n",
    "    x = Dense(256, activation='relu')(x)\n",
    "    relu = Dense(256, activation='relu')(x)\n",
    "    sigmoid = Dense(256, activation='sigmoid')(x)\n",
    "    mult_1 = Multiply()([x, sigmoid])\n",
    "    minus = Lambda(lambda x: 1.0 - x)(sigmoid)\n",
    "    mult_2 = Multiply()([minus, relu])\n",
    "    x = Add()([mult_2, mult_1])\n",
    "    x = Dense(128)(x)\n",
    "    \n",
    "    x = Dropout(0.5)(x)\n",
    "    out = Dense(1, activation='sigmoid',  bias_initializer=output_bias)(x)\n",
    "\n",
    "    model = Model(inputs=[inp_img, inp_txt], outputs=out)\n",
    "    model.compile(optimizer=tf.keras.optimizers.Adam(lr=1e-3), loss='binary_crossentropy', metrics=METRICS)\n",
    "    return model"
   ]
  },
  {
   "cell_type": "code",
   "execution_count": 221,
   "metadata": {},
   "outputs": [
    {
     "name": "stdout",
     "output_type": "stream",
     "text": [
      "Train on 145417 samples, validate on 33975 samples\n",
      "Epoch 1/30\n",
      "145417/145417 [==============================] - 32s 221us/sample - loss: 0.2620 - tp: 528.0000 - fp: 1235.0000 - tn: 134322.0000 - fn: 9332.0000 - accuracy: 0.9273 - precision: 0.2995 - recall: 0.0535 - auc: 0.6504 - val_loss: 0.0217 - val_tp: 0.0000e+00 - val_fp: 1.0000 - val_tn: 33909.0000 - val_fn: 65.0000 - val_accuracy: 0.9981 - val_precision: 0.0000e+00 - val_recall: 0.0000e+00 - val_auc: 0.7066\n",
      "Epoch 2/30\n",
      "145417/145417 [==============================] - 24s 163us/sample - loss: 0.1502 - tp: 3342.0000 - fp: 1050.0000 - tn: 134507.0000 - fn: 6518.0000 - accuracy: 0.9480 - precision: 0.7609 - recall: 0.3389 - auc: 0.9132 - val_loss: 0.0137 - val_tp: 0.0000e+00 - val_fp: 0.0000e+00 - val_tn: 33910.0000 - val_fn: 65.0000 - val_accuracy: 0.9981 - val_precision: 0.0000e+00 - val_recall: 0.0000e+00 - val_auc: 0.5827\n",
      "Epoch 3/30\n",
      "145417/145417 [==============================] - 24s 165us/sample - loss: 0.0666 - tp: 7421.0000 - fp: 843.0000 - tn: 134714.0000 - fn: 2439.0000 - accuracy: 0.9774 - precision: 0.8980 - recall: 0.7526 - auc: 0.9850 - val_loss: 0.0137 - val_tp: 1.0000 - val_fp: 1.0000 - val_tn: 33909.0000 - val_fn: 64.0000 - val_accuracy: 0.9981 - val_precision: 0.5000 - val_recall: 0.0154 - val_auc: 0.5363\n",
      "Epoch 4/30\n",
      "145417/145417 [==============================] - 27s 188us/sample - loss: 0.0350 - tp: 8711.0000 - fp: 539.0000 - tn: 135018.0000 - fn: 1149.0000 - accuracy: 0.9884 - precision: 0.9417 - recall: 0.8835 - auc: 0.9957 - val_loss: 0.0148 - val_tp: 1.0000 - val_fp: 1.0000 - val_tn: 33909.0000 - val_fn: 64.0000 - val_accuracy: 0.9981 - val_precision: 0.5000 - val_recall: 0.0154 - val_auc: 0.5074\n",
      "Epoch 5/30\n",
      "145417/145417 [==============================] - 27s 186us/sample - loss: 0.0214 - tp: 9196.0000 - fp: 350.0000 - tn: 135207.0000 - fn: 664.0000 - accuracy: 0.9930 - precision: 0.9633 - recall: 0.9327 - auc: 0.9985 - val_loss: 0.0166 - val_tp: 1.0000 - val_fp: 0.0000e+00 - val_tn: 33910.0000 - val_fn: 64.0000 - val_accuracy: 0.9981 - val_precision: 1.0000 - val_recall: 0.0154 - val_auc: 0.5076\n",
      "Epoch 6/30\n",
      "145417/145417 [==============================] - 25s 175us/sample - loss: 0.0145 - tp: 9418.0000 - fp: 268.0000 - tn: 135289.0000 - fn: 442.0000 - accuracy: 0.9951 - precision: 0.9723 - recall: 0.9552 - auc: 0.9993 - val_loss: 0.0182 - val_tp: 1.0000 - val_fp: 0.0000e+00 - val_tn: 33910.0000 - val_fn: 64.0000 - val_accuracy: 0.9981 - val_precision: 1.0000 - val_recall: 0.0154 - val_auc: 0.5073\n",
      "Epoch 7/30\n",
      "145417/145417 [==============================] - 25s 175us/sample - loss: 0.0112 - tp: 9523.0000 - fp: 206.0000 - tn: 135351.0000 - fn: 337.0000 - accuracy: 0.9963 - precision: 0.9788 - recall: 0.9658 - auc: 0.9992 - val_loss: 0.0196 - val_tp: 1.0000 - val_fp: 0.0000e+00 - val_tn: 33910.0000 - val_fn: 64.0000 - val_accuracy: 0.9981 - val_precision: 1.0000 - val_recall: 0.0154 - val_auc: 0.5075\n",
      "Epoch 8/30\n",
      "145417/145417 [==============================] - 25s 173us/sample - loss: 0.0096 - tp: 9603.0000 - fp: 173.0000 - tn: 135384.0000 - fn: 257.0000 - accuracy: 0.9970 - precision: 0.9823 - recall: 0.9739 - auc: 0.9994 - val_loss: 0.0212 - val_tp: 1.0000 - val_fp: 1.0000 - val_tn: 33909.0000 - val_fn: 64.0000 - val_accuracy: 0.9981 - val_precision: 0.5000 - val_recall: 0.0154 - val_auc: 0.5075\n",
      "Epoch 9/30\n",
      "145417/145417 [==============================] - 26s 179us/sample - loss: 0.0084 - tp: 9635.0000 - fp: 169.0000 - tn: 135388.0000 - fn: 225.0000 - accuracy: 0.9973 - precision: 0.9828 - recall: 0.9772 - auc: 0.9995 - val_loss: 0.0213 - val_tp: 1.0000 - val_fp: 1.0000 - val_tn: 33909.0000 - val_fn: 64.0000 - val_accuracy: 0.9981 - val_precision: 0.5000 - val_recall: 0.0154 - val_auc: 0.5076\n",
      "Epoch 10/30\n",
      "145417/145417 [==============================] - 30s 205us/sample - loss: 0.0059 - tp: 9671.0000 - fp: 123.0000 - tn: 135434.0000 - fn: 189.0000 - accuracy: 0.9979 - precision: 0.9874 - recall: 0.9808 - auc: 0.9998 - val_loss: 0.0230 - val_tp: 1.0000 - val_fp: 1.0000 - val_tn: 33909.0000 - val_fn: 64.0000 - val_accuracy: 0.9981 - val_precision: 0.5000 - val_recall: 0.0154 - val_auc: 0.5076\n",
      "Epoch 11/30\n",
      "145417/145417 [==============================] - 25s 173us/sample - loss: 0.0058 - tp: 9696.0000 - fp: 108.0000 - tn: 135449.0000 - fn: 164.0000 - accuracy: 0.9981 - precision: 0.9890 - recall: 0.9834 - auc: 0.9996 - val_loss: 0.0243 - val_tp: 1.0000 - val_fp: 2.0000 - val_tn: 33908.0000 - val_fn: 64.0000 - val_accuracy: 0.9981 - val_precision: 0.3333 - val_recall: 0.0154 - val_auc: 0.5076\n",
      "Epoch 12/30\n",
      "145417/145417 [==============================] - 25s 171us/sample - loss: 0.0052 - tp: 9723.0000 - fp: 100.0000 - tn: 135457.0000 - fn: 137.0000 - accuracy: 0.9984 - precision: 0.9898 - recall: 0.9861 - auc: 0.9997 - val_loss: 0.0245 - val_tp: 1.0000 - val_fp: 2.0000 - val_tn: 33908.0000 - val_fn: 64.0000 - val_accuracy: 0.9981 - val_precision: 0.3333 - val_recall: 0.0154 - val_auc: 0.5076\n",
      "Epoch 13/30\n",
      "145417/145417 [==============================] - 26s 178us/sample - loss: 0.0054 - tp: 9726.0000 - fp: 112.0000 - tn: 135445.0000 - fn: 134.0000 - accuracy: 0.9983 - precision: 0.9886 - recall: 0.9864 - auc: 0.9997 - val_loss: 0.0259 - val_tp: 1.0000 - val_fp: 3.0000 - val_tn: 33907.0000 - val_fn: 64.0000 - val_accuracy: 0.9980 - val_precision: 0.2500 - val_recall: 0.0154 - val_auc: 0.5076\n",
      "Epoch 14/30\n",
      "145417/145417 [==============================] - 33s 226us/sample - loss: 0.0047 - tp: 9744.0000 - fp: 91.0000 - tn: 135466.0000 - fn: 116.0000 - accuracy: 0.9986 - precision: 0.9907 - recall: 0.9882 - auc: 0.9997 - val_loss: 0.0266 - val_tp: 1.0000 - val_fp: 2.0000 - val_tn: 33908.0000 - val_fn: 64.0000 - val_accuracy: 0.9981 - val_precision: 0.3333 - val_recall: 0.0154 - val_auc: 0.5076\n",
      "Epoch 15/30\n",
      "145417/145417 [==============================] - 29s 200us/sample - loss: 0.0038 - tp: 9756.0000 - fp: 82.0000 - tn: 135475.0000 - fn: 104.0000 - accuracy: 0.9987 - precision: 0.9917 - recall: 0.9895 - auc: 0.9997 - val_loss: 0.0272 - val_tp: 1.0000 - val_fp: 3.0000 - val_tn: 33907.0000 - val_fn: 64.0000 - val_accuracy: 0.9980 - val_precision: 0.2500 - val_recall: 0.0154 - val_auc: 0.5076\n",
      "Epoch 16/30\n",
      "145417/145417 [==============================] - 39s 268us/sample - loss: 0.0041 - tp: 9760.0000 - fp: 85.0000 - tn: 135472.0000 - fn: 100.0000 - accuracy: 0.9987 - precision: 0.9914 - recall: 0.9899 - auc: 0.9998 - val_loss: 0.0290 - val_tp: 1.0000 - val_fp: 2.0000 - val_tn: 33908.0000 - val_fn: 64.0000 - val_accuracy: 0.9981 - val_precision: 0.3333 - val_recall: 0.0154 - val_auc: 0.5153\n",
      "Epoch 17/30\n",
      "145417/145417 [==============================] - 31s 214us/sample - loss: 0.0037 - tp: 9761.0000 - fp: 73.0000 - tn: 135484.0000 - fn: 99.0000 - accuracy: 0.9988 - precision: 0.9926 - recall: 0.9900 - auc: 0.9999 - val_loss: 0.0296 - val_tp: 1.0000 - val_fp: 2.0000 - val_tn: 33908.0000 - val_fn: 64.0000 - val_accuracy: 0.9981 - val_precision: 0.3333 - val_recall: 0.0154 - val_auc: 0.5076\n",
      "Epoch 18/30\n",
      "145417/145417 [==============================] - 26s 178us/sample - loss: 0.0035 - tp: 9776.0000 - fp: 74.0000 - tn: 135483.0000 - fn: 84.0000 - accuracy: 0.9989 - precision: 0.9925 - recall: 0.9915 - auc: 0.9998 - val_loss: 0.0300 - val_tp: 1.0000 - val_fp: 2.0000 - val_tn: 33908.0000 - val_fn: 64.0000 - val_accuracy: 0.9981 - val_precision: 0.3333 - val_recall: 0.0154 - val_auc: 0.5076\n",
      "Epoch 19/30\n",
      "145417/145417 [==============================] - 22s 153us/sample - loss: 0.0029 - tp: 9791.0000 - fp: 56.0000 - tn: 135501.0000 - fn: 69.0000 - accuracy: 0.9991 - precision: 0.9943 - recall: 0.9930 - auc: 1.0000 - val_loss: 0.0324 - val_tp: 1.0000 - val_fp: 2.0000 - val_tn: 33908.0000 - val_fn: 64.0000 - val_accuracy: 0.9981 - val_precision: 0.3333 - val_recall: 0.0154 - val_auc: 0.5153\n",
      "Epoch 20/30\n",
      "145417/145417 [==============================] - 22s 151us/sample - loss: 0.0031 - tp: 9787.0000 - fp: 72.0000 - tn: 135485.0000 - fn: 73.0000 - accuracy: 0.9990 - precision: 0.9927 - recall: 0.9926 - auc: 0.9999 - val_loss: 0.0327 - val_tp: 1.0000 - val_fp: 1.0000 - val_tn: 33909.0000 - val_fn: 64.0000 - val_accuracy: 0.9981 - val_precision: 0.5000 - val_recall: 0.0154 - val_auc: 0.5076\n",
      "Epoch 21/30\n"
     ]
    },
    {
     "name": "stdout",
     "output_type": "stream",
     "text": [
      "145417/145417 [==============================] - 22s 150us/sample - loss: 0.0034 - tp: 9781.0000 - fp: 64.0000 - tn: 135493.0000 - fn: 79.0000 - accuracy: 0.9990 - precision: 0.9935 - recall: 0.9920 - auc: 0.9998 - val_loss: 0.0332 - val_tp: 1.0000 - val_fp: 2.0000 - val_tn: 33908.0000 - val_fn: 64.0000 - val_accuracy: 0.9981 - val_precision: 0.3333 - val_recall: 0.0154 - val_auc: 0.5076\n",
      "Epoch 22/30\n",
      "145417/145417 [==============================] - 22s 153us/sample - loss: 0.0032 - tp: 9784.0000 - fp: 63.0000 - tn: 135494.0000 - fn: 76.0000 - accuracy: 0.9990 - precision: 0.9936 - recall: 0.9923 - auc: 0.9998 - val_loss: 0.0341 - val_tp: 1.0000 - val_fp: 1.0000 - val_tn: 33909.0000 - val_fn: 64.0000 - val_accuracy: 0.9981 - val_precision: 0.5000 - val_recall: 0.0154 - val_auc: 0.5076\n",
      "Epoch 23/30\n",
      "145417/145417 [==============================] - 22s 152us/sample - loss: 0.0032 - tp: 9795.0000 - fp: 58.0000 - tn: 135499.0000 - fn: 65.0000 - accuracy: 0.9992 - precision: 0.9941 - recall: 0.9934 - auc: 0.9999 - val_loss: 0.0342 - val_tp: 1.0000 - val_fp: 2.0000 - val_tn: 33908.0000 - val_fn: 64.0000 - val_accuracy: 0.9981 - val_precision: 0.3333 - val_recall: 0.0154 - val_auc: 0.5076\n",
      "Epoch 24/30\n",
      "145417/145417 [==============================] - 22s 149us/sample - loss: 0.0024 - tp: 9801.0000 - fp: 51.0000 - tn: 135506.0000 - fn: 59.0000 - accuracy: 0.9992 - precision: 0.9948 - recall: 0.9940 - auc: 0.9999 - val_loss: 0.0380 - val_tp: 1.0000 - val_fp: 3.0000 - val_tn: 33907.0000 - val_fn: 64.0000 - val_accuracy: 0.9980 - val_precision: 0.2500 - val_recall: 0.0154 - val_auc: 0.5153\n",
      "Epoch 25/30\n",
      "145417/145417 [==============================] - 21s 147us/sample - loss: 0.0020 - tp: 9816.0000 - fp: 42.0000 - tn: 135515.0000 - fn: 44.0000 - accuracy: 0.9994 - precision: 0.9957 - recall: 0.9955 - auc: 1.0000 - val_loss: 0.0390 - val_tp: 1.0000 - val_fp: 3.0000 - val_tn: 33907.0000 - val_fn: 64.0000 - val_accuracy: 0.9980 - val_precision: 0.2500 - val_recall: 0.0154 - val_auc: 0.5153\n",
      "Epoch 26/30\n",
      "145417/145417 [==============================] - 21s 147us/sample - loss: 0.0027 - tp: 9802.0000 - fp: 59.0000 - tn: 135498.0000 - fn: 58.0000 - accuracy: 0.9992 - precision: 0.9940 - recall: 0.9941 - auc: 0.9999 - val_loss: 0.0370 - val_tp: 1.0000 - val_fp: 2.0000 - val_tn: 33908.0000 - val_fn: 64.0000 - val_accuracy: 0.9981 - val_precision: 0.3333 - val_recall: 0.0154 - val_auc: 0.5076\n",
      "Epoch 27/30\n",
      "145417/145417 [==============================] - 21s 146us/sample - loss: 0.0024 - tp: 9811.0000 - fp: 45.0000 - tn: 135512.0000 - fn: 49.0000 - accuracy: 0.9994 - precision: 0.9954 - recall: 0.9950 - auc: 0.9998 - val_loss: 0.0363 - val_tp: 1.0000 - val_fp: 3.0000 - val_tn: 33907.0000 - val_fn: 64.0000 - val_accuracy: 0.9980 - val_precision: 0.2500 - val_recall: 0.0154 - val_auc: 0.5153\n",
      "Epoch 28/30\n",
      "145417/145417 [==============================] - 21s 148us/sample - loss: 0.0022 - tp: 9813.0000 - fp: 45.0000 - tn: 135512.0000 - fn: 47.0000 - accuracy: 0.9994 - precision: 0.9954 - recall: 0.9952 - auc: 0.9999 - val_loss: 0.0374 - val_tp: 1.0000 - val_fp: 3.0000 - val_tn: 33907.0000 - val_fn: 64.0000 - val_accuracy: 0.9980 - val_precision: 0.2500 - val_recall: 0.0154 - val_auc: 0.5076\n",
      "Epoch 29/30\n",
      "145417/145417 [==============================] - 21s 145us/sample - loss: 0.0023 - tp: 9812.0000 - fp: 45.0000 - tn: 135512.0000 - fn: 48.0000 - accuracy: 0.9994 - precision: 0.9954 - recall: 0.9951 - auc: 1.0000 - val_loss: 0.0385 - val_tp: 1.0000 - val_fp: 3.0000 - val_tn: 33907.0000 - val_fn: 64.0000 - val_accuracy: 0.9980 - val_precision: 0.2500 - val_recall: 0.0154 - val_auc: 0.5153\n",
      "Epoch 30/30\n",
      "145417/145417 [==============================] - 21s 146us/sample - loss: 0.0020 - tp: 9817.0000 - fp: 39.0000 - tn: 135518.0000 - fn: 43.0000 - accuracy: 0.9994 - precision: 0.9960 - recall: 0.9956 - auc: 1.0000 - val_loss: 0.0405 - val_tp: 1.0000 - val_fp: 4.0000 - val_tn: 33906.0000 - val_fn: 64.0000 - val_accuracy: 0.9980 - val_precision: 0.2000 - val_recall: 0.0154 - val_auc: 0.5153\n"
     ]
    }
   ],
   "source": [
    "model_4_up_10000 = get_model_47_4()\n",
    "history_4_10000 = model_4_up_10000.fit(\n",
    "    [x_img_train_up, x_txt_train_up],\n",
    "    y_train_up,\n",
    "    batch_size=4096,\n",
    "    validation_data=([x_img_val, x_txt_val], y_val_47),\n",
    "    epochs=30\n",
    ")"
   ]
  },
  {
   "cell_type": "code",
   "execution_count": 222,
   "metadata": {},
   "outputs": [
    {
     "data": {
      "image/png": "[encoded data removed]",
      "text/plain": [
       "<Figure size 432x288 with 1 Axes>"
      ]
     },
     "metadata": {
      "needs_background": "light"
     },
     "output_type": "display_data"
    }
   ],
   "source": [
    "plot_loss(history_4_10000)"
   ]
  },
  {
   "cell_type": "code",
   "execution_count": null,
   "metadata": {},
   "outputs": [],
   "source": []
  }
 ],
 "metadata": {
  "kernelspec": {
   "display_name": "Python 3",
   "language": "python",
   "name": "python3"
  },
  "language_info": {
   "codemirror_mode": {
    "name": "ipython",
    "version": 3
   },
   "file_extension": ".py",
   "mimetype": "text/x-python",
   "name": "python",
   "nbconvert_exporter": "python",
   "pygments_lexer": "ipython3",
   "version": "3.7.4"
  }
 },
 "nbformat": 4,
 "nbformat_minor": 2
}
