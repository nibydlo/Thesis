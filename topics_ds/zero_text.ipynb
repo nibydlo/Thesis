{
 "cells": [
  {
   "cell_type": "code",
   "execution_count": 1,
   "metadata": {},
   "outputs": [],
   "source": [
    "%load_ext autoreload\n",
    "%autoreload 2\n",
    "%load_ext tensorboard"
   ]
  },
  {
   "cell_type": "code",
   "execution_count": 21,
   "metadata": {},
   "outputs": [],
   "source": [
    "import datetime\n",
    "\n",
    "import numpy as np\n",
    "\n",
    "from sklearn.model_selection import train_test_split\n",
    "from sklearn.preprocessing import StandardScaler\n",
    "\n",
    "from tensorflow.keras.callbacks import TensorBoard\n",
    "from tensorflow.keras.models import Model\n",
    "from tensorflow.keras.layers import Input, Dense, Dropout, concatenate, Multiply, Add"
   ]
  },
  {
   "cell_type": "code",
   "execution_count": 3,
   "metadata": {},
   "outputs": [],
   "source": [
    "import sys\n",
    "sys.path.append('/Users/dmitry/Desktop/Thesis/topics_ds/models')\n",
    "sys.path.append('/Users/dmitry/Desktop/Thesis/topics_ds/data')"
   ]
  },
  {
   "cell_type": "code",
   "execution_count": 4,
   "metadata": {},
   "outputs": [
    {
     "name": "stderr",
     "output_type": "stream",
     "text": [
      "Using TensorFlow backend.\n"
     ]
    }
   ],
   "source": [
    "from models import models as models\n",
    "from data import data as data"
   ]
  },
  {
   "cell_type": "code",
   "execution_count": 5,
   "metadata": {},
   "outputs": [],
   "source": [
    "x_img, x_txt, y = data.get_unpacked_data()"
   ]
  },
  {
   "cell_type": "code",
   "execution_count": 13,
   "metadata": {},
   "outputs": [],
   "source": [
    "x_img_train, x_img_test, x_txt_train, x_txt_test, y_train, y_test = train_test_split(\n",
    "    x_img, \n",
    "    x_txt, \n",
    "    y, \n",
    "    test_size=0.2, \n",
    "    random_state=42,\n",
    "    stratify=y\n",
    ")\n",
    "\n",
    "x_img_train, x_img_val, x_txt_train, x_txt_val, y_train, y_val = train_test_split(\n",
    "    x_img_train,\n",
    "    x_txt_train,\n",
    "    y_train,\n",
    "    test_size=0.2,\n",
    "    random_state=42,\n",
    "    stratify=y_train\n",
    ")"
   ]
  },
  {
   "cell_type": "code",
   "execution_count": 14,
   "metadata": {},
   "outputs": [],
   "source": [
    "zero_indicies = np.where(~x_txt_train.any(axis=1))[0]"
   ]
  },
  {
   "cell_type": "code",
   "execution_count": 18,
   "metadata": {},
   "outputs": [],
   "source": [
    "non_zero_indicies = np.where(x_txt_train.any(axis=1))[0]"
   ]
  },
  {
   "cell_type": "code",
   "execution_count": 19,
   "metadata": {},
   "outputs": [
    {
     "data": {
      "text/plain": [
       "(118681,)"
      ]
     },
     "execution_count": 19,
     "metadata": {},
     "output_type": "execute_result"
    }
   ],
   "source": [
    "non_zero_indicies.shape"
   ]
  },
  {
   "cell_type": "code",
   "execution_count": 15,
   "metadata": {},
   "outputs": [
    {
     "data": {
      "text/plain": [
       "(17216,)"
      ]
     },
     "execution_count": 15,
     "metadata": {},
     "output_type": "execute_result"
    }
   ],
   "source": [
    "zero_indicies.shape"
   ]
  },
  {
   "cell_type": "code",
   "execution_count": 16,
   "metadata": {},
   "outputs": [],
   "source": [
    "IMG_LEN = 1024\n",
    "TXT_LEN = 300\n",
    "N_CLASSES = 50"
   ]
  },
  {
   "cell_type": "code",
   "execution_count": 23,
   "metadata": {},
   "outputs": [],
   "source": [
    "def get_model_img_to_txt():\n",
    "    inp_img = Input(shape=(IMG_LEN,))\n",
    "    \n",
    "    x = Dense(512, activation='relu')(inp_img)\n",
    "    x = Dropout(0.5)(x)\n",
    "    x = Dense(512, activation='relu')(x)\n",
    "    x = Dropout(0.5)(x)\n",
    "    \n",
    "    out_txt = Dense(TXT_LEN, activation='sigmoid')(x)\n",
    "    model = Model(inputs=inp_img, outputs=out_txt)\n",
    "    model.compile(optimizer='adam', loss='mse')\n",
    "    return model"
   ]
  },
  {
   "cell_type": "code",
   "execution_count": 41,
   "metadata": {},
   "outputs": [],
   "source": [
    "def get_model_img_to_txt_1():\n",
    "    inp_img = Input(shape=(IMG_LEN,))\n",
    "    \n",
    "    x = Dense(512, activation='relu')(inp_img)\n",
    "    x = Dropout(0.25)(x)\n",
    "    x = Dense(512, activation='relu')(x)\n",
    "    x = Dropout(0.25)(x)\n",
    "    x = Dense(512, activation='relu')(x)\n",
    "    x = Dropout(0.25)(x)\n",
    "    \n",
    "    out_txt = Dense(TXT_LEN, activation='sigmoid')(x)\n",
    "    model = Model(inputs=inp_img, outputs=out_txt)\n",
    "    model.compile(optimizer='adam', loss='mse')\n",
    "    return model"
   ]
  },
  {
   "cell_type": "code",
   "execution_count": 24,
   "metadata": {},
   "outputs": [
    {
     "name": "stdout",
     "output_type": "stream",
     "text": [
      "Train on 94944 samples, validate on 23737 samples\n",
      "Epoch 1/20\n",
      "94944/94944 [==============================] - 19s 199us/sample - loss: 0.0352 - val_loss: 0.0062\n",
      "Epoch 2/20\n",
      "94944/94944 [==============================] - 9s 91us/sample - loss: 0.0041 - val_loss: 0.0034\n",
      "Epoch 3/20\n",
      "94944/94944 [==============================] - 12s 123us/sample - loss: 0.0034 - val_loss: 0.0033\n",
      "Epoch 4/20\n",
      "94944/94944 [==============================] - 9s 99us/sample - loss: 0.0034 - val_loss: 0.0033\n",
      "Epoch 5/20\n",
      "94944/94944 [==============================] - 10s 100us/sample - loss: 0.0033 - val_loss: 0.0033\n",
      "Epoch 6/20\n",
      "94944/94944 [==============================] - 11s 114us/sample - loss: 0.0033 - val_loss: 0.0033\n",
      "Epoch 7/20\n",
      "94944/94944 [==============================] - 11s 112us/sample - loss: 0.0033 - val_loss: 0.0033\n",
      "Epoch 8/20\n",
      "94944/94944 [==============================] - 10s 109us/sample - loss: 0.0033 - val_loss: 0.0033\n",
      "Epoch 9/20\n",
      "94944/94944 [==============================] - 11s 111us/sample - loss: 0.0033 - val_loss: 0.0033\n",
      "Epoch 10/20\n",
      "94944/94944 [==============================] - 11s 112us/sample - loss: 0.0033 - val_loss: 0.0033\n",
      "Epoch 11/20\n",
      "94944/94944 [==============================] - 11s 114us/sample - loss: 0.0033 - val_loss: 0.0033\n",
      "Epoch 12/20\n",
      "94944/94944 [==============================] - 11s 113us/sample - loss: 0.0033 - val_loss: 0.0033\n",
      "Epoch 13/20\n",
      "94944/94944 [==============================] - 11s 112us/sample - loss: 0.0033 - val_loss: 0.0033\n",
      "Epoch 14/20\n",
      "94944/94944 [==============================] - 11s 112us/sample - loss: 0.0033 - val_loss: 0.0033\n",
      "Epoch 15/20\n",
      "94944/94944 [==============================] - 12s 125us/sample - loss: 0.0033 - val_loss: 0.0033\n",
      "Epoch 16/20\n",
      "94944/94944 [==============================] - 14s 146us/sample - loss: 0.0033 - val_loss: 0.0033\n",
      "Epoch 17/20\n",
      "94944/94944 [==============================] - 17s 181us/sample - loss: 0.0033 - val_loss: 0.0033\n",
      "Epoch 18/20\n",
      "94944/94944 [==============================] - 19s 200us/sample - loss: 0.0033 - val_loss: 0.0033\n",
      "Epoch 19/20\n",
      "94944/94944 [==============================] - 11s 118us/sample - loss: 0.0033 - val_loss: 0.0033\n",
      "Epoch 20/20\n",
      "94944/94944 [==============================] - 11s 112us/sample - loss: 0.0033 - val_loss: 0.0033\n"
     ]
    },
    {
     "data": {
      "text/plain": [
       "<tensorflow.python.keras.callbacks.History at 0x11c9ff610>"
      ]
     },
     "execution_count": 24,
     "metadata": {},
     "output_type": "execute_result"
    }
   ],
   "source": [
    "model_img_to_txt = get_model_img_to_txt()\n",
    "\n",
    "log_dir=\"logs/img_to_txt/first\" + datetime.datetime.now().strftime(\"%Y%m%d-%H%M%S\")\n",
    "tensorboard_callback = TensorBoard(log_dir=log_dir, histogram_freq=1)\n",
    "\n",
    "model_img_to_txt.fit(\n",
    "    x_img_train[non_zero_indicies],\n",
    "    x_txt_train[non_zero_indicies],\n",
    "    validation_split=0.2,\n",
    "    epochs=20,\n",
    "    batch_size=2048,\n",
    "    callbacks=[tensorboard_callback]\n",
    ")"
   ]
  },
  {
   "cell_type": "code",
   "execution_count": 42,
   "metadata": {},
   "outputs": [
    {
     "name": "stdout",
     "output_type": "stream",
     "text": [
      "Train on 94944 samples, validate on 23737 samples\n",
      "Epoch 1/20\n",
      "94944/94944 [==============================] - 22s 232us/sample - loss: 0.0271 - val_loss: 0.0033\n",
      "Epoch 2/20\n",
      "94944/94944 [==============================] - 16s 173us/sample - loss: 0.0033 - val_loss: 0.0033\n",
      "Epoch 3/20\n",
      "94944/94944 [==============================] - 12s 125us/sample - loss: 0.0033 - val_loss: 0.0033\n",
      "Epoch 4/20\n",
      "94944/94944 [==============================] - 11s 116us/sample - loss: 0.0033 - val_loss: 0.0033\n",
      "Epoch 5/20\n",
      "94944/94944 [==============================] - 12s 131us/sample - loss: 0.0033 - val_loss: 0.0033\n",
      "Epoch 6/20\n",
      "94944/94944 [==============================] - 11s 116us/sample - loss: 0.0033 - val_loss: 0.0033\n",
      "Epoch 7/20\n",
      "94944/94944 [==============================] - 11s 114us/sample - loss: 0.0033 - val_loss: 0.0033\n",
      "Epoch 8/20\n",
      "94944/94944 [==============================] - 12s 123us/sample - loss: 0.0033 - val_loss: 0.0033\n",
      "Epoch 9/20\n",
      "94944/94944 [==============================] - 11s 115us/sample - loss: 0.0033 - val_loss: 0.0033\n",
      "Epoch 10/20\n",
      "94944/94944 [==============================] - 13s 141us/sample - loss: 0.0033 - val_loss: 0.0033\n",
      "Epoch 11/20\n",
      "94944/94944 [==============================] - 11s 120us/sample - loss: 0.0033 - val_loss: 0.0033\n",
      "Epoch 12/20\n",
      "94944/94944 [==============================] - 12s 131us/sample - loss: 0.0033 - val_loss: 0.0033\n",
      "Epoch 13/20\n",
      "94944/94944 [==============================] - 12s 123us/sample - loss: 0.0033 - val_loss: 0.0033\n",
      "Epoch 14/20\n",
      "94944/94944 [==============================] - 13s 140us/sample - loss: 0.0033 - val_loss: 0.0033\n",
      "Epoch 15/20\n",
      "94944/94944 [==============================] - 18s 188us/sample - loss: 0.0033 - val_loss: 0.0033\n",
      "Epoch 16/20\n",
      "94944/94944 [==============================] - 14s 153us/sample - loss: 0.0033 - val_loss: 0.0033\n",
      "Epoch 17/20\n",
      "94944/94944 [==============================] - 17s 176us/sample - loss: 0.0033 - val_loss: 0.0033\n",
      "Epoch 18/20\n",
      "94944/94944 [==============================] - 15s 157us/sample - loss: 0.0033 - val_loss: 0.0033\n",
      "Epoch 19/20\n",
      "94944/94944 [==============================] - 15s 163us/sample - loss: 0.0033 - val_loss: 0.0033\n",
      "Epoch 20/20\n",
      "94944/94944 [==============================] - 18s 190us/sample - loss: 0.0033 - val_loss: 0.0033\n"
     ]
    },
    {
     "data": {
      "text/plain": [
       "<tensorflow.python.keras.callbacks.History at 0x18924a450>"
      ]
     },
     "execution_count": 42,
     "metadata": {},
     "output_type": "execute_result"
    }
   ],
   "source": [
    "model_img_to_txt_1 = get_model_img_to_txt_1()\n",
    "\n",
    "log_dir=\"logs/img_to_txt/model_1_\" + datetime.datetime.now().strftime(\"%Y%m%d-%H%M%S\")\n",
    "tensorboard_callback = TensorBoard(log_dir=log_dir, histogram_freq=1)\n",
    "\n",
    "model_img_to_txt_1.fit(\n",
    "    x_img_train[non_zero_indicies],\n",
    "    x_txt_train[non_zero_indicies],\n",
    "    validation_split=0.2,\n",
    "    epochs=20,\n",
    "    batch_size=2048,\n",
    "    callbacks=[tensorboard_callback]\n",
    ")"
   ]
  },
  {
   "cell_type": "code",
   "execution_count": null,
   "metadata": {},
   "outputs": [],
   "source": [
    "x_txt_train_modified = x_txt_train.copy()\n",
    "x_txt_train_modified[zero_indicies] = model_img_to_txt.predict(x_img_train[zero_indicies])"
   ]
  },
  {
   "cell_type": "code",
   "execution_count": 27,
   "metadata": {},
   "outputs": [
    {
     "name": "stdout",
     "output_type": "stream",
     "text": [
      "Train on 135897 samples, validate on 33975 samples\n",
      "Epoch 1/20\n",
      "135897/135897 [==============================] - 16s 118us/sample - loss: 2.2202 - accuracy: 0.4284 - val_loss: 1.7005 - val_accuracy: 0.5430\n",
      "Epoch 2/20\n",
      "135897/135897 [==============================] - 14s 102us/sample - loss: 1.8706 - accuracy: 0.5048 - val_loss: 1.6152 - val_accuracy: 0.5649\n",
      "Epoch 3/20\n",
      "135897/135897 [==============================] - 13s 93us/sample - loss: 1.7882 - accuracy: 0.5250 - val_loss: 1.5560 - val_accuracy: 0.5764\n",
      "Epoch 4/20\n",
      "135897/135897 [==============================] - 12s 87us/sample - loss: 1.7500 - accuracy: 0.5352 - val_loss: 1.5375 - val_accuracy: 0.5812\n",
      "Epoch 5/20\n",
      "135897/135897 [==============================] - 12s 90us/sample - loss: 1.7221 - accuracy: 0.5420 - val_loss: 1.5375 - val_accuracy: 0.5845\n",
      "Epoch 6/20\n",
      "135897/135897 [==============================] - 12s 91us/sample - loss: 1.6992 - accuracy: 0.5481 - val_loss: 1.5291 - val_accuracy: 0.5872\n",
      "Epoch 7/20\n",
      "135897/135897 [==============================] - 12s 90us/sample - loss: 1.6853 - accuracy: 0.5507 - val_loss: 1.5091 - val_accuracy: 0.5911\n",
      "Epoch 8/20\n",
      "135897/135897 [==============================] - 19s 139us/sample - loss: 1.6754 - accuracy: 0.5532 - val_loss: 1.5065 - val_accuracy: 0.5907\n",
      "Epoch 9/20\n",
      "135897/135897 [==============================] - 14s 105us/sample - loss: 1.6627 - accuracy: 0.5566 - val_loss: 1.4956 - val_accuracy: 0.5975\n",
      "Epoch 10/20\n",
      "135897/135897 [==============================] - 12s 85us/sample - loss: 1.6587 - accuracy: 0.5587 - val_loss: 1.5008 - val_accuracy: 0.5950\n",
      "Epoch 11/20\n",
      "135897/135897 [==============================] - 11s 84us/sample - loss: 1.6461 - accuracy: 0.5616 - val_loss: 1.5016 - val_accuracy: 0.5937\n",
      "Epoch 12/20\n",
      "135897/135897 [==============================] - 17s 126us/sample - loss: 1.6418 - accuracy: 0.5628 - val_loss: 1.4868 - val_accuracy: 0.5986\n",
      "Epoch 13/20\n",
      "135897/135897 [==============================] - 16s 121us/sample - loss: 1.6363 - accuracy: 0.5639 - val_loss: 1.4837 - val_accuracy: 0.5993\n",
      "Epoch 14/20\n",
      "135897/135897 [==============================] - 17s 126us/sample - loss: 1.6336 - accuracy: 0.5642 - val_loss: 1.5084 - val_accuracy: 0.5911\n",
      "Epoch 15/20\n",
      "135897/135897 [==============================] - 17s 123us/sample - loss: 1.6265 - accuracy: 0.5680 - val_loss: 1.4788 - val_accuracy: 0.5994\n",
      "Epoch 16/20\n",
      "135897/135897 [==============================] - 12s 89us/sample - loss: 1.6228 - accuracy: 0.5677 - val_loss: 1.4808 - val_accuracy: 0.5974\n",
      "Epoch 17/20\n",
      "135897/135897 [==============================] - 12s 85us/sample - loss: 1.6191 - accuracy: 0.5681 - val_loss: 1.4899 - val_accuracy: 0.5983\n",
      "Epoch 18/20\n",
      "135897/135897 [==============================] - 11s 84us/sample - loss: 1.6152 - accuracy: 0.5693 - val_loss: 1.4845 - val_accuracy: 0.5996\n",
      "Epoch 19/20\n",
      "135897/135897 [==============================] - 12s 87us/sample - loss: 1.6141 - accuracy: 0.5689 - val_loss: 1.4721 - val_accuracy: 0.6023\n",
      "Epoch 20/20\n",
      "135897/135897 [==============================] - 11s 84us/sample - loss: 1.6099 - accuracy: 0.5709 - val_loss: 1.4855 - val_accuracy: 0.5962\n"
     ]
    },
    {
     "data": {
      "text/plain": [
       "<tensorflow.python.keras.callbacks.History at 0x13e4cb350>"
      ]
     },
     "execution_count": 27,
     "metadata": {},
     "output_type": "execute_result"
    }
   ],
   "source": [
    "model_trivial = models.get_model_trivial()\n",
    "\n",
    "log_dir=\"logs/zeros_replaced/trivial_1_\" + datetime.datetime.now().strftime(\"%Y%m%d-%H%M%S\")\n",
    "tensorboard_callback = TensorBoard(log_dir=log_dir, histogram_freq=1)\n",
    "\n",
    "model_trivial.fit(\n",
    "    [x_img_train, x_txt_train_modified],\n",
    "    y_train,\n",
    "    validation_data=([x_img_val, x_txt_val], y_val),\n",
    "    epochs=20,\n",
    "    callbacks=[tensorboard_callback]\n",
    ")"
   ]
  },
  {
   "cell_type": "code",
   "execution_count": 28,
   "metadata": {},
   "outputs": [
    {
     "name": "stdout",
     "output_type": "stream",
     "text": [
      "Train on 135897 samples, validate on 33975 samples\n",
      "Epoch 1/20\n",
      "135897/135897 [==============================] - 19s 138us/sample - loss: 2.7283 - accuracy: 0.3068 - val_loss: 1.8270 - val_accuracy: 0.5076\n",
      "Epoch 2/20\n",
      "135897/135897 [==============================] - 19s 143us/sample - loss: 1.8363 - accuracy: 0.5072 - val_loss: 1.5929 - val_accuracy: 0.5712\n",
      "Epoch 3/20\n",
      "135897/135897 [==============================] - 19s 138us/sample - loss: 1.6687 - accuracy: 0.5512 - val_loss: 1.5202 - val_accuracy: 0.5872\n",
      "Epoch 4/20\n",
      "135897/135897 [==============================] - 16s 117us/sample - loss: 1.5917 - accuracy: 0.5711 - val_loss: 1.4716 - val_accuracy: 0.5986\n",
      "Epoch 5/20\n",
      "135897/135897 [==============================] - 16s 116us/sample - loss: 1.5401 - accuracy: 0.5840 - val_loss: 1.4466 - val_accuracy: 0.6052\n",
      "Epoch 6/20\n",
      "135897/135897 [==============================] - 15s 114us/sample - loss: 1.5030 - accuracy: 0.5925 - val_loss: 1.4228 - val_accuracy: 0.6087\n",
      "Epoch 7/20\n",
      "135897/135897 [==============================] - 11s 84us/sample - loss: 1.4734 - accuracy: 0.5997 - val_loss: 1.4102 - val_accuracy: 0.6117\n",
      "Epoch 8/20\n",
      "135897/135897 [==============================] - 12s 85us/sample - loss: 1.4475 - accuracy: 0.6070 - val_loss: 1.3934 - val_accuracy: 0.6172\n",
      "Epoch 9/20\n",
      "135897/135897 [==============================] - 12s 86us/sample - loss: 1.4234 - accuracy: 0.6118 - val_loss: 1.3893 - val_accuracy: 0.6150\n",
      "Epoch 10/20\n",
      "135897/135897 [==============================] - 16s 121us/sample - loss: 1.4026 - accuracy: 0.6165 - val_loss: 1.3772 - val_accuracy: 0.6218\n",
      "Epoch 11/20\n",
      "135897/135897 [==============================] - 17s 122us/sample - loss: 1.3816 - accuracy: 0.6218 - val_loss: 1.3665 - val_accuracy: 0.6221\n",
      "Epoch 12/20\n",
      "135897/135897 [==============================] - 20s 144us/sample - loss: 1.3666 - accuracy: 0.6238 - val_loss: 1.3624 - val_accuracy: 0.6242\n",
      "Epoch 13/20\n",
      "135897/135897 [==============================] - 16s 115us/sample - loss: 1.3488 - accuracy: 0.6268 - val_loss: 1.3567 - val_accuracy: 0.6255\n",
      "Epoch 14/20\n",
      "135897/135897 [==============================] - 19s 138us/sample - loss: 1.3350 - accuracy: 0.6323 - val_loss: 1.3505 - val_accuracy: 0.6256\n",
      "Epoch 15/20\n",
      "135897/135897 [==============================] - 15s 111us/sample - loss: 1.3200 - accuracy: 0.6336 - val_loss: 1.3513 - val_accuracy: 0.6274\n",
      "Epoch 16/20\n",
      "135897/135897 [==============================] - 13s 96us/sample - loss: 1.3069 - accuracy: 0.6370 - val_loss: 1.3445 - val_accuracy: 0.6288\n",
      "Epoch 17/20\n",
      "135897/135897 [==============================] - 12s 90us/sample - loss: 1.2936 - accuracy: 0.6402 - val_loss: 1.3460 - val_accuracy: 0.6282\n",
      "Epoch 18/20\n",
      "135897/135897 [==============================] - 12s 88us/sample - loss: 1.2771 - accuracy: 0.6437 - val_loss: 1.3435 - val_accuracy: 0.6279\n",
      "Epoch 19/20\n",
      "135897/135897 [==============================] - 12s 89us/sample - loss: 1.2694 - accuracy: 0.6463 - val_loss: 1.3402 - val_accuracy: 0.6281\n",
      "Epoch 20/20\n",
      "135897/135897 [==============================] - 12s 87us/sample - loss: 1.2540 - accuracy: 0.6487 - val_loss: 1.3405 - val_accuracy: 0.6296\n"
     ]
    },
    {
     "data": {
      "text/plain": [
       "<tensorflow.python.keras.callbacks.History at 0x13eced0d0>"
      ]
     },
     "execution_count": 28,
     "metadata": {},
     "output_type": "execute_result"
    }
   ],
   "source": [
    "model_wide_2048 = models.get_model_custom_lr_wide()\n",
    "log_dir_wide_2048 =\"logs/zeros_replaced/wide_2048_\" + datetime.datetime.now().strftime(\"%Y%m%d-%H%M%S\")\n",
    "tensorboard_callback_wide_2048 = TensorBoard(log_dir=log_dir_wide_2048, histogram_freq=1)\n",
    "\n",
    "model_wide_2048.fit(\n",
    "    [x_img_train, x_txt_train_modified],\n",
    "    y_train,\n",
    "    validation_data=([x_img_val, x_txt_val], y_val),\n",
    "    epochs=20,\n",
    "    callbacks=[tensorboard_callback_wide_2048],\n",
    "    batch_size=2048\n",
    ")"
   ]
  },
  {
   "cell_type": "code",
   "execution_count": 10,
   "metadata": {},
   "outputs": [
    {
     "data": {
      "text/plain": [
       "(135897, 300)"
      ]
     },
     "execution_count": 10,
     "metadata": {},
     "output_type": "execute_result"
    }
   ],
   "source": [
    "x_txt_train.shape"
   ]
  },
  {
   "cell_type": "code",
   "execution_count": 29,
   "metadata": {},
   "outputs": [],
   "source": [
    "img_sscaler = StandardScaler()\n",
    "img_sscaler.fit(x_img_train)\n",
    "\n",
    "x_img_train_ss = img_sscaler.transform(x_img_train)\n",
    "x_img_val_ss = img_sscaler.transform(x_img_val)\n",
    "x_img_test_ss = img_sscaler.transform(x_img_test)\n",
    "\n",
    "txt_sscaler = StandardScaler()\n",
    "txt_sscaler.fit(x_txt_train_modified)\n",
    "\n",
    "x_txt_train_modified_ss = txt_sscaler.transform(x_txt_train_modified)\n",
    "x_txt_val_ss = txt_sscaler.transform(x_txt_val)\n",
    "x_txt_test_ss = txt_sscaler.transform(x_txt_test)"
   ]
  },
  {
   "cell_type": "code",
   "execution_count": 32,
   "metadata": {},
   "outputs": [
    {
     "name": "stdout",
     "output_type": "stream",
     "text": [
      "Train on 135897 samples, validate on 33975 samples\n",
      "Epoch 1/20\n",
      "135897/135897 [==============================] - 19s 142us/sample - loss: 2.4769 - accuracy: 0.3750 - val_loss: 1.6226 - val_accuracy: 0.5785\n",
      "Epoch 2/20\n",
      "135897/135897 [==============================] - 12s 85us/sample - loss: 1.7075 - accuracy: 0.5500 - val_loss: 1.4802 - val_accuracy: 0.6059\n",
      "Epoch 3/20\n",
      "135897/135897 [==============================] - 13s 95us/sample - loss: 1.5796 - accuracy: 0.5795 - val_loss: 1.4316 - val_accuracy: 0.6140\n",
      "Epoch 4/20\n",
      "135897/135897 [==============================] - 12s 90us/sample - loss: 1.5110 - accuracy: 0.5942 - val_loss: 1.3979 - val_accuracy: 0.6220\n",
      "Epoch 5/20\n",
      "135897/135897 [==============================] - 17s 127us/sample - loss: 1.4615 - accuracy: 0.6062 - val_loss: 1.3776 - val_accuracy: 0.6226\n",
      "Epoch 6/20\n",
      "135897/135897 [==============================] - 14s 106us/sample - loss: 1.4208 - accuracy: 0.6142 - val_loss: 1.3681 - val_accuracy: 0.6241\n",
      "Epoch 7/20\n",
      "135897/135897 [==============================] - 16s 114us/sample - loss: 1.3895 - accuracy: 0.6205 - val_loss: 1.3576 - val_accuracy: 0.6261\n",
      "Epoch 8/20\n",
      "135897/135897 [==============================] - 15s 111us/sample - loss: 1.3631 - accuracy: 0.6264 - val_loss: 1.3495 - val_accuracy: 0.6290\n",
      "Epoch 9/20\n",
      "135897/135897 [==============================] - 16s 115us/sample - loss: 1.3347 - accuracy: 0.6319 - val_loss: 1.3458 - val_accuracy: 0.6288\n",
      "Epoch 10/20\n",
      "135897/135897 [==============================] - 15s 114us/sample - loss: 1.3125 - accuracy: 0.6355 - val_loss: 1.3324 - val_accuracy: 0.6338\n",
      "Epoch 11/20\n",
      "135897/135897 [==============================] - 16s 114us/sample - loss: 1.2918 - accuracy: 0.6423 - val_loss: 1.3346 - val_accuracy: 0.6313\n",
      "Epoch 12/20\n",
      "135897/135897 [==============================] - 15s 107us/sample - loss: 1.2727 - accuracy: 0.6450 - val_loss: 1.3283 - val_accuracy: 0.6333\n",
      "Epoch 13/20\n",
      "135897/135897 [==============================] - 15s 108us/sample - loss: 1.2506 - accuracy: 0.6499 - val_loss: 1.3261 - val_accuracy: 0.6332\n",
      "Epoch 14/20\n",
      "135897/135897 [==============================] - 14s 106us/sample - loss: 1.2363 - accuracy: 0.6518 - val_loss: 1.3270 - val_accuracy: 0.6338\n",
      "Epoch 15/20\n",
      "135897/135897 [==============================] - 15s 108us/sample - loss: 1.2177 - accuracy: 0.6552 - val_loss: 1.3253 - val_accuracy: 0.6332\n",
      "Epoch 16/20\n",
      "135897/135897 [==============================] - 15s 111us/sample - loss: 1.2008 - accuracy: 0.6603 - val_loss: 1.3289 - val_accuracy: 0.6322\n",
      "Epoch 17/20\n",
      "135897/135897 [==============================] - 14s 102us/sample - loss: 1.1867 - accuracy: 0.6633 - val_loss: 1.3326 - val_accuracy: 0.6325\n",
      "Epoch 18/20\n",
      "135897/135897 [==============================] - 14s 102us/sample - loss: 1.1716 - accuracy: 0.6665 - val_loss: 1.3362 - val_accuracy: 0.6341\n",
      "Epoch 19/20\n",
      "135897/135897 [==============================] - 15s 112us/sample - loss: 1.1573 - accuracy: 0.6696 - val_loss: 1.3336 - val_accuracy: 0.6339\n",
      "Epoch 20/20\n",
      "135897/135897 [==============================] - 14s 107us/sample - loss: 1.1441 - accuracy: 0.6711 - val_loss: 1.3324 - val_accuracy: 0.6351\n"
     ]
    },
    {
     "data": {
      "text/plain": [
       "<tensorflow.python.keras.callbacks.History at 0x183ed2a10>"
      ]
     },
     "execution_count": 32,
     "metadata": {},
     "output_type": "execute_result"
    }
   ],
   "source": [
    "model_wide_2048_ss = models.get_model_custom_lr_wide()\n",
    "log_dir_wide_2048 =\"logs/zeros_replaced/wide_ss_2048_\" + datetime.datetime.now().strftime(\"%Y%m%d-%H%M%S\")\n",
    "tensorboard_callback_wide_2048 = TensorBoard(log_dir=log_dir_wide_2048, histogram_freq=1)\n",
    "\n",
    "model_wide_2048_ss.fit(\n",
    "    [x_img_train_ss, x_txt_train_modified_ss],\n",
    "    y_train,\n",
    "    validation_data=([x_img_val_ss, x_txt_val_ss], y_val),\n",
    "    epochs=20,\n",
    "    callbacks=[tensorboard_callback_wide_2048],\n",
    "    batch_size=2048\n",
    ")"
   ]
  },
  {
   "cell_type": "code",
   "execution_count": 33,
   "metadata": {},
   "outputs": [
    {
     "name": "stdout",
     "output_type": "stream",
     "text": [
      "Train on 135897 samples, validate on 33975 samples\n",
      "Epoch 1/30\n",
      "135897/135897 [==============================] - 14s 103us/sample - loss: 2.8285 - accuracy: 0.3000 - val_loss: 1.8466 - val_accuracy: 0.5282\n",
      "Epoch 2/30\n",
      "135897/135897 [==============================] - 12s 88us/sample - loss: 1.8755 - accuracy: 0.5119 - val_loss: 1.5580 - val_accuracy: 0.5903\n",
      "Epoch 3/30\n",
      "135897/135897 [==============================] - 13s 95us/sample - loss: 1.6700 - accuracy: 0.5591 - val_loss: 1.4778 - val_accuracy: 0.6028\n",
      "Epoch 4/30\n",
      "135897/135897 [==============================] - 14s 102us/sample - loss: 1.5847 - accuracy: 0.5782 - val_loss: 1.4386 - val_accuracy: 0.6106\n",
      "Epoch 5/30\n",
      "135897/135897 [==============================] - 15s 107us/sample - loss: 1.5267 - accuracy: 0.5911 - val_loss: 1.4080 - val_accuracy: 0.6165\n",
      "Epoch 6/30\n",
      "135897/135897 [==============================] - 15s 110us/sample - loss: 1.4843 - accuracy: 0.6010 - val_loss: 1.3934 - val_accuracy: 0.6200\n",
      "Epoch 7/30\n",
      "135897/135897 [==============================] - 15s 113us/sample - loss: 1.4484 - accuracy: 0.6089 - val_loss: 1.3767 - val_accuracy: 0.6246\n",
      "Epoch 8/30\n",
      "135897/135897 [==============================] - 14s 103us/sample - loss: 1.4180 - accuracy: 0.6147 - val_loss: 1.3646 - val_accuracy: 0.6262\n",
      "Epoch 9/30\n",
      "135897/135897 [==============================] - 13s 99us/sample - loss: 1.3928 - accuracy: 0.6210 - val_loss: 1.3603 - val_accuracy: 0.6255\n",
      "Epoch 10/30\n",
      "135897/135897 [==============================] - 15s 109us/sample - loss: 1.3690 - accuracy: 0.6252 - val_loss: 1.3536 - val_accuracy: 0.6298\n",
      "Epoch 11/30\n",
      "135897/135897 [==============================] - 15s 112us/sample - loss: 1.3464 - accuracy: 0.6296 - val_loss: 1.3468 - val_accuracy: 0.6301\n",
      "Epoch 12/30\n",
      "135897/135897 [==============================] - 15s 107us/sample - loss: 1.3282 - accuracy: 0.6318 - val_loss: 1.3396 - val_accuracy: 0.6334\n",
      "Epoch 13/30\n",
      "135897/135897 [==============================] - 14s 102us/sample - loss: 1.3090 - accuracy: 0.6382 - val_loss: 1.3400 - val_accuracy: 0.6336\n",
      "Epoch 14/30\n",
      "135897/135897 [==============================] - 13s 98us/sample - loss: 1.2906 - accuracy: 0.6418 - val_loss: 1.3348 - val_accuracy: 0.6343\n",
      "Epoch 15/30\n",
      "135897/135897 [==============================] - 13s 95us/sample - loss: 1.2732 - accuracy: 0.6452 - val_loss: 1.3341 - val_accuracy: 0.6328\n",
      "Epoch 16/30\n",
      "135897/135897 [==============================] - 16s 116us/sample - loss: 1.2593 - accuracy: 0.6487 - val_loss: 1.3330 - val_accuracy: 0.6329\n",
      "Epoch 17/30\n",
      "135897/135897 [==============================] - 14s 104us/sample - loss: 1.2466 - accuracy: 0.6502 - val_loss: 1.3338 - val_accuracy: 0.6350\n",
      "Epoch 18/30\n",
      "135897/135897 [==============================] - 17s 127us/sample - loss: 1.2299 - accuracy: 0.6545 - val_loss: 1.3305 - val_accuracy: 0.6353\n",
      "Epoch 19/30\n",
      "135897/135897 [==============================] - 15s 109us/sample - loss: 1.2167 - accuracy: 0.6575 - val_loss: 1.3299 - val_accuracy: 0.6361\n",
      "Epoch 20/30\n",
      "135897/135897 [==============================] - 13s 98us/sample - loss: 1.2038 - accuracy: 0.6599 - val_loss: 1.3321 - val_accuracy: 0.6349\n",
      "Epoch 21/30\n",
      "135897/135897 [==============================] - 14s 104us/sample - loss: 1.1886 - accuracy: 0.6640 - val_loss: 1.3308 - val_accuracy: 0.6350\n",
      "Epoch 22/30\n",
      "135897/135897 [==============================] - 14s 104us/sample - loss: 1.1780 - accuracy: 0.6658 - val_loss: 1.3339 - val_accuracy: 0.6326\n",
      "Epoch 23/30\n",
      "135897/135897 [==============================] - 13s 97us/sample - loss: 1.1659 - accuracy: 0.6687 - val_loss: 1.3345 - val_accuracy: 0.6342\n",
      "Epoch 24/30\n",
      "135897/135897 [==============================] - 13s 92us/sample - loss: 1.1528 - accuracy: 0.6708 - val_loss: 1.3361 - val_accuracy: 0.6328\n",
      "Epoch 25/30\n",
      "135897/135897 [==============================] - 13s 97us/sample - loss: 1.1405 - accuracy: 0.6724 - val_loss: 1.3338 - val_accuracy: 0.6338\n",
      "Epoch 26/30\n",
      "135897/135897 [==============================] - 14s 103us/sample - loss: 1.1288 - accuracy: 0.6764 - val_loss: 1.3359 - val_accuracy: 0.6352\n",
      "Epoch 27/30\n",
      "135897/135897 [==============================] - 13s 98us/sample - loss: 1.1156 - accuracy: 0.6786 - val_loss: 1.3415 - val_accuracy: 0.6338\n",
      "Epoch 28/30\n",
      "135897/135897 [==============================] - 13s 94us/sample - loss: 1.1041 - accuracy: 0.6813 - val_loss: 1.3393 - val_accuracy: 0.6339\n",
      "Epoch 29/30\n",
      "135897/135897 [==============================] - 13s 93us/sample - loss: 1.0970 - accuracy: 0.6834 - val_loss: 1.3435 - val_accuracy: 0.6331\n",
      "Epoch 30/30\n",
      "135897/135897 [==============================] - 13s 95us/sample - loss: 1.0845 - accuracy: 0.6865 - val_loss: 1.3537 - val_accuracy: 0.6327\n"
     ]
    },
    {
     "data": {
      "text/plain": [
       "<tensorflow.python.keras.callbacks.History at 0x185250590>"
      ]
     },
     "execution_count": 33,
     "metadata": {},
     "output_type": "execute_result"
    }
   ],
   "source": [
    "model_wide_4096_ss = models.get_model_custom_lr_wide()\n",
    "log_dir_wide_4096 =\"logs/zeros_replaced/wide_ss_4096_\" + datetime.datetime.now().strftime(\"%Y%m%d-%H%M%S\")\n",
    "tensorboard_callback_wide_4096 = TensorBoard(log_dir=log_dir_wide_4096, histogram_freq=1)\n",
    "\n",
    "model_wide_4096_ss.fit(\n",
    "    [x_img_train_ss, x_txt_train_modified_ss],\n",
    "    y_train,\n",
    "    validation_data=([x_img_val_ss, x_txt_val_ss], y_val),\n",
    "    epochs=30,\n",
    "    callbacks=[tensorboard_callback_wide_2048],\n",
    "    batch_size=4096\n",
    ")"
   ]
  },
  {
   "cell_type": "code",
   "execution_count": null,
   "metadata": {},
   "outputs": [],
   "source": []
  },
  {
   "cell_type": "code",
   "execution_count": 43,
   "metadata": {},
   "outputs": [
    {
     "data": {
      "text/plain": [
       "(17191,)"
      ]
     },
     "execution_count": 43,
     "metadata": {},
     "output_type": "execute_result"
    }
   ],
   "source": [
    "zero_indicies = np.where(~x_txt_train_modified.any(axis=1))[0]\n",
    "zero_indicies.shape"
   ]
  },
  {
   "cell_type": "code",
   "execution_count": 44,
   "metadata": {},
   "outputs": [],
   "source": [
    "new_zeros=model_img_to_txt.predict(x_img_train[zero_indicies])"
   ]
  },
  {
   "cell_type": "code",
   "execution_count": 46,
   "metadata": {},
   "outputs": [
    {
     "data": {
      "text/plain": [
       "(17191,)"
      ]
     },
     "execution_count": 46,
     "metadata": {},
     "output_type": "execute_result"
    }
   ],
   "source": [
    "np.where(~new_zeros.any(axis=1))[0].shape"
   ]
  },
  {
   "cell_type": "code",
   "execution_count": null,
   "metadata": {},
   "outputs": [],
   "source": []
  }
 ],
 "metadata": {
  "kernelspec": {
   "display_name": "Python 3",
   "language": "python",
   "name": "python3"
  },
  "language_info": {
   "codemirror_mode": {
    "name": "ipython",
    "version": 3
   },
   "file_extension": ".py",
   "mimetype": "text/x-python",
   "name": "python",
   "nbconvert_exporter": "python",
   "pygments_lexer": "ipython3",
   "version": "3.7.4"
  }
 },
 "nbformat": 4,
 "nbformat_minor": 2
}
