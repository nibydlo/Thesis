{
 "cells": [
  {
   "cell_type": "code",
   "execution_count": 97,
   "metadata": {},
   "outputs": [
    {
     "name": "stdout",
     "output_type": "stream",
     "text": [
      "The autoreload extension is already loaded. To reload it, use:\n",
      "  %reload_ext autoreload\n",
      "The tensorboard extension is already loaded. To reload it, use:\n",
      "  %reload_ext tensorboard\n"
     ]
    }
   ],
   "source": [
    "%load_ext autoreload\n",
    "%autoreload 2\n",
    "%load_ext tensorboard"
   ]
  },
  {
   "cell_type": "code",
   "execution_count": 98,
   "metadata": {},
   "outputs": [],
   "source": [
    "import datetime\n",
    "\n",
    "import numpy as np\n",
    "\n",
    "from sklearn.model_selection import train_test_split\n",
    "from sklearn.preprocessing import MinMaxScaler, normalize, StandardScaler\n",
    "\n",
    "from tensorflow.keras.callbacks import TensorBoard"
   ]
  },
  {
   "cell_type": "code",
   "execution_count": 99,
   "metadata": {},
   "outputs": [],
   "source": [
    "import sys\n",
    "sys.path.append('/Users/dmitry/Desktop/Thesis/topics_ds/models')\n",
    "sys.path.append('/Users/dmitry/Desktop/Thesis/topics_ds/data')"
   ]
  },
  {
   "cell_type": "code",
   "execution_count": 100,
   "metadata": {},
   "outputs": [],
   "source": [
    "from models import models as models\n",
    "from data import data as data"
   ]
  },
  {
   "cell_type": "code",
   "execution_count": 101,
   "metadata": {},
   "outputs": [],
   "source": [
    "x_img, x_txt, y = data.get_unpacked_data()"
   ]
  },
  {
   "cell_type": "code",
   "execution_count": 102,
   "metadata": {},
   "outputs": [],
   "source": [
    "x_img_train, x_img_test, x_txt_train, x_txt_test, y_train, y_test = train_test_split(\n",
    "    x_img, \n",
    "    x_txt, \n",
    "    y, \n",
    "    test_size=0.2, \n",
    "    random_state=42\n",
    ")\n",
    "\n",
    "x_img_train, x_img_val, x_txt_train, x_txt_val, y_train, y_val = train_test_split(\n",
    "    x_img_train,\n",
    "    x_txt_train,\n",
    "    y_train,\n",
    "    test_size=0.2,\n",
    "    random_state=42\n",
    ")"
   ]
  },
  {
   "cell_type": "code",
   "execution_count": 95,
   "metadata": {},
   "outputs": [],
   "source": [
    "model_trivial = models.get_model_trivial()"
   ]
  },
  {
   "cell_type": "code",
   "execution_count": 41,
   "metadata": {},
   "outputs": [],
   "source": [
    "log_dir=\"logs/trivial\" + datetime.datetime.now().strftime(\"%Y%m%d-%H%M%S\")\n",
    "tensorboard_callback = TensorBoard(log_dir=log_dir, histogram_freq=1)"
   ]
  },
  {
   "cell_type": "code",
   "execution_count": 53,
   "metadata": {},
   "outputs": [
    {
     "name": "stdout",
     "output_type": "stream",
     "text": [
      "Train on 135897 samples, validate on 33975 samples\n",
      "Epoch 1/20\n",
      "135897/135897 [==============================] - 35s 261us/sample - loss: 2.2218 - accuracy: 0.4293 - val_loss: 1.7152 - val_accuracy: 0.5428\n",
      "Epoch 2/20\n",
      "135897/135897 [==============================] - 20s 150us/sample - loss: 1.8766 - accuracy: 0.5048 - val_loss: 1.5846 - val_accuracy: 0.5735\n",
      "Epoch 3/20\n",
      "135897/135897 [==============================] - 17s 125us/sample - loss: 1.7942 - accuracy: 0.5245 - val_loss: 1.5610 - val_accuracy: 0.5766\n",
      "Epoch 4/20\n",
      "135897/135897 [==============================] - 17s 123us/sample - loss: 1.7517 - accuracy: 0.5346 - val_loss: 1.5539 - val_accuracy: 0.5768\n",
      "Epoch 5/20\n",
      "135897/135897 [==============================] - 15s 109us/sample - loss: 1.7286 - accuracy: 0.5431 - val_loss: 1.4968 - val_accuracy: 0.5940\n",
      "Epoch 6/20\n",
      "135897/135897 [==============================] - 15s 108us/sample - loss: 1.7095 - accuracy: 0.5473 - val_loss: 1.4979 - val_accuracy: 0.5895\n",
      "Epoch 7/20\n",
      "135897/135897 [==============================] - 18s 131us/sample - loss: 1.6933 - accuracy: 0.5510 - val_loss: 1.5193 - val_accuracy: 0.5895\n",
      "Epoch 8/20\n",
      "135897/135897 [==============================] - 15s 109us/sample - loss: 1.6798 - accuracy: 0.5538 - val_loss: 1.4961 - val_accuracy: 0.5923\n",
      "Epoch 9/20\n",
      "135897/135897 [==============================] - 16s 116us/sample - loss: 1.6704 - accuracy: 0.5561 - val_loss: 1.4839 - val_accuracy: 0.5949\n",
      "Epoch 10/20\n",
      "135897/135897 [==============================] - 15s 109us/sample - loss: 1.6635 - accuracy: 0.5579 - val_loss: 1.4818 - val_accuracy: 0.5980\n",
      "Epoch 11/20\n",
      "135897/135897 [==============================] - 14s 106us/sample - loss: 1.6557 - accuracy: 0.5597 - val_loss: 1.4934 - val_accuracy: 0.5977\n",
      "Epoch 12/20\n",
      "135897/135897 [==============================] - 16s 120us/sample - loss: 1.6496 - accuracy: 0.5603 - val_loss: 1.4721 - val_accuracy: 0.6013\n",
      "Epoch 13/20\n",
      "135897/135897 [==============================] - 21s 153us/sample - loss: 1.6427 - accuracy: 0.5647 - val_loss: 1.4857 - val_accuracy: 0.5945\n",
      "Epoch 14/20\n",
      "135897/135897 [==============================] - 21s 158us/sample - loss: 1.6372 - accuracy: 0.5647 - val_loss: 1.4805 - val_accuracy: 0.5969\n",
      "Epoch 15/20\n",
      "135897/135897 [==============================] - 15s 114us/sample - loss: 1.6335 - accuracy: 0.5651 - val_loss: 1.4649 - val_accuracy: 0.6032\n",
      "Epoch 16/20\n",
      "135897/135897 [==============================] - 15s 107us/sample - loss: 1.6258 - accuracy: 0.5690 - val_loss: 1.4804 - val_accuracy: 0.5969\n",
      "Epoch 17/20\n",
      "135897/135897 [==============================] - 14s 102us/sample - loss: 1.6235 - accuracy: 0.5677 - val_loss: 1.4731 - val_accuracy: 0.5967\n",
      "Epoch 18/20\n",
      "135897/135897 [==============================] - 15s 107us/sample - loss: 1.6211 - accuracy: 0.5689 - val_loss: 1.4628 - val_accuracy: 0.6031\n",
      "Epoch 19/20\n",
      "135897/135897 [==============================] - 15s 112us/sample - loss: 1.6169 - accuracy: 0.5695 - val_loss: 1.4571 - val_accuracy: 0.6050\n",
      "Epoch 20/20\n",
      "135897/135897 [==============================] - 14s 103us/sample - loss: 1.6162 - accuracy: 0.5709 - val_loss: 1.4672 - val_accuracy: 0.5998\n"
     ]
    },
    {
     "data": {
      "text/plain": [
       "<tensorflow.python.keras.callbacks.History at 0x134fee3d0>"
      ]
     },
     "execution_count": 53,
     "metadata": {},
     "output_type": "execute_result"
    }
   ],
   "source": [
    "model_trivial.fit(\n",
    "    [x_img_train, x_txt_train],\n",
    "    y_train,\n",
    "    validation_data=([x_img_val, x_txt_val], y_val),\n",
    "    epochs=20,\n",
    "    callbacks=[tensorboard_callback]\n",
    "\n",
    ")"
   ]
  },
  {
   "cell_type": "code",
   "execution_count": 104,
   "metadata": {},
   "outputs": [
    {
     "name": "stdout",
     "output_type": "stream",
     "text": [
      "Train on 135897 samples, validate on 33975 samples\n",
      "Epoch 1/20\n",
      "135897/135897 [==============================] - 34s 248us/sample - loss: 2.0475 - accuracy: 0.4539 - val_loss: 1.6135 - val_accuracy: 0.5586\n",
      "Epoch 2/20\n",
      "135897/135897 [==============================] - 40s 293us/sample - loss: 1.7256 - accuracy: 0.5393 - val_loss: 1.5311 - val_accuracy: 0.5837\n",
      "Epoch 3/20\n",
      "135897/135897 [==============================] - 25s 182us/sample - loss: 1.6585 - accuracy: 0.5543 - val_loss: 1.4994 - val_accuracy: 0.5927\n",
      "Epoch 4/20\n",
      "135897/135897 [==============================] - 16s 116us/sample - loss: 1.6178 - accuracy: 0.5653 - val_loss: 1.4735 - val_accuracy: 0.5941\n",
      "Epoch 5/20\n",
      "135897/135897 [==============================] - 24s 176us/sample - loss: 1.5872 - accuracy: 0.5721 - val_loss: 1.4692 - val_accuracy: 0.5937\n",
      "Epoch 6/20\n",
      "135897/135897 [==============================] - 20s 149us/sample - loss: 1.5651 - accuracy: 0.5768 - val_loss: 1.4710 - val_accuracy: 0.5947\n",
      "Epoch 7/20\n",
      "135897/135897 [==============================] - 18s 130us/sample - loss: 1.5453 - accuracy: 0.5822 - val_loss: 1.4539 - val_accuracy: 0.6023\n",
      "Epoch 8/20\n",
      "135897/135897 [==============================] - 35s 257us/sample - loss: 1.5392 - accuracy: 0.5844 - val_loss: 1.4541 - val_accuracy: 0.6034\n",
      "Epoch 9/20\n",
      "135897/135897 [==============================] - 22s 160us/sample - loss: 1.5257 - accuracy: 0.5858 - val_loss: 1.4476 - val_accuracy: 0.6049\n",
      "Epoch 10/20\n",
      "135897/135897 [==============================] - 30s 218us/sample - loss: 1.5189 - accuracy: 0.5875 - val_loss: 1.4431 - val_accuracy: 0.6034\n",
      "Epoch 11/20\n",
      "135897/135897 [==============================] - 20s 144us/sample - loss: 1.5097 - accuracy: 0.5899 - val_loss: 1.4445 - val_accuracy: 0.6059\n",
      "Epoch 12/20\n",
      "135897/135897 [==============================] - 30s 219us/sample - loss: 1.5038 - accuracy: 0.5909 - val_loss: 1.4404 - val_accuracy: 0.6055\n",
      "Epoch 13/20\n",
      "135897/135897 [==============================] - 26s 190us/sample - loss: 1.4981 - accuracy: 0.5940 - val_loss: 1.4294 - val_accuracy: 0.6097\n",
      "Epoch 14/20\n",
      "135897/135897 [==============================] - 31s 227us/sample - loss: 1.4926 - accuracy: 0.5940 - val_loss: 1.4373 - val_accuracy: 0.6097\n",
      "Epoch 15/20\n",
      "135897/135897 [==============================] - 22s 160us/sample - loss: 1.4880 - accuracy: 0.5955 - val_loss: 1.4397 - val_accuracy: 0.6067\n",
      "Epoch 16/20\n",
      "135897/135897 [==============================] - 18s 130us/sample - loss: 1.4853 - accuracy: 0.5949 - val_loss: 1.4365 - val_accuracy: 0.6070\n",
      "Epoch 17/20\n",
      "135897/135897 [==============================] - 19s 143us/sample - loss: 1.4803 - accuracy: 0.5963 - val_loss: 1.4323 - val_accuracy: 0.6099\n",
      "Epoch 18/20\n",
      "135897/135897 [==============================] - 30s 219us/sample - loss: 1.4772 - accuracy: 0.5980 - val_loss: 1.4324 - val_accuracy: 0.6097\n",
      "Epoch 19/20\n",
      "135897/135897 [==============================] - 16s 115us/sample - loss: 1.4699 - accuracy: 0.5987 - val_loss: 1.4262 - val_accuracy: 0.6115\n",
      "Epoch 20/20\n",
      "135897/135897 [==============================] - 21s 153us/sample - loss: 1.4684 - accuracy: 0.6000 - val_loss: 1.4381 - val_accuracy: 0.6085\n"
     ]
    },
    {
     "data": {
      "text/plain": [
       "<tensorflow.python.keras.callbacks.History at 0x1d2ddd0d0>"
      ]
     },
     "execution_count": 104,
     "metadata": {},
     "output_type": "execute_result"
    }
   ],
   "source": [
    "model_default_lr = models.get_model_default_lr()\n",
    "log_dir_default = \"logs/default_lr_\" + datetime.datetime.now().strftime(\"%Y%m%d-%H%M%S\")\n",
    "tensorboard_callback_default_lr = TensorBoard(log_dir=log_dir_default, histogram_freq=1)\n",
    "model_default_lr.fit(\n",
    "    [x_img_train, x_txt_train],\n",
    "    y_train,\n",
    "    validation_data=([x_img_val, x_txt_val], y_val),\n",
    "    epochs=20,\n",
    "    callbacks=[tensorboard_callback_default_lr]\n",
    ")"
   ]
  },
  {
   "cell_type": "code",
   "execution_count": 56,
   "metadata": {},
   "outputs": [],
   "source": [
    "model_custom_lr = models.get_model_custom_lr()"
   ]
  },
  {
   "cell_type": "code",
   "execution_count": 57,
   "metadata": {},
   "outputs": [],
   "source": [
    "log_dir_custom =\"logs/custom_lr_\" + datetime.datetime.now().strftime(\"%Y%m%d-%H%M%S\")\n",
    "tensorboard_callback_custom_lr = TensorBoard(log_dir=log_dir_custom, histogram_freq=1)"
   ]
  },
  {
   "cell_type": "code",
   "execution_count": 58,
   "metadata": {},
   "outputs": [
    {
     "name": "stdout",
     "output_type": "stream",
     "text": [
      "Train on 135897 samples, validate on 33975 samples\n",
      "Epoch 1/20\n",
      "135897/135897 [==============================] - 37s 271us/sample - loss: 2.0294 - accuracy: 0.4598 - val_loss: 1.5814 - val_accuracy: 0.5695\n",
      "Epoch 2/20\n",
      "135897/135897 [==============================] - 18s 135us/sample - loss: 1.7134 - accuracy: 0.5423 - val_loss: 1.5081 - val_accuracy: 0.5866\n",
      "Epoch 3/20\n",
      "135897/135897 [==============================] - 17s 126us/sample - loss: 1.6402 - accuracy: 0.5606 - val_loss: 1.4929 - val_accuracy: 0.5902\n",
      "Epoch 4/20\n",
      "135897/135897 [==============================] - 19s 142us/sample - loss: 1.5983 - accuracy: 0.5688 - val_loss: 1.4769 - val_accuracy: 0.5936\n",
      "Epoch 5/20\n",
      "135897/135897 [==============================] - 18s 129us/sample - loss: 1.5730 - accuracy: 0.5780 - val_loss: 1.4633 - val_accuracy: 0.6003\n",
      "Epoch 6/20\n",
      "135897/135897 [==============================] - 18s 133us/sample - loss: 1.5510 - accuracy: 0.5812 - val_loss: 1.4520 - val_accuracy: 0.6003\n",
      "Epoch 7/20\n",
      "135897/135897 [==============================] - 21s 158us/sample - loss: 1.5345 - accuracy: 0.5842 - val_loss: 1.4469 - val_accuracy: 0.6027\n",
      "Epoch 8/20\n",
      "135897/135897 [==============================] - 20s 146us/sample - loss: 1.5220 - accuracy: 0.5877 - val_loss: 1.4394 - val_accuracy: 0.6039\n",
      "Epoch 9/20\n",
      "135897/135897 [==============================] - 18s 135us/sample - loss: 1.5104 - accuracy: 0.5899 - val_loss: 1.4403 - val_accuracy: 0.6059\n",
      "Epoch 10/20\n",
      "135897/135897 [==============================] - 18s 131us/sample - loss: 1.5007 - accuracy: 0.5935 - val_loss: 1.4254 - val_accuracy: 0.6077\n",
      "Epoch 11/20\n",
      "135897/135897 [==============================] - 19s 138us/sample - loss: 1.4945 - accuracy: 0.5939 - val_loss: 1.4353 - val_accuracy: 0.6076\n",
      "Epoch 12/20\n",
      "135897/135897 [==============================] - 18s 133us/sample - loss: 1.4850 - accuracy: 0.5967 - val_loss: 1.4288 - val_accuracy: 0.6081\n",
      "Epoch 13/20\n",
      "135897/135897 [==============================] - 18s 133us/sample - loss: 1.4825 - accuracy: 0.5959 - val_loss: 1.4349 - val_accuracy: 0.6070\n",
      "Epoch 14/20\n",
      "135897/135897 [==============================] - 18s 129us/sample - loss: 1.4792 - accuracy: 0.5981 - val_loss: 1.4321 - val_accuracy: 0.6075\n",
      "Epoch 15/20\n",
      "135897/135897 [==============================] - 19s 136us/sample - loss: 1.4703 - accuracy: 0.5992 - val_loss: 1.4205 - val_accuracy: 0.6086\n",
      "Epoch 16/20\n",
      "135897/135897 [==============================] - 18s 130us/sample - loss: 1.4669 - accuracy: 0.6001 - val_loss: 1.4187 - val_accuracy: 0.6114\n",
      "Epoch 17/20\n",
      "135897/135897 [==============================] - 18s 130us/sample - loss: 1.4651 - accuracy: 0.6000 - val_loss: 1.4226 - val_accuracy: 0.6102\n",
      "Epoch 18/20\n",
      "135897/135897 [==============================] - 33s 246us/sample - loss: 1.4579 - accuracy: 0.6027 - val_loss: 1.4184 - val_accuracy: 0.6111\n",
      "Epoch 19/20\n",
      "135897/135897 [==============================] - 22s 159us/sample - loss: 1.4579 - accuracy: 0.6033 - val_loss: 1.4285 - val_accuracy: 0.6094\n",
      "Epoch 20/20\n",
      "135897/135897 [==============================] - 18s 130us/sample - loss: 1.4542 - accuracy: 0.6040 - val_loss: 1.4278 - val_accuracy: 0.6077s: 1.4535  -\n"
     ]
    },
    {
     "data": {
      "text/plain": [
       "<tensorflow.python.keras.callbacks.History at 0x138735ed0>"
      ]
     },
     "execution_count": 58,
     "metadata": {},
     "output_type": "execute_result"
    }
   ],
   "source": [
    "model_custom_lr.fit(\n",
    "    [x_img_train, x_txt_train],\n",
    "    y_train,\n",
    "    validation_data=([x_img_val, x_txt_val], y_val),\n",
    "    epochs=20,\n",
    "    callbacks=[tensorboard_callback_custom_lr]\n",
    ")"
   ]
  },
  {
   "cell_type": "code",
   "execution_count": 106,
   "metadata": {},
   "outputs": [
    {
     "data": {
      "text/plain": [
       "<tensorflow.python.keras.callbacks.History at 0x13a23a390>"
      ]
     },
     "execution_count": 106,
     "metadata": {},
     "output_type": "execute_result"
    }
   ],
   "source": [
    "model_default_lr_wide = models.get_model_default_lr_wide()\n",
    "log_dir_default_wide =\"logs/default_lr_wide_\" + datetime.datetime.now().strftime(\"%Y%m%d-%H%M%S\")\n",
    "tensorboard_callback_default_lr_wide = TensorBoard(log_dir=log_dir_default_wide, histogram_freq=1)\n",
    "\n",
    "model_default_lr_wide.fit(\n",
    "    [x_img_train, x_txt_train],\n",
    "    y_train,\n",
    "    validation_data=([x_img_val, x_txt_val], y_val),\n",
    "    epochs=20,\n",
    "    callbacks=[tensorboard_callback_default_lr_wide],\n",
    "    verbose=0\n",
    ")"
   ]
  },
  {
   "cell_type": "code",
   "execution_count": 59,
   "metadata": {},
   "outputs": [
    {
     "name": "stdout",
     "output_type": "stream",
     "text": [
      "Train on 135897 samples, validate on 33975 samples\n",
      "Epoch 1/20\n",
      "135897/135897 [==============================] - 65s 481us/sample - loss: 1.9719 - accuracy: 0.4806 - val_loss: 1.5672 - val_accuracy: 0.5756\n",
      "Epoch 2/20\n",
      "135897/135897 [==============================] - 54s 396us/sample - loss: 1.6668 - accuracy: 0.5606 - val_loss: 1.5072 - val_accuracy: 0.5931\n",
      "Epoch 3/20\n",
      "135897/135897 [==============================] - 61s 450us/sample - loss: 1.5977 - accuracy: 0.5769 - val_loss: 1.4816 - val_accuracy: 0.6017\n",
      "Epoch 4/20\n",
      "135897/135897 [==============================] - 60s 438us/sample - loss: 1.5591 - accuracy: 0.5839 - val_loss: 1.4557 - val_accuracy: 0.6038\n",
      "Epoch 5/20\n",
      "135897/135897 [==============================] - 52s 380us/sample - loss: 1.5271 - accuracy: 0.5906 - val_loss: 1.4424 - val_accuracy: 0.6099\n",
      "Epoch 6/20\n",
      "135897/135897 [==============================] - 74s 542us/sample - loss: 1.5051 - accuracy: 0.5973 - val_loss: 1.4289 - val_accuracy: 0.6098\n",
      "Epoch 7/20\n",
      "135897/135897 [==============================] - 83s 610us/sample - loss: 1.4894 - accuracy: 0.6014 - val_loss: 1.4243 - val_accuracy: 0.6100\n",
      "Epoch 8/20\n",
      "135897/135897 [==============================] - 63s 465us/sample - loss: 1.4737 - accuracy: 0.6038 - val_loss: 1.4237 - val_accuracy: 0.6119\n",
      "Epoch 9/20\n",
      "135897/135897 [==============================] - 62s 453us/sample - loss: 1.4608 - accuracy: 0.6079 - val_loss: 1.4371 - val_accuracy: 0.6137\n",
      "Epoch 10/20\n",
      "135897/135897 [==============================] - 64s 468us/sample - loss: 1.4528 - accuracy: 0.6086 - val_loss: 1.4309 - val_accuracy: 0.6126\n",
      "Epoch 11/20\n",
      "135897/135897 [==============================] - 60s 438us/sample - loss: 1.4431 - accuracy: 0.6122 - val_loss: 1.4443 - val_accuracy: 0.6087\n",
      "Epoch 12/20\n",
      "135897/135897 [==============================] - 67s 497us/sample - loss: 1.4308 - accuracy: 0.6156 - val_loss: 1.4242 - val_accuracy: 0.6153\n",
      "Epoch 13/20\n",
      "135897/135897 [==============================] - 65s 477us/sample - loss: 1.4239 - accuracy: 0.6175 - val_loss: 1.4173 - val_accuracy: 0.6188\n",
      "Epoch 14/20\n",
      "135897/135897 [==============================] - 48s 351us/sample - loss: 1.4195 - accuracy: 0.6183 - val_loss: 1.4281 - val_accuracy: 0.6133\n",
      "Epoch 15/20\n",
      "135897/135897 [==============================] - 49s 360us/sample - loss: 1.4100 - accuracy: 0.6213 - val_loss: 1.4118 - val_accuracy: 0.6163\n",
      "Epoch 16/20\n",
      "135897/135897 [==============================] - 63s 462us/sample - loss: 1.4039 - accuracy: 0.6219 - val_loss: 1.4309 - val_accuracy: 0.6150\n",
      "Epoch 17/20\n",
      "135897/135897 [==============================] - 54s 398us/sample - loss: 1.3957 - accuracy: 0.6234 - val_loss: 1.4151 - val_accuracy: 0.6155\n",
      "Epoch 18/20\n",
      "135897/135897 [==============================] - 57s 419us/sample - loss: 1.3893 - accuracy: 0.6257 - val_loss: 1.4072 - val_accuracy: 0.6188\n",
      "Epoch 19/20\n",
      "135897/135897 [==============================] - 53s 387us/sample - loss: 1.3881 - accuracy: 0.6255 - val_loss: 1.4317 - val_accuracy: 0.6116\n",
      "Epoch 20/20\n",
      "135897/135897 [==============================] - 50s 370us/sample - loss: 1.3803 - accuracy: 0.6267 - val_loss: 1.4169 - val_accuracy: 0.6161\n"
     ]
    },
    {
     "data": {
      "text/plain": [
       "<tensorflow.python.keras.callbacks.History at 0x139566850>"
      ]
     },
     "execution_count": 59,
     "metadata": {},
     "output_type": "execute_result"
    }
   ],
   "source": [
    "model_custom_lr_wide = models.get_model_custom_lr_wide()\n",
    "log_dir_custom_wide =\"logs/custom_lr_wide_\" + datetime.datetime.now().strftime(\"%Y%m%d-%H%M%S\")\n",
    "tensorboard_callback_custom_lr_wide = TensorBoard(log_dir=log_dir_custom_wide, histogram_freq=1)\n",
    "\n",
    "model_custom_lr_wide.fit(\n",
    "    [x_img_train, x_txt_train],\n",
    "    y_train,\n",
    "    validation_data=([x_img_val, x_txt_val], y_val),\n",
    "    epochs=20,\n",
    "    callbacks=[tensorboard_callback_custom_lr_wide]\n",
    ")"
   ]
  },
  {
   "cell_type": "code",
   "execution_count": null,
   "metadata": {},
   "outputs": [],
   "source": [
    "model_custom_lr_4_wide = models.get_model_custom_lr_wide(1e-4)\n",
    "log_dir_custom_wide =\"logs/custom_lr_4_wide_\" + datetime.datetime.now().strftime(\"%Y%m%d-%H%M%S\")\n",
    "tensorboard_callback_custom_lr_wide = TensorBoard(log_dir=log_dir_custom_wide, histogram_freq=1)\n",
    "\n",
    "model_custom_lr_4_wide.fit(\n",
    "    [x_img_train, x_txt_train],\n",
    "    y_train,\n",
    "    validation_data=([x_img_val, x_txt_val], y_val),\n",
    "    epochs=20,\n",
    "    callbacks=[tensorboard_callback_custom_lr_wide],\n",
    "    verbose=0\n",
    ")"
   ]
  },
  {
   "cell_type": "code",
   "execution_count": 61,
   "metadata": {},
   "outputs": [
    {
     "name": "stdout",
     "output_type": "stream",
     "text": [
      "Train on 135897 samples, validate on 33975 samples\n",
      "Epoch 1/20\n",
      "135897/135897 [==============================] - 179s 1ms/sample - loss: 1.8607 - accuracy: 0.5130 - val_loss: 1.5321 - val_accuracy: 0.5854\n",
      "Epoch 2/20\n",
      "135897/135897 [==============================] - 167s 1ms/sample - loss: 1.6068 - accuracy: 0.5760 - val_loss: 1.4934 - val_accuracy: 0.5947\n",
      "Epoch 3/20\n",
      "135897/135897 [==============================] - 193s 1ms/sample - loss: 1.5496 - accuracy: 0.5898 - val_loss: 1.4805 - val_accuracy: 0.5976\n",
      "Epoch 4/20\n",
      "135897/135897 [==============================] - 172s 1ms/sample - loss: 1.5134 - accuracy: 0.5984 - val_loss: 1.4628 - val_accuracy: 0.6019\n",
      "Epoch 5/20\n",
      "135897/135897 [==============================] - 172s 1ms/sample - loss: 1.4917 - accuracy: 0.6042 - val_loss: 1.4588 - val_accuracy: 0.6054\n",
      "Epoch 6/20\n",
      "135897/135897 [==============================] - 186s 1ms/sample - loss: 1.4704 - accuracy: 0.6095 - val_loss: 1.4529 - val_accuracy: 0.6092\n",
      "Epoch 7/20\n",
      "135897/135897 [==============================] - 190s 1ms/sample - loss: 1.4510 - accuracy: 0.6136 - val_loss: 1.4384 - val_accuracy: 0.6106\n",
      "Epoch 8/20\n",
      "135897/135897 [==============================] - 153s 1ms/sample - loss: 1.4359 - accuracy: 0.6154 - val_loss: 1.4368 - val_accuracy: 0.6130\n",
      "Epoch 9/20\n",
      "135897/135897 [==============================] - 139s 1ms/sample - loss: 1.4228 - accuracy: 0.6188 - val_loss: 1.4666 - val_accuracy: 0.6084\n",
      "Epoch 10/20\n",
      "135897/135897 [==============================] - 148s 1ms/sample - loss: 1.4109 - accuracy: 0.6219 - val_loss: 1.4514 - val_accuracy: 0.6116\n",
      "Epoch 11/20\n",
      "135897/135897 [==============================] - 137s 1ms/sample - loss: 1.3955 - accuracy: 0.6244 - val_loss: 1.4569 - val_accuracy: 0.6077\n",
      "Epoch 12/20\n",
      "135897/135897 [==============================] - 139s 1ms/sample - loss: 1.3846 - accuracy: 0.6274 - val_loss: 1.4523 - val_accuracy: 0.6093\n",
      "Epoch 13/20\n",
      "135897/135897 [==============================] - 141s 1ms/sample - loss: 1.3751 - accuracy: 0.6295 - val_loss: 1.4447 - val_accuracy: 0.6113\n",
      "Epoch 14/20\n",
      "135897/135897 [==============================] - 135s 991us/sample - loss: 1.3622 - accuracy: 0.6337 - val_loss: 1.4531 - val_accuracy: 0.6103\n",
      "Epoch 15/20\n",
      "135897/135897 [==============================] - 139s 1ms/sample - loss: 1.3520 - accuracy: 0.6344 - val_loss: 1.4575 - val_accuracy: 0.6130\n",
      "Epoch 16/20\n",
      "135897/135897 [==============================] - 140s 1ms/sample - loss: 1.3421 - accuracy: 0.6374 - val_loss: 1.4572 - val_accuracy: 0.6106\n",
      "Epoch 17/20\n",
      "135897/135897 [==============================] - 132s 973us/sample - loss: 1.3347 - accuracy: 0.6393 - val_loss: 1.4570 - val_accuracy: 0.6094\n",
      "Epoch 18/20\n",
      "135897/135897 [==============================] - 130s 957us/sample - loss: 1.3280 - accuracy: 0.6408 - val_loss: 1.4600 - val_accuracy: 0.6155\n",
      "Epoch 19/20\n",
      "135897/135897 [==============================] - 129s 946us/sample - loss: 1.3203 - accuracy: 0.6439 - val_loss: 1.4762 - val_accuracy: 0.6098\n",
      "Epoch 20/20\n",
      "135897/135897 [==============================] - 138s 1ms/sample - loss: 1.3106 - accuracy: 0.6452 - val_loss: 1.4872 - val_accuracy: 0.6126\n"
     ]
    },
    {
     "data": {
      "text/plain": [
       "<tensorflow.python.keras.callbacks.History at 0x140498350>"
      ]
     },
     "execution_count": 61,
     "metadata": {},
     "output_type": "execute_result"
    }
   ],
   "source": [
    "model_mix = models.get_model_mix()\n",
    "log_dir_mix =\"logs/mix_\" + datetime.datetime.now().strftime(\"%Y%m%d-%H%M%S\")\n",
    "tensorboard_callback_mix = TensorBoard(log_dir=log_dir_mix, histogram_freq=1)\n",
    "\n",
    "model_mix.fit(\n",
    "    [x_img_train, x_txt_train],\n",
    "    y_train,\n",
    "    validation_data=([x_img_val, x_txt_val], y_val),\n",
    "    epochs=20,\n",
    "    callbacks=[tensorboard_callback_mix]\n",
    ")"
   ]
  },
  {
   "cell_type": "code",
   "execution_count": 62,
   "metadata": {
    "pycharm": {
     "name": "#%%\n"
    }
   },
   "outputs": [
    {
     "name": "stdout",
     "output_type": "stream",
     "text": [
      "Train on 135897 samples, validate on 33975 samples\n",
      "Epoch 1/20\n",
      "135897/135897 [==============================] - 141s 1ms/sample - loss: 1.8622 - accuracy: 0.5121 - val_loss: 1.5494 - val_accuracy: 0.5790\n",
      "Epoch 2/20\n",
      "135897/135897 [==============================] - 135s 992us/sample - loss: 1.6087 - accuracy: 0.5759 - val_loss: 1.5118 - val_accuracy: 0.5944\n",
      "Epoch 3/20\n",
      "135897/135897 [==============================] - 146s 1ms/sample - loss: 1.5545 - accuracy: 0.5894 - val_loss: 1.4672 - val_accuracy: 0.6036\n",
      "Epoch 4/20\n",
      "135897/135897 [==============================] - 142s 1ms/sample - loss: 1.5191 - accuracy: 0.5979 - val_loss: 1.4642 - val_accuracy: 0.6052\n",
      "Epoch 5/20\n",
      "135897/135897 [==============================] - 143s 1ms/sample - loss: 1.4951 - accuracy: 0.6013 - val_loss: 1.4789 - val_accuracy: 0.5984\n",
      "Epoch 6/20\n",
      "135897/135897 [==============================] - 176s 1ms/sample - loss: 1.4747 - accuracy: 0.6075 - val_loss: 1.4527 - val_accuracy: 0.6102\n",
      "Epoch 7/20\n",
      "135897/135897 [==============================] - 137s 1ms/sample - loss: 1.4578 - accuracy: 0.6119 - val_loss: 1.4613 - val_accuracy: 0.6094\n",
      "Epoch 8/20\n",
      "135897/135897 [==============================] - 136s 1ms/sample - loss: 1.4437 - accuracy: 0.6157 - val_loss: 1.4635 - val_accuracy: 0.6056\n",
      "Epoch 9/20\n",
      "135897/135897 [==============================] - 150s 1ms/sample - loss: 1.4340 - accuracy: 0.6166 - val_loss: 1.4491 - val_accuracy: 0.6120\n",
      "Epoch 10/20\n",
      "135897/135897 [==============================] - 159s 1ms/sample - loss: 1.4195 - accuracy: 0.6212 - val_loss: 1.4592 - val_accuracy: 0.6058\n",
      "Epoch 11/20\n",
      "135897/135897 [==============================] - 155s 1ms/sample - loss: 1.4035 - accuracy: 0.6236 - val_loss: 1.4546 - val_accuracy: 0.6097\n",
      "Epoch 12/20\n",
      "135897/135897 [==============================] - 156s 1ms/sample - loss: 1.3895 - accuracy: 0.6267 - val_loss: 1.4507 - val_accuracy: 0.6089\n",
      "Epoch 13/20\n",
      "135897/135897 [==============================] - 190s 1ms/sample - loss: 1.3852 - accuracy: 0.6279 - val_loss: 1.4593 - val_accuracy: 0.6073\n",
      "Epoch 14/20\n",
      "135897/135897 [==============================] - 159s 1ms/sample - loss: 1.3746 - accuracy: 0.6312 - val_loss: 1.4648 - val_accuracy: 0.6062\n",
      "Epoch 15/20\n",
      "135897/135897 [==============================] - 168s 1ms/sample - loss: 1.3621 - accuracy: 0.6334 - val_loss: 1.4717 - val_accuracy: 0.6099\n",
      "Epoch 16/20\n",
      "135897/135897 [==============================] - 166s 1ms/sample - loss: 1.3573 - accuracy: 0.6363 - val_loss: 1.4629 - val_accuracy: 0.6082\n",
      "Epoch 17/20\n",
      "135897/135897 [==============================] - 139s 1ms/sample - loss: 1.3455 - accuracy: 0.6370 - val_loss: 1.4626 - val_accuracy: 0.6109\n",
      "Epoch 18/20\n",
      "135897/135897 [==============================] - 141s 1ms/sample - loss: 1.3333 - accuracy: 0.6407 - val_loss: 1.4712 - val_accuracy: 0.6100\n",
      "Epoch 19/20\n",
      "135897/135897 [==============================] - 143s 1ms/sample - loss: 1.3354 - accuracy: 0.6407 - val_loss: 1.4786 - val_accuracy: 0.6104\n",
      "Epoch 20/20\n",
      "135897/135897 [==============================] - 144s 1ms/sample - loss: 1.3224 - accuracy: 0.6424 - val_loss: 1.4783 - val_accuracy: 0.6083\n"
     ]
    },
    {
     "data": {
      "text/plain": [
       "<tensorflow.python.keras.callbacks.History at 0x1429aa910>"
      ]
     },
     "execution_count": 62,
     "metadata": {},
     "output_type": "execute_result"
    }
   ],
   "source": [
    "model_mix_custom_lr = models.get_model_mix_custom_lr()\n",
    "log_dir_mix_custom_lr =\"logs/mix_custom_lr\" + datetime.datetime.now().strftime(\"%Y%m%d-%H%M%S\")\n",
    "tensorboard_callback_mix_custom_lr = TensorBoard(log_dir=log_dir_mix_custom_lr, histogram_freq=1)\n",
    "\n",
    "model_mix_custom_lr.fit(\n",
    "    [x_img_train, x_txt_train],\n",
    "    y_train,\n",
    "    validation_data=([x_img_val, x_txt_val], y_val),\n",
    "    epochs=20,\n",
    "    callbacks=[tensorboard_callback_mix_custom_lr]\n",
    ")"
   ]
  },
  {
   "cell_type": "code",
   "execution_count": 90,
   "metadata": {},
   "outputs": [
    {
     "name": "stdout",
     "output_type": "stream",
     "text": [
      "/bin/sh: line 0: kill: (4237) - No such process\r\n"
     ]
    },
    {
     "data": {
      "text/plain": [
       "Reusing TensorBoard on port 6006 (pid 4237), started 2 days, 0:39:49 ago. (Use '!kill 4237' to kill it.)"
      ]
     },
     "metadata": {},
     "output_type": "display_data"
    },
    {
     "data": {
      "text/html": [
       "\n",
       "      <iframe id=\"tensorboard-frame-69553bbfd1de47a1\" width=\"100%\" height=\"800\" frameborder=\"0\">\n",
       "      </iframe>\n",
       "      <script>\n",
       "        (function() {\n",
       "          const frame = document.getElementById(\"tensorboard-frame-69553bbfd1de47a1\");\n",
       "          const url = new URL(\"/\", window.location);\n",
       "          url.port = 6006;\n",
       "          frame.src = url;\n",
       "        })();\n",
       "      </script>\n",
       "  "
      ],
      "text/plain": [
       "<IPython.core.display.HTML object>"
      ]
     },
     "metadata": {},
     "output_type": "display_data"
    }
   ],
   "source": [
    "!kill 4237\n",
    "%tensorboard --logdir logs"
   ]
  },
  {
   "cell_type": "markdown",
   "metadata": {
    "pycharm": {
     "name": "#%% md\n"
    }
   },
   "source": [
    "### Add standard scaling"
   ]
  },
  {
   "cell_type": "code",
   "execution_count": 66,
   "metadata": {
    "pycharm": {
     "name": "#%%\n"
    }
   },
   "outputs": [],
   "source": [
    "img_sscaler = StandardScaler()\n",
    "img_sscaler.fit(x_img_train)\n",
    "\n",
    "ss_x_img_train = img_sscaler.transform(x_img_train)\n",
    "ss_x_img_val = img_sscaler.transform(x_img_val)\n",
    "ss_x_img_test = img_sscaler.transform(x_img_test)\n",
    "\n",
    "txt_sscaler = StandardScaler()\n",
    "txt_sscaler.fit(x_txt_train)\n",
    "\n",
    "ss_x_txt_train = txt_sscaler.transform(x_txt_train)\n",
    "ss_x_txt_val = txt_sscaler.transform(x_txt_val)\n",
    "ss_x_txt_test = txt_sscaler.transform(x_txt_test)"
   ]
  },
  {
   "cell_type": "code",
   "execution_count": 87,
   "metadata": {},
   "outputs": [
    {
     "name": "stdout",
     "output_type": "stream",
     "text": [
      "Train on 135897 samples, validate on 33975 samples\n",
      "Epoch 1/20\n",
      "135897/135897 [==============================] - 68s 503us/sample - loss: 1.9864 - accuracy: 0.5033 - val_loss: 1.5221 - val_accuracy: 0.5907\n",
      "Epoch 2/20\n",
      "135897/135897 [==============================] - 21s 156us/sample - loss: 1.7323 - accuracy: 0.5471 - val_loss: 1.4997 - val_accuracy: 0.5916\n",
      "Epoch 3/20\n",
      "135897/135897 [==============================] - 14s 102us/sample - loss: 1.7010 - accuracy: 0.5550 - val_loss: 1.4882 - val_accuracy: 0.5966\n",
      "Epoch 4/20\n",
      "135897/135897 [==============================] - 27s 199us/sample - loss: 1.6862 - accuracy: 0.5569 - val_loss: 1.4763 - val_accuracy: 0.6011\n",
      "Epoch 5/20\n",
      "135897/135897 [==============================] - 30s 219us/sample - loss: 1.6750 - accuracy: 0.5585 - val_loss: 1.4854 - val_accuracy: 0.5947\n",
      "Epoch 6/20\n",
      "135897/135897 [==============================] - 19s 140us/sample - loss: 1.6645 - accuracy: 0.5618 - val_loss: 1.4758 - val_accuracy: 0.6005\n",
      "Epoch 7/20\n",
      "135897/135897 [==============================] - 16s 114us/sample - loss: 1.6608 - accuracy: 0.5625 - val_loss: 1.4859 - val_accuracy: 0.5987\n",
      "Epoch 8/20\n",
      "135897/135897 [==============================] - 14s 103us/sample - loss: 1.6553 - accuracy: 0.5631 - val_loss: 1.4813 - val_accuracy: 0.6006\n",
      "Epoch 9/20\n",
      "135897/135897 [==============================] - 14s 100us/sample - loss: 1.6536 - accuracy: 0.5648 - val_loss: 1.4668 - val_accuracy: 0.6038\n",
      "Epoch 10/20\n",
      "135897/135897 [==============================] - 14s 102us/sample - loss: 1.6443 - accuracy: 0.5666 - val_loss: 1.4818 - val_accuracy: 0.6030\n",
      "Epoch 11/20\n",
      "135897/135897 [==============================] - 13s 99us/sample - loss: 1.6474 - accuracy: 0.5654 - val_loss: 1.4867 - val_accuracy: 0.5997\n",
      "Epoch 12/20\n",
      "135897/135897 [==============================] - 14s 102us/sample - loss: 1.6407 - accuracy: 0.5662 - val_loss: 1.4901 - val_accuracy: 0.5983\n",
      "Epoch 13/20\n",
      "135897/135897 [==============================] - 13s 97us/sample - loss: 1.6396 - accuracy: 0.5670 - val_loss: 1.4717 - val_accuracy: 0.6016\n",
      "Epoch 14/20\n",
      "135897/135897 [==============================] - 14s 103us/sample - loss: 1.6398 - accuracy: 0.5675 - val_loss: 1.4693 - val_accuracy: 0.6021\n",
      "Epoch 15/20\n",
      "135897/135897 [==============================] - 14s 102us/sample - loss: 1.6369 - accuracy: 0.5692 - val_loss: 1.4737 - val_accuracy: 0.5986\n",
      "Epoch 16/20\n",
      "135897/135897 [==============================] - 14s 101us/sample - loss: 1.6339 - accuracy: 0.5688 - val_loss: 1.4861 - val_accuracy: 0.5980\n",
      "Epoch 17/20\n",
      "135897/135897 [==============================] - 14s 104us/sample - loss: 1.6345 - accuracy: 0.5684 - val_loss: 1.4775 - val_accuracy: 0.5996\n",
      "Epoch 18/20\n",
      "135897/135897 [==============================] - 14s 100us/sample - loss: 1.6326 - accuracy: 0.5682 - val_loss: 1.4820 - val_accuracy: 0.5995\n",
      "Epoch 19/20\n",
      "135897/135897 [==============================] - 18s 136us/sample - loss: 1.6318 - accuracy: 0.5691 - val_loss: 1.4712 - val_accuracy: 0.6023\n",
      "Epoch 20/20\n",
      "135897/135897 [==============================] - 13s 92us/sample - loss: 1.6303 - accuracy: 0.5692 - val_loss: 1.4790 - val_accuracy: 0.6037\n"
     ]
    },
    {
     "data": {
      "text/plain": [
       "<tensorflow.python.keras.callbacks.History at 0x145370d10>"
      ]
     },
     "execution_count": 87,
     "metadata": {},
     "output_type": "execute_result"
    }
   ],
   "source": [
    "model_trivial_ss = models.get_model_trivial()\n",
    "log_dir_ss =\"logs/trivial_ss_\" + datetime.datetime.now().strftime(\"%Y%m%d-%H%M%S\")\n",
    "tensorboard_callback_trivial_ss = TensorBoard(log_dir=log_dir_ss, histogram_freq=1)\n",
    "\n",
    "model_trivial_ss.fit(\n",
    "    [ss_x_img_train, ss_x_txt_train],\n",
    "    y_train,\n",
    "    validation_data=([ss_x_img_val, ss_x_txt_val], y_val),\n",
    "    epochs=20,\n",
    "    callbacks=[tensorboard_callback_trivial_ss]\n",
    ")"
   ]
  },
  {
   "cell_type": "markdown",
   "metadata": {
    "pycharm": {
     "name": "#%% md\n"
    }
   },
   "source": [
    "### stratify partition"
   ]
  },
  {
   "cell_type": "code",
   "execution_count": 7,
   "metadata": {},
   "outputs": [],
   "source": [
    "x_img_train_s, x_img_test_s, x_txt_train_s, x_txt_test_s, y_train_s, y_test_s = train_test_split(\n",
    "    x_img, \n",
    "    x_txt, \n",
    "    y, \n",
    "    test_size=0.2, \n",
    "    random_state=42,\n",
    "    stratify=y\n",
    ")\n",
    "\n",
    "x_img_train_s, x_img_val_s, x_txt_train_s, x_txt_val_s, y_train_s, y_val_s = train_test_split(\n",
    "    x_img_train_s,\n",
    "    x_txt_train_s,\n",
    "    y_train_s,\n",
    "    test_size=0.2,\n",
    "    random_state=42,\n",
    "    stratify=y_train_s\n",
    ")"
   ]
  },
  {
   "cell_type": "code",
   "execution_count": 77,
   "metadata": {},
   "outputs": [],
   "source": [
    "unique, counts = np.unique(np.argmax(y_train, axis=1), return_counts=True)\n",
    "dict_y_train = dict(zip(unique, counts))"
   ]
  },
  {
   "cell_type": "code",
   "execution_count": 78,
   "metadata": {},
   "outputs": [
    {
     "name": "stdout",
     "output_type": "stream",
     "text": [
      "{0: 5488, 1: 4839, 2: 710, 3: 5556, 4: 915, 5: 2268, 6: 3562, 7: 1776, 8: 1615, 9: 2887, 10: 4184, 11: 3611, 12: 3952, 13: 3217, 14: 2646, 15: 1653, 16: 5894, 17: 2341, 18: 2600, 19: 2475, 20: 3281, 21: 1752, 22: 1871, 23: 4291, 24: 3429, 25: 3087, 26: 4497, 27: 3335, 28: 6377, 29: 2672, 30: 2276, 31: 3385, 32: 6540, 33: 1514, 34: 2035, 35: 1119, 36: 1397, 37: 863, 38: 573, 39: 722, 40: 344, 41: 1770, 42: 136, 43: 3396, 44: 637, 45: 2523, 46: 676, 47: 340, 48: 7585, 49: 1285}\n"
     ]
    }
   ],
   "source": [
    "print(dict_y_train)"
   ]
  },
  {
   "cell_type": "code",
   "execution_count": 80,
   "metadata": {},
   "outputs": [
    {
     "name": "stdout",
     "output_type": "stream",
     "text": [
      "{0: 1352, 1: 1245, 2: 155, 3: 1411, 4: 246, 5: 527, 6: 838, 7: 436, 8: 418, 9: 755, 10: 1094, 11: 905, 12: 1004, 13: 804, 14: 657, 15: 413, 16: 1497, 17: 599, 18: 628, 19: 650, 20: 814, 21: 453, 22: 470, 23: 1117, 24: 884, 25: 769, 26: 1126, 27: 780, 28: 1671, 29: 660, 30: 585, 31: 789, 32: 1656, 33: 397, 34: 496, 35: 280, 36: 339, 37: 206, 38: 116, 39: 165, 40: 82, 41: 462, 42: 27, 43: 833, 44: 169, 45: 576, 46: 153, 47: 65, 48: 1888, 49: 313}\n"
     ]
    }
   ],
   "source": [
    "unique, counts = np.unique(np.argmax(y_val, axis=1), return_counts=True)\n",
    "dict_y_val = dict(zip(unique, counts))\n",
    "print(dict_y_val)"
   ]
  },
  {
   "cell_type": "code",
   "execution_count": 82,
   "metadata": {},
   "outputs": [
    {
     "name": "stdout",
     "output_type": "stream",
     "text": [
      "{0: 1667, 1: 1494, 2: 205, 3: 1735, 4: 317, 5: 621, 6: 1020, 7: 509, 8: 475, 9: 881, 10: 1269, 11: 1144, 12: 1259, 13: 1021, 14: 786, 15: 505, 16: 1874, 17: 785, 18: 830, 19: 753, 20: 1016, 21: 546, 22: 572, 23: 1448, 24: 1100, 25: 952, 26: 1468, 27: 1039, 28: 2107, 29: 858, 30: 737, 31: 1023, 32: 2060, 33: 485, 34: 602, 35: 318, 36: 469, 37: 252, 38: 177, 39: 220, 40: 77, 41: 573, 42: 46, 43: 1012, 44: 205, 45: 823, 46: 221, 47: 98, 48: 2433, 49: 381}\n"
     ]
    }
   ],
   "source": [
    "unique, counts = np.unique(np.argmax(y_test, axis=1), return_counts=True)\n",
    "dict_y_test = dict(zip(unique, counts))\n",
    "print(dict_y_test)"
   ]
  },
  {
   "cell_type": "code",
   "execution_count": 81,
   "metadata": {},
   "outputs": [
    {
     "name": "stdout",
     "output_type": "stream",
     "text": [
      "{0: 5445, 1: 4850, 2: 685, 3: 5569, 4: 946, 5: 2186, 6: 3469, 7: 1742, 8: 1605, 9: 2894, 10: 4190, 11: 3622, 12: 3978, 13: 3227, 14: 2617, 15: 1646, 16: 5929, 17: 2384, 18: 2597, 19: 2482, 20: 3271, 21: 1761, 22: 1864, 23: 4388, 24: 3464, 25: 3077, 26: 4538, 27: 3298, 28: 6499, 29: 2682, 30: 2302, 31: 3326, 32: 6564, 33: 1534, 34: 2005, 35: 1099, 36: 1411, 37: 846, 38: 554, 39: 709, 40: 322, 41: 1795, 42: 134, 43: 3354, 44: 647, 45: 2510, 46: 672, 47: 322, 48: 7620, 49: 1266}\n"
     ]
    }
   ],
   "source": [
    "unique, counts = np.unique(np.argmax(y_train_s, axis=1), return_counts=True)\n",
    "dict_y_train_s = dict(zip(unique, counts))\n",
    "print(dict_y_train_s)"
   ]
  },
  {
   "cell_type": "code",
   "execution_count": 83,
   "metadata": {},
   "outputs": [
    {
     "name": "stdout",
     "output_type": "stream",
     "text": [
      "{0: 1361, 1: 1212, 2: 171, 3: 1393, 4: 236, 5: 547, 6: 867, 7: 435, 8: 401, 9: 724, 10: 1048, 11: 906, 12: 994, 13: 807, 14: 654, 15: 411, 16: 1483, 17: 596, 18: 649, 19: 620, 20: 818, 21: 440, 22: 466, 23: 1097, 24: 866, 25: 769, 26: 1135, 27: 825, 28: 1625, 29: 670, 30: 576, 31: 832, 32: 1641, 33: 383, 34: 501, 35: 275, 36: 353, 37: 211, 38: 139, 39: 177, 40: 80, 41: 449, 42: 33, 43: 839, 44: 162, 45: 628, 46: 168, 47: 80, 48: 1905, 49: 317}\n"
     ]
    }
   ],
   "source": [
    "unique, counts = np.unique(np.argmax(y_val_s, axis=1), return_counts=True)\n",
    "dict_y_val_s = dict(zip(unique, counts))\n",
    "print(dict_y_val_s)"
   ]
  },
  {
   "cell_type": "code",
   "execution_count": 84,
   "metadata": {
    "pycharm": {
     "name": "#%%\n"
    }
   },
   "outputs": [
    {
     "name": "stdout",
     "output_type": "stream",
     "text": [
      "{0: 1701, 1: 1516, 2: 214, 3: 1740, 4: 296, 5: 683, 6: 1084, 7: 544, 8: 502, 9: 905, 10: 1309, 11: 1132, 12: 1243, 13: 1008, 14: 818, 15: 514, 16: 1853, 17: 745, 18: 812, 19: 776, 20: 1022, 21: 550, 22: 583, 23: 1371, 24: 1083, 25: 962, 26: 1418, 27: 1031, 28: 2031, 29: 838, 30: 720, 31: 1039, 32: 2051, 33: 479, 34: 627, 35: 343, 36: 441, 37: 264, 38: 173, 39: 221, 40: 101, 41: 561, 42: 42, 43: 1048, 44: 202, 45: 784, 46: 210, 47: 101, 48: 2381, 49: 396}\n"
     ]
    }
   ],
   "source": [
    "unique, counts = np.unique(np.argmax(y_test_s, axis=1), return_counts=True)\n",
    "dict_y_test_s = dict(zip(unique, counts))\n",
    "print(dict_y_test_s)"
   ]
  },
  {
   "cell_type": "code",
   "execution_count": 88,
   "metadata": {},
   "outputs": [
    {
     "name": "stdout",
     "output_type": "stream",
     "text": [
      "Train on 135897 samples, validate on 33975 samples\n",
      "Epoch 1/20\n",
      "135897/135897 [==============================] - 72s 527us/sample - loss: 2.2292 - accuracy: 0.4256 - val_loss: 1.6937 - val_accuracy: 0.5438\n",
      "Epoch 2/20\n",
      "135897/135897 [==============================] - 43s 316us/sample - loss: 1.8734 - accuracy: 0.5050 - val_loss: 1.6069 - val_accuracy: 0.5649\n",
      "Epoch 3/20\n",
      "135897/135897 [==============================] - 28s 205us/sample - loss: 1.7935 - accuracy: 0.5251 - val_loss: 1.5640 - val_accuracy: 0.5782\n",
      "Epoch 4/20\n",
      "135897/135897 [==============================] - 14s 106us/sample - loss: 1.7501 - accuracy: 0.5338 - val_loss: 1.5610 - val_accuracy: 0.5800\n",
      "Epoch 5/20\n",
      "135897/135897 [==============================] - 15s 111us/sample - loss: 1.7252 - accuracy: 0.5408 - val_loss: 1.5328 - val_accuracy: 0.5820\n",
      "Epoch 6/20\n",
      "135897/135897 [==============================] - 15s 107us/sample - loss: 1.7053 - accuracy: 0.5460 - val_loss: 1.5262 - val_accuracy: 0.5870\n",
      "Epoch 7/20\n",
      "135897/135897 [==============================] - 13s 98us/sample - loss: 1.6891 - accuracy: 0.5507 - val_loss: 1.5182 - val_accuracy: 0.5855\n",
      "Epoch 8/20\n",
      "135897/135897 [==============================] - 16s 120us/sample - loss: 1.6722 - accuracy: 0.5531 - val_loss: 1.5101 - val_accuracy: 0.5888\n",
      "Epoch 9/20\n",
      "135897/135897 [==============================] - 13s 95us/sample - loss: 1.6636 - accuracy: 0.5578 - val_loss: 1.5039 - val_accuracy: 0.5951\n",
      "Epoch 10/20\n",
      "135897/135897 [==============================] - 13s 95us/sample - loss: 1.6567 - accuracy: 0.5578 - val_loss: 1.4886 - val_accuracy: 0.59790s - loss: 1.6570 - accuracy: 0. - ETA: 0s - los\n",
      "Epoch 11/20\n",
      "135897/135897 [==============================] - 13s 97us/sample - loss: 1.6493 - accuracy: 0.5601 - val_loss: 1.4881 - val_accuracy: 0.5991\n",
      "Epoch 12/20\n",
      "135897/135897 [==============================] - 13s 95us/sample - loss: 1.6437 - accuracy: 0.5622 - val_loss: 1.5055 - val_accuracy: 0.5897\n",
      "Epoch 13/20\n",
      "135897/135897 [==============================] - 13s 98us/sample - loss: 1.6396 - accuracy: 0.5622 - val_loss: 1.4944 - val_accuracy: 0.5955\n",
      "Epoch 14/20\n",
      "135897/135897 [==============================] - 14s 101us/sample - loss: 1.6316 - accuracy: 0.5656 - val_loss: 1.4898 - val_accuracy: 0.5968\n",
      "Epoch 15/20\n",
      "135897/135897 [==============================] - 15s 110us/sample - loss: 1.6292 - accuracy: 0.5660 - val_loss: 1.5033 - val_accuracy: 0.5911\n",
      "Epoch 16/20\n",
      "135897/135897 [==============================] - 13s 96us/sample - loss: 1.6219 - accuracy: 0.5676 - val_loss: 1.5022 - val_accuracy: 0.5916\n",
      "Epoch 17/20\n",
      "135897/135897 [==============================] - 13s 99us/sample - loss: 1.6203 - accuracy: 0.5675 - val_loss: 1.4922 - val_accuracy: 0.5956\n",
      "Epoch 18/20\n",
      "135897/135897 [==============================] - 13s 96us/sample - loss: 1.6152 - accuracy: 0.5697 - val_loss: 1.4740 - val_accuracy: 0.6027\n",
      "Epoch 19/20\n",
      "135897/135897 [==============================] - 13s 96us/sample - loss: 1.6138 - accuracy: 0.5712 - val_loss: 1.4762 - val_accuracy: 0.6034\n",
      "Epoch 20/20\n",
      "135897/135897 [==============================] - 13s 98us/sample - loss: 1.6093 - accuracy: 0.5711 - val_loss: 1.4721 - val_accuracy: 0.6005\n"
     ]
    },
    {
     "data": {
      "text/plain": [
       "<tensorflow.python.keras.callbacks.History at 0x145c1ae50>"
      ]
     },
     "execution_count": 88,
     "metadata": {},
     "output_type": "execute_result"
    }
   ],
   "source": [
    "model_trivial_s = models.get_model_trivial()\n",
    "log_dir_s =\"logs/trivial_s_\" + datetime.datetime.now().strftime(\"%Y%m%d-%H%M%S\")\n",
    "tensorboard_callback_trivial_s = TensorBoard(log_dir=log_dir_s, histogram_freq=1)\n",
    "\n",
    "model_trivial_s.fit(\n",
    "    [x_img_train_s, x_txt_train_s],\n",
    "    y_train_s,\n",
    "    validation_data=([x_img_val_s, x_txt_val_s], y_val_s),\n",
    "    epochs=20,\n",
    "    callbacks=[tensorboard_callback_trivial_s]\n",
    ")"
   ]
  },
  {
   "cell_type": "markdown",
   "metadata": {
    "pycharm": {
     "name": "#%% md\n"
    }
   },
   "source": [
    "### Combine standard scaling and stratify"
   ]
  },
  {
   "cell_type": "code",
   "execution_count": 8,
   "metadata": {},
   "outputs": [],
   "source": [
    "s_img_sscaler = StandardScaler()\n",
    "s_img_sscaler.fit(x_img_train_s)\n",
    "\n",
    "x_img_train_3s = s_img_sscaler.transform(x_img_train_s)\n",
    "x_img_val_3s = s_img_sscaler.transform(x_img_val_s)\n",
    "x_img_test_3s = s_img_sscaler.transform(x_img_test_s)\n",
    "\n",
    "s_txt_sscaler = StandardScaler()\n",
    "s_txt_sscaler.fit(x_txt_train_s)\n",
    "\n",
    "x_txt_train_3s = s_txt_sscaler.transform(x_txt_train_s)\n",
    "x_txt_val_3s = s_txt_sscaler.transform(x_txt_val_s)\n",
    "x_txt_test_3s = s_txt_sscaler.transform(x_txt_test_s)"
   ]
  },
  {
   "cell_type": "code",
   "execution_count": 93,
   "metadata": {},
   "outputs": [],
   "source": [
    "model_matrix_fusion = models.get_model_matrix_fusion(128)\n",
    "log_dir_matrix = \"logs/matrix_128_\" + datetime.datetime.now().strftime(\"%Y%m%d-%H%M%S\")\n",
    "tensorboard_callback_matrix = TensorBoard(log_dir=log_dir_matrix, histogram_freq=1)"
   ]
  },
  {
   "cell_type": "code",
   "execution_count": null,
   "metadata": {
    "pycharm": {
     "name": "#%%\n"
    }
   },
   "outputs": [],
   "source": [
    "model_matrix_fusion.fit(\n",
    "    [x_img_train_3s, x_txt_train_3s],\n",
    "    y_train_s,\n",
    "    validation_data=([x_img_val_3s, x_txt_val_3s], y_val_s),\n",
    "    epochs=30,\n",
    "    batch_size=2048,\n",
    "    callbacks=[tensorboard_callback_matrix]\n",
    ")"
   ]
  },
  {
   "cell_type": "code",
   "execution_count": null,
   "metadata": {
    "pycharm": {
     "name": "#%%\n"
    }
   },
   "outputs": [],
   "source": [
    "model_matrix_fusion_64 = models.get_model_matrix_fusion(64)\n",
    "log_dir_matrix = \"logs/matrix_64_\" + datetime.datetime.now().strftime(\"%Y%m%d-%H%M%S\")\n",
    "tensorboard_callback_matrix = TensorBoard(log_dir=log_dir_matrix, histogram_freq=1)\n",
    "\n",
    "model_matrix_fusion_64.fit(\n",
    "    [x_img_train_3s, x_txt_train_3s],\n",
    "    y_train_s,\n",
    "    validation_data=([x_img_val_3s, x_txt_val_3s], y_val_s),\n",
    "    epochs=30,\n",
    "    batch_size=2048,\n",
    "    callbacks=[tensorboard_callback_matrix]\n",
    ")"
   ]
  },
  {
   "cell_type": "code",
   "execution_count": null,
   "metadata": {
    "pycharm": {
     "name": "#%%\n"
    }
   },
   "outputs": [],
   "source": [
    "model_matrix_short_64 = models.get_model_matrix_fusion_short(64)\n",
    "log_dir_matrix = \"logs/matrix_short_64_\" + datetime.datetime.now().strftime(\"%Y%m%d-%H%M%S\")\n",
    "tensorboard_callback_matrix = TensorBoard(log_dir=log_dir_matrix, histogram_freq=1)\n",
    "\n",
    "model_matrix_short_64.fit(\n",
    "    [x_img_train_3s, x_txt_train_3s],\n",
    "    y_train_s,\n",
    "    validation_data=([x_img_val_3s, x_txt_val_3s], y_val_s),\n",
    "    epochs=30,\n",
    "    batch_size=2048,\n",
    "    callbacks=[tensorboard_callback_matrix]\n",
    ")"
   ]
  },
  {
   "cell_type": "code",
   "execution_count": null,
   "metadata": {
    "pycharm": {
     "name": "#%%\n"
    }
   },
   "outputs": [],
   "source": [
    "model_matrix_short_128 = models.get_model_matrix_fusion_short(128)\n",
    "log_dir_matrix = \"logs/matrix_short_128_\" + datetime.datetime.now().strftime(\"%Y%m%d-%H%M%S\")\n",
    "tensorboard_callback_matrix = TensorBoard(log_dir=log_dir_matrix, histogram_freq=1)\n",
    "\n",
    "model_matrix_short_128.fit(\n",
    "    [x_img_train_3s, x_txt_train_3s],\n",
    "    y_train_s,\n",
    "    validation_data=([x_img_val_3s, x_txt_val_3s], y_val_s),\n",
    "    epochs=30,\n",
    "    batch_size=2048,\n",
    "    callbacks=[tensorboard_callback_matrix]\n",
    ")"
   ]
  },
  {
   "cell_type": "code",
   "execution_count": null,
   "metadata": {
    "pycharm": {
     "name": "#%%\n"
    }
   },
   "outputs": [],
   "source": []
  },
  {
   "cell_type": "code",
   "execution_count": 94,
   "metadata": {},
   "outputs": [
    {
     "name": "stdout",
     "output_type": "stream",
     "text": [
      "Train on 135897 samples, validate on 33975 samples\n",
      "Epoch 1/30\n",
      "135897/135897 [==============================] - 111s 820us/sample - loss: 3.3388 - accuracy: 0.1943 - val_loss: 2.4728 - val_accuracy: 0.4571\n",
      "Epoch 2/30\n",
      "135897/135897 [==============================] - 97s 713us/sample - loss: 2.3840 - accuracy: 0.4035 - val_loss: 2.0041 - val_accuracy: 0.5398\n",
      "Epoch 3/30\n",
      "135897/135897 [==============================] - 105s 773us/sample - loss: 2.0935 - accuracy: 0.4719 - val_loss: 1.8578 - val_accuracy: 0.5667\n",
      "Epoch 4/30\n",
      "135897/135897 [==============================] - 111s 816us/sample - loss: 1.9310 - accuracy: 0.5095 - val_loss: 1.7437 - val_accuracy: 0.5868\n",
      "Epoch 5/30\n",
      "135897/135897 [==============================] - 94s 691us/sample - loss: 1.8410 - accuracy: 0.5336 - val_loss: 1.7098 - val_accuracy: 0.5957\n",
      "Epoch 6/30\n",
      "135897/135897 [==============================] - 89s 652us/sample - loss: 1.7615 - accuracy: 0.5494 - val_loss: 1.6178 - val_accuracy: 0.6007\n",
      "Epoch 7/30\n",
      "135897/135897 [==============================] - 94s 695us/sample - loss: 1.7109 - accuracy: 0.5598 - val_loss: 1.6189 - val_accuracy: 0.6059\n",
      "Epoch 8/30\n",
      "135897/135897 [==============================] - 91s 672us/sample - loss: 1.6574 - accuracy: 0.5715 - val_loss: 1.5833 - val_accuracy: 0.6076\n",
      "Epoch 9/30\n",
      "135897/135897 [==============================] - 90s 660us/sample - loss: 1.6185 - accuracy: 0.5800 - val_loss: 1.5453 - val_accuracy: 0.6109\n",
      "Epoch 10/30\n",
      "135897/135897 [==============================] - 91s 672us/sample - loss: 1.5830 - accuracy: 0.5865 - val_loss: 1.5136 - val_accuracy: 0.6142\n",
      "Epoch 11/30\n",
      "135897/135897 [==============================] - 88s 649us/sample - loss: 1.5519 - accuracy: 0.5923 - val_loss: 1.5129 - val_accuracy: 0.6163\n",
      "Epoch 12/30\n",
      "135897/135897 [==============================] - 89s 652us/sample - loss: 1.5268 - accuracy: 0.5969 - val_loss: 1.4954 - val_accuracy: 0.6197\n",
      "Epoch 13/30\n",
      "135897/135897 [==============================] - 90s 659us/sample - loss: 1.5006 - accuracy: 0.6025 - val_loss: 1.4746 - val_accuracy: 0.6196\n",
      "Epoch 14/30\n",
      "135897/135897 [==============================] - 90s 660us/sample - loss: 1.4791 - accuracy: 0.6088 - val_loss: 1.4690 - val_accuracy: 0.6201\n",
      "Epoch 15/30\n",
      "135897/135897 [==============================] - 92s 673us/sample - loss: 1.4576 - accuracy: 0.6120 - val_loss: 1.4542 - val_accuracy: 0.6203\n",
      "Epoch 16/30\n",
      "135897/135897 [==============================] - 91s 673us/sample - loss: 1.4402 - accuracy: 0.6159 - val_loss: 1.4390 - val_accuracy: 0.6234\n",
      "Epoch 17/30\n",
      "135897/135897 [==============================] - 98s 721us/sample - loss: 1.4164 - accuracy: 0.6189 - val_loss: 1.4478 - val_accuracy: 0.6238\n",
      "Epoch 18/30\n",
      "135897/135897 [==============================] - 89s 652us/sample - loss: 1.3977 - accuracy: 0.6230 - val_loss: 1.4368 - val_accuracy: 0.6237\n",
      "Epoch 19/30\n",
      "135897/135897 [==============================] - 91s 668us/sample - loss: 1.3834 - accuracy: 0.6279 - val_loss: 1.4262 - val_accuracy: 0.6234\n",
      "Epoch 20/30\n",
      "135897/135897 [==============================] - 90s 663us/sample - loss: 1.3673 - accuracy: 0.6293 - val_loss: 1.4190 - val_accuracy: 0.6243\n",
      "Epoch 21/30\n",
      "135897/135897 [==============================] - 94s 695us/sample - loss: 1.3484 - accuracy: 0.6323 - val_loss: 1.4087 - val_accuracy: 0.6234\n",
      "Epoch 22/30\n",
      "135897/135897 [==============================] - 89s 653us/sample - loss: 1.3376 - accuracy: 0.6359 - val_loss: 1.4041 - val_accuracy: 0.6243\n",
      "Epoch 23/30\n",
      "135897/135897 [==============================] - 91s 669us/sample - loss: 1.3251 - accuracy: 0.6375 - val_loss: 1.3994 - val_accuracy: 0.6242\n",
      "Epoch 24/30\n",
      "135897/135897 [==============================] - 90s 661us/sample - loss: 1.3093 - accuracy: 0.6404 - val_loss: 1.4091 - val_accuracy: 0.6226\n",
      "Epoch 25/30\n",
      "135897/135897 [==============================] - 89s 656us/sample - loss: 1.3020 - accuracy: 0.6420 - val_loss: 1.3915 - val_accuracy: 0.6251\n",
      "Epoch 26/30\n",
      "135897/135897 [==============================] - 91s 667us/sample - loss: 1.2832 - accuracy: 0.6468 - val_loss: 1.3893 - val_accuracy: 0.6273\n",
      "Epoch 27/30\n",
      "135897/135897 [==============================] - 90s 662us/sample - loss: 1.2744 - accuracy: 0.6477 - val_loss: 1.3877 - val_accuracy: 0.6271\n",
      "Epoch 28/30\n",
      "135897/135897 [==============================] - 87s 643us/sample - loss: 1.2640 - accuracy: 0.6503 - val_loss: 1.3924 - val_accuracy: 0.6259\n",
      "Epoch 29/30\n",
      "135897/135897 [==============================] - 137s 1ms/sample - loss: 1.2528 - accuracy: 0.6529 - val_loss: 1.3907 - val_accuracy: 0.6250\n",
      "Epoch 30/30\n",
      "135897/135897 [==============================] - 123s 908us/sample - loss: 1.2451 - accuracy: 0.6541 - val_loss: 1.3879 - val_accuracy: 0.6253\n"
     ]
    },
    {
     "data": {
      "text/plain": [
       "<tensorflow.python.keras.callbacks.History at 0x2895790d0>"
      ]
     },
     "execution_count": 94,
     "metadata": {},
     "output_type": "execute_result"
    }
   ],
   "source": [
    "print(model_matrix_fusion.summary())"
   ]
  },
  {
   "cell_type": "code",
   "execution_count": 84,
   "metadata": {},
   "outputs": [
    {
     "name": "stdout",
     "output_type": "stream",
     "text": [
      "Train on 135897 samples, validate on 33975 samples\n",
      "Epoch 1/30\n",
      "  2048/135897 [..............................] - ETA: 5:23 - loss: 6.7364 - accuracy: 0.0132WARNING:tensorflow:Method (on_train_batch_end) is slow compared to the batch update (2.385055). Check your callbacks.\n",
      "135897/135897 [==============================] - 79s 579us/sample - loss: 3.4641 - accuracy: 0.1656 - val_loss: 2.6916 - val_accuracy: 0.4095\n",
      "Epoch 2/30\n",
      "135897/135897 [==============================] - 65s 481us/sample - loss: 2.5732 - accuracy: 0.3617 - val_loss: 2.1083 - val_accuracy: 0.5189\n",
      "Epoch 3/30\n",
      "135897/135897 [==============================] - 74s 543us/sample - loss: 2.2188 - accuracy: 0.4427 - val_loss: 1.9030 - val_accuracy: 0.5605\n",
      "Epoch 4/30\n",
      "135897/135897 [==============================] - 74s 548us/sample - loss: 2.0458 - accuracy: 0.4828 - val_loss: 1.7862 - val_accuracy: 0.5760\n",
      "Epoch 5/30\n",
      "135897/135897 [==============================] - 74s 541us/sample - loss: 1.9325 - accuracy: 0.5074 - val_loss: 1.7103 - val_accuracy: 0.5875\n",
      "Epoch 6/30\n",
      "135897/135897 [==============================] - 67s 495us/sample - loss: 1.8564 - accuracy: 0.5263 - val_loss: 1.6935 - val_accuracy: 0.5951\n",
      "Epoch 7/30\n",
      "135897/135897 [==============================] - 67s 491us/sample - loss: 1.7870 - accuracy: 0.5399 - val_loss: 1.6390 - val_accuracy: 0.6006\n",
      "Epoch 8/30\n",
      "135897/135897 [==============================] - 65s 478us/sample - loss: 1.7375 - accuracy: 0.5505 - val_loss: 1.5907 - val_accuracy: 0.6046\n",
      "Epoch 9/30\n",
      "135897/135897 [==============================] - 67s 492us/sample - loss: 1.6949 - accuracy: 0.5607 - val_loss: 1.5791 - val_accuracy: 0.6055\n",
      "Epoch 10/30\n",
      "135897/135897 [==============================] - 61s 452us/sample - loss: 1.6618 - accuracy: 0.5681 - val_loss: 1.5513 - val_accuracy: 0.6076\n",
      "Epoch 11/30\n",
      "135897/135897 [==============================] - 69s 505us/sample - loss: 1.6282 - accuracy: 0.5717 - val_loss: 1.5302 - val_accuracy: 0.6104\n",
      "Epoch 12/30\n",
      "135897/135897 [==============================] - 70s 514us/sample - loss: 1.6035 - accuracy: 0.5797 - val_loss: 1.5271 - val_accuracy: 0.6123\n",
      "Epoch 13/30\n",
      "135897/135897 [==============================] - 59s 433us/sample - loss: 1.5764 - accuracy: 0.5841 - val_loss: 1.4923 - val_accuracy: 0.6118\n",
      "Epoch 14/30\n",
      "135897/135897 [==============================] - 59s 437us/sample - loss: 1.5526 - accuracy: 0.5885 - val_loss: 1.4903 - val_accuracy: 0.6150\n",
      "Epoch 15/30\n",
      "135897/135897 [==============================] - 60s 442us/sample - loss: 1.5299 - accuracy: 0.5944 - val_loss: 1.4745 - val_accuracy: 0.6139\n",
      "Epoch 16/30\n",
      "135897/135897 [==============================] - 65s 475us/sample - loss: 1.5127 - accuracy: 0.5968 - val_loss: 1.4599 - val_accuracy: 0.6154\n",
      "Epoch 17/30\n",
      "135897/135897 [==============================] - 74s 541us/sample - loss: 1.4972 - accuracy: 0.6007 - val_loss: 1.4530 - val_accuracy: 0.6166\n",
      "Epoch 18/30\n",
      "135897/135897 [==============================] - 68s 499us/sample - loss: 1.4783 - accuracy: 0.6047 - val_loss: 1.4464 - val_accuracy: 0.6142\n",
      "Epoch 19/30\n",
      "135897/135897 [==============================] - 66s 485us/sample - loss: 1.4559 - accuracy: 0.6081 - val_loss: 1.4413 - val_accuracy: 0.6196\n",
      "Epoch 20/30\n",
      "135897/135897 [==============================] - 66s 486us/sample - loss: 1.4434 - accuracy: 0.6100 - val_loss: 1.4328 - val_accuracy: 0.6183\n",
      "Epoch 21/30\n",
      "135897/135897 [==============================] - 66s 487us/sample - loss: 1.4257 - accuracy: 0.6149 - val_loss: 1.4243 - val_accuracy: 0.6190\n",
      "Epoch 22/30\n",
      "135897/135897 [==============================] - 66s 488us/sample - loss: 1.4180 - accuracy: 0.6161 - val_loss: 1.4208 - val_accuracy: 0.6172\n",
      "Epoch 23/30\n",
      "135897/135897 [==============================] - 61s 449us/sample - loss: 1.4050 - accuracy: 0.6185 - val_loss: 1.4289 - val_accuracy: 0.6190\n",
      "Epoch 24/30\n",
      "135897/135897 [==============================] - 55s 404us/sample - loss: 1.3877 - accuracy: 0.6224 - val_loss: 1.4104 - val_accuracy: 0.6220\n",
      "Epoch 25/30\n",
      "135897/135897 [==============================] - 55s 404us/sample - loss: 1.3764 - accuracy: 0.6250 - val_loss: 1.4179 - val_accuracy: 0.6205\n",
      "Epoch 26/30\n",
      "135897/135897 [==============================] - 56s 409us/sample - loss: 1.3685 - accuracy: 0.6257 - val_loss: 1.4114 - val_accuracy: 0.6213\n",
      "Epoch 27/30\n",
      "135897/135897 [==============================] - 55s 403us/sample - loss: 1.3569 - accuracy: 0.6278 - val_loss: 1.4100 - val_accuracy: 0.6206\n",
      "Epoch 28/30\n",
      "135897/135897 [==============================] - 55s 404us/sample - loss: 1.3423 - accuracy: 0.6314 - val_loss: 1.4069 - val_accuracy: 0.6221\n",
      "Epoch 29/30\n",
      "135897/135897 [==============================] - 55s 404us/sample - loss: 1.3383 - accuracy: 0.6316 - val_loss: 1.4102 - val_accuracy: 0.6205\n",
      "Epoch 30/30\n",
      "135897/135897 [==============================] - 56s 410us/sample - loss: 1.3260 - accuracy: 0.6367 - val_loss: 1.4048 - val_accuracy: 0.6228\n"
     ]
    },
    {
     "data": {
      "text/plain": [
       "<tensorflow.python.keras.callbacks.History at 0x27e4615d0>"
      ]
     },
     "execution_count": 84,
     "metadata": {},
     "output_type": "execute_result"
    }
   ],
   "source": [
    "model_matrix_fusion_64 = models.get_model_matrix_fusion(64)\n",
    "log_dir_matrix = \"logs/matrix_64_\" + datetime.datetime.now().strftime(\"%Y%m%d-%H%M%S\")\n",
    "tensorboard_callback_matrix = TensorBoard(log_dir=log_dir_matrix, histogram_freq=1)\n",
    "\n",
    "model_matrix_fusion_64.fit(\n",
    "    [x_img_train_3s, x_txt_train_3s],\n",
    "    y_train_s,\n",
    "    validation_data=([x_img_val_3s, x_txt_val_3s], y_val_s),\n",
    "    epochs=30,\n",
    "    batch_size=2048,\n",
    "    callbacks=[tensorboard_callback_matrix]\n",
    ")"
   ]
  },
  {
   "cell_type": "code",
   "execution_count": 91,
   "metadata": {},
   "outputs": [
    {
     "name": "stdout",
     "output_type": "stream",
     "text": [
      "Train on 135897 samples, validate on 33975 samples\n",
      "Epoch 1/30\n",
      "  2048/135897 [..............................] - ETA: 5:57 - loss: 8.8495 - accuracy: 0.0234WARNING:tensorflow:Method (on_train_batch_end) is slow compared to the batch update (5.335789). Check your callbacks.\n",
      "135897/135897 [==============================] - 92s 675us/sample - loss: 3.6528 - accuracy: 0.1547 - val_loss: 2.6430 - val_accuracy: 0.3860\n",
      "Epoch 2/30\n",
      "135897/135897 [==============================] - 73s 534us/sample - loss: 2.5752 - accuracy: 0.3425 - val_loss: 2.1201 - val_accuracy: 0.4968\n",
      "Epoch 3/30\n",
      "135897/135897 [==============================] - 72s 530us/sample - loss: 2.2332 - accuracy: 0.4224 - val_loss: 1.9222 - val_accuracy: 0.5410\n",
      "Epoch 4/30\n",
      "135897/135897 [==============================] - 70s 514us/sample - loss: 2.0570 - accuracy: 0.4656 - val_loss: 1.8072 - val_accuracy: 0.5658\n",
      "Epoch 5/30\n",
      "135897/135897 [==============================] - 80s 585us/sample - loss: 1.9475 - accuracy: 0.4922 - val_loss: 1.7360 - val_accuracy: 0.5754\n",
      "Epoch 6/30\n",
      "135897/135897 [==============================] - 92s 676us/sample - loss: 1.8731 - accuracy: 0.5125 - val_loss: 1.6861 - val_accuracy: 0.5855\n",
      "Epoch 7/30\n",
      "135897/135897 [==============================] - 71s 521us/sample - loss: 1.8147 - accuracy: 0.5256 - val_loss: 1.6542 - val_accuracy: 0.5932\n",
      "Epoch 8/30\n",
      "135897/135897 [==============================] - 61s 449us/sample - loss: 1.7679 - accuracy: 0.5369 - val_loss: 1.6251 - val_accuracy: 0.5964\n",
      "Epoch 9/30\n",
      "135897/135897 [==============================] - 70s 518us/sample - loss: 1.7309 - accuracy: 0.5461 - val_loss: 1.6059 - val_accuracy: 0.6003\n",
      "Epoch 10/30\n",
      "135897/135897 [==============================] - 62s 459us/sample - loss: 1.6977 - accuracy: 0.5522 - val_loss: 1.5893 - val_accuracy: 0.6001\n",
      "Epoch 11/30\n",
      "135897/135897 [==============================] - 78s 571us/sample - loss: 1.6727 - accuracy: 0.5577 - val_loss: 1.5622 - val_accuracy: 0.6062\n",
      "Epoch 12/30\n",
      "135897/135897 [==============================] - 72s 526us/sample - loss: 1.6521 - accuracy: 0.5635 - val_loss: 1.5512 - val_accuracy: 0.6078\n",
      "Epoch 13/30\n",
      "135897/135897 [==============================] - 58s 429us/sample - loss: 1.6285 - accuracy: 0.5694 - val_loss: 1.5216 - val_accuracy: 0.6081\n",
      "Epoch 14/30\n",
      "135897/135897 [==============================] - 60s 440us/sample - loss: 1.6097 - accuracy: 0.5723 - val_loss: 1.5252 - val_accuracy: 0.6089\n",
      "Epoch 15/30\n",
      "135897/135897 [==============================] - 60s 441us/sample - loss: 1.5992 - accuracy: 0.5754 - val_loss: 1.5060 - val_accuracy: 0.6100\n",
      "Epoch 16/30\n",
      "135897/135897 [==============================] - 57s 418us/sample - loss: 1.5816 - accuracy: 0.5788 - val_loss: 1.4993 - val_accuracy: 0.6108\n",
      "Epoch 17/30\n",
      "135897/135897 [==============================] - 60s 444us/sample - loss: 1.5671 - accuracy: 0.5818 - val_loss: 1.4799 - val_accuracy: 0.6109\n",
      "Epoch 18/30\n",
      "135897/135897 [==============================] - 58s 425us/sample - loss: 1.5526 - accuracy: 0.5842 - val_loss: 1.4817 - val_accuracy: 0.6143\n",
      "Epoch 19/30\n",
      "135897/135897 [==============================] - 70s 512us/sample - loss: 1.5430 - accuracy: 0.5858 - val_loss: 1.4696 - val_accuracy: 0.6134\n",
      "Epoch 20/30\n",
      "135897/135897 [==============================] - 80s 591us/sample - loss: 1.5306 - accuracy: 0.5891 - val_loss: 1.4651 - val_accuracy: 0.6159\n",
      "Epoch 21/30\n",
      "135897/135897 [==============================] - 59s 435us/sample - loss: 1.5221 - accuracy: 0.5908 - val_loss: 1.4534 - val_accuracy: 0.6157\n",
      "Epoch 22/30\n",
      "135897/135897 [==============================] - 59s 435us/sample - loss: 1.5083 - accuracy: 0.5934 - val_loss: 1.4493 - val_accuracy: 0.6163\n",
      "Epoch 23/30\n",
      "135897/135897 [==============================] - 60s 439us/sample - loss: 1.4983 - accuracy: 0.5963 - val_loss: 1.4462 - val_accuracy: 0.6164\n",
      "Epoch 24/30\n",
      "135897/135897 [==============================] - 58s 427us/sample - loss: 1.4956 - accuracy: 0.5969 - val_loss: 1.4432 - val_accuracy: 0.6169\n",
      "Epoch 25/30\n",
      "135897/135897 [==============================] - 71s 523us/sample - loss: 1.4845 - accuracy: 0.5985 - val_loss: 1.4333 - val_accuracy: 0.6167\n",
      "Epoch 26/30\n",
      "135897/135897 [==============================] - 72s 533us/sample - loss: 1.4755 - accuracy: 0.5992 - val_loss: 1.4291 - val_accuracy: 0.6192\n",
      "Epoch 27/30\n",
      "135897/135897 [==============================] - 69s 508us/sample - loss: 1.4698 - accuracy: 0.6010 - val_loss: 1.4273 - val_accuracy: 0.6188\n",
      "Epoch 28/30\n",
      "135897/135897 [==============================] - 68s 502us/sample - loss: 1.4620 - accuracy: 0.6029 - val_loss: 1.4253 - val_accuracy: 0.6197\n",
      "Epoch 29/30\n",
      "135897/135897 [==============================] - 76s 558us/sample - loss: 1.4580 - accuracy: 0.6037 - val_loss: 1.4177 - val_accuracy: 0.6196\n",
      "Epoch 30/30\n",
      "135897/135897 [==============================] - 57s 416us/sample - loss: 1.4483 - accuracy: 0.6063 - val_loss: 1.4101 - val_accuracy: 0.6208\n"
     ]
    },
    {
     "data": {
      "text/plain": [
       "<tensorflow.python.keras.callbacks.History at 0x28550dd90>"
      ]
     },
     "execution_count": 91,
     "metadata": {},
     "output_type": "execute_result"
    }
   ],
   "source": [
    "model_matrix_short_64 = models.get_model_matrix_fusion_short(64)\n",
    "log_dir_matrix = \"logs/matrix_short_64_\" + datetime.datetime.now().strftime(\"%Y%m%d-%H%M%S\")\n",
    "tensorboard_callback_matrix = TensorBoard(log_dir=log_dir_matrix, histogram_freq=1)\n",
    "\n",
    "model_matrix_short_64.fit(\n",
    "    [x_img_train_3s, x_txt_train_3s],\n",
    "    y_train_s,\n",
    "    validation_data=([x_img_val_3s, x_txt_val_3s], y_val_s),\n",
    "    epochs=30,\n",
    "    batch_size=2048,\n",
    "    callbacks=[tensorboard_callback_matrix]\n",
    ")"
   ]
  },
  {
   "cell_type": "code",
   "execution_count": 92,
   "metadata": {},
   "outputs": [
    {
     "name": "stdout",
     "output_type": "stream",
     "text": [
      "Train on 135897 samples, validate on 33975 samples\n",
      "Epoch 1/30\n",
      "135897/135897 [==============================] - 152s 1ms/sample - loss: 3.4639 - accuracy: 0.2054 - val_loss: 2.4430 - val_accuracy: 0.4407\n",
      "Epoch 2/30\n",
      "135897/135897 [==============================] - 134s 984us/sample - loss: 2.4152 - accuracy: 0.3936 - val_loss: 1.9932 - val_accuracy: 0.5302\n",
      "Epoch 3/30\n",
      "135897/135897 [==============================] - 129s 950us/sample - loss: 2.1072 - accuracy: 0.4599 - val_loss: 1.8273 - val_accuracy: 0.5678\n",
      "Epoch 4/30\n",
      "135897/135897 [==============================] - 112s 826us/sample - loss: 1.9469 - accuracy: 0.5006 - val_loss: 1.7265 - val_accuracy: 0.5819\n",
      "Epoch 5/30\n",
      "135897/135897 [==============================] - 109s 803us/sample - loss: 1.8473 - accuracy: 0.5229 - val_loss: 1.6784 - val_accuracy: 0.5924\n",
      "Epoch 6/30\n",
      "135897/135897 [==============================] - 106s 782us/sample - loss: 1.7745 - accuracy: 0.5393 - val_loss: 1.6358 - val_accuracy: 0.5992\n",
      "Epoch 7/30\n",
      "135897/135897 [==============================] - 92s 678us/sample - loss: 1.7169 - accuracy: 0.5516 - val_loss: 1.5955 - val_accuracy: 0.6042\n",
      "Epoch 8/30\n",
      "135897/135897 [==============================] - 100s 734us/sample - loss: 1.6732 - accuracy: 0.5605 - val_loss: 1.5656 - val_accuracy: 0.6081\n",
      "Epoch 9/30\n",
      "135897/135897 [==============================] - 113s 830us/sample - loss: 1.6388 - accuracy: 0.5686 - val_loss: 1.5518 - val_accuracy: 0.6075\n",
      "Epoch 10/30\n",
      "135897/135897 [==============================] - 102s 754us/sample - loss: 1.6054 - accuracy: 0.5750 - val_loss: 1.5394 - val_accuracy: 0.6122\n",
      "Epoch 11/30\n",
      "135897/135897 [==============================] - 103s 755us/sample - loss: 1.5785 - accuracy: 0.5817 - val_loss: 1.5190 - val_accuracy: 0.6135\n",
      "Epoch 12/30\n",
      "135897/135897 [==============================] - 102s 754us/sample - loss: 1.5540 - accuracy: 0.5872 - val_loss: 1.5096 - val_accuracy: 0.6127\n",
      "Epoch 13/30\n",
      "135897/135897 [==============================] - 91s 668us/sample - loss: 1.5324 - accuracy: 0.5909 - val_loss: 1.4948 - val_accuracy: 0.6148\n",
      "Epoch 14/30\n",
      "135897/135897 [==============================] - 98s 720us/sample - loss: 1.5136 - accuracy: 0.5952 - val_loss: 1.4927 - val_accuracy: 0.6149\n",
      "Epoch 15/30\n",
      "135897/135897 [==============================] - 106s 783us/sample - loss: 1.4935 - accuracy: 0.5977 - val_loss: 1.4725 - val_accuracy: 0.6150\n",
      "Epoch 16/30\n",
      "135897/135897 [==============================] - 98s 718us/sample - loss: 1.4822 - accuracy: 0.5995 - val_loss: 1.4776 - val_accuracy: 0.6186\n",
      "Epoch 17/30\n",
      "135897/135897 [==============================] - 135s 992us/sample - loss: 1.4640 - accuracy: 0.6046 - val_loss: 1.4556 - val_accuracy: 0.6169\n",
      "Epoch 18/30\n",
      "135897/135897 [==============================] - 135s 994us/sample - loss: 1.4484 - accuracy: 0.6092 - val_loss: 1.4538 - val_accuracy: 0.6200\n",
      "Epoch 19/30\n",
      "135897/135897 [==============================] - 115s 847us/sample - loss: 1.4372 - accuracy: 0.6090 - val_loss: 1.4404 - val_accuracy: 0.6203\n",
      "Epoch 20/30\n",
      "135897/135897 [==============================] - 111s 816us/sample - loss: 1.4299 - accuracy: 0.6110 - val_loss: 1.4353 - val_accuracy: 0.6190\n",
      "Epoch 21/30\n",
      "135897/135897 [==============================] - 106s 777us/sample - loss: 1.4123 - accuracy: 0.6150 - val_loss: 1.4329 - val_accuracy: 0.6200\n",
      "Epoch 22/30\n",
      "135897/135897 [==============================] - 105s 771us/sample - loss: 1.4026 - accuracy: 0.6162 - val_loss: 1.4304 - val_accuracy: 0.6208\n",
      "Epoch 23/30\n",
      "135897/135897 [==============================] - 105s 773us/sample - loss: 1.3968 - accuracy: 0.6178 - val_loss: 1.4285 - val_accuracy: 0.6218\n",
      "Epoch 24/30\n",
      "135897/135897 [==============================] - 101s 746us/sample - loss: 1.3823 - accuracy: 0.6209 - val_loss: 1.4153 - val_accuracy: 0.6245\n",
      "Epoch 25/30\n",
      "135897/135897 [==============================] - 106s 780us/sample - loss: 1.3715 - accuracy: 0.6227 - val_loss: 1.4074 - val_accuracy: 0.6241\n",
      "Epoch 26/30\n",
      "135897/135897 [==============================] - 107s 785us/sample - loss: 1.3650 - accuracy: 0.6254 - val_loss: 1.4046 - val_accuracy: 0.6249\n",
      "Epoch 27/30\n",
      "135897/135897 [==============================] - 103s 758us/sample - loss: 1.3573 - accuracy: 0.6274 - val_loss: 1.4070 - val_accuracy: 0.6237\n",
      "Epoch 28/30\n",
      "135897/135897 [==============================] - 89s 654us/sample - loss: 1.3495 - accuracy: 0.6286 - val_loss: 1.4011 - val_accuracy: 0.6249\n",
      "Epoch 29/30\n",
      "135897/135897 [==============================] - 88s 648us/sample - loss: 1.3401 - accuracy: 0.6288 - val_loss: 1.3899 - val_accuracy: 0.6262\n",
      "Epoch 30/30\n",
      "135897/135897 [==============================] - 91s 667us/sample - loss: 1.3344 - accuracy: 0.6320 - val_loss: 1.3945 - val_accuracy: 0.6261\n"
     ]
    },
    {
     "data": {
      "text/plain": [
       "<tensorflow.python.keras.callbacks.History at 0x2861c7a90>"
      ]
     },
     "execution_count": 92,
     "metadata": {},
     "output_type": "execute_result"
    }
   ],
   "source": [
    "model_matrix_short_128 = models.get_model_matrix_fusion_short(128)\n",
    "log_dir_matrix = \"logs/matrix_short_128_\" + datetime.datetime.now().strftime(\"%Y%m%d-%H%M%S\")\n",
    "tensorboard_callback_matrix = TensorBoard(log_dir=log_dir_matrix, histogram_freq=1)\n",
    "\n",
    "model_matrix_short_128.fit(\n",
    "    [x_img_train_3s, x_txt_train_3s],\n",
    "    y_train_s,\n",
    "    validation_data=([x_img_val_3s, x_txt_val_3s], y_val_s),\n",
    "    epochs=30,\n",
    "    batch_size=2048,\n",
    "    callbacks=[tensorboard_callback_matrix]\n",
    ")"
   ]
  },
  {
   "cell_type": "code",
   "execution_count": null,
   "metadata": {},
   "outputs": [],
   "source": []
  },
  {
   "cell_type": "code",
   "execution_count": 80,
   "metadata": {},
   "outputs": [
    {
     "name": "stdout",
     "output_type": "stream",
     "text": [
      "Model: \"model_11\"\n",
      "__________________________________________________________________________________________________\n",
      "Layer (type)                    Output Shape         Param #     Connected to                     \n",
      "==================================================================================================\n",
      "input_115 (InputLayer)          [(None, 1024)]       0                                            \n",
      "__________________________________________________________________________________________________\n",
      "input_116 (InputLayer)          [(None, 300)]        0                                            \n",
      "__________________________________________________________________________________________________\n",
      "dense_253 (Dense)               (None, 512)          524800      input_115[0][0]                  \n",
      "__________________________________________________________________________________________________\n",
      "dense_255 (Dense)               (None, 256)          77056       input_116[0][0]                  \n",
      "__________________________________________________________________________________________________\n",
      "dropout_240 (Dropout)           (None, 512)          0           dense_253[0][0]                  \n",
      "__________________________________________________________________________________________________\n",
      "dropout_242 (Dropout)           (None, 256)          0           dense_255[0][0]                  \n",
      "__________________________________________________________________________________________________\n",
      "dense_254 (Dense)               (None, 128)          65664       dropout_240[0][0]                \n",
      "__________________________________________________________________________________________________\n",
      "dense_256 (Dense)               (None, 128)          32896       dropout_242[0][0]                \n",
      "__________________________________________________________________________________________________\n",
      "dropout_241 (Dropout)           (None, 128)          0           dense_254[0][0]                  \n",
      "__________________________________________________________________________________________________\n",
      "dropout_243 (Dropout)           (None, 128)          0           dense_256[0][0]                  \n",
      "__________________________________________________________________________________________________\n",
      "reshape_17 (Reshape)            (None, 1, 32)        0           dropout_241[0][0]                \n",
      "__________________________________________________________________________________________________\n",
      "reshape_18 (Reshape)            (None, 1, 32)        0           dropout_243[0][0]                \n",
      "__________________________________________________________________________________________________\n",
      "concatenate_40 (Concatenate)    (None, 2, 32)        0           reshape_17[0][0]                 \n",
      "                                                                 reshape_18[0][0]                 \n",
      "__________________________________________________________________________________________________\n",
      "lambda_114 (Lambda)             (None, 32, 32)       0           concatenate_40[0][0]             \n",
      "__________________________________________________________________________________________________\n",
      "lambda_115 (Lambda)             (None, 32)           0           lambda_114[0][0]                 \n",
      "__________________________________________________________________________________________________\n",
      "lambda_116 (Lambda)             (None, 32)           0           lambda_114[0][0]                 \n",
      "__________________________________________________________________________________________________\n",
      "concatenate_41 (Concatenate)    (None, 64)           0           lambda_115[0][0]                 \n",
      "                                                                 lambda_116[0][0]                 \n",
      "__________________________________________________________________________________________________\n",
      "dense_257 (Dense)               (None, 128)          8320        concatenate_41[0][0]             \n",
      "__________________________________________________________________________________________________\n",
      "dropout_244 (Dropout)           (None, 128)          0           dense_257[0][0]                  \n",
      "__________________________________________________________________________________________________\n",
      "dense_258 (Dense)               (None, 128)          16512       dropout_244[0][0]                \n",
      "__________________________________________________________________________________________________\n",
      "dropout_245 (Dropout)           (None, 128)          0           dense_258[0][0]                  \n",
      "__________________________________________________________________________________________________\n",
      "dense_259 (Dense)               (None, 50)           6450        dropout_245[0][0]                \n",
      "==================================================================================================\n",
      "Total params: 731,698\n",
      "Trainable params: 731,698\n",
      "Non-trainable params: 0\n",
      "__________________________________________________________________________________________________\n",
      "None\n"
     ]
    }
   ],
   "source": [
    "print(model_matrix_fusion.summary())"
   ]
  },
  {
   "cell_type": "code",
   "execution_count": 21,
   "metadata": {},
   "outputs": [
    {
     "name": "stdout",
     "output_type": "stream",
     "text": [
      "Train on 135897 samples, validate on 33975 samples\n",
      "Epoch 1/20\n",
      " 60512/135897 [============>.................] - ETA: 9s - loss: 2.1937 - accuracy: 0.4710"
     ]
    },
    {
     "ename": "KeyboardInterrupt",
     "evalue": "",
     "output_type": "error",
     "traceback": [
      "\u001b[0;31m---------------------------------------------------------------------------\u001b[0m",
      "\u001b[0;31mKeyboardInterrupt\u001b[0m                         Traceback (most recent call last)",
      "\u001b[0;32m<ipython-input-21-75117c5fb1b0>\u001b[0m in \u001b[0;36m<module>\u001b[0;34m\u001b[0m\n\u001b[1;32m      8\u001b[0m     \u001b[0mvalidation_data\u001b[0m\u001b[0;34m=\u001b[0m\u001b[0;34m(\u001b[0m\u001b[0;34m[\u001b[0m\u001b[0mx_img_val_3s\u001b[0m\u001b[0;34m,\u001b[0m \u001b[0mx_txt_val_3s\u001b[0m\u001b[0;34m]\u001b[0m\u001b[0;34m,\u001b[0m \u001b[0my_val_s\u001b[0m\u001b[0;34m)\u001b[0m\u001b[0;34m,\u001b[0m\u001b[0;34m\u001b[0m\u001b[0;34m\u001b[0m\u001b[0m\n\u001b[1;32m      9\u001b[0m     \u001b[0mepochs\u001b[0m\u001b[0;34m=\u001b[0m\u001b[0;36m20\u001b[0m\u001b[0;34m,\u001b[0m\u001b[0;34m\u001b[0m\u001b[0;34m\u001b[0m\u001b[0m\n\u001b[0;32m---> 10\u001b[0;31m     \u001b[0mcallbacks\u001b[0m\u001b[0;34m=\u001b[0m\u001b[0;34m[\u001b[0m\u001b[0mtensorboard_callback_trivial_3s\u001b[0m\u001b[0;34m]\u001b[0m\u001b[0;34m\u001b[0m\u001b[0;34m\u001b[0m\u001b[0m\n\u001b[0m\u001b[1;32m     11\u001b[0m )\n",
      "\u001b[0;32m/usr/local/lib/python3.7/site-packages/tensorflow_core/python/keras/engine/training.py\u001b[0m in \u001b[0;36mfit\u001b[0;34m(self, x, y, batch_size, epochs, verbose, callbacks, validation_split, validation_data, shuffle, class_weight, sample_weight, initial_epoch, steps_per_epoch, validation_steps, validation_freq, max_queue_size, workers, use_multiprocessing, **kwargs)\u001b[0m\n\u001b[1;32m    726\u001b[0m         \u001b[0mmax_queue_size\u001b[0m\u001b[0;34m=\u001b[0m\u001b[0mmax_queue_size\u001b[0m\u001b[0;34m,\u001b[0m\u001b[0;34m\u001b[0m\u001b[0;34m\u001b[0m\u001b[0m\n\u001b[1;32m    727\u001b[0m         \u001b[0mworkers\u001b[0m\u001b[0;34m=\u001b[0m\u001b[0mworkers\u001b[0m\u001b[0;34m,\u001b[0m\u001b[0;34m\u001b[0m\u001b[0;34m\u001b[0m\u001b[0m\n\u001b[0;32m--> 728\u001b[0;31m         use_multiprocessing=use_multiprocessing)\n\u001b[0m\u001b[1;32m    729\u001b[0m \u001b[0;34m\u001b[0m\u001b[0m\n\u001b[1;32m    730\u001b[0m   def evaluate(self,\n",
      "\u001b[0;32m/usr/local/lib/python3.7/site-packages/tensorflow_core/python/keras/engine/training_v2.py\u001b[0m in \u001b[0;36mfit\u001b[0;34m(self, model, x, y, batch_size, epochs, verbose, callbacks, validation_split, validation_data, shuffle, class_weight, sample_weight, initial_epoch, steps_per_epoch, validation_steps, validation_freq, **kwargs)\u001b[0m\n\u001b[1;32m    322\u001b[0m                 \u001b[0mmode\u001b[0m\u001b[0;34m=\u001b[0m\u001b[0mModeKeys\u001b[0m\u001b[0;34m.\u001b[0m\u001b[0mTRAIN\u001b[0m\u001b[0;34m,\u001b[0m\u001b[0;34m\u001b[0m\u001b[0;34m\u001b[0m\u001b[0m\n\u001b[1;32m    323\u001b[0m                 \u001b[0mtraining_context\u001b[0m\u001b[0;34m=\u001b[0m\u001b[0mtraining_context\u001b[0m\u001b[0;34m,\u001b[0m\u001b[0;34m\u001b[0m\u001b[0;34m\u001b[0m\u001b[0m\n\u001b[0;32m--> 324\u001b[0;31m                 total_epochs=epochs)\n\u001b[0m\u001b[1;32m    325\u001b[0m             \u001b[0mcbks\u001b[0m\u001b[0;34m.\u001b[0m\u001b[0mmake_logs\u001b[0m\u001b[0;34m(\u001b[0m\u001b[0mmodel\u001b[0m\u001b[0;34m,\u001b[0m \u001b[0mepoch_logs\u001b[0m\u001b[0;34m,\u001b[0m \u001b[0mtraining_result\u001b[0m\u001b[0;34m,\u001b[0m \u001b[0mModeKeys\u001b[0m\u001b[0;34m.\u001b[0m\u001b[0mTRAIN\u001b[0m\u001b[0;34m)\u001b[0m\u001b[0;34m\u001b[0m\u001b[0;34m\u001b[0m\u001b[0m\n\u001b[1;32m    326\u001b[0m \u001b[0;34m\u001b[0m\u001b[0m\n",
      "\u001b[0;32m/usr/local/lib/python3.7/site-packages/tensorflow_core/python/keras/engine/training_v2.py\u001b[0m in \u001b[0;36mrun_one_epoch\u001b[0;34m(model, iterator, execution_function, dataset_size, batch_size, strategy, steps_per_epoch, num_samples, mode, training_context, total_epochs)\u001b[0m\n\u001b[1;32m    121\u001b[0m         step=step, mode=mode, size=current_batch_size) as batch_logs:\n\u001b[1;32m    122\u001b[0m       \u001b[0;32mtry\u001b[0m\u001b[0;34m:\u001b[0m\u001b[0;34m\u001b[0m\u001b[0;34m\u001b[0m\u001b[0m\n\u001b[0;32m--> 123\u001b[0;31m         \u001b[0mbatch_outs\u001b[0m \u001b[0;34m=\u001b[0m \u001b[0mexecution_function\u001b[0m\u001b[0;34m(\u001b[0m\u001b[0miterator\u001b[0m\u001b[0;34m)\u001b[0m\u001b[0;34m\u001b[0m\u001b[0;34m\u001b[0m\u001b[0m\n\u001b[0m\u001b[1;32m    124\u001b[0m       \u001b[0;32mexcept\u001b[0m \u001b[0;34m(\u001b[0m\u001b[0mStopIteration\u001b[0m\u001b[0;34m,\u001b[0m \u001b[0merrors\u001b[0m\u001b[0;34m.\u001b[0m\u001b[0mOutOfRangeError\u001b[0m\u001b[0;34m)\u001b[0m\u001b[0;34m:\u001b[0m\u001b[0;34m\u001b[0m\u001b[0;34m\u001b[0m\u001b[0m\n\u001b[1;32m    125\u001b[0m         \u001b[0;31m# TODO(kaftan): File bug about tf function and errors.OutOfRangeError?\u001b[0m\u001b[0;34m\u001b[0m\u001b[0;34m\u001b[0m\u001b[0;34m\u001b[0m\u001b[0m\n",
      "\u001b[0;32m/usr/local/lib/python3.7/site-packages/tensorflow_core/python/keras/engine/training_v2_utils.py\u001b[0m in \u001b[0;36mexecution_function\u001b[0;34m(input_fn)\u001b[0m\n\u001b[1;32m     84\u001b[0m     \u001b[0;31m# `numpy` translates Tensors to values in Eager mode.\u001b[0m\u001b[0;34m\u001b[0m\u001b[0;34m\u001b[0m\u001b[0;34m\u001b[0m\u001b[0m\n\u001b[1;32m     85\u001b[0m     return nest.map_structure(_non_none_constant_value,\n\u001b[0;32m---> 86\u001b[0;31m                               distributed_function(input_fn))\n\u001b[0m\u001b[1;32m     87\u001b[0m \u001b[0;34m\u001b[0m\u001b[0m\n\u001b[1;32m     88\u001b[0m   \u001b[0;32mreturn\u001b[0m \u001b[0mexecution_function\u001b[0m\u001b[0;34m\u001b[0m\u001b[0;34m\u001b[0m\u001b[0m\n",
      "\u001b[0;32m/usr/local/lib/python3.7/site-packages/tensorflow_core/python/eager/def_function.py\u001b[0m in \u001b[0;36m__call__\u001b[0;34m(self, *args, **kwds)\u001b[0m\n\u001b[1;32m    455\u001b[0m \u001b[0;34m\u001b[0m\u001b[0m\n\u001b[1;32m    456\u001b[0m     \u001b[0mtracing_count\u001b[0m \u001b[0;34m=\u001b[0m \u001b[0mself\u001b[0m\u001b[0;34m.\u001b[0m\u001b[0m_get_tracing_count\u001b[0m\u001b[0;34m(\u001b[0m\u001b[0;34m)\u001b[0m\u001b[0;34m\u001b[0m\u001b[0;34m\u001b[0m\u001b[0m\n\u001b[0;32m--> 457\u001b[0;31m     \u001b[0mresult\u001b[0m \u001b[0;34m=\u001b[0m \u001b[0mself\u001b[0m\u001b[0;34m.\u001b[0m\u001b[0m_call\u001b[0m\u001b[0;34m(\u001b[0m\u001b[0;34m*\u001b[0m\u001b[0margs\u001b[0m\u001b[0;34m,\u001b[0m \u001b[0;34m**\u001b[0m\u001b[0mkwds\u001b[0m\u001b[0;34m)\u001b[0m\u001b[0;34m\u001b[0m\u001b[0;34m\u001b[0m\u001b[0m\n\u001b[0m\u001b[1;32m    458\u001b[0m     \u001b[0;32mif\u001b[0m \u001b[0mtracing_count\u001b[0m \u001b[0;34m==\u001b[0m \u001b[0mself\u001b[0m\u001b[0;34m.\u001b[0m\u001b[0m_get_tracing_count\u001b[0m\u001b[0;34m(\u001b[0m\u001b[0;34m)\u001b[0m\u001b[0;34m:\u001b[0m\u001b[0;34m\u001b[0m\u001b[0;34m\u001b[0m\u001b[0m\n\u001b[1;32m    459\u001b[0m       \u001b[0mself\u001b[0m\u001b[0;34m.\u001b[0m\u001b[0m_call_counter\u001b[0m\u001b[0;34m.\u001b[0m\u001b[0mcalled_without_tracing\u001b[0m\u001b[0;34m(\u001b[0m\u001b[0;34m)\u001b[0m\u001b[0;34m\u001b[0m\u001b[0;34m\u001b[0m\u001b[0m\n",
      "\u001b[0;32m/usr/local/lib/python3.7/site-packages/tensorflow_core/python/eager/def_function.py\u001b[0m in \u001b[0;36m_call\u001b[0;34m(self, *args, **kwds)\u001b[0m\n\u001b[1;32m    485\u001b[0m       \u001b[0;31m# In this case we have created variables on the first call, so we run the\u001b[0m\u001b[0;34m\u001b[0m\u001b[0;34m\u001b[0m\u001b[0;34m\u001b[0m\u001b[0m\n\u001b[1;32m    486\u001b[0m       \u001b[0;31m# defunned version which is guaranteed to never create variables.\u001b[0m\u001b[0;34m\u001b[0m\u001b[0;34m\u001b[0m\u001b[0;34m\u001b[0m\u001b[0m\n\u001b[0;32m--> 487\u001b[0;31m       \u001b[0;32mreturn\u001b[0m \u001b[0mself\u001b[0m\u001b[0;34m.\u001b[0m\u001b[0m_stateless_fn\u001b[0m\u001b[0;34m(\u001b[0m\u001b[0;34m*\u001b[0m\u001b[0margs\u001b[0m\u001b[0;34m,\u001b[0m \u001b[0;34m**\u001b[0m\u001b[0mkwds\u001b[0m\u001b[0;34m)\u001b[0m  \u001b[0;31m# pylint: disable=not-callable\u001b[0m\u001b[0;34m\u001b[0m\u001b[0;34m\u001b[0m\u001b[0m\n\u001b[0m\u001b[1;32m    488\u001b[0m     \u001b[0;32melif\u001b[0m \u001b[0mself\u001b[0m\u001b[0;34m.\u001b[0m\u001b[0m_stateful_fn\u001b[0m \u001b[0;32mis\u001b[0m \u001b[0;32mnot\u001b[0m \u001b[0;32mNone\u001b[0m\u001b[0;34m:\u001b[0m\u001b[0;34m\u001b[0m\u001b[0;34m\u001b[0m\u001b[0m\n\u001b[1;32m    489\u001b[0m       \u001b[0;31m# Release the lock early so that multiple threads can perform the call\u001b[0m\u001b[0;34m\u001b[0m\u001b[0;34m\u001b[0m\u001b[0;34m\u001b[0m\u001b[0m\n",
      "\u001b[0;32m/usr/local/lib/python3.7/site-packages/tensorflow_core/python/eager/function.py\u001b[0m in \u001b[0;36m__call__\u001b[0;34m(self, *args, **kwargs)\u001b[0m\n\u001b[1;32m   1821\u001b[0m     \u001b[0;34m\"\"\"Calls a graph function specialized to the inputs.\"\"\"\u001b[0m\u001b[0;34m\u001b[0m\u001b[0;34m\u001b[0m\u001b[0m\n\u001b[1;32m   1822\u001b[0m     \u001b[0mgraph_function\u001b[0m\u001b[0;34m,\u001b[0m \u001b[0margs\u001b[0m\u001b[0;34m,\u001b[0m \u001b[0mkwargs\u001b[0m \u001b[0;34m=\u001b[0m \u001b[0mself\u001b[0m\u001b[0;34m.\u001b[0m\u001b[0m_maybe_define_function\u001b[0m\u001b[0;34m(\u001b[0m\u001b[0margs\u001b[0m\u001b[0;34m,\u001b[0m \u001b[0mkwargs\u001b[0m\u001b[0;34m)\u001b[0m\u001b[0;34m\u001b[0m\u001b[0;34m\u001b[0m\u001b[0m\n\u001b[0;32m-> 1823\u001b[0;31m     \u001b[0;32mreturn\u001b[0m \u001b[0mgraph_function\u001b[0m\u001b[0;34m.\u001b[0m\u001b[0m_filtered_call\u001b[0m\u001b[0;34m(\u001b[0m\u001b[0margs\u001b[0m\u001b[0;34m,\u001b[0m \u001b[0mkwargs\u001b[0m\u001b[0;34m)\u001b[0m  \u001b[0;31m# pylint: disable=protected-access\u001b[0m\u001b[0;34m\u001b[0m\u001b[0;34m\u001b[0m\u001b[0m\n\u001b[0m\u001b[1;32m   1824\u001b[0m \u001b[0;34m\u001b[0m\u001b[0m\n\u001b[1;32m   1825\u001b[0m   \u001b[0;34m@\u001b[0m\u001b[0mproperty\u001b[0m\u001b[0;34m\u001b[0m\u001b[0;34m\u001b[0m\u001b[0m\n",
      "\u001b[0;32m/usr/local/lib/python3.7/site-packages/tensorflow_core/python/eager/function.py\u001b[0m in \u001b[0;36m_filtered_call\u001b[0;34m(self, args, kwargs)\u001b[0m\n\u001b[1;32m   1139\u001b[0m          if isinstance(t, (ops.Tensor,\n\u001b[1;32m   1140\u001b[0m                            resource_variable_ops.BaseResourceVariable))),\n\u001b[0;32m-> 1141\u001b[0;31m         self.captured_inputs)\n\u001b[0m\u001b[1;32m   1142\u001b[0m \u001b[0;34m\u001b[0m\u001b[0m\n\u001b[1;32m   1143\u001b[0m   \u001b[0;32mdef\u001b[0m \u001b[0m_call_flat\u001b[0m\u001b[0;34m(\u001b[0m\u001b[0mself\u001b[0m\u001b[0;34m,\u001b[0m \u001b[0margs\u001b[0m\u001b[0;34m,\u001b[0m \u001b[0mcaptured_inputs\u001b[0m\u001b[0;34m,\u001b[0m \u001b[0mcancellation_manager\u001b[0m\u001b[0;34m=\u001b[0m\u001b[0;32mNone\u001b[0m\u001b[0;34m)\u001b[0m\u001b[0;34m:\u001b[0m\u001b[0;34m\u001b[0m\u001b[0;34m\u001b[0m\u001b[0m\n",
      "\u001b[0;32m/usr/local/lib/python3.7/site-packages/tensorflow_core/python/eager/function.py\u001b[0m in \u001b[0;36m_call_flat\u001b[0;34m(self, args, captured_inputs, cancellation_manager)\u001b[0m\n\u001b[1;32m   1222\u001b[0m     \u001b[0;32mif\u001b[0m \u001b[0mexecuting_eagerly\u001b[0m\u001b[0;34m:\u001b[0m\u001b[0;34m\u001b[0m\u001b[0;34m\u001b[0m\u001b[0m\n\u001b[1;32m   1223\u001b[0m       flat_outputs = forward_function.call(\n\u001b[0;32m-> 1224\u001b[0;31m           ctx, args, cancellation_manager=cancellation_manager)\n\u001b[0m\u001b[1;32m   1225\u001b[0m     \u001b[0;32melse\u001b[0m\u001b[0;34m:\u001b[0m\u001b[0;34m\u001b[0m\u001b[0;34m\u001b[0m\u001b[0m\n\u001b[1;32m   1226\u001b[0m       \u001b[0mgradient_name\u001b[0m \u001b[0;34m=\u001b[0m \u001b[0mself\u001b[0m\u001b[0;34m.\u001b[0m\u001b[0m_delayed_rewrite_functions\u001b[0m\u001b[0;34m.\u001b[0m\u001b[0mregister\u001b[0m\u001b[0;34m(\u001b[0m\u001b[0;34m)\u001b[0m\u001b[0;34m\u001b[0m\u001b[0;34m\u001b[0m\u001b[0m\n",
      "\u001b[0;32m/usr/local/lib/python3.7/site-packages/tensorflow_core/python/eager/function.py\u001b[0m in \u001b[0;36mcall\u001b[0;34m(self, ctx, args, cancellation_manager)\u001b[0m\n\u001b[1;32m    509\u001b[0m               \u001b[0minputs\u001b[0m\u001b[0;34m=\u001b[0m\u001b[0margs\u001b[0m\u001b[0;34m,\u001b[0m\u001b[0;34m\u001b[0m\u001b[0;34m\u001b[0m\u001b[0m\n\u001b[1;32m    510\u001b[0m               \u001b[0mattrs\u001b[0m\u001b[0;34m=\u001b[0m\u001b[0;34m(\u001b[0m\u001b[0;34m\"executor_type\"\u001b[0m\u001b[0;34m,\u001b[0m \u001b[0mexecutor_type\u001b[0m\u001b[0;34m,\u001b[0m \u001b[0;34m\"config_proto\"\u001b[0m\u001b[0;34m,\u001b[0m \u001b[0mconfig\u001b[0m\u001b[0;34m)\u001b[0m\u001b[0;34m,\u001b[0m\u001b[0;34m\u001b[0m\u001b[0;34m\u001b[0m\u001b[0m\n\u001b[0;32m--> 511\u001b[0;31m               ctx=ctx)\n\u001b[0m\u001b[1;32m    512\u001b[0m         \u001b[0;32melse\u001b[0m\u001b[0;34m:\u001b[0m\u001b[0;34m\u001b[0m\u001b[0;34m\u001b[0m\u001b[0m\n\u001b[1;32m    513\u001b[0m           outputs = execute.execute_with_cancellation(\n",
      "\u001b[0;32m/usr/local/lib/python3.7/site-packages/tensorflow_core/python/eager/execute.py\u001b[0m in \u001b[0;36mquick_execute\u001b[0;34m(op_name, num_outputs, inputs, attrs, ctx, name)\u001b[0m\n\u001b[1;32m     59\u001b[0m     tensors = pywrap_tensorflow.TFE_Py_Execute(ctx._handle, device_name,\n\u001b[1;32m     60\u001b[0m                                                \u001b[0mop_name\u001b[0m\u001b[0;34m,\u001b[0m \u001b[0minputs\u001b[0m\u001b[0;34m,\u001b[0m \u001b[0mattrs\u001b[0m\u001b[0;34m,\u001b[0m\u001b[0;34m\u001b[0m\u001b[0;34m\u001b[0m\u001b[0m\n\u001b[0;32m---> 61\u001b[0;31m                                                num_outputs)\n\u001b[0m\u001b[1;32m     62\u001b[0m   \u001b[0;32mexcept\u001b[0m \u001b[0mcore\u001b[0m\u001b[0;34m.\u001b[0m\u001b[0m_NotOkStatusException\u001b[0m \u001b[0;32mas\u001b[0m \u001b[0me\u001b[0m\u001b[0;34m:\u001b[0m\u001b[0;34m\u001b[0m\u001b[0;34m\u001b[0m\u001b[0m\n\u001b[1;32m     63\u001b[0m     \u001b[0;32mif\u001b[0m \u001b[0mname\u001b[0m \u001b[0;32mis\u001b[0m \u001b[0;32mnot\u001b[0m \u001b[0;32mNone\u001b[0m\u001b[0;34m:\u001b[0m\u001b[0;34m\u001b[0m\u001b[0;34m\u001b[0m\u001b[0m\n",
      "\u001b[0;31mKeyboardInterrupt\u001b[0m: "
     ]
    }
   ],
   "source": [
    "model_trivial_3s = models.get_model_trivial()\n",
    "log_dir_3s =\"logs/trivial_3s_\" + datetime.datetime.now().strftime(\"%Y%m%d-%H%M%S\")\n",
    "tensorboard_callback_trivial_3s = TensorBoard(log_dir=log_dir_3s, histogram_freq=1)\n",
    "\n",
    "model_trivial_3s.fit(\n",
    "    [x_img_train_3s, x_txt_train_3s],\n",
    "    y_train_s,\n",
    "    validation_data=([x_img_val_3s, x_txt_val_3s], y_val_s),\n",
    "    epochs=20,\n",
    "    callbacks=[tensorboard_callback_trivial_3s]\n",
    ")"
   ]
  },
  {
   "cell_type": "code",
   "execution_count": 91,
   "metadata": {},
   "outputs": [
    {
     "name": "stdout",
     "output_type": "stream",
     "text": [
      "Train on 135897 samples, validate on 33975 samples\n",
      "Epoch 1/20\n",
      "135897/135897 [==============================] - 59s 432us/sample - loss: 1.9224 - accuracy: 0.5053 - val_loss: 1.6046 - val_accuracy: 0.5778\n",
      "Epoch 2/20\n",
      "135897/135897 [==============================] - 49s 361us/sample - loss: 1.6924 - accuracy: 0.5622 - val_loss: 1.5335 - val_accuracy: 0.5950\n",
      "Epoch 3/20\n",
      "135897/135897 [==============================] - 49s 363us/sample - loss: 1.6296 - accuracy: 0.5758 - val_loss: 1.5310 - val_accuracy: 0.5992\n",
      "Epoch 4/20\n",
      "135897/135897 [==============================] - 54s 396us/sample - loss: 1.5918 - accuracy: 0.5862 - val_loss: 1.5113 - val_accuracy: 0.6043\n",
      "Epoch 5/20\n",
      "135897/135897 [==============================] - 55s 408us/sample - loss: 1.5673 - accuracy: 0.5888 - val_loss: 1.5057 - val_accuracy: 0.6021\n",
      "Epoch 6/20\n",
      "135897/135897 [==============================] - 50s 365us/sample - loss: 1.5477 - accuracy: 0.5950 - val_loss: 1.4932 - val_accuracy: 0.6065\n",
      "Epoch 7/20\n",
      "135897/135897 [==============================] - 48s 357us/sample - loss: 1.5322 - accuracy: 0.5980 - val_loss: 1.4948 - val_accuracy: 0.6080\n",
      "Epoch 8/20\n",
      "135897/135897 [==============================] - 53s 393us/sample - loss: 1.5115 - accuracy: 0.6031 - val_loss: 1.4856 - val_accuracy: 0.6093\n",
      "Epoch 9/20\n",
      "135897/135897 [==============================] - 59s 433us/sample - loss: 1.4973 - accuracy: 0.6060 - val_loss: 1.4987 - val_accuracy: 0.6082\n",
      "Epoch 10/20\n",
      "135897/135897 [==============================] - 48s 352us/sample - loss: 1.4888 - accuracy: 0.6081 - val_loss: 1.4852 - val_accuracy: 0.6102\n",
      "Epoch 11/20\n",
      "135897/135897 [==============================] - 46s 340us/sample - loss: 1.4760 - accuracy: 0.6111 - val_loss: 1.4995 - val_accuracy: 0.6079\n",
      "Epoch 12/20\n",
      "135897/135897 [==============================] - 54s 399us/sample - loss: 1.4646 - accuracy: 0.6132 - val_loss: 1.4843 - val_accuracy: 0.6096\n",
      "Epoch 13/20\n",
      "135897/135897 [==============================] - 49s 357us/sample - loss: 1.4552 - accuracy: 0.6157 - val_loss: 1.4928 - val_accuracy: 0.6108\n",
      "Epoch 14/20\n",
      "135897/135897 [==============================] - 47s 348us/sample - loss: 1.4476 - accuracy: 0.6176 - val_loss: 1.4846 - val_accuracy: 0.6108\n",
      "Epoch 15/20\n",
      "135897/135897 [==============================] - 59s 431us/sample - loss: 1.4369 - accuracy: 0.6208 - val_loss: 1.4925 - val_accuracy: 0.6099\n",
      "Epoch 16/20\n",
      "135897/135897 [==============================] - 53s 390us/sample - loss: 1.4299 - accuracy: 0.6222 - val_loss: 1.4968 - val_accuracy: 0.6107\n",
      "Epoch 17/20\n",
      "135897/135897 [==============================] - 50s 370us/sample - loss: 1.4275 - accuracy: 0.6241 - val_loss: 1.4985 - val_accuracy: 0.6109\n",
      "Epoch 18/20\n",
      "135897/135897 [==============================] - 50s 365us/sample - loss: 1.4159 - accuracy: 0.6258 - val_loss: 1.5070 - val_accuracy: 0.6104\n",
      "Epoch 19/20\n",
      "135897/135897 [==============================] - 56s 412us/sample - loss: 1.4120 - accuracy: 0.6270 - val_loss: 1.5132 - val_accuracy: 0.6081\n",
      "Epoch 20/20\n",
      "135897/135897 [==============================] - 52s 380us/sample - loss: 1.4068 - accuracy: 0.6279 - val_loss: 1.5089 - val_accuracy: 0.6102\n"
     ]
    },
    {
     "data": {
      "text/plain": [
       "<tensorflow.python.keras.callbacks.History at 0x13ba214d0>"
      ]
     },
     "execution_count": 91,
     "metadata": {},
     "output_type": "execute_result"
    }
   ],
   "source": [
    "model_custom_lr_wide_3s = models.get_model_custom_lr_wide()\n",
    "log_dir_custom_wide_3s =\"logs/custom_lr_wide_3s_\" + datetime.datetime.now().strftime(\"%Y%m%d-%H%M%S\")\n",
    "tensorboard_callback_custom_lr_wide_3s = TensorBoard(log_dir=log_dir_custom_wide_3s, histogram_freq=1)\n",
    "\n",
    "model_custom_lr_wide_3s.fit(\n",
    "    [x_img_train_3s, x_txt_train_3s],\n",
    "    y_train_s,\n",
    "    validation_data=([x_img_val_3s, x_txt_val_3s], y_val_s),\n",
    "    epochs=20,\n",
    "    callbacks=[tensorboard_callback_custom_lr_wide_3s]\n",
    ")"
   ]
  },
  {
   "cell_type": "markdown",
   "metadata": {},
   "source": [
    "### Big Batch"
   ]
  },
  {
   "cell_type": "code",
   "execution_count": 94,
   "metadata": {},
   "outputs": [
    {
     "name": "stdout",
     "output_type": "stream",
     "text": [
      "Train on 135897 samples, validate on 33975 samples\n",
      "Epoch 1/20\n",
      "135897/135897 [==============================] - 27s 200us/sample - loss: 2.1940 - accuracy: 0.4382 - val_loss: 1.5417 - val_accuracy: 0.5897\n",
      "Epoch 2/20\n",
      "135897/135897 [==============================] - 20s 150us/sample - loss: 1.6401 - accuracy: 0.5668 - val_loss: 1.4529 - val_accuracy: 0.6068\n",
      "Epoch 3/20\n",
      "135897/135897 [==============================] - 23s 167us/sample - loss: 1.5386 - accuracy: 0.5896 - val_loss: 1.4091 - val_accuracy: 0.6149\n",
      "Epoch 4/20\n",
      "135897/135897 [==============================] - 17s 127us/sample - loss: 1.4749 - accuracy: 0.6031 - val_loss: 1.3893 - val_accuracy: 0.6195\n",
      "Epoch 5/20\n",
      "135897/135897 [==============================] - 16s 117us/sample - loss: 1.4301 - accuracy: 0.6121 - val_loss: 1.3738 - val_accuracy: 0.6240\n",
      "Epoch 6/20\n",
      "135897/135897 [==============================] - 13s 94us/sample - loss: 1.3942 - accuracy: 0.6196 - val_loss: 1.3647 - val_accuracy: 0.6271\n",
      "Epoch 7/20\n",
      "135897/135897 [==============================] - 12s 91us/sample - loss: 1.3617 - accuracy: 0.6279 - val_loss: 1.3508 - val_accuracy: 0.6286\n",
      "Epoch 8/20\n",
      "135897/135897 [==============================] - 13s 95us/sample - loss: 1.3354 - accuracy: 0.6322 - val_loss: 1.3511 - val_accuracy: 0.6278\n",
      "Epoch 9/20\n",
      "135897/135897 [==============================] - 12s 91us/sample - loss: 1.3112 - accuracy: 0.6361 - val_loss: 1.3455 - val_accuracy: 0.6273\n",
      "Epoch 10/20\n",
      "135897/135897 [==============================] - 13s 99us/sample - loss: 1.2877 - accuracy: 0.6417 - val_loss: 1.3388 - val_accuracy: 0.6309\n",
      "Epoch 11/20\n",
      "135897/135897 [==============================] - 13s 92us/sample - loss: 1.2658 - accuracy: 0.6467 - val_loss: 1.3385 - val_accuracy: 0.6317\n",
      "Epoch 12/20\n",
      "135897/135897 [==============================] - 12s 89us/sample - loss: 1.2467 - accuracy: 0.6505 - val_loss: 1.3413 - val_accuracy: 0.6327\n",
      "Epoch 13/20\n",
      "135897/135897 [==============================] - 14s 101us/sample - loss: 1.2274 - accuracy: 0.6542 - val_loss: 1.3372 - val_accuracy: 0.6319\n",
      "Epoch 14/20\n",
      "135897/135897 [==============================] - 12s 90us/sample - loss: 1.2109 - accuracy: 0.6575 - val_loss: 1.3347 - val_accuracy: 0.6316\n",
      "Epoch 15/20\n",
      "135897/135897 [==============================] - 15s 108us/sample - loss: 1.1905 - accuracy: 0.6629 - val_loss: 1.3479 - val_accuracy: 0.6286\n",
      "Epoch 16/20\n",
      "135897/135897 [==============================] - 16s 117us/sample - loss: 1.1736 - accuracy: 0.6658 - val_loss: 1.3424 - val_accuracy: 0.6307\n",
      "Epoch 17/20\n",
      "135897/135897 [==============================] - 15s 110us/sample - loss: 1.1625 - accuracy: 0.6688 - val_loss: 1.3406 - val_accuracy: 0.6334\n",
      "Epoch 18/20\n",
      "135897/135897 [==============================] - 15s 109us/sample - loss: 1.1461 - accuracy: 0.6721 - val_loss: 1.3426 - val_accuracy: 0.6321\n",
      "Epoch 19/20\n",
      "135897/135897 [==============================] - 17s 127us/sample - loss: 1.1297 - accuracy: 0.6755 - val_loss: 1.3485 - val_accuracy: 0.6299\n",
      "Epoch 20/20\n",
      "135897/135897 [==============================] - 18s 136us/sample - loss: 1.1159 - accuracy: 0.6781 - val_loss: 1.3542 - val_accuracy: 0.6320\n"
     ]
    },
    {
     "data": {
      "text/plain": [
       "<tensorflow.python.keras.callbacks.History at 0x1b059e790>"
      ]
     },
     "execution_count": 94,
     "metadata": {},
     "output_type": "execute_result"
    }
   ],
   "source": [
    "model_custom_lr_wide_3s_1024 = models.get_model_custom_lr_wide()\n",
    "log_dir_custom_wide_3s_1024 =\"logs/custom_lr_wide_3s_1024_\" + datetime.datetime.now().strftime(\"%Y%m%d-%H%M%S\")\n",
    "tensorboard_callback_custom_lr_wide_3s_1024 = TensorBoard(log_dir=log_dir_custom_wide_3s_1024, histogram_freq=1)\n",
    "\n",
    "model_custom_lr_wide_3s_1024.fit(\n",
    "    [x_img_train_3s, x_txt_train_3s],\n",
    "    y_train_s,\n",
    "    validation_data=([x_img_val_3s, x_txt_val_3s], y_val_s),\n",
    "    epochs=20,\n",
    "    callbacks=[tensorboard_callback_custom_lr_wide_3s_1024],\n",
    "    batch_size=1024\n",
    ")"
   ]
  },
  {
   "cell_type": "code",
   "execution_count": 93,
   "metadata": {},
   "outputs": [
    {
     "name": "stdout",
     "output_type": "stream",
     "text": [
      "Train on 135897 samples, validate on 33975 samples\n",
      "Epoch 1/20\n",
      "135897/135897 [==============================] - 14s 106us/sample - loss: 2.5287 - accuracy: 0.3622 - val_loss: 1.6450 - val_accuracy: 0.5722\n",
      "Epoch 2/20\n",
      "135897/135897 [==============================] - 14s 100us/sample - loss: 1.7288 - accuracy: 0.5451 - val_loss: 1.4892 - val_accuracy: 0.6037\n",
      "Epoch 3/20\n",
      "135897/135897 [==============================] - 14s 100us/sample - loss: 1.5912 - accuracy: 0.5775 - val_loss: 1.4389 - val_accuracy: 0.6107\n",
      "Epoch 4/20\n",
      "135897/135897 [==============================] - 13s 94us/sample - loss: 1.5242 - accuracy: 0.5926 - val_loss: 1.4045 - val_accuracy: 0.6182\n",
      "Epoch 5/20\n",
      "135897/135897 [==============================] - 14s 101us/sample - loss: 1.4742 - accuracy: 0.6029 - val_loss: 1.3880 - val_accuracy: 0.6215\n",
      "Epoch 6/20\n",
      "135897/135897 [==============================] - 15s 107us/sample - loss: 1.4323 - accuracy: 0.6116 - val_loss: 1.3719 - val_accuracy: 0.6269\n",
      "Epoch 7/20\n",
      "135897/135897 [==============================] - 14s 103us/sample - loss: 1.4035 - accuracy: 0.6179 - val_loss: 1.3626 - val_accuracy: 0.6264\n",
      "Epoch 8/20\n",
      "135897/135897 [==============================] - 14s 102us/sample - loss: 1.3700 - accuracy: 0.6259 - val_loss: 1.3564 - val_accuracy: 0.6285\n",
      "Epoch 9/20\n",
      "135897/135897 [==============================] - 14s 105us/sample - loss: 1.3447 - accuracy: 0.6302 - val_loss: 1.3464 - val_accuracy: 0.6313\n",
      "Epoch 10/20\n",
      "135897/135897 [==============================] - 15s 107us/sample - loss: 1.3218 - accuracy: 0.6348 - val_loss: 1.3410 - val_accuracy: 0.6305\n",
      "Epoch 11/20\n",
      "135897/135897 [==============================] - 13s 97us/sample - loss: 1.2994 - accuracy: 0.6400 - val_loss: 1.3391 - val_accuracy: 0.6301\n",
      "Epoch 12/20\n",
      "135897/135897 [==============================] - 15s 109us/sample - loss: 1.2780 - accuracy: 0.6444 - val_loss: 1.3318 - val_accuracy: 0.6334\n",
      "Epoch 13/20\n",
      "135897/135897 [==============================] - 15s 112us/sample - loss: 1.2613 - accuracy: 0.6483 - val_loss: 1.3303 - val_accuracy: 0.6339\n",
      "Epoch 14/20\n",
      "135897/135897 [==============================] - 18s 130us/sample - loss: 1.2416 - accuracy: 0.6510 - val_loss: 1.3258 - val_accuracy: 0.6345\n",
      "Epoch 15/20\n",
      "135897/135897 [==============================] - 16s 119us/sample - loss: 1.2280 - accuracy: 0.6550 - val_loss: 1.3282 - val_accuracy: 0.6346\n",
      "Epoch 16/20\n",
      "135897/135897 [==============================] - 15s 114us/sample - loss: 1.2112 - accuracy: 0.6578 - val_loss: 1.3277 - val_accuracy: 0.6350\n",
      "Epoch 17/20\n",
      "135897/135897 [==============================] - 16s 120us/sample - loss: 1.1937 - accuracy: 0.6622 - val_loss: 1.3269 - val_accuracy: 0.6351\n",
      "Epoch 18/20\n",
      "135897/135897 [==============================] - 19s 139us/sample - loss: 1.1817 - accuracy: 0.6643 - val_loss: 1.3277 - val_accuracy: 0.6343\n",
      "Epoch 19/20\n",
      "135897/135897 [==============================] - 17s 124us/sample - loss: 1.1652 - accuracy: 0.6696 - val_loss: 1.3277 - val_accuracy: 0.6335\n",
      "Epoch 20/20\n",
      "135897/135897 [==============================] - 15s 109us/sample - loss: 1.1456 - accuracy: 0.6713 - val_loss: 1.3363 - val_accuracy: 0.6333\n"
     ]
    },
    {
     "data": {
      "text/plain": [
       "<tensorflow.python.keras.callbacks.History at 0x18a8f4110>"
      ]
     },
     "execution_count": 93,
     "metadata": {},
     "output_type": "execute_result"
    }
   ],
   "source": [
    "model_custom_lr_wide_3s_2048 = models.get_model_custom_lr_wide()\n",
    "log_dir_custom_wide_3s_2048 =\"logs/custom_lr_wide_3s_2048\" + datetime.datetime.now().strftime(\"%Y%m%d-%H%M%S\")\n",
    "tensorboard_callback_custom_lr_wide_3s_2048 = TensorBoard(log_dir=log_dir_custom_wide_3s_2048, histogram_freq=1)\n",
    "\n",
    "model_custom_lr_wide_3s_2048.fit(\n",
    "    [x_img_train_3s, x_txt_train_3s],\n",
    "    y_train_s,\n",
    "    validation_data=([x_img_val_3s, x_txt_val_3s], y_val_s),\n",
    "    epochs=20,\n",
    "    callbacks=[tensorboard_callback_custom_lr_wide_3s_2048],\n",
    "    batch_size=2048\n",
    ")"
   ]
  },
  {
   "cell_type": "code",
   "execution_count": 95,
   "metadata": {},
   "outputs": [
    {
     "name": "stdout",
     "output_type": "stream",
     "text": [
      "Train on 135897 samples, validate on 33975 samples\n",
      "Epoch 1/20\n",
      "135897/135897 [==============================] - 21s 153us/sample - loss: 2.8092 - accuracy: 0.3005 - val_loss: 1.8584 - val_accuracy: 0.5223\n",
      "Epoch 2/20\n",
      "135897/135897 [==============================] - 14s 105us/sample - loss: 1.8937 - accuracy: 0.5050 - val_loss: 1.5756 - val_accuracy: 0.5856\n",
      "Epoch 3/20\n",
      "135897/135897 [==============================] - 18s 132us/sample - loss: 1.6825 - accuracy: 0.5569 - val_loss: 1.4880 - val_accuracy: 0.6050\n",
      "Epoch 4/20\n",
      "135897/135897 [==============================] - 28s 205us/sample - loss: 1.5935 - accuracy: 0.5777 - val_loss: 1.4409 - val_accuracy: 0.6134\n",
      "Epoch 5/20\n",
      "135897/135897 [==============================] - 62s 454us/sample - loss: 1.5366 - accuracy: 0.5907 - val_loss: 1.4130 - val_accuracy: 0.6179\n",
      "Epoch 6/20\n",
      "135897/135897 [==============================] - 51s 375us/sample - loss: 1.4923 - accuracy: 0.5993 - val_loss: 1.3968 - val_accuracy: 0.6200\n",
      "Epoch 7/20\n",
      "135897/135897 [==============================] - 38s 283us/sample - loss: 1.4558 - accuracy: 0.6070 - val_loss: 1.3813 - val_accuracy: 0.6245\n",
      "Epoch 8/20\n",
      "135897/135897 [==============================] - 39s 285us/sample - loss: 1.4236 - accuracy: 0.6148 - val_loss: 1.3684 - val_accuracy: 0.6274\n",
      "Epoch 9/20\n",
      "135897/135897 [==============================] - 29s 215us/sample - loss: 1.3989 - accuracy: 0.6182 - val_loss: 1.3623 - val_accuracy: 0.6290\n",
      "Epoch 10/20\n",
      "135897/135897 [==============================] - 26s 190us/sample - loss: 1.3762 - accuracy: 0.6240 - val_loss: 1.3508 - val_accuracy: 0.6301\n",
      "Epoch 11/20\n",
      "135897/135897 [==============================] - 16s 118us/sample - loss: 1.3539 - accuracy: 0.6281 - val_loss: 1.3462 - val_accuracy: 0.6305\n",
      "Epoch 12/20\n",
      "135897/135897 [==============================] - 46s 339us/sample - loss: 1.3316 - accuracy: 0.6339 - val_loss: 1.3474 - val_accuracy: 0.6316\n",
      "Epoch 13/20\n",
      "135897/135897 [==============================] - 22s 161us/sample - loss: 1.3136 - accuracy: 0.6368 - val_loss: 1.3409 - val_accuracy: 0.6330\n",
      "Epoch 14/20\n",
      "135897/135897 [==============================] - 16s 116us/sample - loss: 1.2967 - accuracy: 0.6409 - val_loss: 1.3345 - val_accuracy: 0.6341\n",
      "Epoch 15/20\n",
      "135897/135897 [==============================] - 15s 113us/sample - loss: 1.2758 - accuracy: 0.6442 - val_loss: 1.3338 - val_accuracy: 0.6349\n",
      "Epoch 16/20\n",
      "135897/135897 [==============================] - 13s 97us/sample - loss: 1.2616 - accuracy: 0.6481 - val_loss: 1.3344 - val_accuracy: 0.6336\n",
      "Epoch 17/20\n",
      "135897/135897 [==============================] - 15s 109us/sample - loss: 1.2495 - accuracy: 0.6497 - val_loss: 1.3272 - val_accuracy: 0.6359\n",
      "Epoch 18/20\n",
      "135897/135897 [==============================] - 14s 101us/sample - loss: 1.2315 - accuracy: 0.6551 - val_loss: 1.3281 - val_accuracy: 0.6350\n",
      "Epoch 19/20\n",
      "135897/135897 [==============================] - 56s 410us/sample - loss: 1.2181 - accuracy: 0.6584 - val_loss: 1.3261 - val_accuracy: 0.6361\n",
      "Epoch 20/20\n",
      "135897/135897 [==============================] - 69s 504us/sample - loss: 1.2076 - accuracy: 0.6601 - val_loss: 1.3325 - val_accuracy: 0.6364\n"
     ]
    },
    {
     "data": {
      "text/plain": [
       "<tensorflow.python.keras.callbacks.History at 0x1e0c69290>"
      ]
     },
     "execution_count": 95,
     "metadata": {},
     "output_type": "execute_result"
    }
   ],
   "source": [
    "model_custom_lr_wide_3s_4096 = models.get_model_custom_lr_wide()\n",
    "log_dir_custom_wide_3s_4096 =\"logs/custom_lr_wide_3s_4096_\" + datetime.datetime.now().strftime(\"%Y%m%d-%H%M%S\")\n",
    "tensorboard_callback_custom_lr_wide_3s_4096 = TensorBoard(log_dir=log_dir_custom_wide_3s_4096, histogram_freq=1)\n",
    "\n",
    "model_custom_lr_wide_3s_4096.fit(\n",
    "    [x_img_train_3s, x_txt_train_3s],\n",
    "    y_train_s,\n",
    "    validation_data=([x_img_val_3s, x_txt_val_3s], y_val_s),\n",
    "    epochs=20,\n",
    "    callbacks=[tensorboard_callback_custom_lr_wide_3s_4096],\n",
    "    batch_size=4096\n",
    ")"
   ]
  },
  {
   "cell_type": "code",
   "execution_count": 96,
   "metadata": {},
   "outputs": [
    {
     "name": "stdout",
     "output_type": "stream",
     "text": [
      "Train on 135897 samples, validate on 33975 samples\n",
      "Epoch 1/20\n",
      "135897/135897 [==============================] - 120s 883us/sample - loss: 2.2821 - accuracy: 0.4183 - val_loss: 1.5628 - val_accuracy: 0.5880\n",
      "Epoch 2/20\n",
      "135897/135897 [==============================] - 86s 634us/sample - loss: 1.5620 - accuracy: 0.5820 - val_loss: 1.4188 - val_accuracy: 0.6155\n",
      "Epoch 3/20\n",
      "135897/135897 [==============================] - 76s 562us/sample - loss: 1.4243 - accuracy: 0.6116 - val_loss: 1.3735 - val_accuracy: 0.6209\n",
      "Epoch 4/20\n",
      "135897/135897 [==============================] - 87s 642us/sample - loss: 1.3429 - accuracy: 0.6295 - val_loss: 1.3532 - val_accuracy: 0.6278\n",
      "Epoch 5/20\n",
      "135897/135897 [==============================] - 85s 628us/sample - loss: 1.2816 - accuracy: 0.6430 - val_loss: 1.3441 - val_accuracy: 0.6306\n",
      "Epoch 6/20\n",
      "135897/135897 [==============================] - 74s 542us/sample - loss: 1.2292 - accuracy: 0.6540 - val_loss: 1.3356 - val_accuracy: 0.6302\n",
      "Epoch 7/20\n",
      "135897/135897 [==============================] - 59s 438us/sample - loss: 1.1795 - accuracy: 0.6648 - val_loss: 1.3360 - val_accuracy: 0.6353\n",
      "Epoch 8/20\n",
      "135897/135897 [==============================] - 44s 327us/sample - loss: 1.1359 - accuracy: 0.6753 - val_loss: 1.3374 - val_accuracy: 0.6312\n",
      "Epoch 9/20\n",
      "135897/135897 [==============================] - 84s 617us/sample - loss: 1.0944 - accuracy: 0.6834 - val_loss: 1.3446 - val_accuracy: 0.6311\n",
      "Epoch 10/20\n",
      "135897/135897 [==============================] - 140s 1ms/sample - loss: 1.0526 - accuracy: 0.6940 - val_loss: 1.3499 - val_accuracy: 0.6295\n",
      "Epoch 11/20\n",
      "135897/135897 [==============================] - 114s 842us/sample - loss: 1.0141 - accuracy: 0.7017 - val_loss: 1.3689 - val_accuracy: 0.6325\n",
      "Epoch 12/20\n",
      "135897/135897 [==============================] - 84s 617us/sample - loss: 0.9750 - accuracy: 0.7096 - val_loss: 1.3742 - val_accuracy: 0.6307\n",
      "Epoch 13/20\n",
      "135897/135897 [==============================] - 79s 579us/sample - loss: 0.9377 - accuracy: 0.7202 - val_loss: 1.4034 - val_accuracy: 0.6297\n",
      "Epoch 14/20\n",
      "135897/135897 [==============================] - 73s 538us/sample - loss: 0.9011 - accuracy: 0.7299 - val_loss: 1.4338 - val_accuracy: 0.6291\n",
      "Epoch 15/20\n",
      "135897/135897 [==============================] - 52s 382us/sample - loss: 0.8666 - accuracy: 0.7383 - val_loss: 1.4559 - val_accuracy: 0.6249\n",
      "Epoch 16/20\n",
      "135897/135897 [==============================] - 46s 338us/sample - loss: 0.8320 - accuracy: 0.7457 - val_loss: 1.4663 - val_accuracy: 0.6220\n",
      "Epoch 17/20\n",
      "135897/135897 [==============================] - 80s 588us/sample - loss: 0.8042 - accuracy: 0.7532 - val_loss: 1.5036 - val_accuracy: 0.6245\n",
      "Epoch 18/20\n",
      "135897/135897 [==============================] - 56s 409us/sample - loss: 0.7732 - accuracy: 0.7601 - val_loss: 1.5247 - val_accuracy: 0.6220\n",
      "Epoch 19/20\n",
      "135897/135897 [==============================] - 43s 314us/sample - loss: 0.7450 - accuracy: 0.7694 - val_loss: 1.5306 - val_accuracy: 0.6232\n",
      "Epoch 20/20\n",
      "135897/135897 [==============================] - 37s 270us/sample - loss: 0.7145 - accuracy: 0.7768 - val_loss: 1.5888 - val_accuracy: 0.6177\n"
     ]
    },
    {
     "data": {
      "text/plain": [
       "<tensorflow.python.keras.callbacks.History at 0x1e2d2d510>"
      ]
     },
     "execution_count": 96,
     "metadata": {},
     "output_type": "execute_result"
    }
   ],
   "source": [
    "model_mix_4096 = models.get_model_mix()\n",
    "log_dir_mix_4096 =\"logs/mix_4096_\" + datetime.datetime.now().strftime(\"%Y%m%d-%H%M%S\")\n",
    "tensorboard_callback_mix_4096 = TensorBoard(log_dir=log_dir_mix_4096, histogram_freq=1)\n",
    "\n",
    "model_mix_4096.fit(\n",
    "    [x_img_train_3s, x_txt_train_3s],\n",
    "    y_train_s,\n",
    "    validation_data=([x_img_val_3s, x_txt_val_3s], y_val_s),\n",
    "    epochs=20,\n",
    "    callbacks=[tensorboard_callback_mix_4096],\n",
    "    batch_size=4096\n",
    ")"
   ]
  },
  {
   "cell_type": "markdown",
   "metadata": {
    "pycharm": {
     "name": "#%% md\n"
    }
   },
   "source": [
    "### Highways"
   ]
  },
  {
   "cell_type": "code",
   "execution_count": null,
   "metadata": {
    "pycharm": {
     "name": "#%%\n"
    }
   },
   "outputs": [],
   "source": [
    "model_2_hw_2048 = models.get_model_2_hw()\n",
    "log_dir_2_hw_2048 =\"logs/2_hw_2048_\" + datetime.datetime.now().strftime(\"%Y%m%d-%H%M%S\")\n",
    "tensorboard_callback_2_hw_2048 = TensorBoard(log_dir=log_dir_2_hw_2048, histogram_freq=1)\n",
    "\n",
    "model_2_hw_2048.fit(\n",
    "    [x_img_train_3s, x_txt_train_3s],\n",
    "    y_train_s,\n",
    "    validation_data=([x_img_val_3s, x_txt_val_3s], y_val_s),\n",
    "    epochs=20,\n",
    "    callbacks=[tensorboard_callback_2_hw_2048],\n",
    "    batch_size=2048\n",
    ")"
   ]
  },
  {
   "cell_type": "markdown",
   "metadata": {},
   "source": [
    "### Regularization"
   ]
  },
  {
   "cell_type": "code",
   "execution_count": null,
   "metadata": {
    "pycharm": {
     "name": "#%%\n"
    }
   },
   "outputs": [],
   "source": [
    "model_custom_lr_wide_reg = models.get_model_custom_lr_wide_reg()\n",
    "log_dir_custom_wide_3s_4096 =\"logs/custom_lr_wide_3s_4096_\" + datetime.datetime.now().strftime(\"%Y%m%d-%H%M%S\")\n",
    "tensorboard_callback_custom_lr_wide_3s_4096 = TensorBoard(log_dir=log_dir_custom_wide_3s_4096, histogram_freq=1)\n",
    "\n",
    "model_custom_lr_wide_3s_4096.fit(\n",
    "    [x_img_train_3s, x_txt_train_3s],\n",
    "    y_train_s,\n",
    "    validation_data=([x_img_val_3s, x_txt_val_3s], y_val_s),\n",
    "    epochs=20,\n",
    "    callbacks=[tensorboard_callback_custom_lr_wide_3s_4096],\n",
    "    batch_size=4096\n",
    ")"
   ]
  },
  {
   "cell_type": "code",
   "execution_count": 98,
   "metadata": {},
   "outputs": [
    {
     "name": "stdout",
     "output_type": "stream",
     "text": [
      "Train on 135897 samples, validate on 33975 samples\n",
      "Epoch 1/20\n",
      "135897/135897 [==============================] - 97s 715us/sample - loss: 1.7357 - accuracy: 0.5444 - val_loss: 1.3959 - val_accuracy: 0.6159\n",
      "Epoch 2/20\n",
      "135897/135897 [==============================] - 78s 575us/sample - loss: 1.2895 - accuracy: 0.6406 - val_loss: 1.3493 - val_accuracy: 0.6239\n",
      "Epoch 3/20\n",
      "135897/135897 [==============================] - 86s 630us/sample - loss: 1.1387 - accuracy: 0.6722 - val_loss: 1.3435 - val_accuracy: 0.6249\n",
      "Epoch 4/20\n",
      "135897/135897 [==============================] - 77s 564us/sample - loss: 1.0046 - accuracy: 0.7049 - val_loss: 1.3584 - val_accuracy: 0.6271\n",
      "Epoch 5/20\n",
      "135897/135897 [==============================] - 75s 549us/sample - loss: 0.8816 - accuracy: 0.7361 - val_loss: 1.3837 - val_accuracy: 0.6248\n",
      "Epoch 6/20\n",
      "135897/135897 [==============================] - 74s 544us/sample - loss: 0.7663 - accuracy: 0.7672 - val_loss: 1.4422 - val_accuracy: 0.6196\n",
      "Epoch 7/20\n",
      "135897/135897 [==============================] - 76s 561us/sample - loss: 0.6646 - accuracy: 0.7934 - val_loss: 1.4843 - val_accuracy: 0.6189\n",
      "Epoch 8/20\n",
      "135897/135897 [==============================] - 75s 555us/sample - loss: 0.5724 - accuracy: 0.8191 - val_loss: 1.5541 - val_accuracy: 0.6157\n",
      "Epoch 9/20\n",
      "135897/135897 [==============================] - 75s 554us/sample - loss: 0.4983 - accuracy: 0.8418 - val_loss: 1.6167 - val_accuracy: 0.6167\n",
      "Epoch 10/20\n",
      "135897/135897 [==============================] - 74s 543us/sample - loss: 0.4320 - accuracy: 0.8621 - val_loss: 1.6765 - val_accuracy: 0.6126\n",
      "Epoch 11/20\n",
      "135897/135897 [==============================] - 70s 512us/sample - loss: 0.3836 - accuracy: 0.8766 - val_loss: 1.7508 - val_accuracy: 0.6129\n",
      "Epoch 12/20\n",
      "135897/135897 [==============================] - 81s 593us/sample - loss: 0.3459 - accuracy: 0.8884 - val_loss: 1.8110 - val_accuracy: 0.6092\n",
      "Epoch 13/20\n",
      "135897/135897 [==============================] - 70s 515us/sample - loss: 0.3090 - accuracy: 0.8997 - val_loss: 1.8653 - val_accuracy: 0.6089\n",
      "Epoch 14/20\n",
      "135897/135897 [==============================] - 69s 505us/sample - loss: 0.2875 - accuracy: 0.9068 - val_loss: 1.9350 - val_accuracy: 0.6111\n",
      "Epoch 15/20\n",
      "135897/135897 [==============================] - 75s 554us/sample - loss: 0.2683 - accuracy: 0.9125 - val_loss: 1.9829 - val_accuracy: 0.6154\n",
      "Epoch 16/20\n",
      "135897/135897 [==============================] - 78s 572us/sample - loss: 0.2471 - accuracy: 0.9195 - val_loss: 2.0207 - val_accuracy: 0.6115\n",
      "Epoch 17/20\n",
      "135897/135897 [==============================] - 69s 505us/sample - loss: 0.2370 - accuracy: 0.9227 - val_loss: 2.0738 - val_accuracy: 0.6091\n",
      "Epoch 18/20\n",
      "135897/135897 [==============================] - 73s 534us/sample - loss: 0.2234 - accuracy: 0.9277 - val_loss: 2.1161 - val_accuracy: 0.6104\n",
      "Epoch 19/20\n",
      "135897/135897 [==============================] - 73s 536us/sample - loss: 0.2098 - accuracy: 0.9314 - val_loss: 2.1544 - val_accuracy: 0.6101\n",
      "Epoch 20/20\n",
      "135897/135897 [==============================] - 68s 500us/sample - loss: 0.2003 - accuracy: 0.9342 - val_loss: 2.1844 - val_accuracy: 0.6097\n"
     ]
    },
    {
     "data": {
      "text/plain": [
       "<tensorflow.python.keras.callbacks.History at 0x2dadce250>"
      ]
     },
     "execution_count": 98,
     "metadata": {},
     "output_type": "execute_result"
    }
   ],
   "source": [
    "model_2_hw_reg_2048 = models.get_model_2_hw_reg()\n",
    "log_dir_2_hw_reg_2048 =\"logs/2_hw_reg_2048_\" + datetime.datetime.now().strftime(\"%Y%m%d-%H%M%S\")\n",
    "tensorboard_callback_2_hw_reg_2048 = TensorBoard(log_dir=log_dir_2_hw_reg_2048, histogram_freq=1)\n",
    "\n",
    "model_2_hw_reg_2048.fit(\n",
    "    [x_img_train_3s, x_txt_train_3s],\n",
    "    y_train_s,\n",
    "    validation_data=([x_img_val_3s, x_txt_val_3s], y_val_s),\n",
    "    epochs=20,\n",
    "    callbacks=[tensorboard_callback_2_hw_reg_2048],\n",
    "    batch_size=2048\n",
    ")"
   ]
  },
  {
   "cell_type": "markdown",
   "metadata": {},
   "source": [
    "### Regularization"
   ]
  },
  {
   "cell_type": "code",
   "execution_count": null,
   "metadata": {},
   "outputs": [],
   "source": [
    "model_custom_lr_wide_reg = models.get_model_custom_lr_wide_reg()\n",
    "log_dir_custom_wide_3s_4096 =\"logs/custom_lr_wide_3s_4096_\" + datetime.datetime.now().strftime(\"%Y%m%d-%H%M%S\")\n",
    "tensorboard_callback_custom_lr_wide_3s_4096 = TensorBoard(log_dir=log_dir_custom_wide_3s_4096, histogram_freq=1)\n",
    "\n",
    "model_custom_lr_wide_3s_4096.fit(\n",
    "    [x_img_train_3s, x_txt_train_3s],\n",
    "    y_train_s,\n",
    "    validation_data=([x_img_val_3s, x_txt_val_3s], y_val_s),\n",
    "    epochs=20,\n",
    "    callbacks=[tensorboard_callback_custom_lr_wide_3s_4096],\n",
    "    batch_size=4096\n",
    ")"
   ]
  },
  {
   "cell_type": "code",
   "execution_count": 15,
   "metadata": {},
   "outputs": [
    {
     "name": "stdout",
     "output_type": "stream",
     "text": [
      "Train on 135897 samples, validate on 33975 samples\n",
      "Epoch 1/20\n",
      "135897/135897 [==============================] - 86s 634us/sample - loss: 226.5751 - accuracy: 0.4212 - val_loss: 12.5317 - val_accuracy: 0.5499\n",
      "Epoch 2/20\n",
      "135897/135897 [==============================] - 88s 646us/sample - loss: 7.0561 - accuracy: 0.5695 - val_loss: 5.7072 - val_accuracy: 0.6034\n",
      "Epoch 3/20\n",
      "135897/135897 [==============================] - 110s 808us/sample - loss: 5.5468 - accuracy: 0.6150 - val_loss: 5.4885 - val_accuracy: 0.6176\n",
      "Epoch 4/20\n",
      "135897/135897 [==============================] - 105s 776us/sample - loss: 5.3691 - accuracy: 0.6414 - val_loss: 5.4387 - val_accuracy: 0.6246\n",
      "Epoch 5/20\n",
      "135897/135897 [==============================] - 89s 653us/sample - loss: 5.2761 - accuracy: 0.6622 - val_loss: 5.4308 - val_accuracy: 0.6280\n",
      "Epoch 6/20\n",
      "135897/135897 [==============================] - 105s 770us/sample - loss: 5.2114 - accuracy: 0.6811 - val_loss: 5.4400 - val_accuracy: 0.6296\n",
      "Epoch 7/20\n",
      "135897/135897 [==============================] - 82s 605us/sample - loss: 5.1560 - accuracy: 0.6981 - val_loss: 5.4611 - val_accuracy: 0.6272\n",
      "Epoch 8/20\n",
      "135897/135897 [==============================] - 96s 708us/sample - loss: 5.1108 - accuracy: 0.7153 - val_loss: 5.4776 - val_accuracy: 0.6296\n",
      "Epoch 9/20\n",
      "135897/135897 [==============================] - 86s 630us/sample - loss: 5.0683 - accuracy: 0.7315 - val_loss: 5.5074 - val_accuracy: 0.6296\n",
      "Epoch 10/20\n",
      "135897/135897 [==============================] - 82s 606us/sample - loss: 5.0234 - accuracy: 0.7482 - val_loss: 5.5244 - val_accuracy: 0.6304\n",
      "Epoch 11/20\n",
      "135897/135897 [==============================] - 79s 578us/sample - loss: 4.9888 - accuracy: 0.7620 - val_loss: 5.5555 - val_accuracy: 0.6298\n",
      "Epoch 12/20\n",
      "135897/135897 [==============================] - 86s 633us/sample - loss: 4.9543 - accuracy: 0.7744 - val_loss: 5.5765 - val_accuracy: 0.6285\n",
      "Epoch 13/20\n",
      "135897/135897 [==============================] - 103s 757us/sample - loss: 4.9162 - accuracy: 0.7880 - val_loss: 5.6069 - val_accuracy: 0.6283\n",
      "Epoch 14/20\n",
      "135897/135897 [==============================] - 101s 745us/sample - loss: 4.8880 - accuracy: 0.8012 - val_loss: 5.6336 - val_accuracy: 0.6262\n",
      "Epoch 15/20\n",
      "135897/135897 [==============================] - 98s 722us/sample - loss: 4.8555 - accuracy: 0.8118 - val_loss: 5.6470 - val_accuracy: 0.6265\n",
      "Epoch 16/20\n",
      "135897/135897 [==============================] - 79s 581us/sample - loss: 4.8249 - accuracy: 0.8221 - val_loss: 5.6749 - val_accuracy: 0.6254\n",
      "Epoch 17/20\n",
      "135897/135897 [==============================] - 73s 536us/sample - loss: 4.7980 - accuracy: 0.8328 - val_loss: 5.6945 - val_accuracy: 0.6238\n",
      "Epoch 18/20\n",
      "135897/135897 [==============================] - 95s 699us/sample - loss: 4.7734 - accuracy: 0.8424 - val_loss: 5.7153 - val_accuracy: 0.6241\n",
      "Epoch 19/20\n",
      "135897/135897 [==============================] - 83s 611us/sample - loss: 4.7517 - accuracy: 0.8501 - val_loss: 5.7370 - val_accuracy: 0.6254\n",
      "Epoch 20/20\n",
      "135897/135897 [==============================] - 96s 703us/sample - loss: 4.7302 - accuracy: 0.8563 - val_loss: 5.7499 - val_accuracy: 0.6243\n"
     ]
    },
    {
     "data": {
      "text/plain": [
       "<tensorflow.python.keras.callbacks.History at 0x11c26d810>"
      ]
     },
     "execution_count": 15,
     "metadata": {},
     "output_type": "execute_result"
    }
   ],
   "source": [
    "model_2_hw_reg_2048 = models.get_model_2_hw_reg()\n",
    "log_dir_2_hw_reg_2048 =\"logs/2_hw_reg_2048_\" + datetime.datetime.now().strftime(\"%Y%m%d-%H%M%S\")\n",
    "tensorboard_callback_2_hw_reg_2048 = TensorBoard(log_dir=log_dir_2_hw_reg_2048, histogram_freq=1)\n",
    "\n",
    "model_2_hw_reg_2048.fit(\n",
    "    [x_img_train_3s, x_txt_train_3s],\n",
    "    y_train_s,\n",
    "    validation_data=([x_img_val_3s, x_txt_val_3s], y_val_s),\n",
    "    epochs=20,\n",
    "    callbacks=[tensorboard_callback_2_hw_reg_2048],\n",
    "    batch_size=2048\n",
    ")"
   ]
  },
  {
   "cell_type": "code",
   "execution_count": 17,
   "metadata": {},
   "outputs": [
    {
     "name": "stdout",
     "output_type": "stream",
     "text": [
      "Train on 135897 samples, validate on 33975 samples\n",
      "Epoch 1/20\n",
      "135897/135897 [==============================] - 113s 831us/sample - loss: 26.2321 - accuracy: 0.4734 - val_loss: 3.2311 - val_accuracy: 0.5684\n",
      "Epoch 2/20\n",
      "135897/135897 [==============================] - 96s 709us/sample - loss: 2.4164 - accuracy: 0.5794 - val_loss: 2.0870 - val_accuracy: 0.6095\n",
      "Epoch 3/20\n",
      "135897/135897 [==============================] - 84s 619us/sample - loss: 1.9942 - accuracy: 0.6186 - val_loss: 1.9737 - val_accuracy: 0.6215\n",
      "Epoch 4/20\n",
      "135897/135897 [==============================] - 67s 495us/sample - loss: 1.8543 - accuracy: 0.6442 - val_loss: 1.9334 - val_accuracy: 0.6273\n",
      "Epoch 5/20\n",
      "135897/135897 [==============================] - 67s 492us/sample - loss: 1.7600 - accuracy: 0.6641 - val_loss: 1.9240 - val_accuracy: 0.6302\n",
      "Epoch 6/20\n",
      "135897/135897 [==============================] - 67s 493us/sample - loss: 1.6816 - accuracy: 0.6835 - val_loss: 1.9209 - val_accuracy: 0.6308\n",
      "Epoch 7/20\n",
      "135897/135897 [==============================] - 67s 493us/sample - loss: 1.6165 - accuracy: 0.7022 - val_loss: 1.9315 - val_accuracy: 0.6308\n",
      "Epoch 8/20\n",
      "135897/135897 [==============================] - 68s 498us/sample - loss: 1.5573 - accuracy: 0.7209 - val_loss: 1.9401 - val_accuracy: 0.6314\n",
      "Epoch 9/20\n",
      "135897/135897 [==============================] - 66s 489us/sample - loss: 1.5054 - accuracy: 0.7355 - val_loss: 1.9600 - val_accuracy: 0.6306\n",
      "Epoch 10/20\n",
      "135897/135897 [==============================] - 66s 489us/sample - loss: 1.4561 - accuracy: 0.7503 - val_loss: 1.9758 - val_accuracy: 0.6297\n",
      "Epoch 11/20\n",
      "135897/135897 [==============================] - 67s 490us/sample - loss: 1.4095 - accuracy: 0.7653 - val_loss: 1.9878 - val_accuracy: 0.6299\n",
      "Epoch 12/20\n",
      "135897/135897 [==============================] - 67s 494us/sample - loss: 1.3674 - accuracy: 0.7791 - val_loss: 2.0176 - val_accuracy: 0.6298\n",
      "Epoch 13/20\n",
      "135897/135897 [==============================] - 67s 492us/sample - loss: 1.3288 - accuracy: 0.7930 - val_loss: 2.0419 - val_accuracy: 0.6294\n",
      "Epoch 14/20\n",
      "135897/135897 [==============================] - 66s 489us/sample - loss: 1.2996 - accuracy: 0.8042 - val_loss: 2.0572 - val_accuracy: 0.6285\n",
      "Epoch 15/20\n",
      "135897/135897 [==============================] - 67s 490us/sample - loss: 1.2620 - accuracy: 0.8157 - val_loss: 2.0835 - val_accuracy: 0.6272\n",
      "Epoch 16/20\n",
      "135897/135897 [==============================] - 67s 490us/sample - loss: 1.2305 - accuracy: 0.8239 - val_loss: 2.1107 - val_accuracy: 0.6270\n",
      "Epoch 17/20\n",
      "135897/135897 [==============================] - 67s 494us/sample - loss: 1.2037 - accuracy: 0.8340 - val_loss: 2.1169 - val_accuracy: 0.6245\n",
      "Epoch 18/20\n",
      "135897/135897 [==============================] - 67s 494us/sample - loss: 1.1741 - accuracy: 0.8440 - val_loss: 2.1504 - val_accuracy: 0.6233\n",
      "Epoch 19/20\n",
      "135897/135897 [==============================] - 67s 490us/sample - loss: 1.1508 - accuracy: 0.8523 - val_loss: 2.1655 - val_accuracy: 0.6230\n",
      "Epoch 20/20\n",
      "135897/135897 [==============================] - 66s 489us/sample - loss: 1.1298 - accuracy: 0.8590 - val_loss: 2.1772 - val_accuracy: 0.6231\n"
     ]
    },
    {
     "data": {
      "text/plain": [
       "<tensorflow.python.keras.callbacks.History at 0x1399613d0>"
      ]
     },
     "execution_count": 17,
     "metadata": {},
     "output_type": "execute_result"
    }
   ],
   "source": [
    "from tensorflow.keras import regularizers\n",
    "\n",
    "model_2_hw_reg_001 = models.get_model_2_hw_reg(W_regularizer=regularizers.l1(0.001), b_regularizer=regularizers.l1(0.001))\n",
    "log_dir_2_hw_reg_001 =\"logs/2_hw_reg_001_2048_\" + datetime.datetime.now().strftime(\"%Y%m%d-%H%M%S\")\n",
    "tensorboard_callback_2_hw_reg_001 = TensorBoard(log_dir=log_dir_2_hw_reg_001, histogram_freq=1)\n",
    "\n",
    "model_2_hw_reg_001.fit(\n",
    "    [x_img_train_3s, x_txt_train_3s],\n",
    "    y_train_s,\n",
    "    validation_data=([x_img_val_3s, x_txt_val_3s], y_val_s),\n",
    "    epochs=20,\n",
    "    callbacks=[tensorboard_callback_2_hw_reg_001],\n",
    "    batch_size=2048\n",
    ")"
   ]
  },
  {
   "cell_type": "code",
   "execution_count": null,
   "metadata": {},
   "outputs": [],
   "source": []
  }
 ],
 "metadata": {
  "kernelspec": {
   "display_name": "Python 3",
   "language": "python",
   "name": "python3"
  },
  "language_info": {
   "codemirror_mode": {
    "name": "ipython",
    "version": 3
   },
   "file_extension": ".py",
   "mimetype": "text/x-python",
   "name": "python",
   "nbconvert_exporter": "python",
   "pygments_lexer": "ipython3",
   "version": "3.7.6"
  },
  "pycharm": {
   "stem_cell": {
    "cell_type": "raw",
    "metadata": {
     "collapsed": false
    },
    "source": []
   }
  }
 },
 "nbformat": 4,
 "nbformat_minor": 2
}
