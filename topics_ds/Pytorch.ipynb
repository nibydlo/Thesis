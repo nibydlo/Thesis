{
 "cells": [
  {
   "cell_type": "markdown",
   "metadata": {},
   "source": [
    "### %load_ext autoreload\n",
    "%autoreload 2"
   ]
  },
  {
   "cell_type": "code",
   "execution_count": 22,
   "metadata": {},
   "outputs": [],
   "source": [
    "import matplotlib.pyplot as plt\n",
    "\n",
    "from sklearn.model_selection import train_test_split\n",
    "from sklearn.preprocessing import StandardScaler\n",
    "\n",
    "import torch\n",
    "from torch.utils.data import TensorDataset, DataLoader\n",
    "import torch.optim as optim\n",
    "from torch.utils.tensorboard import SummaryWriter\n",
    "import torch.nn.functional as F\n",
    "import torch.nn as nn"
   ]
  },
  {
   "cell_type": "code",
   "execution_count": 3,
   "metadata": {},
   "outputs": [],
   "source": [
    "import sys\n",
    "sys.path.append('/Users/dmitry/Desktop/Thesis/topics_ds/models')\n",
    "sys.path.append('/Users/dmitry/Desktop/Thesis/topics_ds/data')\n",
    "sys.path.append('/Users/dmitry/Desktop/Thesis/topics_ds/pytorch')"
   ]
  },
  {
   "cell_type": "code",
   "execution_count": 26,
   "metadata": {},
   "outputs": [],
   "source": [
    "from data import data\n",
    "from pytorch import torch_models, radam"
   ]
  },
  {
   "cell_type": "code",
   "execution_count": 5,
   "metadata": {},
   "outputs": [],
   "source": [
    "IMG_LEN = 1024\n",
    "TXT_LEN = 300\n",
    "N_CLASSES = 50"
   ]
  },
  {
   "cell_type": "markdown",
   "metadata": {},
   "source": [
    "### Data loading"
   ]
  },
  {
   "cell_type": "code",
   "execution_count": 6,
   "metadata": {},
   "outputs": [],
   "source": [
    "x_img, x_txt, y = data.get_unpacked_data()"
   ]
  },
  {
   "cell_type": "markdown",
   "metadata": {},
   "source": [
    "### Stratified train-val-test split"
   ]
  },
  {
   "cell_type": "code",
   "execution_count": 7,
   "metadata": {},
   "outputs": [],
   "source": [
    "x_img_train, x_img_test, x_txt_train, x_txt_test, y_train, y_test = train_test_split(\n",
    "    x_img, \n",
    "    x_txt, \n",
    "    y, \n",
    "    test_size=0.2, \n",
    "    random_state=42,\n",
    "    stratify=y\n",
    ")\n",
    "\n",
    "x_img_train, x_img_val, x_txt_train, x_txt_val, y_train, y_val = train_test_split(\n",
    "    x_img_train,\n",
    "    x_txt_train,\n",
    "    y_train,\n",
    "    test_size=0.2,\n",
    "    random_state=42,\n",
    "    stratify=y_train\n",
    ")"
   ]
  },
  {
   "cell_type": "markdown",
   "metadata": {},
   "source": [
    "### Standard Scaling"
   ]
  },
  {
   "cell_type": "code",
   "execution_count": 8,
   "metadata": {},
   "outputs": [],
   "source": [
    "img_sscaler = StandardScaler()\n",
    "img_sscaler.fit(x_img_train)\n",
    "\n",
    "x_img_train = img_sscaler.transform(x_img_train)\n",
    "x_img_val = img_sscaler.transform(x_img_val)\n",
    "x_img_test = img_sscaler.transform(x_img_test)\n",
    "\n",
    "txt_sscaler = StandardScaler()\n",
    "txt_sscaler.fit(x_txt_train)\n",
    "\n",
    "x_txt_train = txt_sscaler.transform(x_txt_train)\n",
    "x_txt_val = txt_sscaler.transform(x_txt_val)\n",
    "x_txt_test = txt_sscaler.transform(x_txt_test)"
   ]
  },
  {
   "cell_type": "markdown",
   "metadata": {},
   "source": [
    "### Convert from numpy arrays to tensors"
   ]
  },
  {
   "cell_type": "code",
   "execution_count": 9,
   "metadata": {},
   "outputs": [],
   "source": [
    "x_img_train_t = torch.tensor(x_img_train)\n",
    "x_img_val_t = torch.tensor(x_img_val)\n",
    "x_img_test_t = torch.tensor(x_img_test)\n",
    "\n",
    "x_txt_train_t = torch.tensor(x_txt_train)\n",
    "x_txt_val_t = torch.tensor(x_txt_val)\n",
    "x_txt_test_t = torch.tensor(x_txt_test)\n",
    "\n",
    "y_train_t = torch.tensor(y_train)\n",
    "y_val_t = torch.tensor(y_val)\n",
    "y_test_t = torch.tensor(y_test)"
   ]
  },
  {
   "cell_type": "markdown",
   "metadata": {},
   "source": [
    "### Convert to TensorDataset"
   ]
  },
  {
   "cell_type": "code",
   "execution_count": 10,
   "metadata": {},
   "outputs": [],
   "source": [
    "train_ds = TensorDataset(x_img_train_t, x_txt_train_t, y_train_t)\n",
    "val_ds = TensorDataset(x_img_val_t, x_txt_val_t, y_val_t)\n",
    "test_ds = TensorDataset(x_img_test_t, x_txt_test_t, y_test_t)"
   ]
  },
  {
   "cell_type": "markdown",
   "metadata": {},
   "source": [
    "### Convert to DataLoader"
   ]
  },
  {
   "cell_type": "code",
   "execution_count": 11,
   "metadata": {},
   "outputs": [],
   "source": [
    "BATCH_SIZE = 1024\n",
    "\n",
    "train_loader = DataLoader(train_ds, batch_size=BATCH_SIZE)\n",
    "val_loader = DataLoader(val_ds, batch_size=BATCH_SIZE)\n",
    "test_loader = DataLoader(test_ds, batch_size=BATCH_SIZE)"
   ]
  },
  {
   "cell_type": "markdown",
   "metadata": {},
   "source": [
    "### Trivial model"
   ]
  },
  {
   "cell_type": "code",
   "execution_count": 38,
   "metadata": {},
   "outputs": [],
   "source": [
    "trivial_model = torch_models.TrivialModel()"
   ]
  },
  {
   "cell_type": "code",
   "execution_count": 39,
   "metadata": {},
   "outputs": [],
   "source": [
    "optimizer = optim.Adam(trivial_model.parameters(), lr=0.001)"
   ]
  },
  {
   "cell_type": "code",
   "execution_count": 40,
   "metadata": {},
   "outputs": [],
   "source": [
    "trivial_writer = SummaryWriter()"
   ]
  },
  {
   "cell_type": "code",
   "execution_count": 41,
   "metadata": {},
   "outputs": [
    {
     "name": "stdout",
     "output_type": "stream",
     "text": [
      "tensor(1.6595, grad_fn=<NllLossBackward>)\n",
      "tensor(1.5165, grad_fn=<NllLossBackward>)\n",
      "tensor(1.4773, grad_fn=<NllLossBackward>)\n",
      "tensor(1.4376, grad_fn=<NllLossBackward>)\n",
      "tensor(1.4104, grad_fn=<NllLossBackward>)\n",
      "tensor(1.3552, grad_fn=<NllLossBackward>)\n",
      "tensor(1.3528, grad_fn=<NllLossBackward>)\n",
      "tensor(1.3566, grad_fn=<NllLossBackward>)\n",
      "tensor(1.3425, grad_fn=<NllLossBackward>)\n",
      "tensor(1.3599, grad_fn=<NllLossBackward>)\n"
     ]
    }
   ],
   "source": [
    "EPOCHS = 10\n",
    "for epoch in range(EPOCHS):\n",
    "    for x_img, x_txt, y in train_loader:\n",
    "        trivial_model.zero_grad()\n",
    "        output = trivial_model(x_img.view(-1, IMG_LEN).float(), x_txt.view(-1, TXT_LEN).float())\n",
    "        loss = F.nll_loss(output, torch.argmax(y, dim=1))\n",
    "        loss.backward()\n",
    "        optimizer.step()\n",
    "    \n",
    "    \n",
    "    correct = 0\n",
    "    total = 0\n",
    "    with torch.no_grad():\n",
    "        for x_img, x_txt, y in val_loader:\n",
    "            output = trivial_model(x_img.view(-1, IMG_LEN).float(), x_txt.view(-1, TXT_LEN).float())\n",
    "            for idx, i in enumerate(output):\n",
    "                if torch.argmax(i) == torch.argmax(y, dim=1)[idx]:\n",
    "                    correct += 1\n",
    "                total += 1\n",
    "                \n",
    "    trivial_writer.add_scalar('trivial/accuracy/val', correct/total, epoch)"
   ]
  },
  {
   "cell_type": "markdown",
   "metadata": {},
   "source": [
    "### Regular softmax"
   ]
  },
  {
   "cell_type": "code",
   "execution_count": 55,
   "metadata": {},
   "outputs": [],
   "source": [
    "norm_model_sm = torch_models.NormModelSM()\n",
    "optimizer = optim.Adam(norm_model_sm.parameters(), lr=1e-3)\n",
    "writer = SummaryWriter()"
   ]
  },
  {
   "cell_type": "code",
   "execution_count": 56,
   "metadata": {},
   "outputs": [],
   "source": [
    "cross_entropy_loss = nn.CrossEntropyLoss(reduction='none')"
   ]
  },
  {
   "cell_type": "code",
   "execution_count": 57,
   "metadata": {},
   "outputs": [],
   "source": [
    "EPOCHS = 20\n",
    "for epoch in range(EPOCHS):\n",
    "    for x_img, x_txt, y in train_loader:\n",
    "        norm_model.zero_grad()\n",
    "        output = norm_model(x_img.view(-1, IMG_LEN).float(), x_txt.view(-1, TXT_LEN).float())\n",
    "        loss = cross_entropy_loss(output, torch.argmax(y, dim=1))\n",
    "        loss.sum().backward()\n",
    "        optimizer.step()\n",
    "    \n",
    "    correct = 0\n",
    "    total = 0\n",
    "    with torch.no_grad():\n",
    "        for x_img, x_txt, y in val_loader:\n",
    "            output = norm_model(x_img.view(-1, IMG_LEN).float(), x_txt.view(-1, TXT_LEN).float())\n",
    "            for idx, i in enumerate(output):\n",
    "                if torch.argmax(i) == torch.argmax(y, dim=1)[idx]:\n",
    "                    correct += 1\n",
    "                total += 1\n",
    "                \n",
    "    norm_writer.add_scalar('accuracy/val/norm_sm', correct/total, epoch)"
   ]
  },
  {
   "cell_type": "markdown",
   "metadata": {},
   "source": [
    "### Norm model"
   ]
  },
  {
   "cell_type": "code",
   "execution_count": 39,
   "metadata": {},
   "outputs": [],
   "source": [
    "norm_model = torch_models.NormModel()\n",
    "optimizer = optim.Adam(norm_model.parameters(), lr=1e-3)\n",
    "norm_writer = SummaryWriter('runs/adam')"
   ]
  },
  {
   "cell_type": "code",
   "execution_count": 40,
   "metadata": {},
   "outputs": [],
   "source": [
    "EPOCHS = 40\n",
    "for epoch in range(EPOCHS):\n",
    "    for x_img, x_txt, y in train_loader:\n",
    "        norm_model.zero_grad()\n",
    "        output = norm_model(x_img.view(-1, IMG_LEN).float(), x_txt.view(-1, TXT_LEN).float())\n",
    "        loss = F.nll_loss(output, torch.argmax(y, dim=1))\n",
    "        loss.backward()\n",
    "        optimizer.step()\n",
    "    \n",
    "    norm_writer.add_scalar('train_loss', loss, epoch)\n",
    "    \n",
    "    correct = 0\n",
    "    total = 0\n",
    "    with torch.no_grad():\n",
    "        for x_img, x_txt, y in val_loader:\n",
    "            output = norm_model(x_img.view(-1, IMG_LEN).float(), x_txt.view(-1, TXT_LEN).float())\n",
    "            for idx, i in enumerate(output):\n",
    "                if torch.argmax(i) == torch.argmax(y, dim=1)[idx]:\n",
    "                    correct += 1\n",
    "                total += 1\n",
    "                \n",
    "    norm_writer.add_scalar('val_acc', correct/total, epoch)"
   ]
  },
  {
   "cell_type": "code",
   "execution_count": 24,
   "metadata": {},
   "outputs": [
    {
     "data": {
      "text/plain": [
       "<function matplotlib.pyplot.show(*args, **kw)>"
      ]
     },
     "execution_count": 24,
     "metadata": {},
     "output_type": "execute_result"
    },
    {
     "data": {
      "image/png": "[encoded data removed]",
      "text/plain": [
       "<Figure size 432x288 with 1 Axes>"
      ]
     },
     "metadata": {
      "needs_background": "light"
     },
     "output_type": "display_data"
    }
   ],
   "source": [
    "plt.plot(range(len(train_loss_history)), train_loss_history)\n",
    "plt.xlabel('epoch')\n",
    "plt.ylabel('train loss')\n",
    "plt.show"
   ]
  },
  {
   "cell_type": "code",
   "execution_count": 25,
   "metadata": {},
   "outputs": [
    {
     "data": {
      "text/plain": [
       "<function matplotlib.pyplot.show(*args, **kw)>"
      ]
     },
     "execution_count": 25,
     "metadata": {},
     "output_type": "execute_result"
    },
    {
     "data": {
      "image/png": "[encoded data removed]",
      "text/plain": [
       "<Figure size 432x288 with 1 Axes>"
      ]
     },
     "metadata": {
      "needs_background": "light"
     },
     "output_type": "display_data"
    }
   ],
   "source": [
    "plt.plot(range(len(val_acc_history)), val_acc_history)\n",
    "plt.xlabel('epoch')\n",
    "plt.ylabel('val acc')\n",
    "plt.show"
   ]
  },
  {
   "cell_type": "code",
   "execution_count": 22,
   "metadata": {},
   "outputs": [],
   "source": [
    "norm_model_4 = torch_models.NormModel()\n",
    "optimizer = optim.Adam(norm_model_4.parameters(), lr=1e-4)\n",
    "norm_4_writer = SummaryWriter()"
   ]
  },
  {
   "cell_type": "code",
   "execution_count": 23,
   "metadata": {},
   "outputs": [],
   "source": [
    "EPOCHS = 20\n",
    "for epoch in range(EPOCHS):\n",
    "    for x_img, x_txt, y in train_loader:\n",
    "        norm_model_4.zero_grad()\n",
    "        output = norm_model_4(x_img.view(-1, IMG_LEN).float(), x_txt.view(-1, TXT_LEN).float())\n",
    "        loss = F.nll_loss(output, torch.argmax(y, dim=1))\n",
    "        loss.backward()\n",
    "        optimizer.step()\n",
    "    \n",
    "    correct = 0\n",
    "    total = 0\n",
    "    with torch.no_grad():\n",
    "        for x_img, x_txt, y in val_loader:\n",
    "            output = norm_model_4(x_img.view(-1, IMG_LEN).float(), x_txt.view(-1, TXT_LEN).float())\n",
    "            for idx, i in enumerate(output):\n",
    "                if torch.argmax(i) == torch.argmax(y, dim=1)[idx]:\n",
    "                    correct += 1\n",
    "                total += 1\n",
    "                \n",
    "    norm_4_writer.add_scalar('/accuracy/val/norm_4', correct/total, epoch)"
   ]
  },
  {
   "cell_type": "code",
   "execution_count": 24,
   "metadata": {},
   "outputs": [],
   "source": [
    "norm_model_2 = torch_models.NormModel()\n",
    "optimizer = optim.Adam(norm_model_2.parameters(), lr=1e-2)\n",
    "norm_2_writer = SummaryWriter()"
   ]
  },
  {
   "cell_type": "code",
   "execution_count": 25,
   "metadata": {},
   "outputs": [],
   "source": [
    "EPOCHS = 20\n",
    "for epoch in range(EPOCHS):\n",
    "    for x_img, x_txt, y in train_loader:\n",
    "        norm_model_2.zero_grad()\n",
    "        output = norm_model_2(x_img.view(-1, IMG_LEN).float(), x_txt.view(-1, TXT_LEN).float())\n",
    "        loss = F.nll_loss(output, torch.argmax(y, dim=1))\n",
    "        loss.backward()\n",
    "        optimizer.step()\n",
    "    \n",
    "    correct = 0\n",
    "    total = 0\n",
    "    with torch.no_grad():\n",
    "        for x_img, x_txt, y in val_loader:\n",
    "            output = norm_model_2(x_img.view(-1, IMG_LEN).float(), x_txt.view(-1, TXT_LEN).float())\n",
    "            for idx, i in enumerate(output):\n",
    "                if torch.argmax(i) == torch.argmax(y, dim=1)[idx]:\n",
    "                    correct += 1\n",
    "                total += 1\n",
    "                \n",
    "    norm_2_writer.add_scalar('accuracy/val/norm_2', correct/total, epoch)"
   ]
  },
  {
   "cell_type": "code",
   "execution_count": 28,
   "metadata": {},
   "outputs": [],
   "source": [
    "norm_model_s = torch_models.NormModel()\n",
    "optimizer = optim.Adam(norm_model_s.parameters(), lr=1e-3)\n",
    "cos_shed = optim.lr_scheduler.CosineAnnealingLR(optimizer, 2000) \n",
    "writer = SummaryWriter()"
   ]
  },
  {
   "cell_type": "code",
   "execution_count": 29,
   "metadata": {},
   "outputs": [],
   "source": [
    "EPOCHS = 20\n",
    "for epoch in range(EPOCHS):\n",
    "    for x_img, x_txt, y in train_loader:\n",
    "        norm_model_s.zero_grad()\n",
    "        output = norm_model_s(x_img.view(-1, IMG_LEN).float(), x_txt.view(-1, TXT_LEN).float())\n",
    "        loss = F.nll_loss(output, torch.argmax(y, dim=1))\n",
    "        loss.backward()\n",
    "        optimizer.step()\n",
    "        cos_shed.step()\n",
    "    \n",
    "    correct = 0\n",
    "    total = 0\n",
    "    with torch.no_grad():\n",
    "        for x_img, x_txt, y in val_loader:\n",
    "            output = norm_model_s(x_img.view(-1, IMG_LEN).float(), x_txt.view(-1, TXT_LEN).float())\n",
    "            for idx, i in enumerate(output):\n",
    "                if torch.argmax(i) == torch.argmax(y, dim=1)[idx]:\n",
    "                    correct += 1\n",
    "                total += 1\n",
    "                \n",
    "    writer.add_scalar('accuracy/val/norm_s', correct/total, epoch)"
   ]
  },
  {
   "cell_type": "code",
   "execution_count": 31,
   "metadata": {},
   "outputs": [],
   "source": [
    "norm_model_cs = torch_models.NormModel()\n",
    "optimizer = optim.Adam(norm_model_cs.parameters(), lr=1e-3)\n",
    "cyclic_shed = optim.lr_scheduler.CyclicLR(optimizer, base_lr=1e-4, max_lr=1e-2, cycle_momentum=False) \n",
    "writer = SummaryWriter()"
   ]
  },
  {
   "cell_type": "code",
   "execution_count": 32,
   "metadata": {},
   "outputs": [],
   "source": [
    "EPOCHS = 20\n",
    "for epoch in range(EPOCHS):\n",
    "    for x_img, x_txt, y in train_loader:\n",
    "        norm_model_cs.zero_grad()\n",
    "        output = norm_model_cs(x_img.view(-1, IMG_LEN).float(), x_txt.view(-1, TXT_LEN).float())\n",
    "        loss = F.nll_loss(output, torch.argmax(y, dim=1))\n",
    "        loss.backward()\n",
    "        optimizer.step()\n",
    "        cyclic_shed.step()\n",
    "    \n",
    "    correct = 0\n",
    "    total = 0\n",
    "    with torch.no_grad():\n",
    "        for x_img, x_txt, y in val_loader:\n",
    "            output = norm_model_cs(x_img.view(-1, IMG_LEN).float(), x_txt.view(-1, TXT_LEN).float())\n",
    "            for idx, i in enumerate(output):\n",
    "                if torch.argmax(i) == torch.argmax(y, dim=1)[idx]:\n",
    "                    correct += 1\n",
    "                total += 1\n",
    "                \n",
    "    writer.add_scalar('accuracy/val/norm_cs', correct/total, epoch)"
   ]
  },
  {
   "cell_type": "code",
   "execution_count": 33,
   "metadata": {},
   "outputs": [
    {
     "name": "stdout",
     "output_type": "stream",
     "text": [
      "0.5671376011773362\n"
     ]
    }
   ],
   "source": [
    "with torch.no_grad():\n",
    "    for x_img, x_txt, y in val_loader:\n",
    "        output = norm_model_cs(x_img.view(-1, IMG_LEN).float(), x_txt.view(-1, TXT_LEN).float())\n",
    "        for idx, i in enumerate(output):\n",
    "            if torch.argmax(i) == torch.argmax(y, dim=1)[idx]:\n",
    "                correct += 1\n",
    "            total += 1\n",
    "            \n",
    "print(correct/total)"
   ]
  },
  {
   "cell_type": "markdown",
   "metadata": {},
   "source": [
    "## Rectified ADAM"
   ]
  },
  {
   "cell_type": "code",
   "execution_count": 29,
   "metadata": {},
   "outputs": [],
   "source": [
    "norm_model_radam = torch_models.NormModel()\n",
    "optimizer = radam.RAdam(norm_model_radam.parameters())\n",
    "writer = SummaryWriter('runs/radam')"
   ]
  },
  {
   "cell_type": "code",
   "execution_count": 30,
   "metadata": {},
   "outputs": [],
   "source": [
    "EPOCHS = 40\n",
    "for epoch in range(EPOCHS):\n",
    "    for x_img, x_txt, y in train_loader:\n",
    "        norm_model_radam.zero_grad()\n",
    "        output = norm_model_radam(x_img.view(-1, IMG_LEN).float(), x_txt.view(-1, TXT_LEN).float())\n",
    "        loss = F.nll_loss(output, torch.argmax(y, dim=1))\n",
    "        loss.backward()\n",
    "        optimizer.step()\n",
    "    \n",
    "    writer.add_scalar('train_loss', loss, epoch)\n",
    "    \n",
    "    correct = 0\n",
    "    total = 0\n",
    "    with torch.no_grad():\n",
    "        for x_img, x_txt, y in val_loader:\n",
    "            output = norm_model_radam(x_img.view(-1, IMG_LEN).float(), x_txt.view(-1, TXT_LEN).float())\n",
    "            for idx, i in enumerate(output):\n",
    "                if torch.argmax(i) == torch.argmax(y, dim=1)[idx]:\n",
    "                    correct += 1\n",
    "                total += 1\n",
    "                \n",
    "    writer.add_scalar('val_acc', correct/total, epoch)"
   ]
  },
  {
   "cell_type": "code",
   "execution_count": 31,
   "metadata": {},
   "outputs": [],
   "source": [
    "torch.save({\n",
    "    'epoch' : 40,\n",
    "    'model_state_dict' : norm_model_radam.state_dict(),\n",
    "    'optimizer_state_dict' : optimizer.state_dict(),    \n",
    "}, 'saved_models/torch/radam')"
   ]
  },
  {
   "cell_type": "markdown",
   "metadata": {},
   "source": [
    "## Plain RADAM"
   ]
  },
  {
   "cell_type": "code",
   "execution_count": 32,
   "metadata": {},
   "outputs": [],
   "source": [
    "norm_model_plain_radam = torch_models.NormModel()\n",
    "optimizer = radam.PlainRAdam(norm_model_radam.parameters())\n",
    "writer = SummaryWriter('runs/plain_radam')"
   ]
  },
  {
   "cell_type": "code",
   "execution_count": 33,
   "metadata": {},
   "outputs": [],
   "source": [
    "EPOCHS = 40\n",
    "for epoch in range(EPOCHS):\n",
    "    for x_img, x_txt, y in train_loader:\n",
    "        norm_model_plain_radam.zero_grad()\n",
    "        output = norm_model_plain_radam(x_img.view(-1, IMG_LEN).float(), x_txt.view(-1, TXT_LEN).float())\n",
    "        loss = F.nll_loss(output, torch.argmax(y, dim=1))\n",
    "        loss.backward()\n",
    "        optimizer.step()\n",
    "    \n",
    "    writer.add_scalar('train_loss', loss, epoch)\n",
    "    \n",
    "    correct = 0\n",
    "    total = 0\n",
    "    with torch.no_grad():\n",
    "        for x_img, x_txt, y in val_loader:\n",
    "            output = norm_model_plain_radam(x_img.view(-1, IMG_LEN).float(), x_txt.view(-1, TXT_LEN).float())\n",
    "            for idx, i in enumerate(output):\n",
    "                if torch.argmax(i) == torch.argmax(y, dim=1)[idx]:\n",
    "                    correct += 1\n",
    "                total += 1\n",
    "                \n",
    "    writer.add_scalar('val_acc', correct/total, epoch)"
   ]
  },
  {
   "cell_type": "code",
   "execution_count": 34,
   "metadata": {},
   "outputs": [],
   "source": [
    "torch.save({\n",
    "    'epoch' : 40,\n",
    "    'model_state_dict' : norm_model_plain_radam.state_dict(),\n",
    "    'optimizer_state_dict' : optimizer.state_dict(),    \n",
    "}, 'saved_models/torch/radam')"
   ]
  },
  {
   "cell_type": "markdown",
   "metadata": {},
   "source": [
    "## AdamW"
   ]
  },
  {
   "cell_type": "code",
   "execution_count": 35,
   "metadata": {},
   "outputs": [],
   "source": [
    "norm_model_adamw = torch_models.NormModel()\n",
    "optimizer = radam.AdamW(norm_model_adamw.parameters())\n",
    "writer = SummaryWriter('runs/adamw')"
   ]
  },
  {
   "cell_type": "code",
   "execution_count": 36,
   "metadata": {},
   "outputs": [],
   "source": [
    "EPOCHS = 40\n",
    "for epoch in range(EPOCHS):\n",
    "    for x_img, x_txt, y in train_loader:\n",
    "        norm_model_adamw.zero_grad()\n",
    "        output = norm_model_adamw(x_img.view(-1, IMG_LEN).float(), x_txt.view(-1, TXT_LEN).float())\n",
    "        loss = F.nll_loss(output, torch.argmax(y, dim=1))\n",
    "        loss.backward()\n",
    "        optimizer.step()\n",
    "    \n",
    "    writer.add_scalar('train_loss', loss, epoch)\n",
    "    \n",
    "    correct = 0\n",
    "    total = 0\n",
    "    with torch.no_grad():\n",
    "        for x_img, x_txt, y in val_loader:\n",
    "            output = norm_model_adamw(x_img.view(-1, IMG_LEN).float(), x_txt.view(-1, TXT_LEN).float())\n",
    "            for idx, i in enumerate(output):\n",
    "                if torch.argmax(i) == torch.argmax(y, dim=1)[idx]:\n",
    "                    correct += 1\n",
    "                total += 1\n",
    "                \n",
    "    writer.add_scalar('val_acc', correct/total, epoch)"
   ]
  },
  {
   "cell_type": "code",
   "execution_count": 37,
   "metadata": {},
   "outputs": [],
   "source": [
    "torch.save({\n",
    "    'epoch' : 40,\n",
    "    'model_state_dict' : norm_model_adamw.state_dict(),\n",
    "    'optimizer_state_dict' : optimizer.state_dict(),    \n",
    "}, 'saved_models/torch/adamw')"
   ]
  },
  {
   "cell_type": "code",
   "execution_count": null,
   "metadata": {},
   "outputs": [],
   "source": []
  }
 ],
 "metadata": {
  "kernelspec": {
   "display_name": "Python 3",
   "language": "python",
   "name": "python3"
  },
  "language_info": {
   "codemirror_mode": {
    "name": "ipython",
    "version": 3
   },
   "file_extension": ".py",
   "mimetype": "text/x-python",
   "name": "python",
   "nbconvert_exporter": "python",
   "pygments_lexer": "ipython3",
   "version": "3.7.6"
  }
 },
 "nbformat": 4,
 "nbformat_minor": 2
}
