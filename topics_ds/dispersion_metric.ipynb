{
 "cells": [
  {
   "cell_type": "code",
   "execution_count": 83,
   "metadata": {},
   "outputs": [],
   "source": [
    "import numpy as np\n",
    "import sklearn.metrics as metrics\n",
    "import scipy.spatial.distance as distance\n",
    "import sklearn.datasets as datasets\n",
    "import matplotlib.pyplot as plt"
   ]
  },
  {
   "cell_type": "markdown",
   "metadata": {},
   "source": [
    "### Simple test data"
   ]
  },
  {
   "cell_type": "code",
   "execution_count": 77,
   "metadata": {},
   "outputs": [],
   "source": [
    "a = np.array([[0, 0], [0, 2], [2, 0], [2, 2], [4, 0], [4, 2]])\n",
    "b = a / 2\n",
    "c = a * 2\n",
    "d = np.concatenate((a, np.array([[0, -2], [2, -2], [4, -2]])), axis=0) "
   ]
  },
  {
   "cell_type": "markdown",
   "metadata": {},
   "source": [
    "### 1. Covariance matrix determinant"
   ]
  },
  {
   "cell_type": "code",
   "execution_count": 8,
   "metadata": {},
   "outputs": [],
   "source": [
    "a_t = a.T"
   ]
  },
  {
   "cell_type": "code",
   "execution_count": 9,
   "metadata": {},
   "outputs": [],
   "source": [
    "a_t_cov = np.cov(a_t)"
   ]
  },
  {
   "cell_type": "code",
   "execution_count": 10,
   "metadata": {},
   "outputs": [
    {
     "data": {
      "text/plain": [
       "array([[3.2, 0. ],\n",
       "       [0. , 1.2]])"
      ]
     },
     "execution_count": 10,
     "metadata": {},
     "output_type": "execute_result"
    }
   ],
   "source": [
    "a_t_cov"
   ]
  },
  {
   "cell_type": "code",
   "execution_count": 12,
   "metadata": {},
   "outputs": [],
   "source": [
    "a_t_det = np.linalg.det(a_t_cov)"
   ]
  },
  {
   "cell_type": "code",
   "execution_count": 13,
   "metadata": {},
   "outputs": [
    {
     "data": {
      "text/plain": [
       "3.8400000000000003"
      ]
     },
     "execution_count": 13,
     "metadata": {},
     "output_type": "execute_result"
    }
   ],
   "source": [
    "a_t_det"
   ]
  },
  {
   "cell_type": "code",
   "execution_count": 17,
   "metadata": {},
   "outputs": [],
   "source": [
    "b_t = b.T"
   ]
  },
  {
   "cell_type": "code",
   "execution_count": 18,
   "metadata": {},
   "outputs": [],
   "source": [
    "b_t_cov = np.cov(b_t)"
   ]
  },
  {
   "cell_type": "code",
   "execution_count": 19,
   "metadata": {},
   "outputs": [
    {
     "data": {
      "text/plain": [
       "array([[0.8, 0. ],\n",
       "       [0. , 0.3]])"
      ]
     },
     "execution_count": 19,
     "metadata": {},
     "output_type": "execute_result"
    }
   ],
   "source": [
    "b_t_cov"
   ]
  },
  {
   "cell_type": "code",
   "execution_count": 20,
   "metadata": {},
   "outputs": [],
   "source": [
    "b_t_det = np.linalg.det(b_t_cov)"
   ]
  },
  {
   "cell_type": "code",
   "execution_count": 21,
   "metadata": {},
   "outputs": [
    {
     "data": {
      "text/plain": [
       "0.24000000000000005"
      ]
     },
     "execution_count": 21,
     "metadata": {},
     "output_type": "execute_result"
    }
   ],
   "source": [
    "b_t_det"
   ]
  },
  {
   "cell_type": "code",
   "execution_count": 22,
   "metadata": {},
   "outputs": [
    {
     "data": {
      "text/plain": [
       "61.44"
      ]
     },
     "execution_count": 22,
     "metadata": {},
     "output_type": "execute_result"
    }
   ],
   "source": [
    "c_t = c.T\n",
    "c_t_cov = np.cov(c_t)\n",
    "c_t_det = np.linalg.det(c_t_cov)\n",
    "c_t_det"
   ]
  },
  {
   "cell_type": "code",
   "execution_count": 33,
   "metadata": {},
   "outputs": [
    {
     "data": {
      "text/plain": [
       "9.000000000000002"
      ]
     },
     "execution_count": 33,
     "metadata": {},
     "output_type": "execute_result"
    }
   ],
   "source": [
    "d_t = d.T\n",
    "d_t_cov = np.cov(d_t)\n",
    "d_t_det = np.linalg.det(d_t_cov)\n",
    "d_t_det"
   ]
  },
  {
   "cell_type": "code",
   "execution_count": 39,
   "metadata": {},
   "outputs": [],
   "source": [
    "def get_cov_metric(data):\n",
    "    return np.linalg.det(np.cov(data.T))"
   ]
  },
  {
   "cell_type": "code",
   "execution_count": 40,
   "metadata": {},
   "outputs": [
    {
     "data": {
      "text/plain": [
       "3.8400000000000003"
      ]
     },
     "execution_count": 40,
     "metadata": {},
     "output_type": "execute_result"
    }
   ],
   "source": [
    "get_cov_metric(a)"
   ]
  },
  {
   "cell_type": "markdown",
   "metadata": {},
   "source": [
    "### 2. Cluster cohesion\n",
    "implied that data is one cluster"
   ]
  },
  {
   "cell_type": "code",
   "execution_count": 80,
   "metadata": {},
   "outputs": [],
   "source": [
    "def get_cohesion(data):\n",
    "    avg_point = data.mean(axis=0)\n",
    "    return sum([np.linalg.norm(point-avg_point) for point in data])"
   ]
  },
  {
   "cell_type": "code",
   "execution_count": 81,
   "metadata": {},
   "outputs": [
    {
     "name": "stdout",
     "output_type": "stream",
     "text": [
      "a cohesion 10.94427190999916\n",
      "b cohesion 5.47213595499958\n",
      "c cohesion 21.88854381999832\n"
     ]
    }
   ],
   "source": [
    "print('a cohesion', get_cohesion(a))\n",
    "print('b cohesion', get_cohesion(b))\n",
    "print('c cohesion', get_cohesion(c))"
   ]
  },
  {
   "cell_type": "markdown",
   "metadata": {},
   "source": [
    "### 3. C-index"
   ]
  },
  {
   "cell_type": "code",
   "execution_count": 78,
   "metadata": {},
   "outputs": [],
   "source": [
    "def get_c_index(data):\n",
    "    pdists = distance.pdist(data)\n",
    "    s = sum(pdists)\n",
    "    s_min = min(pdists)\n",
    "    s_max = max(pdists)\n",
    "\n",
    "    return (s - s_min) / (s_max - s_min)"
   ]
  },
  {
   "cell_type": "code",
   "execution_count": 79,
   "metadata": {},
   "outputs": [
    {
     "name": "stdout",
     "output_type": "stream",
     "text": [
      "a c-index 16.284695155040843\n",
      "b c-index 16.284695155040843\n",
      "c c-index 16.284695155040843\n",
      "d c-index 31.64419614290455\n"
     ]
    }
   ],
   "source": [
    "print('a c-index', get_c_index(a))\n",
    "print('b c-index', get_c_index(b))\n",
    "print('c c-index', get_c_index(c))\n",
    "print('d c-index', get_c_index(d))"
   ]
  },
  {
   "cell_type": "markdown",
   "metadata": {},
   "source": [
    "### Test on blobs"
   ]
  },
  {
   "cell_type": "code",
   "execution_count": 131,
   "metadata": {},
   "outputs": [],
   "source": [
    "def test_metric(metric, epochs=1, centers=3, n_features=2, n_samples=100):\n",
    "    error_count = 0\n",
    "    for _ in range(epochs):\n",
    "        X, y = datasets.make_blobs(n_samples=n_samples, centers=centers, n_features=n_features, random_state=0)\n",
    "        \n",
    "        X_first_class = X[y==0]\n",
    "        X_second_class = X[y==1]\n",
    "        X_third_class = X[y==2]\n",
    "        \n",
    "        s1 = metric(X_first_class[np.random.choice(X_first_class.shape[0], X_first_class.shape[0] // 3)])\n",
    "        s2 = metric(X_second_class[np.random.choice(X_second_class.shape[0], X_second_class.shape[0] // 3)])\n",
    "        s3 = metric(X_third_class[np.random.choice(X_third_class.shape[0], X_third_class.shape[0] // 3)])\n",
    "        \n",
    "        d = metric(X[np.random.choice(X.shape[0], X.shape[0] // 9)])\n",
    "        \n",
    "        if d <= s1 or d <= s2 and d <= s3:\n",
    "            error_count += 1\n",
    "            \n",
    "    print('run', epochs, 'tests,', epochs - error_count, 'success,', error_count, 'wrong')\n",
    "            "
   ]
  },
  {
   "cell_type": "markdown",
   "metadata": {},
   "source": [
    "#### Test covariance determinant metric"
   ]
  },
  {
   "cell_type": "code",
   "execution_count": 123,
   "metadata": {},
   "outputs": [
    {
     "name": "stdout",
     "output_type": "stream",
     "text": [
      "run 100000 tests, 98946 success, 1054 wrong\n"
     ]
    }
   ],
   "source": [
    "test_metric(get_cov_metric, epochs=100000)"
   ]
  },
  {
   "cell_type": "markdown",
   "metadata": {},
   "source": [
    "#### Test cohesion"
   ]
  },
  {
   "cell_type": "code",
   "execution_count": 133,
   "metadata": {},
   "outputs": [
    {
     "name": "stdout",
     "output_type": "stream",
     "text": [
      "run 100000 tests, 99337 success, 663 wrong\n"
     ]
    }
   ],
   "source": [
    "test_metric(get_cohesion, epochs=100000)"
   ]
  },
  {
   "cell_type": "markdown",
   "metadata": {},
   "source": [
    "#### Test c-index"
   ]
  },
  {
   "cell_type": "code",
   "execution_count": 125,
   "metadata": {},
   "outputs": [
    {
     "name": "stdout",
     "output_type": "stream",
     "text": [
      "run 100000 tests, 59773 success, 40227 wrong\n"
     ]
    }
   ],
   "source": [
    "test_metric(get_c_index, epochs=100000)"
   ]
  },
  {
   "cell_type": "markdown",
   "metadata": {},
   "source": [
    "### Test on full size vectors"
   ]
  },
  {
   "cell_type": "markdown",
   "metadata": {},
   "source": [
    "#### Test covariance determinant matrix"
   ]
  },
  {
   "cell_type": "code",
   "execution_count": 149,
   "metadata": {},
   "outputs": [
    {
     "name": "stdout",
     "output_type": "stream",
     "text": [
      "run 100 tests, 0 success, 100 wrong\n"
     ]
    }
   ],
   "source": [
    "test_metric(get_cov_metric, epochs=100, centers=3, n_features=1324, n_samples=300)"
   ]
  },
  {
   "cell_type": "markdown",
   "metadata": {},
   "source": [
    "#### Test cohesion"
   ]
  },
  {
   "cell_type": "code",
   "execution_count": 143,
   "metadata": {},
   "outputs": [
    {
     "name": "stdout",
     "output_type": "stream",
     "text": [
      "run 1000 tests, 1000 success, 0 wrong\n"
     ]
    }
   ],
   "source": [
    "test_metric(get_cohesion, epochs=1000, centers=3, n_features=1324, n_samples=300)"
   ]
  },
  {
   "cell_type": "markdown",
   "metadata": {},
   "source": [
    "#### Test c-index"
   ]
  },
  {
   "cell_type": "code",
   "execution_count": 144,
   "metadata": {},
   "outputs": [
    {
     "name": "stdout",
     "output_type": "stream",
     "text": [
      "run 1000 tests, 0 success, 1000 wrong\n"
     ]
    }
   ],
   "source": [
    "test_metric(get_c_index, epochs=1000, centers=3, n_features=1324, n_samples=300)"
   ]
  },
  {
   "cell_type": "markdown",
   "metadata": {},
   "source": [
    "### Test on 50 classes"
   ]
  },
  {
   "cell_type": "markdown",
   "metadata": {},
   "source": [
    "#### Test covariance determinant matrix"
   ]
  },
  {
   "cell_type": "code",
   "execution_count": 148,
   "metadata": {},
   "outputs": [
    {
     "name": "stdout",
     "output_type": "stream",
     "text": [
      "run 10 tests, 0 success, 10 wrong\n"
     ]
    }
   ],
   "source": [
    "test_metric(get_cov_metric, epochs=10, centers=50, n_features=1324, n_samples=5000)"
   ]
  },
  {
   "cell_type": "markdown",
   "metadata": {},
   "source": [
    "#### Test cohesion"
   ]
  },
  {
   "cell_type": "code",
   "execution_count": 147,
   "metadata": {},
   "outputs": [
    {
     "name": "stdout",
     "output_type": "stream",
     "text": [
      "run 100 tests, 100 success, 0 wrong\n"
     ]
    }
   ],
   "source": [
    "test_metric(get_cohesion, epochs=100, centers=50, n_features=1324, n_samples=5000)"
   ]
  }
 ],
 "metadata": {
  "kernelspec": {
   "display_name": "Python 3",
   "language": "python",
   "name": "python3"
  },
  "language_info": {
   "codemirror_mode": {
    "name": "ipython",
    "version": 3
   },
   "file_extension": ".py",
   "mimetype": "text/x-python",
   "name": "python",
   "nbconvert_exporter": "python",
   "pygments_lexer": "ipython3",
   "version": "3.7.6"
  }
 },
 "nbformat": 4,
 "nbformat_minor": 2
}
